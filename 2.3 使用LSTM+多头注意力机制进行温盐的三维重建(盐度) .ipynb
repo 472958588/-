{
 "cells": [
  {
   "cell_type": "code",
   "execution_count": 1,
   "id": "24cc7c46",
   "metadata": {
    "ExecuteTime": {
     "end_time": "2024-03-31T06:30:04.619850Z",
     "start_time": "2024-03-31T06:30:01.158417Z"
    },
    "code_folding": [
     0
    ]
   },
   "outputs": [],
   "source": [
    "#导包\n",
    "from netCDF4 import Dataset\n",
    "from tensorflow.keras import layers, models\n",
    "from tensorflow.keras.layers import ConvLSTM2D,LSTM, BatchNormalization, LayerNormalization,Input, Conv3D, TimeDistributed, Flatten\n",
    "from tensorflow.keras.layers import Concatenate,Conv2D,TimeDistributed, MaxPooling2D, Input, MaxPooling3D\n",
    "from tensorflow.keras.layers import  Reshape,multiply\n",
    "from tensorflow.keras.layers import Layer,Lambda,Dot,ReLU, Dense, Dropout, Activation, Flatten,Attention\n",
    "from tensorflow.keras.utils import plot_model\n",
    "from tensorflow.keras.models import Sequential,Model,load_model\n",
    "from tensorflow.keras.optimizers import Adam,SGD\n",
    "from sklearn.model_selection import train_test_split\n",
    "from tensorflow.keras.callbacks import EarlyStopping, ModelCheckpoint\n",
    "from sklearn.preprocessing import MinMaxScaler, StandardScaler\n",
    "from tensorflow.keras.losses import MeanSquaredError\n",
    "from sklearn.metrics import r2_score,accuracy_score,precision_score\n",
    "from tensorflow.keras.metrics import RootMeanSquaredError\n",
    "from tensorflow.keras import regularizers\n",
    "import tensorflow as tf\n",
    "from datetime import datetime\n",
    "from sklearn.model_selection import cross_val_score\n",
    "from sklearn.model_selection import GridSearchCV\n",
    "from tensorflow.keras import models, layers\n",
    "from tensorflow.keras.wrappers.scikit_learn import KerasRegressor\n",
    "import tensorflow.keras as keras\n",
    "from tensorflow.keras import layers, Sequential, regularizers\n",
    "from tensorflow.keras.utils import  plot_model\n",
    "# calculate RMSE\n",
    "from sklearn.metrics import mean_squared_error\n",
    "from math import sqrt\n",
    "import pandas as pd \n",
    "import gc \n",
    "import gzip\n",
    "import matplotlib.pyplot as plt\n",
    "import numpy as np\n",
    "import netCDF4 as nc\n",
    "import match\n",
    "import xarray as xr\n",
    "import os \n",
    "%matplotlib inline"
   ]
  },
  {
   "cell_type": "code",
   "execution_count": 2,
   "id": "619adb84",
   "metadata": {
    "ExecuteTime": {
     "end_time": "2024-03-31T06:30:04.790575Z",
     "start_time": "2024-03-31T06:30:04.621847Z"
    }
   },
   "outputs": [
    {
     "data": {
      "text/plain": [
       "1"
      ]
     },
     "execution_count": 2,
     "metadata": {},
     "output_type": "execute_result"
    }
   ],
   "source": [
    "# 检查可用GPU数量\n",
    "len(tf.config.experimental.list_physical_devices('GPU'))"
   ]
  },
  {
   "cell_type": "markdown",
   "id": "f580b19d",
   "metadata": {},
   "source": [
    "# 读取数据"
   ]
  },
  {
   "cell_type": "markdown",
   "id": "a969a48c",
   "metadata": {},
   "source": [
    "## SSH"
   ]
  },
  {
   "cell_type": "code",
   "execution_count": 3,
   "id": "a2879bf4",
   "metadata": {
    "ExecuteTime": {
     "end_time": "2024-03-31T06:30:04.802556Z",
     "start_time": "2024-03-31T06:30:04.791574Z"
    }
   },
   "outputs": [
    {
     "name": "stdout",
     "output_type": "stream",
     "text": [
      "时间长度 132\n"
     ]
    }
   ],
   "source": [
    "data_ssh = nc.Dataset(r'D:/codeFile/jupyterDemo/3d_ts/BPNN/data/SSH/SSH_2005-2015_month.nc')\n",
    "time_ssh = data_ssh['time'][:]\n",
    "print('时间长度',len(time_ssh))"
   ]
  },
  {
   "cell_type": "code",
   "execution_count": 4,
   "id": "601b1b6d",
   "metadata": {
    "ExecuteTime": {
     "end_time": "2024-03-31T06:30:04.808546Z",
     "start_time": "2024-03-31T06:30:04.804553Z"
    },
    "scrolled": false
   },
   "outputs": [],
   "source": [
    "# 确认经纬度，选取研究区域\n",
    "ssh_lat = data_ssh['lat'][:].data   #0.125 -- 69.875\n",
    "#print(ssh_lat[:])\n",
    "ssh_lon = data_ssh['lon'][:].data   #110.125 -- 259.875\n",
    "#print(ssh_lon[:])"
   ]
  },
  {
   "cell_type": "code",
   "execution_count": 5,
   "id": "e1e7d608",
   "metadata": {
    "ExecuteTime": {
     "end_time": "2024-03-31T06:30:04.971285Z",
     "start_time": "2024-03-31T06:30:04.809545Z"
    }
   },
   "outputs": [
    {
     "name": "stdout",
     "output_type": "stream",
     "text": [
      "(132, 280, 600)\n",
      "2.20051 -0.43673334\n"
     ]
    }
   ],
   "source": [
    "ssh = data_ssh['ssh'][:].data\n",
    "print(ssh.shape)\n",
    "print(np.nanmax(ssh),np.nanmin(ssh))"
   ]
  },
  {
   "cell_type": "markdown",
   "id": "203facec",
   "metadata": {},
   "source": [
    "## SSS"
   ]
  },
  {
   "cell_type": "code",
   "execution_count": 6,
   "id": "7fde41f7",
   "metadata": {
    "ExecuteTime": {
     "end_time": "2024-03-31T06:30:04.977275Z",
     "start_time": "2024-03-31T06:30:04.972283Z"
    }
   },
   "outputs": [],
   "source": [
    "data_sss = nc.Dataset(r'D:/codeFile/jupyterDemo/3d_ts/BPNN/data/SSS/dataset-sss-ssd-rep-monthly_2005-2020.nc')"
   ]
  },
  {
   "cell_type": "code",
   "execution_count": 7,
   "id": "97c14ff6",
   "metadata": {
    "ExecuteTime": {
     "end_time": "2024-03-31T06:30:04.982267Z",
     "start_time": "2024-03-31T06:30:04.978273Z"
    }
   },
   "outputs": [
    {
     "name": "stdout",
     "output_type": "stream",
     "text": [
      "132\n"
     ]
    }
   ],
   "source": [
    "# 确定时间\n",
    "time_sss = data_sss['time'][:132]\n",
    "print(len(time_sss))"
   ]
  },
  {
   "cell_type": "code",
   "execution_count": 8,
   "id": "463ec7e5",
   "metadata": {
    "ExecuteTime": {
     "end_time": "2024-03-31T06:30:04.987259Z",
     "start_time": "2024-03-31T06:30:04.983266Z"
    }
   },
   "outputs": [],
   "source": [
    "# 获取研究位置经纬度\n",
    "sss_lat = data_sss['lat'][:].data   #0.125  -- 69.875 \n",
    "#print(sss_lat[:])\n",
    "sss_lon = data_sss['lon'][:].data   #110.125 -- 259.875\n",
    "#print(sss_lon[:])"
   ]
  },
  {
   "cell_type": "code",
   "execution_count": 9,
   "id": "778ef529",
   "metadata": {
    "ExecuteTime": {
     "end_time": "2024-03-31T06:30:05.132026Z",
     "start_time": "2024-03-31T06:30:04.989267Z"
    }
   },
   "outputs": [
    {
     "name": "stdout",
     "output_type": "stream",
     "text": [
      "(132, 1, 280, 600)\n",
      "(132, 280, 600)\n"
     ]
    }
   ],
   "source": [
    "sss = data_sss['sos'][:132].data \n",
    "print(sss.shape)\n",
    "sss = np.squeeze(sss)   # 移除大小为一的维度\n",
    "print(sss.shape)"
   ]
  },
  {
   "cell_type": "code",
   "execution_count": 10,
   "id": "b1e08930",
   "metadata": {
    "ExecuteTime": {
     "end_time": "2024-03-31T06:30:05.207905Z",
     "start_time": "2024-03-31T06:30:05.134023Z"
    }
   },
   "outputs": [
    {
     "name": "stdout",
     "output_type": "stream",
     "text": [
      "最大值与最小值: 36.072178 13.604756\n"
     ]
    }
   ],
   "source": [
    "print('最大值与最小值:',np.nanmax(sss),np.nanmin(sss))"
   ]
  },
  {
   "cell_type": "markdown",
   "id": "12d5c8e2",
   "metadata": {},
   "source": [
    "## SSW"
   ]
  },
  {
   "cell_type": "code",
   "execution_count": 11,
   "id": "d026b883",
   "metadata": {
    "ExecuteTime": {
     "end_time": "2024-03-31T06:30:05.248838Z",
     "start_time": "2024-03-31T06:30:05.241850Z"
    }
   },
   "outputs": [
    {
     "name": "stdout",
     "output_type": "stream",
     "text": [
      "132\n"
     ]
    }
   ],
   "source": [
    "data_ssw = nc.Dataset(r'D:/codeFile/jupyterDemo/3d_ts/BPNN/data/SSW/anon_ssw_2005_2018_Month_data.nc')\n",
    "# 确定时间\n",
    "time_ssw = data_ssw['time'][:132]\n",
    "print(len(time_ssw))"
   ]
  },
  {
   "cell_type": "code",
   "execution_count": 12,
   "id": "447b145c",
   "metadata": {
    "ExecuteTime": {
     "end_time": "2024-03-31T06:30:05.860864Z",
     "start_time": "2024-03-31T06:30:05.857859Z"
    }
   },
   "outputs": [],
   "source": [
    "lat_ssw = data_ssw['lat'][:].data   # lat 0.125    ----    69.875\n",
    "#print(lat_ssw[314:594])\n",
    "lon_ssw = data_ssw['lon'][:].data   # lon  110.125    ----    259.875\n",
    "#print(lon_ssw[440:1040])"
   ]
  },
  {
   "cell_type": "code",
   "execution_count": 13,
   "id": "68eef6fa",
   "metadata": {
    "ExecuteTime": {
     "end_time": "2024-03-31T06:30:06.738443Z",
     "start_time": "2024-03-31T06:30:06.482854Z"
    }
   },
   "outputs": [
    {
     "name": "stdout",
     "output_type": "stream",
     "text": [
      "(132, 280, 600)\n",
      "(132, 280, 600)\n"
     ]
    }
   ],
   "source": [
    "uwnd = data_ssw['uwnd'][:132,314:594,440:1040].data  \n",
    "vwnd = data_ssw['vwnd'][:132,314:594,440:1040].data\n",
    "print(uwnd.shape)\n",
    "print(vwnd.shape)"
   ]
  },
  {
   "cell_type": "code",
   "execution_count": 14,
   "id": "c5c8a2cd",
   "metadata": {
    "ExecuteTime": {
     "end_time": "2024-03-31T06:30:06.954096Z",
     "start_time": "2024-03-31T06:30:06.893194Z"
    }
   },
   "outputs": [
    {
     "data": {
      "text/plain": [
       "(12.433594, -11.7988205, 8.8359995, -13.645481)"
      ]
     },
     "execution_count": 14,
     "metadata": {},
     "output_type": "execute_result"
    }
   ],
   "source": [
    "np.nanmax(uwnd),np.nanmin(uwnd),np.nanmax(vwnd),np.nanmin(vwnd)"
   ]
  },
  {
   "cell_type": "markdown",
   "id": "4334792f",
   "metadata": {},
   "source": [
    "## 3DT"
   ]
  },
  {
   "cell_type": "code",
   "execution_count": 15,
   "id": "e02ac03d",
   "metadata": {
    "ExecuteTime": {
     "end_time": "2024-03-31T06:30:07.857643Z",
     "start_time": "2024-03-31T06:30:07.852651Z"
    }
   },
   "outputs": [],
   "source": [
    "data_3dt_1 = nc.Dataset(r'D:/codeFile/jupyterDemo/3d_ts/BPNN/data/3DT/dataset-armor-3d-rep-monthly_2005-2009.nc')\n",
    "data_3dt_2 = nc.Dataset(r'D:/codeFile/jupyterDemo/3d_ts/BPNN/data/3DT/dataset-armor-3d-rep-monthly_2010-2015.nc')"
   ]
  },
  {
   "cell_type": "code",
   "execution_count": 16,
   "id": "c15b88bd",
   "metadata": {
    "ExecuteTime": {
     "end_time": "2024-03-31T06:30:22.568984Z",
     "start_time": "2024-03-31T06:30:08.246018Z"
    }
   },
   "outputs": [],
   "source": [
    "sst_1 = data_3dt_1['to'][:].data\n",
    "sst_2 = data_3dt_2['to'][:].data"
   ]
  },
  {
   "cell_type": "code",
   "execution_count": 17,
   "id": "96f1a109",
   "metadata": {
    "ExecuteTime": {
     "end_time": "2024-03-31T06:30:22.574974Z",
     "start_time": "2024-03-31T06:30:22.569982Z"
    }
   },
   "outputs": [
    {
     "name": "stdout",
     "output_type": "stream",
     "text": [
      "(60, 43, 280, 600)\n",
      "(72, 43, 280, 600)\n"
     ]
    }
   ],
   "source": [
    "print(sst_1.shape)\n",
    "print(sst_2.shape)"
   ]
  },
  {
   "cell_type": "code",
   "execution_count": 18,
   "id": "1bf9c657",
   "metadata": {
    "ExecuteTime": {
     "end_time": "2024-03-31T06:30:25.892639Z",
     "start_time": "2024-03-31T06:30:22.575972Z"
    }
   },
   "outputs": [
    {
     "name": "stdout",
     "output_type": "stream",
     "text": [
      "(132, 43, 280, 600)\n"
     ]
    }
   ],
   "source": [
    "temp_depth = np.append(sst_1,sst_2,axis=0)\n",
    "print(temp_depth.shape)"
   ]
  },
  {
   "cell_type": "code",
   "execution_count": 19,
   "id": "7d72feae",
   "metadata": {
    "ExecuteTime": {
     "end_time": "2024-03-31T06:30:25.899628Z",
     "start_time": "2024-03-31T06:30:25.894636Z"
    }
   },
   "outputs": [],
   "source": [
    "depths = [0,5,10,15,20,25,30,35,40,45,50,55,60,65,70,80,90,100,125,150,175,200,225,250,275,300,350,400,\n",
    "         450,500,550,600,700,800,900,1000,1100,1200,1300,1400,1500,1750,2000]\n",
    "#5-2000m\n",
    "depths_use = [10,15,20,30,40,50,60,70,80,90,100,125,150,175,200,225,250,275,300,350,400,500,600,700,800,900,1000,1100,\n",
    "              1300,1500,1750,2000]  # 长度为33"
   ]
  },
  {
   "cell_type": "code",
   "execution_count": 20,
   "id": "bc087c2b",
   "metadata": {
    "ExecuteTime": {
     "end_time": "2024-03-31T06:30:25.904620Z",
     "start_time": "2024-03-31T06:30:25.900626Z"
    }
   },
   "outputs": [],
   "source": [
    "temp_depth_use = temp_depth[:,1:2]"
   ]
  },
  {
   "cell_type": "code",
   "execution_count": 21,
   "id": "aad4e347",
   "metadata": {
    "ExecuteTime": {
     "end_time": "2024-03-31T06:31:11.163832Z",
     "start_time": "2024-03-31T06:30:25.905618Z"
    }
   },
   "outputs": [],
   "source": [
    "for i,depth in enumerate(depths):\n",
    "    if(depth in depths_use):\n",
    "        temp_depth_use = np.concatenate((temp_depth_use,temp_depth[:,i:i+1]),axis=1)    "
   ]
  },
  {
   "cell_type": "code",
   "execution_count": 22,
   "id": "b3dd425c",
   "metadata": {
    "ExecuteTime": {
     "end_time": "2024-03-31T06:31:11.169823Z",
     "start_time": "2024-03-31T06:31:11.164831Z"
    }
   },
   "outputs": [
    {
     "name": "stdout",
     "output_type": "stream",
     "text": [
      "(132, 33, 280, 600)\n",
      "(132, 280, 600, 33)\n"
     ]
    }
   ],
   "source": [
    "print(temp_depth_use.shape)\n",
    "temp_depth_use = np.transpose(temp_depth_use,(0,2,3,1))\n",
    "print(temp_depth_use.shape)"
   ]
  },
  {
   "cell_type": "markdown",
   "id": "0f8541f3",
   "metadata": {},
   "source": [
    "## 表面温度数据"
   ]
  },
  {
   "cell_type": "code",
   "execution_count": 23,
   "id": "43aca482",
   "metadata": {
    "ExecuteTime": {
     "end_time": "2024-03-31T06:31:11.174815Z",
     "start_time": "2024-03-31T06:31:11.170821Z"
    }
   },
   "outputs": [],
   "source": [
    "sst = temp_depth[:,0:1,:,:]"
   ]
  },
  {
   "cell_type": "code",
   "execution_count": 24,
   "id": "29964dc4",
   "metadata": {
    "ExecuteTime": {
     "end_time": "2024-03-31T06:31:11.179807Z",
     "start_time": "2024-03-31T06:31:11.175813Z"
    }
   },
   "outputs": [
    {
     "name": "stdout",
     "output_type": "stream",
     "text": [
      "(132, 280, 600)\n"
     ]
    }
   ],
   "source": [
    "sst = np.squeeze(sst)\n",
    "print(sst.shape)"
   ]
  },
  {
   "cell_type": "markdown",
   "id": "5009e338",
   "metadata": {},
   "source": [
    "## 3DS"
   ]
  },
  {
   "cell_type": "code",
   "execution_count": 25,
   "id": "2a03a384",
   "metadata": {
    "ExecuteTime": {
     "end_time": "2024-03-31T06:31:13.882460Z",
     "start_time": "2024-03-31T06:31:11.181804Z"
    }
   },
   "outputs": [
    {
     "name": "stdout",
     "output_type": "stream",
     "text": [
      "(132, 43, 280, 600)\n"
     ]
    }
   ],
   "source": [
    "data_3ds = nc.Dataset(r'D:/codeFile/jupyterDemo/3d_ts/BPNN/data/3DT/sali/3DS_end_2005_2015.nc')\n",
    "sali_depth = data_3ds['so'][:].data\n",
    "print(sali_depth.shape)"
   ]
  },
  {
   "cell_type": "code",
   "execution_count": 36,
   "id": "1cd4ccea",
   "metadata": {
    "ExecuteTime": {
     "end_time": "2024-03-31T06:32:29.310033Z",
     "start_time": "2024-03-31T06:32:29.305041Z"
    }
   },
   "outputs": [],
   "source": [
    "depths = [0,5,10,15,20,25,30,35,40,45,50,55,60,65,70,80,90,100,125,150,175,200,225,250,275,300,350,400,\n",
    "         450,500,550,600,700,800,900,1000,1100,1200,1300,1400,1500,1750,2000]\n",
    "#depths_use = [50,100,125,150,200,250,300,400,500,600,700,800,900,1000]\n",
    "#5-2000m\n",
    "depths_use = [10,15,20,30,40,50,60,70,80,90,100,125,150,175,200,225,250,275,300,350,400,500,600,700,800,900,1000,1100,\n",
    "              1300,1500,1750,2000]  # 长度为33"
   ]
  },
  {
   "cell_type": "code",
   "execution_count": 37,
   "id": "340dd8d6",
   "metadata": {
    "ExecuteTime": {
     "end_time": "2024-03-31T06:32:31.179969Z",
     "start_time": "2024-03-31T06:32:31.175976Z"
    }
   },
   "outputs": [],
   "source": [
    "sali_depth_use = sali_depth[:,1:2]"
   ]
  },
  {
   "cell_type": "code",
   "execution_count": 38,
   "id": "a693fa1b",
   "metadata": {
    "ExecuteTime": {
     "end_time": "2024-03-31T06:32:53.365292Z",
     "start_time": "2024-03-31T06:32:31.619263Z"
    }
   },
   "outputs": [],
   "source": [
    "for i,depth in enumerate(depths):\n",
    "    if(depth in depths_use):\n",
    "        sali_depth_use = np.concatenate((sali_depth_use,sali_depth[:,i:i+1]),axis=1)    "
   ]
  },
  {
   "cell_type": "code",
   "execution_count": 39,
   "id": "a271c345",
   "metadata": {
    "ExecuteTime": {
     "end_time": "2024-03-31T06:33:00.240190Z",
     "start_time": "2024-03-31T06:33:00.237193Z"
    }
   },
   "outputs": [
    {
     "name": "stdout",
     "output_type": "stream",
     "text": [
      "(132, 33, 280, 600)\n",
      "(132, 280, 600, 33)\n"
     ]
    }
   ],
   "source": [
    "print(sali_depth_use.shape)\n",
    "sali_depth_use = np.transpose(sali_depth_use,(0,2,3,1))\n",
    "print(sali_depth_use.shape)"
   ]
  },
  {
   "cell_type": "markdown",
   "id": "79fe4126",
   "metadata": {},
   "source": [
    "## 数据合并"
   ]
  },
  {
   "cell_type": "code",
   "execution_count": 40,
   "id": "dd1ca4c6",
   "metadata": {
    "ExecuteTime": {
     "end_time": "2024-03-31T06:33:01.701838Z",
     "start_time": "2024-03-31T06:33:01.048888Z"
    }
   },
   "outputs": [
    {
     "name": "stdout",
     "output_type": "stream",
     "text": [
      "(132, 280, 600) (132, 280, 600) (132, 280, 600) (132, 280, 600) (132, 280, 600)\n"
     ]
    },
    {
     "data": {
      "text/plain": [
       "(132, 280, 600, 5)"
      ]
     },
     "execution_count": 40,
     "metadata": {},
     "output_type": "execute_result"
    }
   ],
   "source": [
    "# 表面数据合并\n",
    "print(ssh.shape,sst.shape,uwnd.shape,vwnd.shape,sss.shape)\n",
    "cat_data =np.stack((ssh,sst,uwnd,vwnd,sss),axis=3)\n",
    "cat_data.shape"
   ]
  },
  {
   "cell_type": "code",
   "execution_count": 41,
   "id": "90efa055",
   "metadata": {
    "ExecuteTime": {
     "end_time": "2024-03-31T06:33:01.706830Z",
     "start_time": "2024-03-31T06:33:01.702836Z"
    }
   },
   "outputs": [],
   "source": [
    "# #深度数据合并\n",
    "# print(sali_depth_use.shape,temp_depth_use.shape)\n",
    "# cat_depth = np.stack((sali_depth_use,temp_depth_use),axis=4)\n",
    "# print(cat_depth.shape)\n",
    "# cat_depth = np.reshape(cat_depth,(132, 280, 600,-1))\n",
    "# print(cat_depth.shape)"
   ]
  },
  {
   "cell_type": "code",
   "execution_count": 42,
   "id": "31946f16",
   "metadata": {
    "ExecuteTime": {
     "end_time": "2024-03-31T06:33:04.965616Z",
     "start_time": "2024-03-31T06:33:01.905510Z"
    },
    "code_folding": []
   },
   "outputs": [
    {
     "name": "stdout",
     "output_type": "stream",
     "text": [
      "(132, 280, 600, 38)\n"
     ]
    }
   ],
   "source": [
    "# 将表面数据和水下数据在最后一个维度拼接，将空值删除。\n",
    "cat_surface_depth = np.concatenate((cat_data,temp_depth_use),axis=-1)\n",
    "print(cat_surface_depth.shape)"
   ]
  },
  {
   "cell_type": "markdown",
   "id": "6539202b",
   "metadata": {
    "ExecuteTime": {
     "end_time": "2023-10-08T07:54:27.397519Z",
     "start_time": "2023-10-08T07:54:27.393526Z"
    }
   },
   "source": [
    "## 将两个温度异常区域的数据设置为nan"
   ]
  },
  {
   "cell_type": "code",
   "execution_count": 43,
   "id": "1a958aaf",
   "metadata": {
    "ExecuteTime": {
     "end_time": "2024-03-31T06:33:04.976594Z",
     "start_time": "2024-03-31T06:33:04.971607Z"
    }
   },
   "outputs": [],
   "source": [
    "# test = temp_depth_use[:,:,:,14:]\n",
    "# test[test < 0.4] = np.nan\n",
    "# test[test > 10] = np.nan\n",
    "# cat_data_ss_depth[:,:,:,19:] = test\n",
    "# cat_data_ss_depth.shape "
   ]
  },
  {
   "cell_type": "markdown",
   "id": "b2596fa1",
   "metadata": {},
   "source": [
    "## 去掉合并数据中的nan\n"
   ]
  },
  {
   "cell_type": "code",
   "execution_count": 44,
   "id": "3cbdd864",
   "metadata": {
    "ExecuteTime": {
     "end_time": "2024-03-31T06:33:04.989577Z",
     "start_time": "2024-03-31T06:33:04.979604Z"
    }
   },
   "outputs": [
    {
     "data": {
      "text/plain": [
       "(132, 280, 600, 38)"
      ]
     },
     "execution_count": 44,
     "metadata": {},
     "output_type": "execute_result"
    }
   ],
   "source": [
    "cat_surface_depth.shape"
   ]
  },
  {
   "cell_type": "code",
   "execution_count": 45,
   "id": "119f831a",
   "metadata": {
    "ExecuteTime": {
     "end_time": "2024-03-31T06:33:07.729145Z",
     "start_time": "2024-03-31T06:33:04.996547Z"
    }
   },
   "outputs": [
    {
     "name": "stdout",
     "output_type": "stream",
     "text": [
      "(280, 600, 132, 38)\n",
      "(168000, 5016)\n"
     ]
    }
   ],
   "source": [
    "## 先对合并的数据进行reshape成（长*宽，时间，通道）\n",
    "cat_surface_depth_reshape  = np.transpose(cat_surface_depth,(1,2,0,3))\n",
    "print(cat_surface_depth_reshape.shape)\n",
    "cat_surface_depth_reshape = cat_surface_depth_reshape.reshape ((-1,132*38))\n",
    "print(cat_surface_depth_reshape.shape)"
   ]
  },
  {
   "cell_type": "code",
   "execution_count": 46,
   "id": "cb75b4fa",
   "metadata": {
    "ExecuteTime": {
     "end_time": "2024-03-31T06:33:11.501079Z",
     "start_time": "2024-03-31T06:33:07.730143Z"
    }
   },
   "outputs": [
    {
     "name": "stdout",
     "output_type": "stream",
     "text": [
      "cat_surface_depth_reshape删除nan值之前 (168000, 5016)\n",
      "cat_surface_depth_reshape删除nan值之后 (104729, 5016)\n"
     ]
    }
   ],
   "source": [
    "# 将填充值赋值为nan\n",
    "cat_surface_depth_reshape[cat_surface_depth_reshape == 32767] = np.nan\n",
    "print('cat_surface_depth_reshape删除nan值之前',cat_surface_depth_reshape.shape)\n",
    "# 使用 numpy.isnan 函数检测NaN值\n",
    "nan_mask = np.isnan(cat_surface_depth_reshape)\n",
    "# 通过布尔索引删除NaN值\n",
    "cat_surface_depth_nonan = cat_surface_depth_reshape[~nan_mask.any(axis=1)]   \n",
    "# ~nan_mask.any(axis=1)只要第一个维度中含有False就会返回False\n",
    "print('cat_surface_depth_reshape删除nan值之后',cat_surface_depth_nonan.shape)"
   ]
  },
  {
   "cell_type": "code",
   "execution_count": 47,
   "id": "e15bafbf",
   "metadata": {
    "ExecuteTime": {
     "end_time": "2024-03-31T06:33:11.507070Z",
     "start_time": "2024-03-31T06:33:11.502078Z"
    }
   },
   "outputs": [
    {
     "name": "stdout",
     "output_type": "stream",
     "text": [
      "(104729, 132, 38)\n",
      "(132, 104729, 38)\n"
     ]
    }
   ],
   "source": [
    "cat_surface_depth_nonan = cat_surface_depth_nonan.reshape(-1,132,38)\n",
    "print(cat_surface_depth_nonan.shape)\n",
    "cat_surface_depth_nonan = np.transpose(cat_surface_depth_nonan,(1,0,2))\n",
    "print(cat_surface_depth_nonan.shape)"
   ]
  },
  {
   "cell_type": "markdown",
   "id": "4e6a1f81",
   "metadata": {},
   "source": [
    "## 将数据进行堆叠"
   ]
  },
  {
   "cell_type": "code",
   "execution_count": 48,
   "id": "6c89cddb",
   "metadata": {
    "ExecuteTime": {
     "end_time": "2024-03-31T06:33:11.754672Z",
     "start_time": "2024-03-31T06:33:11.508068Z"
    }
   },
   "outputs": [
    {
     "name": "stdout",
     "output_type": "stream",
     "text": [
      "(132, 104729, 5) (132, 104729, 33)\n"
     ]
    }
   ],
   "source": [
    "cat_surface_depth_nonan.shape\n",
    "surface_data = cat_surface_depth_nonan[:,:,:5]\n",
    "sali_depth_use = cat_surface_depth_nonan[:,:,5:]\n",
    "print(surface_data.shape,sali_depth_use.shape)"
   ]
  },
  {
   "cell_type": "code",
   "execution_count": 49,
   "id": "e95fefb9",
   "metadata": {
    "ExecuteTime": {
     "end_time": "2024-03-31T06:33:18.562723Z",
     "start_time": "2024-03-31T06:33:11.755670Z"
    }
   },
   "outputs": [
    {
     "name": "stdout",
     "output_type": "stream",
     "text": [
      "(127, 6, 104729, 5)\n",
      "(127, 1, 104729, 33)\n"
     ]
    }
   ],
   "source": [
    "available = len(surface_data) \n",
    "predict = 1\n",
    "\n",
    "surface_data_shape = surface_data.shape[1:]\n",
    "sali_depth_use_shape = sali_depth_use.shape[1:]\n",
    "\n",
    "N_stack = 6\n",
    "\n",
    "X_len = available - (N_stack-1)\n",
    "Y_len = X_len\n",
    "\n",
    "X = np.zeros(shape = (X_len, N_stack,surface_data_shape[0],surface_data_shape[1]))  \n",
    "for i in range(X_len):\n",
    "    X[i] = np.stack(surface_data[i:i+N_stack])\n",
    "    #print(i)\n",
    "\n",
    "Y = np.zeros(shape = (Y_len,predict,sali_depth_use_shape[0],sali_depth_use_shape[1]))\n",
    "for i in range(Y_len):\n",
    "    Y[i] = np.stack(sali_depth_use[i+N_stack-1 : i+N_stack-1+predict])\n",
    "   # print(i+N_stack-1)\n",
    "\n",
    "print(X.shape)\n",
    "print(Y.shape)"
   ]
  },
  {
   "cell_type": "markdown",
   "id": "23cadaf1",
   "metadata": {},
   "source": [
    "# 验证集和测试集的划分"
   ]
  },
  {
   "cell_type": "code",
   "execution_count": 50,
   "id": "ce22e0d5",
   "metadata": {
    "ExecuteTime": {
     "end_time": "2024-03-31T06:33:18.568714Z",
     "start_time": "2024-03-31T06:33:18.564720Z"
    }
   },
   "outputs": [
    {
     "name": "stdout",
     "output_type": "stream",
     "text": [
      "(115, 6, 104729, 5) (115, 1, 104729, 33) (12, 6, 104729, 5) (12, 1, 104729, 33)\n"
     ]
    }
   ],
   "source": [
    "# 最后十二个月的数据作为test\n",
    "test_num = 115\n",
    "x_train = X[:test_num]\n",
    "y_train = Y[:test_num]\n",
    "\n",
    "x_test = X[test_num:]\n",
    "y_test = Y[test_num:]\n",
    "print(x_train.shape,y_train.shape,x_test.shape,y_test.shape )"
   ]
  },
  {
   "cell_type": "markdown",
   "id": "e39d54ff",
   "metadata": {},
   "source": [
    "## 修改维度"
   ]
  },
  {
   "cell_type": "code",
   "execution_count": 51,
   "id": "62e8804e",
   "metadata": {
    "ExecuteTime": {
     "end_time": "2024-03-31T06:33:19.674935Z",
     "start_time": "2024-03-31T06:33:18.569712Z"
    }
   },
   "outputs": [
    {
     "name": "stdout",
     "output_type": "stream",
     "text": [
      "(12043835, 6, 5) (12043835, 1, 33) (1256748, 6, 5) (1256748, 1, 33)\n"
     ]
    }
   ],
   "source": [
    "x_train = np.transpose(x_train, (0,2,1,3))   #(个数，尺度，时间，通道)\n",
    "x_train = x_train.reshape((-1,6,5))          #(个数*尺度，时间，通道)\n",
    "\n",
    "y_train = np.transpose(y_train, (0,2,1,3))\n",
    "y_train = y_train.reshape((-1,1,33))\n",
    "\n",
    "x_test = np.transpose(x_test, (0,2,1,3))\n",
    "x_test = x_test.reshape((-1,6,5))\n",
    "\n",
    "y_test = np.transpose(y_test, (0,2,1,3))\n",
    "y_test = y_test.reshape((-1,1,33))\n",
    "print(x_train.shape,y_train.shape,x_test.shape,y_test.shape)"
   ]
  },
  {
   "cell_type": "markdown",
   "id": "82145a06",
   "metadata": {
    "ExecuteTime": {
     "end_time": "2023-09-27T11:16:55.407824Z",
     "start_time": "2023-09-27T11:16:55.403831Z"
    }
   },
   "source": [
    "## 划分训练数据和目标数据"
   ]
  },
  {
   "cell_type": "code",
   "execution_count": 52,
   "id": "ef288642",
   "metadata": {
    "ExecuteTime": {
     "end_time": "2024-03-31T06:33:19.680925Z",
     "start_time": "2024-03-31T06:33:19.675933Z"
    }
   },
   "outputs": [
    {
     "name": "stdout",
     "output_type": "stream",
     "text": [
      "x_test.shape: (1256748, 6, 5)\n",
      "y_test.shape (1256748, 1, 33)\n",
      "x_train (12043835, 6, 5)\n",
      "y_train (12043835, 1, 33)\n"
     ]
    }
   ],
   "source": [
    "print('x_test.shape:',x_test.shape)\n",
    "print('y_test.shape',y_test.shape)\n",
    "print('x_train',x_train.shape)\n",
    "print('y_train',y_train.shape)"
   ]
  },
  {
   "cell_type": "code",
   "execution_count": 53,
   "id": "57afe328",
   "metadata": {
    "ExecuteTime": {
     "end_time": "2024-03-31T06:33:24.117790Z",
     "start_time": "2024-03-31T06:33:19.681923Z"
    }
   },
   "outputs": [
    {
     "name": "stdout",
     "output_type": "stream",
     "text": [
      "(8430684, 6, 5) (1256748, 6, 5) (3613151, 6, 5) (8430684, 1, 33) (1256748, 1, 33) (3613151, 1, 33)\n"
     ]
    }
   ],
   "source": [
    "x_train, x_val, y_train, y_val = train_test_split(x_train, y_train, test_size=0.3, random_state=100)\n",
    "print(x_train.shape,x_test.shape,x_val.shape,y_train.shape,y_test.shape,y_val.shape)"
   ]
  },
  {
   "cell_type": "markdown",
   "id": "4adfdb57",
   "metadata": {},
   "source": [
    "# 特征归一化"
   ]
  },
  {
   "cell_type": "code",
   "execution_count": 54,
   "id": "0e7a1057",
   "metadata": {
    "ExecuteTime": {
     "end_time": "2024-03-31T06:33:24.122782Z",
     "start_time": "2024-03-31T06:33:24.118788Z"
    },
    "code_folding": []
   },
   "outputs": [],
   "source": [
    "# 记录数据集的形状\n",
    "x_train_shape = x_train.shape\n",
    "y_train_shape = y_train.shape\n",
    "\n",
    "x_test_shape = x_test.shape\n",
    "y_test_shape = y_test.shape\n",
    "\n",
    "x_val_shape = x_val.shape\n",
    "y_val_shape = y_val.shape"
   ]
  },
  {
   "cell_type": "code",
   "execution_count": 57,
   "id": "6293c800",
   "metadata": {
    "ExecuteTime": {
     "end_time": "2024-03-31T06:34:13.838589Z",
     "start_time": "2024-03-31T06:34:13.834595Z"
    }
   },
   "outputs": [
    {
     "data": {
      "text/plain": [
       "(8430684, 6, 5)"
      ]
     },
     "execution_count": 57,
     "metadata": {},
     "output_type": "execute_result"
    }
   ],
   "source": [
    "x_train.shape"
   ]
  },
  {
   "cell_type": "code",
   "execution_count": 58,
   "id": "9e19fa83",
   "metadata": {
    "ExecuteTime": {
     "end_time": "2024-03-31T06:35:10.873445Z",
     "start_time": "2024-03-31T06:34:58.543274Z"
    }
   },
   "outputs": [],
   "source": [
    "scaler_f = StandardScaler()\n",
    "x_train = scaler_f.fit_transform(x_train.reshape(-1,x_train_shape[2])) \n",
    "x_test = scaler_f.transform(x_test.reshape(-1,x_test_shape[2]))\n",
    "x_val = scaler_f.transform(x_val.reshape(-1,x_val_shape[2]))\n",
    "\n",
    "scaler_l = StandardScaler()\n",
    "y_train = scaler_l.fit_transform(y_train.reshape(-1,1)) \n",
    "y_test = scaler_l.transform(y_test.reshape(-1,1)) \n",
    "y_val = scaler_l.transform(y_val.reshape(-1,1)) \n",
    "\n",
    "# scaler_l = StandardScaler()\n",
    "# y_train = scaler_l.fit_transform(y_train.reshape(-1,y_train_shape[2])) \n",
    "# y_test = scaler_l.transform(y_test.reshape(-1,y_test_shape[2])) \n",
    "# y_val = scaler_l.transform(y_val.reshape(-1,y_val_shape[2])) "
   ]
  },
  {
   "cell_type": "code",
   "execution_count": 59,
   "id": "5efe52e7",
   "metadata": {
    "ExecuteTime": {
     "end_time": "2024-03-31T06:35:17.467543Z",
     "start_time": "2024-03-31T06:35:17.463549Z"
    }
   },
   "outputs": [],
   "source": [
    "x_train = np.reshape(x_train,(x_train_shape))\n",
    "x_test = np.reshape(x_test,(x_test_shape))\n",
    "x_val = np.reshape(x_val,(x_val_shape))\n",
    "y_train = np.reshape(y_train,(y_train_shape[0],-1))\n",
    "y_test = np.reshape(y_test,(y_test_shape[0],-1))\n",
    "y_val = np.reshape(y_val,(y_val_shape[0],-1))"
   ]
  },
  {
   "cell_type": "code",
   "execution_count": 60,
   "id": "5cd9d9f6",
   "metadata": {
    "ExecuteTime": {
     "end_time": "2024-03-31T06:35:22.096116Z",
     "start_time": "2024-03-31T06:35:22.092106Z"
    }
   },
   "outputs": [
    {
     "name": "stdout",
     "output_type": "stream",
     "text": [
      "(8430684, 6, 5) (1256748, 6, 5) (3613151, 6, 5) (8430684, 33) (1256748, 33) (3613151, 33)\n"
     ]
    }
   ],
   "source": [
    "print(x_train.shape,x_test.shape,x_val.shape,y_train.shape,y_test.shape,y_val.shape)"
   ]
  },
  {
   "cell_type": "code",
   "execution_count": null,
   "id": "e8e0e14e",
   "metadata": {},
   "outputs": [],
   "source": []
  },
  {
   "cell_type": "markdown",
   "id": "82214b18",
   "metadata": {},
   "source": [
    "# 定义网络结构"
   ]
  },
  {
   "cell_type": "code",
   "execution_count": 61,
   "id": "b4c3ed24",
   "metadata": {
    "ExecuteTime": {
     "end_time": "2024-03-31T06:35:32.206187Z",
     "start_time": "2024-03-31T06:35:32.202193Z"
    },
    "code_folding": [
     0
    ]
   },
   "outputs": [],
   "source": [
    "#  model2_input= Input(shape=(6,5))\n",
    "#     x2 = MHA1(model2_input,model2_input)\n",
    "#     x2 = LSTM(64, return_sequences=True)(x2)   \n",
    "#     x2 = Dropout(0.2)(x2)\n",
    "    \n",
    "#     x2 = MHA2(x2,x2)\n",
    "#     x2 = LSTM(32, return_sequences=True)(x2)\n",
    "#     x2 = Dropout(0.2)(x2)\n",
    "# #\n",
    "#     x2 = MHA3(x2,x2)\n",
    "#     x2 = Flatten()(x2)\n",
    "#     out2 = Dense(1)(x2)"
   ]
  },
  {
   "cell_type": "code",
   "execution_count": 62,
   "id": "f0b4b369",
   "metadata": {
    "ExecuteTime": {
     "end_time": "2024-03-31T06:35:32.374916Z",
     "start_time": "2024-03-31T06:35:32.370922Z"
    },
    "code_folding": [
     0
    ]
   },
   "outputs": [],
   "source": [
    "#  MHA2 = tf.keras.layers.MultiHeadAttention(num_heads=8, key_dim=8)\n",
    "#     MHA3 = tf.keras.layers.MultiHeadAttention(num_heads=8, key_dim=4)\n",
    "    \n",
    "    \n",
    "#     model2_input= Input(shape=(6,5))\n",
    "\n",
    "#     x2 = LSTM(64, return_sequences=True)(model2_input)   \n",
    "#     x2 = Dropout(0.2)(x2)\n",
    "    \n",
    "#     mha2 = MHA2(x2,x2)\n",
    "#     x2 = tf.keras.layers.Add()([x2, mha2])\n",
    "#     x2 = Activation('relu')(x2)\n",
    "    \n",
    "#     x2 = LSTM(32, return_sequences=True)(x2)\n",
    "#     #x2 = Dropout(0.2)(x2)\n",
    "# #\n",
    "#     mha3 = MHA3(x2,x2)\n",
    "#     x2 = tf.keras.layers.Add()([x2, mha3])\n",
    "#     x2 = Activation('relu')(x2)\n",
    "#     x2 = Flatten()(x2)\n",
    "#     out2 = Dense(1)(x2)\n",
    "    "
   ]
  },
  {
   "cell_type": "code",
   "execution_count": 63,
   "id": "09016b5d",
   "metadata": {
    "ExecuteTime": {
     "end_time": "2024-03-31T06:35:32.538657Z",
     "start_time": "2024-03-31T06:35:32.534659Z"
    },
    "code_folding": [
     0
    ]
   },
   "outputs": [],
   "source": [
    "# def my_model():\n",
    "# #     MHA1 = tf.keras.layers.MultiHeadAttention(num_heads=2, key_dim=3)\n",
    "#     MHA2 = tf.keras.layers.MultiHeadAttention(num_heads=4, key_dim=16)\n",
    "# #     MHA3 = tf.keras.layers.MultiHeadAttention(num_heads=4, key_dim=8)\n",
    "#     #MHA4 = tf.keras.layers.MultiHeadAttention(num_heads=8, key_dim=16)\n",
    "    \n",
    "#     model_input= Input(shape=(6,5))\n",
    "    \n",
    "# #     mha1 = MHA1(model_input,model_input)\n",
    "# #     model = tf.keras.layers.Add()([model_input,mha1])\n",
    "# #     model = tf.keras.layers.ReLU()(model)\n",
    "    \n",
    "#     model= LSTM(64, return_sequences=True)(model_input)   \n",
    "#     model = Dropout(0.2)(model)\n",
    "#     mha2 = MHA2(model,model)\n",
    "#     model = tf.keras.layers.Add()([model,mha2])\n",
    "#     model = tf.keras.layers.ReLU()(model)\n",
    "    \n",
    "#     model = LSTM(32, return_sequences=True)(model)\n",
    "#     model = Dropout(0.2)(model)\n",
    "# #     mha3 = MHA3(model,model)\n",
    "# #     model = tf.keras.layers.Add()([model, mha3])\n",
    "# #     model = tf.keras.layers.ReLU()(model)\n",
    "    \n",
    "# #     model_out = LSTM(32, return_sequences=True)(model)\n",
    "# #     model = Dropout(0.3)(model)\n",
    "# #     mha4 = MHA4(model,model)\n",
    "# #     model = tf.keras.layers.Add()([model, mha4,model_out])\n",
    "# #     model = tf.keras.layers.ReLU()(model)\n",
    "    \n",
    "    \n",
    "#     model = Flatten()(model)\n",
    "#     out = Dense(1)(model)\n",
    "#     model = Model(inputs=model_input, outputs=out)\n",
    "#     return model"
   ]
  },
  {
   "cell_type": "code",
   "execution_count": 64,
   "id": "db386094",
   "metadata": {
    "ExecuteTime": {
     "end_time": "2024-03-31T06:35:32.692405Z",
     "start_time": "2024-03-31T06:35:32.684418Z"
    },
    "code_folding": [
     0
    ]
   },
   "outputs": [],
   "source": [
    "# 注意力层的定制实现，以适应多次注意力调用\n",
    "class Attention(Layer):\n",
    "    def __init__(self, units=128, **kwargs):\n",
    "        self.units = units\n",
    "        super().__init__(**kwargs)\n",
    "        \n",
    "    def __call__(self, inputs):\n",
    "        \"\"\"\n",
    "        Keras的多对一注意力机制。\n",
    "        @param inputs: 3D tensor with shape (batch_size, time_steps, input_dim).\n",
    "        @return: 2D tensor with shape (batch_size, 128)\n",
    "        \"\"\"\n",
    "        \n",
    "        hidden_states = inputs\n",
    "        hidden_size = int(hidden_states.shape[2])  \n",
    "        \n",
    "        # Inside dense layer 内部全连接层\n",
    "        #              hidden_states            dot               W            =>           score_first_part\n",
    "        # (batch_size, time_steps, hidden_size) dot (hidden_size, hidden_size) => (batch_size, time_steps, hidden_size)\n",
    "        # W是可训练权重矩阵 \n",
    "        \n",
    "        score_first_part = Dense(hidden_size, use_bias=False)(hidden_states) \n",
    "        # 进行一次全连接，本质上没有太大意义，只是为了增加一下模型复杂度，\n",
    "        # 并且改变一下前T个时间步的特征表示,这里其实也可以不进行全连接，直接使用hidden_states\n",
    "        \n",
    "        #            score_first_part           dot        last_hidden_state     => attention_weights\n",
    "        # (batch_size, time_steps, hidden_size) dot   (batch_size, hidden_size)  => (batch_size, time_steps)\n",
    "        # # 注意力，增加对最后一个时间步长的关注\n",
    "        \n",
    "        h_t = Lambda(lambda x: x[:, -1, :], output_shape=(hidden_size,))(hidden_states)  # 取出最后一个时间步的特征\n",
    "        score = Dot(axes=[1, 2])([h_t, score_first_part])  # 将最后一个时间步长与前T个时间步长进行点积\n",
    "        attention_weights = Activation('softmax')(score)   # 求权重（将权值通过softmax进行归一化，得到直接可用的权重）\n",
    "        \n",
    "        \n",
    "        # (batch_size, time_steps, hidden_size) dot (batch_size, time_steps) => (batch_size, hidden_size)\n",
    "        context_vector = Dot(axes=[1, 1])([hidden_states, attention_weights])  # 上下文向量\n",
    "        pre_activation = Concatenate()([context_vector, h_t]) #再次将最后一个时间步的信息加入，本质上是一个残差连接，这步可以省略\n",
    "        attention_vector = Dense(self.units, use_bias=False, activation='tanh')(pre_activation) # 用一个全连接层进行合并\n",
    "        \n",
    "        print('注意力被执行了一次')\n",
    "        return attention_vector\n",
    "\n",
    "    def get_config(self):\n",
    "        return {'units': self.units}\n",
    "\n",
    "    @classmethod\n",
    "    def from_config(cls, config):\n",
    "        return cls(**config)"
   ]
  },
  {
   "cell_type": "markdown",
   "id": "2422b253",
   "metadata": {},
   "source": [
    "## 加入注意力机制"
   ]
  },
  {
   "cell_type": "code",
   "execution_count": 65,
   "id": "106bd46d",
   "metadata": {
    "ExecuteTime": {
     "end_time": "2024-03-31T06:35:42.501296Z",
     "start_time": "2024-03-31T06:35:42.496304Z"
    },
    "code_folding": []
   },
   "outputs": [],
   "source": [
    "#@save\n",
    "def masked_softmax(X, valid_lens):\n",
    "    \"\"\"通过在最后一个轴上掩蔽元素来执行softmax操作\"\"\"\n",
    "    # X:3D张量，valid_lens:1D或2D张量\n",
    "    if valid_lens is None:\n",
    "        return tf.nn.softmax(X, axis=-1)\n",
    "    else:\n",
    "        shape = X.shape\n",
    "        if len(valid_lens.shape) == 1:\n",
    "            valid_lens = tf.repeat(valid_lens, repeats=shape[1])\n",
    "\n",
    "        else:\n",
    "            valid_lens = tf.reshape(valid_lens, shape=-1)\n",
    "        # 最后一轴上被掩蔽的元素使用一个非常大的负值替换，从而其softmax输出为0\n",
    "        X = d2l.sequence_mask(tf.reshape(X, shape=(-1, shape[-1])),\n",
    "                              valid_lens, value=-1e6)\n",
    "        return tf.nn.softmax(tf.reshape(X, shape=shape), axis=-1)"
   ]
  },
  {
   "cell_type": "code",
   "execution_count": 66,
   "id": "2397bc43",
   "metadata": {
    "ExecuteTime": {
     "end_time": "2024-03-31T06:35:42.971563Z",
     "start_time": "2024-03-31T06:35:42.967546Z"
    },
    "code_folding": []
   },
   "outputs": [],
   "source": [
    "#@save   缩放点击注意力\n",
    "class DotProductAttention(tf.keras.layers.Layer):\n",
    "    \"\"\"Scaleddotproductattention.\"\"\"\n",
    "    def __init__(self, dropout, **kwargs):\n",
    "        super().__init__(**kwargs)\n",
    "        self.dropout = tf.keras.layers.Dropout(dropout)\n",
    "\n",
    "    # queries的形状：(batch_size，查询的个数，d)\n",
    "    # keys的形状：(batch_size，“键－值”对的个数，d)\n",
    "    # values的形状：(batch_size，“键－值”对的个数，值的维度)\n",
    "    # valid_lens的形状:(batch_size，)或者(batch_size，查询的个数)\n",
    "    def call(self, queries, keys, values, valid_lens, **kwargs):\n",
    "        d = queries.shape[-1]\n",
    "        scores = tf.matmul(queries, keys, transpose_b=True)/tf.math.sqrt(\n",
    "            tf.cast(d, dtype=tf.float32))\n",
    "        self.attention_weights = masked_softmax(scores, valid_lens)\n",
    "        return tf.matmul(self.dropout(self.attention_weights, **kwargs), values)"
   ]
  },
  {
   "cell_type": "code",
   "execution_count": 67,
   "id": "6f5d51a0",
   "metadata": {
    "ExecuteTime": {
     "end_time": "2024-03-31T06:35:43.548612Z",
     "start_time": "2024-03-31T06:35:43.539626Z"
    },
    "code_folding": []
   },
   "outputs": [],
   "source": [
    "#@save   多头注意力\n",
    "class MultiHeadAttention_my(tf.keras.layers.Layer):\n",
    "    \"\"\"多头注意力\"\"\"\n",
    "    def __init__(self, key_size, query_size, value_size, num_hiddens,\n",
    "                 num_heads, dropout, bias=False, **kwargs):\n",
    "        super().__init__(**kwargs)\n",
    "        self.num_heads = num_heads\n",
    "        self.key_size = key_size\n",
    "        self.query_size = query_size\n",
    "        self.value_size = value_size\n",
    "        self.num_hiddens = num_hiddens\n",
    "        self.dropout = dropout\n",
    "        self.bias = bias\n",
    "        self.attention = DotProductAttention(dropout)\n",
    "        self.W_q = tf.keras.layers.Dense(num_hiddens, use_bias=bias)\n",
    "        self.W_k = tf.keras.layers.Dense(num_hiddens, use_bias=bias)\n",
    "        self.W_v = tf.keras.layers.Dense(num_hiddens, use_bias=bias)\n",
    "        self.W_o = tf.keras.layers.Dense(num_hiddens, use_bias=bias)\n",
    "        #print('初始化完成')\n",
    "\n",
    "    def call(self, queries, keys, values, valid_lens, **kwargs):\n",
    "        # queries，keys，values的形状:\n",
    "        # (batch_size，查询或者“键－值”对的个数，num_hiddens)\n",
    "        # valid_lens　的形状:\n",
    "        # (batch_size，)或(batch_size，查询的个数)\n",
    "        # 经过变换后，输出的queries，keys，values　的形状:\n",
    "        # (batch_size*num_heads，查询或者“键－值”对的个数，num_hiddens/num_heads)\n",
    "        \n",
    "        #print(1)\n",
    "        #print('queries.shape',queries.shape)\n",
    "        #print('queries.type',type(queries))\n",
    "        self.W_q(queries)\n",
    "        #print(1.1)\n",
    "        queries = transpose_qkv(self.W_q(queries), self.num_heads)\n",
    "        keys = transpose_qkv(self.W_k(keys), self.num_heads)\n",
    "        values = transpose_qkv(self.W_v(values), self.num_heads)\n",
    "        #print(2)\n",
    "        if valid_lens is not None:\n",
    "            # 在轴0，将第一项（标量或者矢量）复制num_heads次，\n",
    "            # 然后如此复制第二项，然后诸如此类。\n",
    "            valid_lens = tf.repeat(valid_lens, repeats=self.num_heads, axis=0)\n",
    "        #print(123)\n",
    "        # output的形状:(batch_size*num_heads，查询的个数，num_hiddens/num_heads)\n",
    "        #print('准备开始计算')\n",
    "        output = self.attention(queries, keys, values, valid_lens, **kwargs)\n",
    "\n",
    "        # output_concat的形状:(batch_size，查询的个数，num_hiddens)\n",
    "        output_concat = transpose_output(output, self.num_heads)\n",
    "        return self.W_o(output_concat)\n",
    "    \n",
    "    def get_config(self):\n",
    "        return{'num_heads': self.num_heads,\n",
    "                'key_size': self.key_size,\n",
    "                'query_size': self.query_size,\n",
    "                'value_size': self.value_size,\n",
    "                'num_hiddens': self.num_hiddens,\n",
    "                'dropout': self.dropout,\n",
    "                'bias': self.bias}"
   ]
  },
  {
   "cell_type": "code",
   "execution_count": 68,
   "id": "6d1dcded",
   "metadata": {
    "ExecuteTime": {
     "end_time": "2024-03-31T06:35:44.769649Z",
     "start_time": "2024-03-31T06:35:44.763658Z"
    },
    "code_folding": []
   },
   "outputs": [],
   "source": [
    "#@save 形状转化\n",
    "def transpose_qkv(X, num_heads):\n",
    "\n",
    "    \"\"\"为了多注意力头的并行计算而变换形状\"\"\"\n",
    "    # 输入X的形状:(batch_size，查询或者“键－值”对的个数，num_hiddens)\n",
    "    # 输出X的形状:(batch_size，查询或者“键－值”对的个数，num_heads，\n",
    "    # num_hiddens/num_heads)\n",
    "    #print('开始转化')\n",
    "    #print(X.shape)\n",
    "    #print(X.shape[2],X.shape[2]/num_heads)\n",
    "    X = tf.reshape(X,shape=(-1, X.shape[1], num_heads, int(X.shape[2]/num_heads)))\n",
    "    #print('转化完成')\n",
    "    #print(X.shape)\n",
    "    # 输出X的形状:(batch_size，num_heads，查询或者“键－值”对的个数,\n",
    "    # num_hiddens/num_heads)\n",
    "    X = tf.transpose(X, perm=(0, 2, 1, 3))\n",
    "\n",
    "    # 最终输出的形状:(batch_size*num_heads,查询或者“键－值”对的个数,\n",
    "    # num_hiddens/num_heads)\n",
    "    return tf.reshape(X, shape=(-1, X.shape[2], X.shape[3]))\n",
    "\n",
    "\n",
    "#@save\n",
    "def transpose_output(X, num_heads):\n",
    "    \"\"\"逆转transpose_qkv函数的操作\"\"\"\n",
    "    X = tf.reshape(X, shape=(-1, num_heads, X.shape[1], X.shape[2]))\n",
    "    X = tf.transpose(X, perm=(0, 2, 1, 3))\n",
    "    return tf.reshape(X, shape=(-1, X.shape[1],X.shape[2]*X.shape[3]))"
   ]
  },
  {
   "cell_type": "code",
   "execution_count": 71,
   "id": "4ca1bdae",
   "metadata": {
    "ExecuteTime": {
     "end_time": "2024-03-31T06:35:55.641166Z",
     "start_time": "2024-03-31T06:35:55.635175Z"
    }
   },
   "outputs": [],
   "source": [
    "def rest_back(model_input):\n",
    "    model = LSTM(32, return_sequences=True)(model_input)\n",
    "    model_attention = MultiHeadAttention_my(32, 32, 32, 32, 8, 0.5)(model, model, model, None)\n",
    "    model = tf.keras.layers.Add()([model_attention, model])\n",
    "    model = tf.keras.layers.ReLU()(model)\n",
    "    return model \n",
    "\n",
    "def my_model():\n",
    "    \n",
    "    model_input= Input(shape=(6,5))\n",
    "   \n",
    "    #model= LSTM(64, return_sequences=True)(model_input)   \n",
    "    #model = Dropout(0.2)(model)\n",
    "    model = rest_back(model_input)\n",
    "    model = rest_back(model)\n",
    "    #model = rest_back(model)\n",
    "    \n",
    "    model = Flatten()(model)\n",
    "    \n",
    "    out = Dense(33)(model)\n",
    "    model = Model(inputs=model_input, outputs=out)\n",
    "    return model"
   ]
  },
  {
   "cell_type": "code",
   "execution_count": 72,
   "id": "a853928f",
   "metadata": {
    "ExecuteTime": {
     "end_time": "2024-03-31T06:35:56.268157Z",
     "start_time": "2024-03-31T06:35:55.911731Z"
    }
   },
   "outputs": [
    {
     "name": "stdout",
     "output_type": "stream",
     "text": [
      "Model: \"model_1\"\n",
      "__________________________________________________________________________________________________\n",
      "Layer (type)                    Output Shape         Param #     Connected to                     \n",
      "==================================================================================================\n",
      "input_2 (InputLayer)            [(None, 6, 5)]       0                                            \n",
      "__________________________________________________________________________________________________\n",
      "lstm_3 (LSTM)                   (None, 6, 32)        4864        input_2[0][0]                    \n",
      "__________________________________________________________________________________________________\n",
      "multi_head_attention_my_3 (Mult (None, 6, 32)        4096        lstm_3[0][0]                     \n",
      "                                                                 lstm_3[0][0]                     \n",
      "                                                                 lstm_3[0][0]                     \n",
      "__________________________________________________________________________________________________\n",
      "add_3 (Add)                     (None, 6, 32)        0           multi_head_attention_my_3[0][0]  \n",
      "                                                                 lstm_3[0][0]                     \n",
      "__________________________________________________________________________________________________\n",
      "re_lu_3 (ReLU)                  (None, 6, 32)        0           add_3[0][0]                      \n",
      "__________________________________________________________________________________________________\n",
      "lstm_4 (LSTM)                   (None, 6, 32)        8320        re_lu_3[0][0]                    \n",
      "__________________________________________________________________________________________________\n",
      "multi_head_attention_my_4 (Mult (None, 6, 32)        4096        lstm_4[0][0]                     \n",
      "                                                                 lstm_4[0][0]                     \n",
      "                                                                 lstm_4[0][0]                     \n",
      "__________________________________________________________________________________________________\n",
      "add_4 (Add)                     (None, 6, 32)        0           multi_head_attention_my_4[0][0]  \n",
      "                                                                 lstm_4[0][0]                     \n",
      "__________________________________________________________________________________________________\n",
      "re_lu_4 (ReLU)                  (None, 6, 32)        0           add_4[0][0]                      \n",
      "__________________________________________________________________________________________________\n",
      "flatten_1 (Flatten)             (None, 192)          0           re_lu_4[0][0]                    \n",
      "__________________________________________________________________________________________________\n",
      "dense_21 (Dense)                (None, 33)           6369        flatten_1[0][0]                  \n",
      "==================================================================================================\n",
      "Total params: 27,745\n",
      "Trainable params: 27,745\n",
      "Non-trainable params: 0\n",
      "__________________________________________________________________________________________________\n"
     ]
    }
   ],
   "source": [
    "# import graphviz\n",
    "model = my_model()\n",
    "model.summary()\n",
    "# plot_model(model,show_shapes=True,show_layer_names=True)"
   ]
  },
  {
   "cell_type": "markdown",
   "id": "613e01d6",
   "metadata": {},
   "source": [
    "## 训练30 - 1000m"
   ]
  },
  {
   "cell_type": "code",
   "execution_count": 73,
   "id": "2de091a3",
   "metadata": {
    "ExecuteTime": {
     "end_time": "2024-03-31T06:35:58.720326Z",
     "start_time": "2024-03-31T06:35:58.714335Z"
    }
   },
   "outputs": [],
   "source": [
    "def train_model(x_train,y_train,x_val,y_val,name):\n",
    "    # 创建网络\n",
    "    model = my_model()\n",
    "    # 编译网络\n",
    "    model.compile(loss='mse', optimizer='adam')\n",
    "    checkpoint_path=name\n",
    "    keras_callbacks   = [\n",
    "          EarlyStopping(monitor='val_loss', patience=16, mode='min', min_delta=0.0001),\n",
    "          ModelCheckpoint(checkpoint_path, monitor='val_loss', save_best_only=True, mode='min')\n",
    "    ]\n",
    "    model.fit(x_train, y_train, validation_data=(x_val,y_val),\n",
    "                    epochs=200, batch_size=10240, verbose=2, callbacks=keras_callbacks)\n",
    "    return model"
   ]
  },
  {
   "cell_type": "code",
   "execution_count": 74,
   "id": "1e62344b",
   "metadata": {
    "ExecuteTime": {
     "end_time": "2024-03-31T06:35:59.371279Z",
     "start_time": "2024-03-31T06:35:59.367285Z"
    }
   },
   "outputs": [],
   "source": [
    "depth = [5,10,15,20,30,40,50,60,70,80,90,100,125,150,175,200,225,250,275,300,350,400,500,600,700,800,900,1000,1100,\n",
    "              1300,1500,1750,2000] "
   ]
  },
  {
   "cell_type": "code",
   "execution_count": 75,
   "id": "acd9ef54",
   "metadata": {
    "ExecuteTime": {
     "end_time": "2024-03-31T06:36:01.136440Z",
     "start_time": "2024-03-31T06:36:01.132447Z"
    }
   },
   "outputs": [
    {
     "name": "stdout",
     "output_type": "stream",
     "text": [
      "(8430684, 6, 5) (1256748, 6, 5) (3613151, 6, 5) (8430684, 33) (1256748, 33) (3613151, 33)\n"
     ]
    }
   ],
   "source": [
    "print(x_train.shape,x_test.shape,x_val.shape,y_train.shape,y_test.shape,y_val.shape)"
   ]
  },
  {
   "cell_type": "code",
   "execution_count": 76,
   "id": "a77adbb2",
   "metadata": {
    "ExecuteTime": {
     "end_time": "2024-03-31T07:06:50.835155Z",
     "start_time": "2024-03-31T06:36:14.728719Z"
    }
   },
   "outputs": [
    {
     "name": "stdout",
     "output_type": "stream",
     "text": [
      "Epoch 1/200\n",
      "824/824 - 34s - loss: 0.0475 - val_loss: 0.0092\n",
      "Epoch 2/200\n",
      "824/824 - 29s - loss: 0.0081 - val_loss: 0.0056\n",
      "Epoch 3/200\n",
      "824/824 - 29s - loss: 0.0060 - val_loss: 0.0048\n",
      "Epoch 4/200\n",
      "824/824 - 29s - loss: 0.0052 - val_loss: 0.0044\n",
      "Epoch 5/200\n",
      "824/824 - 29s - loss: 0.0048 - val_loss: 0.0041\n",
      "Epoch 6/200\n",
      "824/824 - 29s - loss: 0.0045 - val_loss: 0.0040\n",
      "Epoch 7/200\n",
      "824/824 - 29s - loss: 0.0042 - val_loss: 0.0038\n",
      "Epoch 8/200\n",
      "824/824 - 29s - loss: 0.0041 - val_loss: 0.0037\n",
      "Epoch 9/200\n",
      "824/824 - 29s - loss: 0.0039 - val_loss: 0.0036\n",
      "Epoch 10/200\n",
      "824/824 - 29s - loss: 0.0038 - val_loss: 0.0035\n",
      "Epoch 11/200\n",
      "824/824 - 29s - loss: 0.0037 - val_loss: 0.0034\n",
      "Epoch 12/200\n",
      "824/824 - 29s - loss: 0.0036 - val_loss: 0.0034\n",
      "Epoch 13/200\n",
      "824/824 - 29s - loss: 0.0036 - val_loss: 0.0033\n",
      "Epoch 14/200\n",
      "824/824 - 29s - loss: 0.0035 - val_loss: 0.0033\n",
      "Epoch 15/200\n",
      "824/824 - 29s - loss: 0.0034 - val_loss: 0.0032\n",
      "Epoch 16/200\n",
      "824/824 - 29s - loss: 0.0034 - val_loss: 0.0032\n",
      "Epoch 17/200\n",
      "824/824 - 29s - loss: 0.0033 - val_loss: 0.0031\n",
      "Epoch 18/200\n",
      "824/824 - 29s - loss: 0.0033 - val_loss: 0.0031\n",
      "Epoch 19/200\n",
      "824/824 - 29s - loss: 0.0032 - val_loss: 0.0030\n",
      "Epoch 20/200\n",
      "824/824 - 29s - loss: 0.0032 - val_loss: 0.0030\n",
      "Epoch 21/200\n",
      "824/824 - 29s - loss: 0.0032 - val_loss: 0.0030\n",
      "Epoch 22/200\n",
      "824/824 - 29s - loss: 0.0031 - val_loss: 0.0029\n",
      "Epoch 23/200\n",
      "824/824 - 29s - loss: 0.0031 - val_loss: 0.0029\n",
      "Epoch 24/200\n",
      "824/824 - 29s - loss: 0.0031 - val_loss: 0.0029\n",
      "Epoch 25/200\n",
      "824/824 - 29s - loss: 0.0031 - val_loss: 0.0029\n",
      "Epoch 26/200\n",
      "824/824 - 29s - loss: 0.0030 - val_loss: 0.0029\n",
      "Epoch 27/200\n",
      "824/824 - 29s - loss: 0.0030 - val_loss: 0.0029\n",
      "Epoch 28/200\n",
      "824/824 - 29s - loss: 0.0030 - val_loss: 0.0028\n",
      "Epoch 29/200\n",
      "824/824 - 29s - loss: 0.0030 - val_loss: 0.0028\n",
      "Epoch 30/200\n",
      "824/824 - 29s - loss: 0.0030 - val_loss: 0.0028\n",
      "Epoch 31/200\n",
      "824/824 - 29s - loss: 0.0029 - val_loss: 0.0028\n",
      "Epoch 32/200\n",
      "824/824 - 29s - loss: 0.0029 - val_loss: 0.0028\n",
      "Epoch 33/200\n",
      "824/824 - 29s - loss: 0.0029 - val_loss: 0.0028\n",
      "Epoch 34/200\n",
      "824/824 - 29s - loss: 0.0029 - val_loss: 0.0027\n",
      "Epoch 35/200\n",
      "824/824 - 29s - loss: 0.0029 - val_loss: 0.0027\n",
      "Epoch 36/200\n",
      "824/824 - 29s - loss: 0.0029 - val_loss: 0.0027\n",
      "Epoch 37/200\n",
      "824/824 - 29s - loss: 0.0029 - val_loss: 0.0027\n",
      "Epoch 38/200\n",
      "824/824 - 29s - loss: 0.0028 - val_loss: 0.0027\n",
      "Epoch 39/200\n",
      "824/824 - 29s - loss: 0.0028 - val_loss: 0.0027\n",
      "Epoch 40/200\n",
      "824/824 - 29s - loss: 0.0028 - val_loss: 0.0027\n",
      "Epoch 41/200\n",
      "824/824 - 29s - loss: 0.0028 - val_loss: 0.0027\n",
      "Epoch 42/200\n",
      "824/824 - 29s - loss: 0.0028 - val_loss: 0.0027\n",
      "Epoch 43/200\n",
      "824/824 - 29s - loss: 0.0028 - val_loss: 0.0027\n",
      "Epoch 44/200\n",
      "824/824 - 29s - loss: 0.0028 - val_loss: 0.0026\n",
      "Epoch 45/200\n",
      "824/824 - 29s - loss: 0.0028 - val_loss: 0.0026\n",
      "Epoch 46/200\n",
      "824/824 - 29s - loss: 0.0028 - val_loss: 0.0027\n",
      "Epoch 47/200\n",
      "824/824 - 29s - loss: 0.0028 - val_loss: 0.0026\n",
      "Epoch 48/200\n",
      "824/824 - 29s - loss: 0.0028 - val_loss: 0.0026\n",
      "Epoch 49/200\n",
      "824/824 - 29s - loss: 0.0027 - val_loss: 0.0026\n",
      "Epoch 50/200\n",
      "824/824 - 29s - loss: 0.0027 - val_loss: 0.0026\n",
      "Epoch 51/200\n",
      "824/824 - 29s - loss: 0.0027 - val_loss: 0.0026\n",
      "Epoch 52/200\n",
      "824/824 - 29s - loss: 0.0027 - val_loss: 0.0026\n",
      "Epoch 53/200\n",
      "824/824 - 29s - loss: 0.0027 - val_loss: 0.0026\n",
      "Epoch 54/200\n",
      "824/824 - 29s - loss: 0.0027 - val_loss: 0.0026\n",
      "Epoch 55/200\n",
      "824/824 - 29s - loss: 0.0027 - val_loss: 0.0026\n",
      "Epoch 56/200\n",
      "824/824 - 29s - loss: 0.0027 - val_loss: 0.0026\n",
      "Epoch 57/200\n",
      "824/824 - 29s - loss: 0.0027 - val_loss: 0.0026\n",
      "Epoch 58/200\n",
      "824/824 - 29s - loss: 0.0027 - val_loss: 0.0026\n",
      "Epoch 59/200\n",
      "824/824 - 29s - loss: 0.0027 - val_loss: 0.0026\n",
      "Epoch 60/200\n",
      "824/824 - 29s - loss: 0.0027 - val_loss: 0.0026\n",
      "Epoch 61/200\n",
      "824/824 - 29s - loss: 0.0027 - val_loss: 0.0025\n",
      "Epoch 62/200\n",
      "824/824 - 29s - loss: 0.0027 - val_loss: 0.0025\n",
      "Epoch 63/200\n",
      "824/824 - 29s - loss: 0.0027 - val_loss: 0.0025\n",
      "Epoch 64/200\n",
      "824/824 - 29s - loss: 0.0026 - val_loss: 0.0025\n"
     ]
    }
   ],
   "source": [
    "# 一口气预测所有深度\n",
    "model = train_model(x_train,y_train,x_val,y_val,'../model/LSTM/temp/LSTM_temp_(Mul)_all_3_m.h5')"
   ]
  },
  {
   "cell_type": "markdown",
   "id": "1275d7a0",
   "metadata": {},
   "source": [
    "## 模型评估"
   ]
  },
  {
   "cell_type": "code",
   "execution_count": 77,
   "id": "a7d0b3be",
   "metadata": {
    "ExecuteTime": {
     "end_time": "2024-03-31T07:06:56.079155Z",
     "start_time": "2024-03-31T07:06:56.040218Z"
    },
    "code_folding": [
     0,
     3,
     16,
     45
    ]
   },
   "outputs": [],
   "source": [
    "# 评估函数定义\n",
    "# 异常相关系数\n",
    "import math\n",
    "def acc(actual, predicted):\n",
    "    pred_avg = np.average(predicted)\n",
    "\n",
    "    act_avg = np.average(actual)\n",
    "    diff_pred = predicted - pred_avg\n",
    "    diff_act = actual - act_avg\n",
    "    numerator = np.mean(np.sum(diff_pred*diff_act, axis=0))\n",
    "    denominator = math.sqrt(np.mean(np.sum(diff_pred**2, axis=0)) * np.mean(np.sum(diff_act**2, axis=0)))\n",
    "    ret_val = numerator/denominator\n",
    "    return (100 * ret_val)\n",
    "\n",
    "\n",
    "# 查看损失\n",
    "def look_loss(history):\n",
    "    plt.figure(figsize=(6.3, 2.5), dpi = 100)\n",
    "    plt.plot(history.history['loss'], label='training data')\n",
    "    plt.plot(history.history['val_loss'], label='validation data')\n",
    "    plt.title('Loss')\n",
    "    plt.ylabel('MSE Loss')\n",
    "    plt.xlabel('Number of epochs')\n",
    "    plt.grid()\n",
    "    plt.legend(loc=\"upper right\")\n",
    "    plt.show()\n",
    "\n",
    "\n",
    "# 模型预测\n",
    "def all_estimate(best_model,x_test,y_test):\n",
    "    testPred_1 = best_model.predict(x_test)\n",
    "    a = y_test\n",
    "    y_test_p = a.reshape(-1,1)\n",
    "    testPred_p = testPred_1.reshape(-1,1)\n",
    "\n",
    "\n",
    "    rmse = sqrt(mean_squared_error(y_test_p,testPred_p))\n",
    "    print('Test RMSE: %.3f' % rmse)\n",
    "\n",
    "    print('acc:',acc(y_test_p,testPred_p))\n",
    "\n",
    "    r2 = r2_score(y_test_p,testPred_p)\n",
    "    print(\"R² score:\", r2)  \n",
    "    \n",
    "\n",
    "def respective_estimate(best_model,x_test,y_test):\n",
    "    re2_list = []\n",
    "    rmse_list = []\n",
    "    for i in range(6):\n",
    "        # 模型预测\n",
    "        testPred = best_model.predict(x_test[i:i+1])\n",
    "        a = y_test[i:i+1]\n",
    "        y_test_p = a.reshape(-1,1)\n",
    "        testPred_p = testPred.reshape(-1,1)\n",
    "        r2 = r2_score(y_test_p,testPred_p)\n",
    "        rmse = sqrt(mean_squared_error(y_test_p,testPred_p))\n",
    "        re2_list.append(r2)\n",
    "        rmse_list.append(rmse)    \n",
    "    return re2_list,rmse_list"
   ]
  },
  {
   "cell_type": "markdown",
   "id": "650a3669",
   "metadata": {},
   "source": [
    "### 对指定层进行评估"
   ]
  },
  {
   "cell_type": "code",
   "execution_count": 78,
   "id": "6afc7fe3",
   "metadata": {
    "ExecuteTime": {
     "end_time": "2024-03-31T07:08:01.089309Z",
     "start_time": "2024-03-31T07:07:15.221071Z"
    }
   },
   "outputs": [
    {
     "name": "stdout",
     "output_type": "stream",
     "text": [
      "Test RMSE: 0.069\n",
      "acc: 99.76896730373099\n",
      "R² score: 0.9952103964652608\n"
     ]
    }
   ],
   "source": [
    "best_model = tf.keras.models.load_model('D:/codeFile/jupyterDemo/3d_ts/BPNN/model/LSTM/temp/LSTM_temp_(Mul)_all_3_m.h5',custom_objects={'MultiHeadAttention_my': MultiHeadAttention_my})\n",
    "all_estimate(best_model,x_test,y_test)"
   ]
  },
  {
   "cell_type": "code",
   "execution_count": 79,
   "id": "965bd665",
   "metadata": {
    "ExecuteTime": {
     "end_time": "2024-03-31T07:09:17.821309Z",
     "start_time": "2024-03-31T07:08:35.122973Z"
    }
   },
   "outputs": [],
   "source": [
    "testPred = best_model.predict(x_test)"
   ]
  },
  {
   "cell_type": "code",
   "execution_count": 80,
   "id": "e7a285ca",
   "metadata": {
    "ExecuteTime": {
     "end_time": "2024-03-31T07:09:19.435776Z",
     "start_time": "2024-03-31T07:09:19.430784Z"
    }
   },
   "outputs": [
    {
     "data": {
      "text/plain": [
       "((1256748, 33), (1256748, 33))"
      ]
     },
     "execution_count": 80,
     "metadata": {},
     "output_type": "execute_result"
    }
   ],
   "source": [
    "y_test.shape ,testPred.shape"
   ]
  },
  {
   "cell_type": "code",
   "execution_count": 81,
   "id": "ac48b739",
   "metadata": {
    "ExecuteTime": {
     "end_time": "2024-03-31T07:09:23.528219Z",
     "start_time": "2024-03-31T07:09:22.469921Z"
    }
   },
   "outputs": [
    {
     "name": "stdout",
     "output_type": "stream",
     "text": [
      "R² score: 0.9445564684762102\n"
     ]
    }
   ],
   "source": [
    "r2 = r2_score(y_test,testPred)\n",
    "print(\"R² score:\", r2)  "
   ]
  },
  {
   "cell_type": "code",
   "execution_count": 82,
   "id": "5ba32cb8",
   "metadata": {
    "ExecuteTime": {
     "end_time": "2024-03-31T07:10:20.507245Z",
     "start_time": "2024-03-31T07:10:17.392222Z"
    },
    "scrolled": true
   },
   "outputs": [
    {
     "name": "stdout",
     "output_type": "stream",
     "text": [
      "5 m\n",
      "Test RMSE: 0.034\n",
      "R² score: 0.9986220409183815\n",
      "10 m\n",
      "Test RMSE: 0.036\n",
      "R² score: 0.998418288271928\n",
      "15 m\n",
      "Test RMSE: 0.038\n",
      "R² score: 0.998206489989358\n",
      "20 m\n",
      "Test RMSE: 0.042\n",
      "R² score: 0.9978211594200428\n",
      "30 m\n",
      "Test RMSE: 0.055\n",
      "R² score: 0.9964325378341361\n",
      "40 m\n",
      "Test RMSE: 0.071\n",
      "R² score: 0.9942691223872411\n",
      "50 m\n",
      "Test RMSE: 0.085\n",
      "R² score: 0.9916162052392232\n",
      "60 m\n",
      "Test RMSE: 0.097\n",
      "R² score: 0.9889334985785336\n",
      "70 m\n",
      "Test RMSE: 0.103\n",
      "R² score: 0.9868969654975694\n",
      "80 m\n",
      "Test RMSE: 0.108\n",
      "R² score: 0.9846564112248498\n",
      "90 m\n",
      "Test RMSE: 0.112\n",
      "R² score: 0.9826194310220888\n",
      "100 m\n",
      "Test RMSE: 0.116\n",
      "R² score: 0.9800898103921754\n",
      "125 m\n",
      "Test RMSE: 0.120\n",
      "R² score: 0.9739974449675559\n",
      "150 m\n",
      "Test RMSE: 0.114\n",
      "R² score: 0.9710953199779568\n",
      "175 m\n",
      "Test RMSE: 0.096\n",
      "R² score: 0.9737798915843184\n",
      "200 m\n",
      "Test RMSE: 0.084\n",
      "R² score: 0.9753385971616548\n",
      "225 m\n",
      "Test RMSE: 0.076\n",
      "R² score: 0.9766613879574217\n",
      "250 m\n",
      "Test RMSE: 0.069\n",
      "R² score: 0.9773647642685362\n",
      "275 m\n",
      "Test RMSE: 0.065\n",
      "R² score: 0.9774829966910598\n",
      "300 m\n",
      "Test RMSE: 0.063\n",
      "R² score: 0.9767829676338605\n",
      "350 m\n",
      "Test RMSE: 0.058\n",
      "R² score: 0.9754935266026086\n",
      "400 m\n",
      "Test RMSE: 0.054\n",
      "R² score: 0.9735754663852518\n",
      "500 m\n",
      "Test RMSE: 0.045\n",
      "R² score: 0.9685003300102172\n",
      "600 m\n",
      "Test RMSE: 0.035\n",
      "R² score: 0.9647251487421885\n",
      "700 m\n",
      "Test RMSE: 0.028\n",
      "R² score: 0.9587418083261722\n",
      "800 m\n",
      "Test RMSE: 0.026\n",
      "R² score: 0.9481571558529095\n",
      "900 m\n",
      "Test RMSE: 0.026\n",
      "R² score: 0.9339570696631617\n",
      "1000 m\n",
      "Test RMSE: 0.026\n",
      "R² score: 0.914774924849145\n",
      "1100 m\n",
      "Test RMSE: 0.027\n",
      "R² score: 0.8904146997317703\n",
      "1300 m\n",
      "Test RMSE: 0.028\n",
      "R² score: 0.8294696908964724\n",
      "1500 m\n",
      "Test RMSE: 0.029\n",
      "R² score: 0.7667202538233715\n",
      "1750 m\n",
      "Test RMSE: 0.030\n",
      "R² score: 0.6965042399527865\n",
      "2000 m\n",
      "Test RMSE: 0.031\n",
      "R² score: 0.6482438138608947\n"
     ]
    }
   ],
   "source": [
    "for i in range(0,33):\n",
    "    print(depth[i],'m')\n",
    "    rmse = sqrt(mean_squared_error(y_test[:,i:i+1],testPred[:,i:i+1]))\n",
    "    print('Test RMSE: %.3f' % rmse)\n",
    "\n",
    "    #print('acc:',acc(y_test[:,i:i+1],testPred[:,i:i+1]))\n",
    "\n",
    "    r2 = r2_score(y_test[:,i:i+1],testPred[:,i:i+1])\n",
    "    print(\"R² score:\", r2)  "
   ]
  },
  {
   "cell_type": "code",
   "execution_count": null,
   "id": "88ffbbb8",
   "metadata": {},
   "outputs": [],
   "source": []
  },
  {
   "cell_type": "code",
   "execution_count": null,
   "id": "5d1800fa",
   "metadata": {},
   "outputs": [],
   "source": []
  },
  {
   "cell_type": "code",
   "execution_count": null,
   "id": "1986783d",
   "metadata": {},
   "outputs": [],
   "source": []
  },
  {
   "cell_type": "markdown",
   "id": "3f0aad38",
   "metadata": {},
   "source": [
    "### 对所有层进行评估"
   ]
  },
  {
   "cell_type": "code",
   "execution_count": 308,
   "id": "9bf805b3",
   "metadata": {
    "ExecuteTime": {
     "end_time": "2024-03-30T13:32:48.294577Z",
     "start_time": "2024-03-30T13:11:14.815184Z"
    },
    "collapsed": true
   },
   "outputs": [
    {
     "name": "stdout",
     "output_type": "stream",
     "text": [
      "5测试集：\n",
      "Test RMSE: 0.053\n",
      "acc: 99.86382088075369\n",
      "R² score: 0.9972548959436249\n",
      "10测试集：\n",
      "Test RMSE: 0.084\n",
      "acc: 99.65136467907492\n",
      "R² score: 0.992967099338938\n",
      "15测试集：\n",
      "Test RMSE: 0.088\n",
      "acc: 99.6171009031483\n",
      "R² score: 0.9923300461037283\n",
      "20测试集：\n",
      "Test RMSE: 0.093\n",
      "acc: 99.57260468700282\n",
      "R² score: 0.9914562140035097\n",
      "30测试集：\n",
      "Test RMSE: 0.108\n",
      "acc: 99.41689524348295\n",
      "R² score: 0.9883601689865469\n",
      "40测试集：\n",
      "Test RMSE: 0.123\n",
      "acc: 99.25452732500521\n",
      "R² score: 0.9849560603918971\n",
      "50测试集：\n",
      "Test RMSE: 0.138\n",
      "acc: 99.05533723261198\n",
      "R² score: 0.9811930629706401\n",
      "60测试集：\n",
      "Test RMSE: 0.149\n",
      "acc: 98.91544409707845\n",
      "R² score: 0.9784214494423065\n",
      "70测试集：\n",
      "Test RMSE: 0.157\n",
      "acc: 98.82060411786448\n",
      "R² score: 0.9764272294069934\n",
      "80测试集：\n",
      "Test RMSE: 0.158\n",
      "acc: 98.79209415980196\n",
      "R² score: 0.9759496981612152\n",
      "90测试集：\n",
      "Test RMSE: 0.168\n",
      "acc: 98.629615832077\n",
      "R² score: 0.9724825558827926\n",
      "100测试集：\n",
      "Test RMSE: 0.173\n",
      "acc: 98.52393336264372\n",
      "R² score: 0.9700996670908231\n",
      "125测试集：\n",
      "Test RMSE: 0.192\n",
      "acc: 98.15124400417281\n",
      "R² score: 0.9623612584690513\n",
      "150测试集：\n",
      "Test RMSE: 0.202\n",
      "acc: 97.91730708858998\n",
      "R² score: 0.9586285091307389\n",
      "175测试集：\n",
      "Test RMSE: 0.214\n",
      "acc: 97.67930917799721\n",
      "R² score: 0.9537797180539277\n",
      "200测试集：\n",
      "Test RMSE: 0.232\n",
      "acc: 97.30245544556136\n",
      "R² score: 0.9455023147749156\n",
      "225测试集：\n",
      "Test RMSE: 0.223\n",
      "acc: 97.56256732304136\n",
      "R² score: 0.9503928516009028\n",
      "250测试集：\n",
      "Test RMSE: 0.218\n",
      "acc: 97.69512499687859\n",
      "R² score: 0.9526690773167903\n",
      "275测试集：\n",
      "Test RMSE: 0.206\n",
      "acc: 97.93175441390663\n",
      "R² score: 0.957878614150803\n",
      "300测试集：\n",
      "Test RMSE: 0.203\n",
      "acc: 98.04369260858\n",
      "R² score: 0.9594292552017432\n",
      "350测试集：\n",
      "Test RMSE: 0.208\n",
      "acc: 97.96178239480257\n",
      "R² score: 0.9576478619345709\n",
      "400测试集：\n",
      "Test RMSE: 0.201\n",
      "acc: 98.0921818452867\n",
      "R² score: 0.9605398828307852\n",
      "500测试集：\n",
      "Test RMSE: 0.189\n",
      "acc: 98.27222462537826\n",
      "R² score: 0.9648241253342135\n",
      "600测试集：\n",
      "Test RMSE: 0.181\n",
      "acc: 98.42264244134711\n",
      "R² score: 0.9668886389231833\n",
      "700测试集：\n",
      "Test RMSE: 0.183\n",
      "acc: 98.34450237652868\n",
      "R² score: 0.965687976326707\n",
      "800测试集：\n",
      "Test RMSE: 0.184\n",
      "acc: 98.3615605761886\n",
      "R² score: 0.9654078856365469\n",
      "900测试集：\n",
      "Test RMSE: 0.192\n",
      "acc: 98.20748791853225\n",
      "R² score: 0.9624599511125652\n",
      "1000测试集：\n",
      "Test RMSE: 0.194\n",
      "acc: 98.16628165798595\n",
      "R² score: 0.9616630577675089\n",
      "1100测试集：\n",
      "Test RMSE: 0.182\n",
      "acc: 98.41385929535693\n",
      "R² score: 0.9659249646998688\n",
      "1300测试集：\n",
      "Test RMSE: 0.208\n",
      "acc: 97.88423087081875\n",
      "R² score: 0.9559669507325816\n",
      "1500测试集：\n",
      "Test RMSE: 0.229\n",
      "acc: 97.38664135853406\n",
      "R² score: 0.9462182156985359\n"
     ]
    },
    {
     "ename": "OSError",
     "evalue": "SavedModel file does not exist at: D:/codeFile/jupyterDemo/3d_ts/BPNN/model/LSTM/sali/LSTM_sali_(Mul)_1750m.h5/{saved_model.pbtxt|saved_model.pb}",
     "output_type": "error",
     "traceback": [
      "\u001b[1;31m---------------------------------------------------------------------------\u001b[0m",
      "\u001b[1;31mOSError\u001b[0m                                   Traceback (most recent call last)",
      "Cell \u001b[1;32mIn[308], line 3\u001b[0m\n\u001b[0;32m      1\u001b[0m \u001b[38;5;66;03m# 模型预测\u001b[39;00m\n\u001b[0;32m      2\u001b[0m \u001b[38;5;28;01mfor\u001b[39;00m i \u001b[38;5;129;01min\u001b[39;00m \u001b[38;5;28mrange\u001b[39m(\u001b[38;5;241m0\u001b[39m,\u001b[38;5;241m33\u001b[39m):\n\u001b[1;32m----> 3\u001b[0m     best_model \u001b[38;5;241m=\u001b[39m \u001b[43mtf\u001b[49m\u001b[38;5;241;43m.\u001b[39;49m\u001b[43mkeras\u001b[49m\u001b[38;5;241;43m.\u001b[39;49m\u001b[43mmodels\u001b[49m\u001b[38;5;241;43m.\u001b[39;49m\u001b[43mload_model\u001b[49m\u001b[43m(\u001b[49m\u001b[38;5;124;43m'\u001b[39;49m\u001b[38;5;124;43mD:/codeFile/jupyterDemo/3d_ts/BPNN/model/LSTM/sali/LSTM_sali_(Mul)_\u001b[39;49m\u001b[38;5;124;43m'\u001b[39;49m\u001b[38;5;241;43m+\u001b[39;49m\u001b[38;5;28;43mstr\u001b[39;49m\u001b[43m(\u001b[49m\u001b[43mdepth\u001b[49m\u001b[43m[\u001b[49m\u001b[43mi\u001b[49m\u001b[43m]\u001b[49m\u001b[43m)\u001b[49m\u001b[38;5;241;43m+\u001b[39;49m\u001b[38;5;124;43m'\u001b[39;49m\u001b[38;5;124;43mm.h5\u001b[39;49m\u001b[38;5;124;43m'\u001b[39;49m\u001b[43m,\u001b[49m\u001b[43mcustom_objects\u001b[49m\u001b[38;5;241;43m=\u001b[39;49m\u001b[43m{\u001b[49m\u001b[38;5;124;43m'\u001b[39;49m\u001b[38;5;124;43mMultiHeadAttention_my\u001b[39;49m\u001b[38;5;124;43m'\u001b[39;49m\u001b[43m:\u001b[49m\u001b[43m \u001b[49m\u001b[43mMultiHeadAttention_my\u001b[49m\u001b[43m}\u001b[49m\u001b[43m)\u001b[49m\n\u001b[0;32m      4\u001b[0m     \u001b[38;5;28mprint\u001b[39m(\u001b[38;5;28mstr\u001b[39m(depth[i])\u001b[38;5;241m+\u001b[39m\u001b[38;5;124m'\u001b[39m\u001b[38;5;124m测试集：\u001b[39m\u001b[38;5;124m'\u001b[39m)\n\u001b[0;32m      5\u001b[0m     all_estimate(best_model,x_test,y_test[:,i:i\u001b[38;5;241m+\u001b[39m\u001b[38;5;241m1\u001b[39m])\n",
      "File \u001b[1;32mD:\\tools\\Anaconda\\envs\\python\\lib\\site-packages\\tensorflow\\python\\keras\\saving\\save.py:211\u001b[0m, in \u001b[0;36mload_model\u001b[1;34m(filepath, custom_objects, compile, options)\u001b[0m\n\u001b[0;32m    209\u001b[0m     filepath \u001b[38;5;241m=\u001b[39m path_to_string(filepath)\n\u001b[0;32m    210\u001b[0m     \u001b[38;5;28;01mif\u001b[39;00m \u001b[38;5;28misinstance\u001b[39m(filepath, six\u001b[38;5;241m.\u001b[39mstring_types):\n\u001b[1;32m--> 211\u001b[0m       \u001b[43mloader_impl\u001b[49m\u001b[38;5;241;43m.\u001b[39;49m\u001b[43mparse_saved_model\u001b[49m\u001b[43m(\u001b[49m\u001b[43mfilepath\u001b[49m\u001b[43m)\u001b[49m\n\u001b[0;32m    212\u001b[0m       \u001b[38;5;28;01mreturn\u001b[39;00m saved_model_load\u001b[38;5;241m.\u001b[39mload(filepath, \u001b[38;5;28mcompile\u001b[39m, options)\n\u001b[0;32m    214\u001b[0m \u001b[38;5;28;01mraise\u001b[39;00m \u001b[38;5;167;01mIOError\u001b[39;00m(\n\u001b[0;32m    215\u001b[0m     \u001b[38;5;124m'\u001b[39m\u001b[38;5;124mUnable to load model. Filepath is not an hdf5 file (or h5py is not \u001b[39m\u001b[38;5;124m'\u001b[39m\n\u001b[0;32m    216\u001b[0m     \u001b[38;5;124m'\u001b[39m\u001b[38;5;124mavailable) or SavedModel.\u001b[39m\u001b[38;5;124m'\u001b[39m)\n",
      "File \u001b[1;32mD:\\tools\\Anaconda\\envs\\python\\lib\\site-packages\\tensorflow\\python\\saved_model\\loader_impl.py:111\u001b[0m, in \u001b[0;36mparse_saved_model\u001b[1;34m(export_dir)\u001b[0m\n\u001b[0;32m    109\u001b[0m     \u001b[38;5;28;01mraise\u001b[39;00m \u001b[38;5;167;01mIOError\u001b[39;00m(\u001b[38;5;124m\"\u001b[39m\u001b[38;5;124mCannot parse file \u001b[39m\u001b[38;5;132;01m%s\u001b[39;00m\u001b[38;5;124m: \u001b[39m\u001b[38;5;132;01m%s\u001b[39;00m\u001b[38;5;124m.\u001b[39m\u001b[38;5;124m\"\u001b[39m \u001b[38;5;241m%\u001b[39m (path_to_pbtxt, \u001b[38;5;28mstr\u001b[39m(e)))\n\u001b[0;32m    110\u001b[0m \u001b[38;5;28;01melse\u001b[39;00m:\n\u001b[1;32m--> 111\u001b[0m   \u001b[38;5;28;01mraise\u001b[39;00m \u001b[38;5;167;01mIOError\u001b[39;00m(\u001b[38;5;124m\"\u001b[39m\u001b[38;5;124mSavedModel file does not exist at: \u001b[39m\u001b[38;5;132;01m%s\u001b[39;00m\u001b[38;5;124m/\u001b[39m\u001b[38;5;124m{\u001b[39m\u001b[38;5;132;01m%s\u001b[39;00m\u001b[38;5;124m|\u001b[39m\u001b[38;5;132;01m%s\u001b[39;00m\u001b[38;5;124m}\u001b[39m\u001b[38;5;124m\"\u001b[39m \u001b[38;5;241m%\u001b[39m\n\u001b[0;32m    112\u001b[0m                 (export_dir,\n\u001b[0;32m    113\u001b[0m                  constants\u001b[38;5;241m.\u001b[39mSAVED_MODEL_FILENAME_PBTXT,\n\u001b[0;32m    114\u001b[0m                  constants\u001b[38;5;241m.\u001b[39mSAVED_MODEL_FILENAME_PB))\n",
      "\u001b[1;31mOSError\u001b[0m: SavedModel file does not exist at: D:/codeFile/jupyterDemo/3d_ts/BPNN/model/LSTM/sali/LSTM_sali_(Mul)_1750m.h5/{saved_model.pbtxt|saved_model.pb}"
     ]
    }
   ],
   "source": [
    "# 模型预测\n",
    "for i in range(0,33):\n",
    "    best_model = tf.keras.models.load_model('D:/codeFile/jupyterDemo/3d_ts/BPNN/model/LSTM/sali/LSTM_sali_(Mul)_'+str(depth[i])+'m.h5',custom_objects={'MultiHeadAttention_my': MultiHeadAttention_my})\n",
    "    print(str(depth[i])+'测试集：')\n",
    "    all_estimate(best_model,x_test,y_test[:,i:i+1])\n",
    "# re2_list,rmse_list = respective_estimate(best_model,x_test,y_test[:,:,:,:,0:5])\n",
    "# re2_list,rmse_list"
   ]
  },
  {
   "cell_type": "markdown",
   "id": "c5347be8",
   "metadata": {},
   "source": [
    "# 保存预测结果"
   ]
  },
  {
   "cell_type": "code",
   "execution_count": null,
   "id": "dcf59029",
   "metadata": {
    "ExecuteTime": {
     "end_time": "2024-03-29T06:55:41.721301Z",
     "start_time": "2024-03-29T06:55:41.721301Z"
    }
   },
   "outputs": [],
   "source": [
    "# 模型预测\n",
    "result = [] \n",
    "for i in range(0,33):\n",
    "    best_model = tf.keras.models.load_model('D:/codeFile/jupyterDemo/3d_ts/BPNN/model/LSTM/sali/LSTM_sali_'+str(depth[i])+'m.h5')\n",
    "    #print('预测第'+str(depth[i]+'m的温度')\n",
    "    testPred = best_model.predict(x_test)\n",
    "    result.append(testPred)"
   ]
  },
  {
   "cell_type": "code",
   "execution_count": null,
   "id": "06aab644",
   "metadata": {
    "ExecuteTime": {
     "end_time": "2024-03-29T06:55:41.723298Z",
     "start_time": "2024-03-29T06:55:41.723298Z"
    }
   },
   "outputs": [],
   "source": [
    "len(result),len(result[0]),len(result[0][0])"
   ]
  },
  {
   "cell_type": "code",
   "execution_count": null,
   "id": "f4102afd",
   "metadata": {
    "ExecuteTime": {
     "end_time": "2024-03-29T06:55:41.724296Z",
     "start_time": "2024-03-29T06:55:41.724296Z"
    }
   },
   "outputs": [],
   "source": [
    "result = np.array(result)\n",
    "print(result.shape)\n",
    "result = np.transpose(result,(1,2,0))\n",
    "print(result.shape)\n",
    "result = result.reshape(-1,33)\n",
    "print(result.shape)"
   ]
  },
  {
   "cell_type": "markdown",
   "id": "d07214f5",
   "metadata": {},
   "source": [
    "## 对预测结果进行反归一化"
   ]
  },
  {
   "cell_type": "code",
   "execution_count": null,
   "id": "0f9ed2f9",
   "metadata": {
    "ExecuteTime": {
     "end_time": "2024-03-29T06:55:41.725295Z",
     "start_time": "2024-03-29T06:55:41.724296Z"
    }
   },
   "outputs": [],
   "source": [
    "result.shape,y_test.shape "
   ]
  },
  {
   "cell_type": "code",
   "execution_count": null,
   "id": "cf99fe97",
   "metadata": {
    "ExecuteTime": {
     "end_time": "2024-03-29T06:55:41.725295Z",
     "start_time": "2024-03-29T06:55:41.725295Z"
    }
   },
   "outputs": [],
   "source": [
    "result_unscaled = scaler_l.inverse_transform(result)\n",
    "y_test_unscaled = scaler_l.inverse_transform(y_test)"
   ]
  },
  {
   "cell_type": "markdown",
   "id": "1571020b",
   "metadata": {},
   "source": [
    "## 评估反归一化之后的结果"
   ]
  },
  {
   "cell_type": "code",
   "execution_count": null,
   "id": "2db16c0d",
   "metadata": {
    "ExecuteTime": {
     "end_time": "2024-03-29T06:55:41.726293Z",
     "start_time": "2024-03-29T06:55:41.726293Z"
    }
   },
   "outputs": [],
   "source": [
    "for i in range(0,33):\n",
    "    r2 = r2_score(y_test_unscaled[:,i],result_unscaled[:,i])\n",
    "    #print(str(depth[i])+'m R² score:',r2)\n",
    "    print('%.4f' % r2)"
   ]
  },
  {
   "cell_type": "code",
   "execution_count": null,
   "id": "bb95728f",
   "metadata": {
    "ExecuteTime": {
     "end_time": "2024-03-29T06:55:41.727292Z",
     "start_time": "2024-03-29T06:55:41.727292Z"
    }
   },
   "outputs": [],
   "source": [
    "for i in range(0,33):\n",
    "#     mse =  mean_squared_error(y_test_unscaled[:,i],result_unscaled[:,i])\n",
    "#     print(str(depth[i])+'m Test mse: %.3f' % mse)\n",
    "    rmse = sqrt(mean_squared_error(y_test_unscaled[:,i],result_unscaled[:,i]))\n",
    "    print('%.3f' % rmse)"
   ]
  },
  {
   "cell_type": "markdown",
   "id": "5aa065c9",
   "metadata": {},
   "source": [
    "# 预测结果可视化"
   ]
  },
  {
   "cell_type": "markdown",
   "id": "12b57477",
   "metadata": {},
   "source": [
    "## 为归一化之后的预测值和真实值填充nan"
   ]
  },
  {
   "cell_type": "code",
   "execution_count": null,
   "id": "597d98a7",
   "metadata": {
    "ExecuteTime": {
     "end_time": "2024-03-29T06:55:41.728290Z",
     "start_time": "2024-03-29T06:55:41.728290Z"
    }
   },
   "outputs": [],
   "source": [
    "cat_surface_depth.shape "
   ]
  },
  {
   "cell_type": "code",
   "execution_count": null,
   "id": "a778c00c",
   "metadata": {
    "ExecuteTime": {
     "end_time": "2024-03-29T06:55:41.729288Z",
     "start_time": "2024-03-29T06:55:41.729288Z"
    }
   },
   "outputs": [],
   "source": [
    "cat_surface_depth_test = np.transpose(cat_surface_depth,(1,2,0,3))\n",
    "print(cat_surface_depth_test.shape)\n",
    "cat_surface_depth_test = cat_surface_depth_test.reshape ((-1,132*38))\n",
    "print(cat_surface_depth_test.shape)"
   ]
  },
  {
   "cell_type": "code",
   "execution_count": null,
   "id": "5b1987b8",
   "metadata": {
    "ExecuteTime": {
     "end_time": "2024-03-29T06:55:41.730287Z",
     "start_time": "2024-03-29T06:55:41.730287Z"
    }
   },
   "outputs": [],
   "source": [
    "cat_surface_depth_test[cat_surface_depth_test == 32767] = np.nan\n",
    "print('cat_surface_depth_test删除nan值之前',cat_surface_depth_test.shape)\n",
    "# 使用 numpy.isnan 函数检测NaN值\n",
    "nan_mask = np.isnan(cat_surface_depth_test)"
   ]
  },
  {
   "cell_type": "code",
   "execution_count": null,
   "id": "ff223b20",
   "metadata": {
    "ExecuteTime": {
     "end_time": "2024-03-29T06:55:41.731285Z",
     "start_time": "2024-03-29T06:55:41.731285Z"
    }
   },
   "outputs": [],
   "source": [
    "nan_mask[nan_mask.any(axis=1) == True] = True   # nan为True,只要有一个通道存在nan,就都设置为nan\n",
    "nan_masks = nan_mask[:,1]    #得到图像的masks"
   ]
  },
  {
   "cell_type": "code",
   "execution_count": null,
   "id": "7ff1be82",
   "metadata": {
    "ExecuteTime": {
     "end_time": "2024-03-29T06:55:41.731285Z",
     "start_time": "2024-03-29T06:55:41.731285Z"
    }
   },
   "outputs": [],
   "source": [
    "nan_masks.shape "
   ]
  },
  {
   "cell_type": "code",
   "execution_count": null,
   "id": "c129cf08",
   "metadata": {
    "ExecuteTime": {
     "end_time": "2024-03-29T06:55:41.732284Z",
     "start_time": "2024-03-29T06:55:41.732284Z"
    }
   },
   "outputs": [],
   "source": [
    "### 创建一个形状与nan_masks相同且全是nan的数组\n",
    "testPred_with_nan = np.full((168000,12*33), np.nan)  \n",
    "print(testPred_with_nan.shape)\n",
    "\n",
    "y_test_with_nan = np.full((168000,12*33), np.nan)  \n",
    "print(y_test_with_nan.shape)"
   ]
  },
  {
   "cell_type": "code",
   "execution_count": null,
   "id": "c08d831b",
   "metadata": {
    "ExecuteTime": {
     "end_time": "2024-03-29T06:55:41.733282Z",
     "start_time": "2024-03-29T06:55:41.733282Z"
    }
   },
   "outputs": [],
   "source": [
    "result_unscaled_reshape = result_unscaled.reshape(12,-1,33)\n",
    "print(result_unscaled_reshape.shape)\n",
    "result_unscaled_reshape = np.transpose(result_unscaled_reshape,(1,0,2))\n",
    "print(result_unscaled_reshape.shape)\n",
    "result_unscaled_reshape = result_unscaled_reshape.reshape(-1,12*33)\n",
    "print(result_unscaled_reshape.shape)\n",
    "\n",
    "# ======================================== #\n",
    "y_test_unscaled_reshape = y_test_unscaled.reshape(12,-1,33)\n",
    "print(y_test_unscaled_reshape.shape)\n",
    "y_test_unscaled_reshape = np.transpose(y_test_unscaled_reshape,(1,0,2))\n",
    "print(y_test_unscaled_reshape.shape)\n",
    "y_test_unscaled_reshape = y_test_unscaled_reshape.reshape(-1,12*33)\n",
    "print(y_test_unscaled_reshape.shape)\n"
   ]
  },
  {
   "cell_type": "code",
   "execution_count": null,
   "id": "df4f93fa",
   "metadata": {
    "ExecuteTime": {
     "end_time": "2024-03-29T06:55:41.734281Z",
     "start_time": "2024-03-29T06:55:41.734281Z"
    }
   },
   "outputs": [],
   "source": [
    "y_test_unscaled.shape "
   ]
  },
  {
   "cell_type": "code",
   "execution_count": null,
   "id": "9a971489",
   "metadata": {
    "ExecuteTime": {
     "end_time": "2024-03-29T06:55:41.735279Z",
     "start_time": "2024-03-29T06:55:41.735279Z"
    }
   },
   "outputs": [],
   "source": [
    "num = 0\n",
    "for i,nan_mask in enumerate(nan_masks):   # i从0开始\n",
    "\n",
    "    if (nan_mask == False): # False 代表没有nan，使用预测值进行填充\n",
    "        testPred_with_nan[i] = result_unscaled_reshape[num]\n",
    "        y_test_with_nan[i] = y_test_unscaled_reshape[num]\n",
    "        num = num + 1\n",
    "print(num)"
   ]
  },
  {
   "cell_type": "code",
   "execution_count": null,
   "id": "a7c301e2",
   "metadata": {
    "ExecuteTime": {
     "end_time": "2024-03-29T06:55:41.736277Z",
     "start_time": "2024-03-29T06:55:41.736277Z"
    }
   },
   "outputs": [],
   "source": [
    "testPred_with_nan = testPred_with_nan.reshape(280, 600,12,33)\n",
    "testPred_with_nan = np.transpose(testPred_with_nan,(2,3,0,1))\n",
    "\n",
    "\n",
    "y_test_with_nan = y_test_with_nan.reshape(280, 600,12,33)\n",
    "y_test_with_nan = np.transpose(y_test_with_nan,(2,3,0,1))\n",
    "\n",
    "print(testPred_with_nan.shape,y_test_with_nan.shape)"
   ]
  },
  {
   "cell_type": "markdown",
   "id": "b6dfa8f2",
   "metadata": {
    "ExecuteTime": {
     "end_time": "2023-10-06T13:07:37.341964Z",
     "start_time": "2023-10-06T13:07:37.302028Z"
    }
   },
   "source": [
    "# 结果可视化"
   ]
  },
  {
   "cell_type": "code",
   "execution_count": null,
   "id": "347081c6",
   "metadata": {
    "ExecuteTime": {
     "end_time": "2024-03-29T06:55:41.737275Z",
     "start_time": "2024-03-29T06:55:41.737275Z"
    }
   },
   "outputs": [],
   "source": [
    "lat = []\n",
    "lon = []\n",
    "time = []"
   ]
  },
  {
   "cell_type": "code",
   "execution_count": null,
   "id": "8a6cb507",
   "metadata": {
    "ExecuteTime": {
     "end_time": "2024-03-29T06:55:41.738274Z",
     "start_time": "2024-03-29T06:55:41.738274Z"
    }
   },
   "outputs": [],
   "source": [
    "lon.append(data_ssh['lon'][:].data)\n",
    "lat.append(data_ssh['lat'][:].data)"
   ]
  },
  {
   "cell_type": "code",
   "execution_count": null,
   "id": "fa3a8f00",
   "metadata": {
    "ExecuteTime": {
     "end_time": "2024-03-29T06:55:41.739273Z",
     "start_time": "2024-03-29T06:55:41.739273Z"
    }
   },
   "outputs": [],
   "source": [
    "start_year = 2015\n",
    "end_year =2015\n",
    "time = []\n",
    "date_range = pd.date_range(datetime(start_year,1,1),datetime(end_year+1,1,1),freq='1M')\n",
    "len(date_range)\n",
    "for i in range(len(date_range)):\n",
    "    time.append(i)"
   ]
  },
  {
   "cell_type": "code",
   "execution_count": null,
   "id": "209e68f0",
   "metadata": {
    "ExecuteTime": {
     "end_time": "2024-03-29T06:55:41.740271Z",
     "start_time": "2024-03-29T06:55:41.740271Z"
    }
   },
   "outputs": [],
   "source": [
    "new_NC.close()"
   ]
  },
  {
   "cell_type": "code",
   "execution_count": null,
   "id": "a4751334",
   "metadata": {
    "ExecuteTime": {
     "end_time": "2024-03-29T06:55:41.742268Z",
     "start_time": "2024-03-29T06:55:41.742268Z"
    }
   },
   "outputs": [],
   "source": [
    "new_NC = nc.Dataset(\"D:/codeFile/jupyterDemo/3d_ts/BPNN/model/LSTM/result/result5_2000m_sali_LSTM.nc\", 'w', format='NETCDF4')\n",
    "\n",
    "new_NC.createDimension('lat', len(lat[0]))\n",
    "new_NC.createDimension('lon', len(lon[0]))\n",
    "new_NC.createDimension('depth', 33)\n",
    "new_NC.createDimension('time', len(time))\n",
    "\n",
    "new_NC.createVariable('lat', 'f', (\"lat\"))\n",
    "new_NC.createVariable('lon', 'f', (\"lon\"))\n",
    "new_NC.createVariable('depth', 'f', (\"depth\"))\n",
    "new_NC.createVariable('true_ss', 'f',(\"time\",\"depth\",\"lat\",\"lon\"))\n",
    "new_NC.createVariable('pred_ss', 'f',(\"time\",\"depth\",\"lat\",\"lon\"))\n",
    "\n",
    "time_var = new_NC.createVariable('time', 'f4',(\"time\"))\n",
    "time_var.units = 'months since 2015-01-15'\n",
    "time_var.long_name = 'Months in Monthly Means'\n",
    "time_var.axis = 'T'\n",
    "\n",
    "#向变量中填充数据\n",
    "new_NC.variables['lat'][:] = lat[0]\n",
    "new_NC.variables['lon'][:] = lon[0]\n",
    "new_NC.variables['time'][:] = np.array(time)\n",
    "new_NC.variables['depth'][:] = depth\n",
    "\n",
    "new_NC.variables['true_ss'][:]=np.array(y_test_with_nan)\n",
    "new_NC.variables['pred_ss'][:]=np.array(testPred_with_nan)\n",
    "\n",
    "\n",
    "#最后记得关闭文件\n",
    "new_NC.close()\n"
   ]
  },
  {
   "cell_type": "code",
   "execution_count": null,
   "id": "e2ffca64",
   "metadata": {},
   "outputs": [],
   "source": []
  }
 ],
 "metadata": {
  "kernelspec": {
   "display_name": "Python [conda env:python] *",
   "language": "python",
   "name": "conda-env-python-py"
  },
  "language_info": {
   "codemirror_mode": {
    "name": "ipython",
    "version": 3
   },
   "file_extension": ".py",
   "mimetype": "text/x-python",
   "name": "python",
   "nbconvert_exporter": "python",
   "pygments_lexer": "ipython3",
   "version": "3.8.17"
  },
  "toc": {
   "base_numbering": 1,
   "nav_menu": {},
   "number_sections": true,
   "sideBar": true,
   "skip_h1_title": false,
   "title_cell": "Table of Contents",
   "title_sidebar": "Contents",
   "toc_cell": false,
   "toc_position": {
    "height": "calc(100% - 180px)",
    "left": "10px",
    "top": "150px",
    "width": "244.4px"
   },
   "toc_section_display": true,
   "toc_window_display": true
  }
 },
 "nbformat": 4,
 "nbformat_minor": 5
}
