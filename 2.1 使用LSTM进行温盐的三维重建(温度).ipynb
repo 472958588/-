{
 "cells": [
  {
   "cell_type": "code",
   "execution_count": 112,
   "id": "24cc7c46",
   "metadata": {
    "ExecuteTime": {
     "end_time": "2023-11-01T08:43:27.905397Z",
     "start_time": "2023-11-01T08:43:27.893416Z"
    },
    "code_folding": [
     0
    ]
   },
   "outputs": [],
   "source": [
    "#导包\n",
    "from netCDF4 import Dataset\n",
    "from tensorflow.keras import layers, models\n",
    "from tensorflow.keras.layers import ConvLSTM2D,LSTM, BatchNormalization, LayerNormalization,Input, Conv3D, TimeDistributed, Flatten\n",
    "from tensorflow.keras.layers import Concatenate,Conv2D,TimeDistributed, MaxPooling2D, Input, MaxPooling3D\n",
    "from tensorflow.keras.layers import  Reshape,multiply\n",
    "from tensorflow.keras.layers import Layer,Lambda,Dot,ReLU, Dense, Dropout, Activation, Flatten,Attention\n",
    "from tensorflow.keras.utils import plot_model\n",
    "from tensorflow.keras.models import Sequential,Model,load_model\n",
    "from tensorflow.keras.optimizers import Adam,SGD\n",
    "from sklearn.model_selection import train_test_split\n",
    "from tensorflow.keras.callbacks import EarlyStopping, ModelCheckpoint\n",
    "from sklearn.preprocessing import MinMaxScaler, StandardScaler\n",
    "from tensorflow.keras.losses import MeanSquaredError\n",
    "from sklearn.metrics import r2_score,accuracy_score,precision_score\n",
    "from tensorflow.keras.metrics import RootMeanSquaredError\n",
    "from tensorflow.keras import regularizers\n",
    "import tensorflow as tf\n",
    "from datetime import datetime\n",
    "from sklearn.model_selection import cross_val_score\n",
    "from sklearn.model_selection import GridSearchCV\n",
    "from tensorflow.keras import models, layers\n",
    "from tensorflow.keras.wrappers.scikit_learn import KerasRegressor\n",
    "import tensorflow.keras as keras\n",
    "from tensorflow.keras import layers, Sequential, regularizers\n",
    "from tensorflow.keras.utils import  plot_model\n",
    "# calculate RMSE\n",
    "from sklearn.metrics import mean_squared_error\n",
    "from math import sqrt\n",
    "import pandas as pd \n",
    "import gc \n",
    "import gzip\n",
    "import matplotlib.pyplot as plt\n",
    "import numpy as np\n",
    "import netCDF4 as nc\n",
    "import match\n",
    "import xarray as xr\n",
    "import os \n",
    "%matplotlib inline"
   ]
  },
  {
   "cell_type": "code",
   "execution_count": 2,
   "id": "619adb84",
   "metadata": {
    "ExecuteTime": {
     "end_time": "2023-11-01T03:13:55.323714Z",
     "start_time": "2023-11-01T03:13:55.199913Z"
    }
   },
   "outputs": [
    {
     "data": {
      "text/plain": [
       "1"
      ]
     },
     "execution_count": 2,
     "metadata": {},
     "output_type": "execute_result"
    }
   ],
   "source": [
    "# 检查可用GPU数量\n",
    "len(tf.config.experimental.list_physical_devices('GPU'))"
   ]
  },
  {
   "cell_type": "markdown",
   "id": "f580b19d",
   "metadata": {},
   "source": [
    "# 读取数据"
   ]
  },
  {
   "cell_type": "markdown",
   "id": "a969a48c",
   "metadata": {},
   "source": [
    "## SSH"
   ]
  },
  {
   "cell_type": "code",
   "execution_count": 3,
   "id": "a2879bf4",
   "metadata": {
    "ExecuteTime": {
     "end_time": "2023-11-01T03:13:55.333698Z",
     "start_time": "2023-11-01T03:13:55.324712Z"
    }
   },
   "outputs": [],
   "source": [
    "data_ssh = nc.Dataset(r'D:/codeFile/jupyterDemo/3d_ts/BPNN/data/SSH/SSH_2005-2015_month.nc')"
   ]
  },
  {
   "cell_type": "code",
   "execution_count": 4,
   "id": "8d073208",
   "metadata": {
    "ExecuteTime": {
     "end_time": "2023-11-01T03:13:55.341685Z",
     "start_time": "2023-11-01T03:13:55.334696Z"
    }
   },
   "outputs": [
    {
     "name": "stdout",
     "output_type": "stream",
     "text": [
      "132\n"
     ]
    }
   ],
   "source": [
    "time_ssh = data_ssh['time'][:]\n",
    "print(len(time_ssh))"
   ]
  },
  {
   "cell_type": "code",
   "execution_count": 5,
   "id": "601b1b6d",
   "metadata": {
    "ExecuteTime": {
     "end_time": "2023-11-01T03:13:55.346677Z",
     "start_time": "2023-11-01T03:13:55.342683Z"
    },
    "scrolled": false
   },
   "outputs": [],
   "source": [
    "# 查看研究区域经纬度\n",
    "ssh_lat = data_ssh['lat'][:].data\n",
    "#print(ssh_lat[:])\n",
    "ssh_lon = data_ssh['lon'][:].data\n",
    "#print(ssh_lon[:])"
   ]
  },
  {
   "cell_type": "code",
   "execution_count": 6,
   "id": "e1e7d608",
   "metadata": {
    "ExecuteTime": {
     "end_time": "2023-11-01T03:13:55.415566Z",
     "start_time": "2023-11-01T03:13:55.347676Z"
    }
   },
   "outputs": [
    {
     "name": "stdout",
     "output_type": "stream",
     "text": [
      "(132, 280, 600)\n"
     ]
    }
   ],
   "source": [
    "ssh = data_ssh['ssh'][:].data\n",
    "print(ssh.shape)"
   ]
  },
  {
   "cell_type": "code",
   "execution_count": 7,
   "id": "0c26b86a",
   "metadata": {
    "ExecuteTime": {
     "end_time": "2023-11-01T03:13:55.492442Z",
     "start_time": "2023-11-01T03:13:55.416564Z"
    }
   },
   "outputs": [
    {
     "data": {
      "text/plain": [
       "(2.20051, -0.43673334)"
      ]
     },
     "execution_count": 7,
     "metadata": {},
     "output_type": "execute_result"
    }
   ],
   "source": [
    "np.nanmax(ssh),np.nanmin(ssh)"
   ]
  },
  {
   "cell_type": "markdown",
   "id": "203facec",
   "metadata": {},
   "source": [
    "## SSS"
   ]
  },
  {
   "cell_type": "code",
   "execution_count": 8,
   "id": "7fde41f7",
   "metadata": {
    "ExecuteTime": {
     "end_time": "2023-11-01T03:13:55.497434Z",
     "start_time": "2023-11-01T03:13:55.493441Z"
    }
   },
   "outputs": [],
   "source": [
    "data_sss = nc.Dataset(r'D:/codeFile/jupyterDemo/3d_ts/BPNN/data/SSS/dataset-sss-ssd-rep-monthly_2005-2020.nc')"
   ]
  },
  {
   "cell_type": "code",
   "execution_count": 9,
   "id": "97c14ff6",
   "metadata": {
    "ExecuteTime": {
     "end_time": "2023-11-01T03:13:55.502426Z",
     "start_time": "2023-11-01T03:13:55.498433Z"
    }
   },
   "outputs": [
    {
     "name": "stdout",
     "output_type": "stream",
     "text": [
      "132\n"
     ]
    }
   ],
   "source": [
    "# 确定时间\n",
    "time_sss = data_sss['time'][:132]\n",
    "print(len(time_sss))"
   ]
  },
  {
   "cell_type": "code",
   "execution_count": 10,
   "id": "463ec7e5",
   "metadata": {
    "ExecuteTime": {
     "end_time": "2023-11-01T03:13:55.508416Z",
     "start_time": "2023-11-01T03:13:55.504423Z"
    }
   },
   "outputs": [],
   "source": [
    "# 获取研究位置经纬度\n",
    "sss_lat = data_sss['lat'][:].data\n",
    "#print(sss_lat[:])\n",
    "sss_lon = data_sss['lon'][:].data\n",
    "#print(sss_lon[:])"
   ]
  },
  {
   "cell_type": "code",
   "execution_count": 11,
   "id": "778ef529",
   "metadata": {
    "ExecuteTime": {
     "end_time": "2023-11-01T03:13:55.621235Z",
     "start_time": "2023-11-01T03:13:55.509415Z"
    }
   },
   "outputs": [
    {
     "name": "stdout",
     "output_type": "stream",
     "text": [
      "(132, 1, 280, 600)\n",
      "(132, 280, 600)\n"
     ]
    }
   ],
   "source": [
    "sss = data_sss['sos'][:132].data \n",
    "print(sss.shape)\n",
    "sss = np.squeeze(sss) # 移除大小为一的维度\n",
    "print(sss.shape)"
   ]
  },
  {
   "cell_type": "code",
   "execution_count": 12,
   "id": "b1e08930",
   "metadata": {
    "ExecuteTime": {
     "end_time": "2023-11-01T03:13:55.696114Z",
     "start_time": "2023-11-01T03:13:55.622233Z"
    }
   },
   "outputs": [
    {
     "data": {
      "text/plain": [
       "(36.072178, 13.604756)"
      ]
     },
     "execution_count": 12,
     "metadata": {},
     "output_type": "execute_result"
    }
   ],
   "source": [
    "np.nanmax(sss),np.nanmin(sss)"
   ]
  },
  {
   "cell_type": "markdown",
   "id": "12d5c8e2",
   "metadata": {},
   "source": [
    "## SSW"
   ]
  },
  {
   "cell_type": "code",
   "execution_count": 13,
   "id": "d026b883",
   "metadata": {
    "ExecuteTime": {
     "end_time": "2023-11-01T03:13:55.703103Z",
     "start_time": "2023-11-01T03:13:55.697113Z"
    }
   },
   "outputs": [],
   "source": [
    "data_ssw = nc.Dataset(r'D:/codeFile/jupyterDemo/3d_ts/BPNN/data/SSW/anon_ssw_2005_2018_Month_data.nc')"
   ]
  },
  {
   "cell_type": "code",
   "execution_count": 14,
   "id": "a09f6f8d",
   "metadata": {
    "ExecuteTime": {
     "end_time": "2023-11-01T03:13:55.708095Z",
     "start_time": "2023-11-01T03:13:55.704101Z"
    }
   },
   "outputs": [
    {
     "name": "stdout",
     "output_type": "stream",
     "text": [
      "132\n"
     ]
    }
   ],
   "source": [
    "# 确定时间\n",
    "time_ssw = data_ssw['time'][:132]\n",
    "print(len(time_ssw))"
   ]
  },
  {
   "cell_type": "code",
   "execution_count": 15,
   "id": "447b145c",
   "metadata": {
    "ExecuteTime": {
     "end_time": "2023-11-01T03:13:55.713087Z",
     "start_time": "2023-11-01T03:13:55.709093Z"
    }
   },
   "outputs": [],
   "source": [
    "lat_ssw = data_ssw['lat'][:].data\n",
    "#print(lat_ssw[314:594])\n",
    "lon_ssw = data_ssw['lon'][:].data\n",
    "#print(lon_ssw[440:1040])\n",
    "\n",
    "# lat 0.125    ----    69.875\n",
    "# lon  110.125    ----    259.875"
   ]
  },
  {
   "cell_type": "code",
   "execution_count": 16,
   "id": "68eef6fa",
   "metadata": {
    "ExecuteTime": {
     "end_time": "2023-11-01T03:13:55.923748Z",
     "start_time": "2023-11-01T03:13:55.714085Z"
    }
   },
   "outputs": [],
   "source": [
    "uwnd = data_ssw['uwnd'][:132,314:594,440:1040].data  \n",
    "vwnd = data_ssw['vwnd'][:132,314:594,440:1040].data"
   ]
  },
  {
   "cell_type": "code",
   "execution_count": 17,
   "id": "83cf7d8a",
   "metadata": {
    "ExecuteTime": {
     "end_time": "2023-11-01T03:13:55.928740Z",
     "start_time": "2023-11-01T03:13:55.924746Z"
    }
   },
   "outputs": [
    {
     "name": "stdout",
     "output_type": "stream",
     "text": [
      "(132, 280, 600)\n",
      "(132, 280, 600)\n"
     ]
    }
   ],
   "source": [
    "print(uwnd.shape)\n",
    "print(vwnd.shape)"
   ]
  },
  {
   "cell_type": "code",
   "execution_count": 18,
   "id": "c5c8a2cd",
   "metadata": {
    "ExecuteTime": {
     "end_time": "2023-11-01T03:13:55.987645Z",
     "start_time": "2023-11-01T03:13:55.929738Z"
    }
   },
   "outputs": [
    {
     "data": {
      "text/plain": [
       "(12.433594, -11.7988205, 8.8359995, -13.645481)"
      ]
     },
     "execution_count": 18,
     "metadata": {},
     "output_type": "execute_result"
    }
   ],
   "source": [
    "np.nanmax(uwnd),np.nanmin(uwnd),np.nanmax(vwnd),np.nanmin(vwnd)"
   ]
  },
  {
   "cell_type": "markdown",
   "id": "4334792f",
   "metadata": {},
   "source": [
    "## 3DT"
   ]
  },
  {
   "cell_type": "code",
   "execution_count": 19,
   "id": "e02ac03d",
   "metadata": {
    "ExecuteTime": {
     "end_time": "2023-11-01T03:13:55.992637Z",
     "start_time": "2023-11-01T03:13:55.988643Z"
    }
   },
   "outputs": [],
   "source": [
    "data_3dt_1 = nc.Dataset(r'D:/codeFile/jupyterDemo/3d_ts/BPNN/data/3DT/dataset-armor-3d-rep-monthly_2005-2009.nc')\n",
    "data_3dt_2 = nc.Dataset(r'D:/codeFile/jupyterDemo/3d_ts/BPNN/data/3DT/dataset-armor-3d-rep-monthly_2010-2015.nc')"
   ]
  },
  {
   "cell_type": "code",
   "execution_count": 20,
   "id": "c15b88bd",
   "metadata": {
    "ExecuteTime": {
     "end_time": "2023-11-01T03:14:09.095536Z",
     "start_time": "2023-11-01T03:13:55.993635Z"
    }
   },
   "outputs": [],
   "source": [
    "sst_1 = data_3dt_1['to'][:].data\n",
    "sst_2 = data_3dt_2['to'][:].data"
   ]
  },
  {
   "cell_type": "code",
   "execution_count": 21,
   "id": "96f1a109",
   "metadata": {
    "ExecuteTime": {
     "end_time": "2023-11-01T03:14:09.100528Z",
     "start_time": "2023-11-01T03:14:09.096535Z"
    }
   },
   "outputs": [
    {
     "name": "stdout",
     "output_type": "stream",
     "text": [
      "(60, 43, 280, 600)\n",
      "(72, 43, 280, 600)\n"
     ]
    }
   ],
   "source": [
    "print(sst_1.shape)\n",
    "print(sst_2.shape)"
   ]
  },
  {
   "cell_type": "markdown",
   "id": "856d9df5",
   "metadata": {},
   "source": [
    "###  30 - 2000m 温度数据"
   ]
  },
  {
   "cell_type": "code",
   "execution_count": 22,
   "id": "aad4e347",
   "metadata": {
    "ExecuteTime": {
     "end_time": "2023-11-01T03:14:12.088717Z",
     "start_time": "2023-11-01T03:14:09.101527Z"
    }
   },
   "outputs": [
    {
     "name": "stdout",
     "output_type": "stream",
     "text": [
      "(132, 43, 280, 600)\n"
     ]
    }
   ],
   "source": [
    "temp_depth = np.append(sst_1,sst_2,axis=0)\n",
    "print(temp_depth.shape)"
   ]
  },
  {
   "cell_type": "code",
   "execution_count": 23,
   "id": "98f2e6ad",
   "metadata": {
    "ExecuteTime": {
     "end_time": "2023-11-01T03:14:12.094707Z",
     "start_time": "2023-11-01T03:14:12.089715Z"
    }
   },
   "outputs": [],
   "source": [
    "depths = [0,5,10,15,20,25,30,35,40,45,50,55,60,65,70,80,90,100,125,150,175,200,225,250,275,300,350,400,\n",
    "         450,500,550,600,700,800,900,1000,1100,1200,1300,1400,1500,1750,2000]\n",
    "depths_use = [50,100,125,150,200,250,300,400,500,600,700,800,900,1000]"
   ]
  },
  {
   "cell_type": "code",
   "execution_count": 24,
   "id": "340dd8d6",
   "metadata": {
    "ExecuteTime": {
     "end_time": "2023-11-01T03:14:12.099699Z",
     "start_time": "2023-11-01T03:14:12.095705Z"
    }
   },
   "outputs": [],
   "source": [
    "temp_depth_use = temp_depth[:,6:7]"
   ]
  },
  {
   "cell_type": "code",
   "execution_count": 25,
   "id": "a693fa1b",
   "metadata": {
    "ExecuteTime": {
     "end_time": "2023-11-01T03:14:22.738566Z",
     "start_time": "2023-11-01T03:14:12.100697Z"
    }
   },
   "outputs": [],
   "source": [
    "for i,depth in enumerate(depths):\n",
    "    if(depth in depths_use):\n",
    "        #print(depths[i])\n",
    "        temp_depth_use = np.concatenate((temp_depth_use,temp_depth[:,i:i+1]),axis=1)    "
   ]
  },
  {
   "cell_type": "code",
   "execution_count": 26,
   "id": "a271c345",
   "metadata": {
    "ExecuteTime": {
     "end_time": "2023-11-01T03:14:22.744557Z",
     "start_time": "2023-11-01T03:14:22.739565Z"
    }
   },
   "outputs": [
    {
     "name": "stdout",
     "output_type": "stream",
     "text": [
      "(132, 15, 280, 600)\n",
      "(132, 280, 600, 15)\n"
     ]
    }
   ],
   "source": [
    "print(temp_depth_use.shape)\n",
    "temp_depth_use = np.transpose(temp_depth_use, ( 0, 2,3,1))\n",
    "print(temp_depth_use.shape)"
   ]
  },
  {
   "cell_type": "markdown",
   "id": "f2c9055f",
   "metadata": {},
   "source": [
    "### SST表面温度数据"
   ]
  },
  {
   "cell_type": "code",
   "execution_count": 27,
   "id": "6234b015",
   "metadata": {
    "ExecuteTime": {
     "end_time": "2023-11-01T03:14:22.749549Z",
     "start_time": "2023-11-01T03:14:22.745556Z"
    }
   },
   "outputs": [],
   "source": [
    "sst = temp_depth[:,0:1,:,:]"
   ]
  },
  {
   "cell_type": "code",
   "execution_count": 28,
   "id": "2f16fbe9",
   "metadata": {
    "ExecuteTime": {
     "end_time": "2023-11-01T03:14:22.757536Z",
     "start_time": "2023-11-01T03:14:22.753542Z"
    }
   },
   "outputs": [
    {
     "name": "stdout",
     "output_type": "stream",
     "text": [
      "(132, 280, 600)\n"
     ]
    }
   ],
   "source": [
    "sst = np.squeeze(sst)\n",
    "print(sst.shape)"
   ]
  },
  {
   "cell_type": "markdown",
   "id": "79fe4126",
   "metadata": {},
   "source": [
    "## 数据合并"
   ]
  },
  {
   "cell_type": "code",
   "execution_count": 29,
   "id": "dd1ca4c6",
   "metadata": {
    "ExecuteTime": {
     "end_time": "2023-11-01T03:14:23.329615Z",
     "start_time": "2023-11-01T03:14:22.758535Z"
    }
   },
   "outputs": [
    {
     "name": "stdout",
     "output_type": "stream",
     "text": [
      "(132, 280, 600) (132, 280, 600) (132, 280, 600) (132, 280, 600) (132, 280, 600)\n"
     ]
    },
    {
     "data": {
      "text/plain": [
       "(132, 280, 600, 5)"
      ]
     },
     "execution_count": 29,
     "metadata": {},
     "output_type": "execute_result"
    }
   ],
   "source": [
    "print(ssh.shape,sss.shape,uwnd.shape,vwnd.shape,sst.shape)\n",
    "cat_data =np.stack((ssh,sss,uwnd,vwnd,sst),axis=3)\n",
    "cat_data.shape"
   ]
  },
  {
   "cell_type": "code",
   "execution_count": 30,
   "id": "31946f16",
   "metadata": {
    "ExecuteTime": {
     "end_time": "2023-11-01T03:14:24.792259Z",
     "start_time": "2023-11-01T03:14:23.330613Z"
    }
   },
   "outputs": [],
   "source": [
    "# 将表面数据和水下数据在最后一个维度拼接，将空值删除。\n",
    "cat_data_ss_depth = np.concatenate((cat_data,temp_depth_use),axis=-1)"
   ]
  },
  {
   "cell_type": "code",
   "execution_count": 31,
   "id": "3f4b2121",
   "metadata": {
    "ExecuteTime": {
     "end_time": "2023-11-01T03:14:24.798250Z",
     "start_time": "2023-11-01T03:14:24.793258Z"
    }
   },
   "outputs": [
    {
     "data": {
      "text/plain": [
       "(132, 280, 600, 20)"
      ]
     },
     "execution_count": 31,
     "metadata": {},
     "output_type": "execute_result"
    }
   ],
   "source": [
    "cat_data_ss_depth.shape "
   ]
  },
  {
   "cell_type": "markdown",
   "id": "6539202b",
   "metadata": {
    "ExecuteTime": {
     "end_time": "2023-10-08T07:54:27.397519Z",
     "start_time": "2023-10-08T07:54:27.393526Z"
    }
   },
   "source": [
    "## 将两个温度异常区域的数据设置为nan"
   ]
  },
  {
   "cell_type": "code",
   "execution_count": 32,
   "id": "1a958aaf",
   "metadata": {
    "ExecuteTime": {
     "end_time": "2023-11-01T03:14:24.874128Z",
     "start_time": "2023-11-01T03:14:24.799248Z"
    }
   },
   "outputs": [],
   "source": [
    "test = temp_depth_use[:,:,:,14:]\n",
    "test[test < 0.4] = np.nan\n",
    "test[test > 10] = np.nan"
   ]
  },
  {
   "cell_type": "code",
   "execution_count": 33,
   "id": "6155394a",
   "metadata": {
    "ExecuteTime": {
     "end_time": "2023-11-01T03:14:25.106753Z",
     "start_time": "2023-11-01T03:14:24.875126Z"
    }
   },
   "outputs": [],
   "source": [
    "cat_data_ss_depth[:,:,:,19:] = test"
   ]
  },
  {
   "cell_type": "code",
   "execution_count": 34,
   "id": "10f15c0b",
   "metadata": {
    "ExecuteTime": {
     "end_time": "2023-11-01T03:14:25.112744Z",
     "start_time": "2023-11-01T03:14:25.107752Z"
    }
   },
   "outputs": [
    {
     "data": {
      "text/plain": [
       "(132, 280, 600, 20)"
      ]
     },
     "execution_count": 34,
     "metadata": {},
     "output_type": "execute_result"
    }
   ],
   "source": [
    "cat_data_ss_depth.shape "
   ]
  },
  {
   "cell_type": "markdown",
   "id": "b2596fa1",
   "metadata": {},
   "source": [
    "## 去掉合并数据中的nan\n"
   ]
  },
  {
   "cell_type": "code",
   "execution_count": 35,
   "id": "119f831a",
   "metadata": {
    "ExecuteTime": {
     "end_time": "2023-11-01T03:14:26.550428Z",
     "start_time": "2023-11-01T03:14:25.113742Z"
    }
   },
   "outputs": [
    {
     "name": "stdout",
     "output_type": "stream",
     "text": [
      "(280, 600, 132, 20)\n",
      "(168000, 2640)\n"
     ]
    }
   ],
   "source": [
    "## 先对合并的数据进行reshape成（长*宽，时间，通道）\n",
    "cat_data_ss_depth_reshape  = np.transpose(cat_data_ss_depth,(1,2,0,3))\n",
    "print(cat_data_ss_depth_reshape.shape)\n",
    "cat_data_ss_depth_reshape = cat_data_ss_depth_reshape.reshape ((-1,132*20))\n",
    "print(cat_data_ss_depth_reshape.shape)"
   ]
  },
  {
   "cell_type": "code",
   "execution_count": 36,
   "id": "cb75b4fa",
   "metadata": {
    "ExecuteTime": {
     "end_time": "2023-11-01T03:14:28.513268Z",
     "start_time": "2023-11-01T03:14:26.551427Z"
    }
   },
   "outputs": [
    {
     "name": "stdout",
     "output_type": "stream",
     "text": [
      "cat_data_ss_depth_reshape删除nan值之前 (168000, 2640)\n",
      "cat_data_ss_depth_reshape删除nan值之后 (106050, 2640)\n"
     ]
    }
   ],
   "source": [
    "# 将填充值赋值为nan\n",
    "cat_data_ss_depth_reshape[cat_data_ss_depth_reshape == 32767] = np.nan\n",
    "print('cat_data_ss_depth_reshape删除nan值之前',cat_data_ss_depth_reshape.shape)\n",
    "# 使用 numpy.isnan 函数检测NaN值\n",
    "nan_mask = np.isnan(cat_data_ss_depth_reshape)\n",
    "# 通过布尔索引删除NaN值\n",
    "cat_data_ss_depth_reshape_without_nan = cat_data_ss_depth_reshape[~nan_mask.any(axis=1)]   \n",
    "# ~nan_mask.any(axis=1)只要第一个维度中含有False就会返回False\n",
    "print('cat_data_ss_depth_reshape删除nan值之后',cat_data_ss_depth_reshape_without_nan.shape)"
   ]
  },
  {
   "cell_type": "code",
   "execution_count": 37,
   "id": "e15bafbf",
   "metadata": {
    "ExecuteTime": {
     "end_time": "2023-11-01T03:14:28.519258Z",
     "start_time": "2023-11-01T03:14:28.514266Z"
    }
   },
   "outputs": [
    {
     "name": "stdout",
     "output_type": "stream",
     "text": [
      "(106050, 132, 20)\n",
      "(132, 106050, 20)\n"
     ]
    }
   ],
   "source": [
    "cat_data_ss_depth_reshape_without_nan = cat_data_ss_depth_reshape_without_nan.reshape(-1,132,20)\n",
    "print(cat_data_ss_depth_reshape_without_nan.shape)\n",
    "cat_data_ss_depth_reshape_without_nan = np.transpose(cat_data_ss_depth_reshape_without_nan,(1,0,2))\n",
    "print(cat_data_ss_depth_reshape_without_nan.shape)"
   ]
  },
  {
   "cell_type": "markdown",
   "id": "4e6a1f81",
   "metadata": {},
   "source": [
    "## 将数据进行堆叠"
   ]
  },
  {
   "cell_type": "code",
   "execution_count": 38,
   "id": "6c89cddb",
   "metadata": {
    "ExecuteTime": {
     "end_time": "2023-11-01T03:14:28.671014Z",
     "start_time": "2023-11-01T03:14:28.520256Z"
    }
   },
   "outputs": [
    {
     "name": "stdout",
     "output_type": "stream",
     "text": [
      "(132, 106050, 5) (132, 106050, 15)\n"
     ]
    }
   ],
   "source": [
    "cat_data_ss_depth_reshape_without_nan.shape\n",
    "cat_data = cat_data_ss_depth_reshape_without_nan[:,:,:5]\n",
    "temp_depth_use = cat_data_ss_depth_reshape_without_nan[:,:,5:]\n",
    "print(cat_data.shape,temp_depth_use.shape)"
   ]
  },
  {
   "cell_type": "code",
   "execution_count": 39,
   "id": "e95fefb9",
   "metadata": {
    "ExecuteTime": {
     "end_time": "2023-11-01T03:14:33.744843Z",
     "start_time": "2023-11-01T03:14:28.672012Z"
    }
   },
   "outputs": [
    {
     "name": "stdout",
     "output_type": "stream",
     "text": [
      "(127, 6, 106050, 5)\n",
      "(127, 1, 106050, 15)\n"
     ]
    }
   ],
   "source": [
    "available = len(cat_data) \n",
    "predict = 1\n",
    "\n",
    "cat_data_shape = cat_data.shape[1:]\n",
    "temp_depth_use_shape = temp_depth_use.shape[1:]\n",
    "\n",
    "N_stack = 6  # 时间步长度\n",
    "\n",
    "X_len = available - (N_stack-1)\n",
    "Y_len = X_len\n",
    "\n",
    "X = np.zeros(shape = (X_len, N_stack,cat_data_shape[0],cat_data_shape[1]))  \n",
    "for i in range(X_len):\n",
    "    X[i] = np.stack(cat_data[i:i+N_stack])\n",
    "    #print(i)\n",
    "\n",
    "Y = np.zeros(shape = (Y_len,predict,temp_depth_use_shape[0],temp_depth_use_shape[1]))\n",
    "for i in range(Y_len):\n",
    "    Y[i] = np.stack(temp_depth_use[i+N_stack-1 : i+N_stack-1+predict])\n",
    "   # print(i+N_stack-1)\n",
    "\n",
    "print(X.shape)\n",
    "print(Y.shape)"
   ]
  },
  {
   "cell_type": "markdown",
   "id": "23cadaf1",
   "metadata": {},
   "source": [
    "# 验证集和测试集的划分"
   ]
  },
  {
   "cell_type": "code",
   "execution_count": 40,
   "id": "ce22e0d5",
   "metadata": {
    "ExecuteTime": {
     "end_time": "2023-11-01T03:14:33.749835Z",
     "start_time": "2023-11-01T03:14:33.745842Z"
    }
   },
   "outputs": [],
   "source": [
    "# 最后十二个月的数据作为test\n",
    "test_num = 115\n",
    "x_train = X[:test_num]\n",
    "y_train = Y[:test_num]\n",
    "\n",
    "x_test = X[test_num:]\n",
    "y_test = Y[test_num:]"
   ]
  },
  {
   "cell_type": "code",
   "execution_count": 41,
   "id": "08307c9e",
   "metadata": {
    "ExecuteTime": {
     "end_time": "2023-11-01T03:14:33.755825Z",
     "start_time": "2023-11-01T03:14:33.750833Z"
    }
   },
   "outputs": [
    {
     "data": {
      "text/plain": [
       "((115, 6, 106050, 5),\n",
       " (115, 1, 106050, 15),\n",
       " (12, 6, 106050, 5),\n",
       " (12, 1, 106050, 15))"
      ]
     },
     "execution_count": 41,
     "metadata": {},
     "output_type": "execute_result"
    }
   ],
   "source": [
    "x_train.shape,y_train.shape,x_test.shape,y_test.shape "
   ]
  },
  {
   "cell_type": "markdown",
   "id": "e39d54ff",
   "metadata": {},
   "source": [
    "## 修改维度"
   ]
  },
  {
   "cell_type": "code",
   "execution_count": 42,
   "id": "62e8804e",
   "metadata": {
    "ExecuteTime": {
     "end_time": "2023-11-01T03:14:34.843075Z",
     "start_time": "2023-11-01T03:14:33.756824Z"
    }
   },
   "outputs": [
    {
     "name": "stdout",
     "output_type": "stream",
     "text": [
      "(12195750, 6, 5) (12195750, 1, 15) (1272600, 6, 5) (1272600, 1, 15)\n"
     ]
    }
   ],
   "source": [
    "x_train = np.transpose(x_train, (0,2,1,3))   #(个数，尺度，时间，通道)\n",
    "x_train = x_train.reshape((-1,6,5))          #(个数*尺度，时间，通道)\n",
    "\n",
    "y_train = np.transpose(y_train, (0,2,1,3))\n",
    "y_train = y_train.reshape((-1,1,15))\n",
    "\n",
    "x_test = np.transpose(x_test, (0,2,1,3))\n",
    "x_test = x_test.reshape((-1,6,5))\n",
    "\n",
    "y_test = np.transpose(y_test, (0,2,1,3))\n",
    "y_test = y_test.reshape((-1,1,15))\n",
    "print(x_train.shape,y_train.shape,x_test.shape,y_test.shape)"
   ]
  },
  {
   "cell_type": "markdown",
   "id": "82145a06",
   "metadata": {
    "ExecuteTime": {
     "end_time": "2023-09-27T11:16:55.407824Z",
     "start_time": "2023-09-27T11:16:55.403831Z"
    }
   },
   "source": [
    "## 划分训练数据和目标数据"
   ]
  },
  {
   "cell_type": "code",
   "execution_count": 43,
   "id": "ef288642",
   "metadata": {
    "ExecuteTime": {
     "end_time": "2023-11-01T03:14:34.848067Z",
     "start_time": "2023-11-01T03:14:34.844073Z"
    }
   },
   "outputs": [
    {
     "name": "stdout",
     "output_type": "stream",
     "text": [
      "x_test.shape: (1272600, 6, 5)\n",
      "y_test.shape (1272600, 1, 15)\n",
      "x_train (12195750, 6, 5)\n",
      "y_train (12195750, 1, 15)\n"
     ]
    }
   ],
   "source": [
    "print('x_test.shape:',x_test.shape)\n",
    "print('y_test.shape',y_test.shape)\n",
    "print('x_train',x_train.shape)\n",
    "print('y_train',y_train.shape)"
   ]
  },
  {
   "cell_type": "code",
   "execution_count": 44,
   "id": "57afe328",
   "metadata": {
    "ExecuteTime": {
     "end_time": "2023-11-01T03:14:38.528141Z",
     "start_time": "2023-11-01T03:14:34.849065Z"
    }
   },
   "outputs": [],
   "source": [
    "x_train, x_val, y_train, y_val = train_test_split(x_train, y_train, test_size=0.3, random_state=100)"
   ]
  },
  {
   "cell_type": "code",
   "execution_count": 45,
   "id": "56fdc0c1",
   "metadata": {
    "ExecuteTime": {
     "end_time": "2023-11-01T03:14:38.535130Z",
     "start_time": "2023-11-01T03:14:38.529139Z"
    }
   },
   "outputs": [
    {
     "data": {
      "text/plain": [
       "((8537025, 6, 5),\n",
       " (1272600, 6, 5),\n",
       " (3658725, 6, 5),\n",
       " (8537025, 1, 15),\n",
       " (1272600, 1, 15),\n",
       " (3658725, 1, 15))"
      ]
     },
     "execution_count": 45,
     "metadata": {},
     "output_type": "execute_result"
    }
   ],
   "source": [
    "x_train.shape,x_test.shape,x_val.shape,y_train.shape,y_test.shape,y_val.shape"
   ]
  },
  {
   "cell_type": "markdown",
   "id": "4adfdb57",
   "metadata": {},
   "source": [
    "# 特征归一化"
   ]
  },
  {
   "cell_type": "code",
   "execution_count": 46,
   "id": "f1c552a0",
   "metadata": {
    "ExecuteTime": {
     "end_time": "2023-11-01T03:14:38.539123Z",
     "start_time": "2023-11-01T03:14:38.536128Z"
    }
   },
   "outputs": [],
   "source": [
    "#y_test_shape"
   ]
  },
  {
   "cell_type": "code",
   "execution_count": 47,
   "id": "0e7a1057",
   "metadata": {
    "ExecuteTime": {
     "end_time": "2023-11-01T03:14:38.544115Z",
     "start_time": "2023-11-01T03:14:38.540122Z"
    },
    "code_folding": []
   },
   "outputs": [],
   "source": [
    "# 记录数据集的形状\n",
    "x_train_shape = x_train.shape\n",
    "y_train_shape = y_train.shape\n",
    "\n",
    "x_test_shape = x_test.shape\n",
    "y_test_shape = y_test.shape\n",
    "\n",
    "x_val_shape = x_val.shape\n",
    "y_val_shape = y_val.shape"
   ]
  },
  {
   "cell_type": "code",
   "execution_count": 48,
   "id": "9e19fa83",
   "metadata": {
    "ExecuteTime": {
     "end_time": "2023-11-01T03:14:48.770648Z",
     "start_time": "2023-11-01T03:14:38.545114Z"
    }
   },
   "outputs": [],
   "source": [
    "scaler_f = StandardScaler()\n",
    "x_train = scaler_f.fit_transform(x_train.reshape(-1,x_train_shape[2])) \n",
    "x_test = scaler_f.transform(x_test.reshape(-1,x_test_shape[2]))\n",
    "x_val = scaler_f.transform(x_val.reshape(-1,x_val_shape[2]))\n",
    "\n",
    "scaler_l = StandardScaler()\n",
    "y_train = scaler_l.fit_transform(y_train.reshape(-1,y_train_shape[2])) \n",
    "y_test = scaler_l.transform(y_test.reshape(-1,y_test_shape[2])) \n",
    "y_val = scaler_l.transform(y_val.reshape(-1,y_val_shape[2])) "
   ]
  },
  {
   "cell_type": "code",
   "execution_count": 49,
   "id": "5efe52e7",
   "metadata": {
    "ExecuteTime": {
     "end_time": "2023-11-01T03:14:48.776639Z",
     "start_time": "2023-11-01T03:14:48.771647Z"
    }
   },
   "outputs": [],
   "source": [
    "x_train = np.reshape(x_train,(x_train_shape))\n",
    "x_test = np.reshape(x_test,(x_test_shape))\n",
    "x_val = np.reshape(x_val,(x_val_shape))\n",
    "y_train = np.reshape(y_train,(y_train_shape[0],-1))\n",
    "y_test = np.reshape(y_test,(y_test_shape[0],-1))\n",
    "y_val = np.reshape(y_val,(y_val_shape[0],-1))"
   ]
  },
  {
   "cell_type": "code",
   "execution_count": 50,
   "id": "5cd9d9f6",
   "metadata": {
    "ExecuteTime": {
     "end_time": "2023-11-01T03:14:48.782629Z",
     "start_time": "2023-11-01T03:14:48.777637Z"
    }
   },
   "outputs": [
    {
     "data": {
      "text/plain": [
       "((8537025, 6, 5),\n",
       " (1272600, 6, 5),\n",
       " (3658725, 6, 5),\n",
       " (8537025, 15),\n",
       " (1272600, 15),\n",
       " (3658725, 15))"
      ]
     },
     "execution_count": 50,
     "metadata": {},
     "output_type": "execute_result"
    }
   ],
   "source": [
    "x_train.shape,x_test.shape,x_val.shape,y_train.shape,y_test.shape,y_val.shape"
   ]
  },
  {
   "cell_type": "markdown",
   "id": "82214b18",
   "metadata": {},
   "source": [
    "# 定义网络结构"
   ]
  },
  {
   "cell_type": "code",
   "execution_count": 51,
   "id": "b4c3ed24",
   "metadata": {
    "ExecuteTime": {
     "end_time": "2023-11-01T03:14:48.786622Z",
     "start_time": "2023-11-01T03:14:48.783627Z"
    }
   },
   "outputs": [],
   "source": [
    "#  model2_input= Input(shape=(6,5))\n",
    "#     x2 = MHA1(model2_input,model2_input)\n",
    "#     x2 = LSTM(64, return_sequences=True)(x2)   \n",
    "#     x2 = Dropout(0.2)(x2)\n",
    "    \n",
    "#     x2 = MHA2(x2,x2)\n",
    "#     x2 = LSTM(32, return_sequences=True)(x2)\n",
    "#     x2 = Dropout(0.2)(x2)\n",
    "# #\n",
    "#     x2 = MHA3(x2,x2)\n",
    "#     x2 = Flatten()(x2)\n",
    "#     out2 = Dense(1)(x2)"
   ]
  },
  {
   "cell_type": "code",
   "execution_count": 52,
   "id": "f0b4b369",
   "metadata": {
    "ExecuteTime": {
     "end_time": "2023-11-01T03:14:48.791614Z",
     "start_time": "2023-11-01T03:14:48.787621Z"
    },
    "code_folding": []
   },
   "outputs": [],
   "source": [
    "#  MHA2 = tf.keras.layers.MultiHeadAttention(num_heads=8, key_dim=8)\n",
    "#     MHA3 = tf.keras.layers.MultiHeadAttention(num_heads=8, key_dim=4)\n",
    "    \n",
    "    \n",
    "#     model2_input= Input(shape=(6,5))\n",
    "\n",
    "#     x2 = LSTM(64, return_sequences=True)(model2_input)   \n",
    "#     x2 = Dropout(0.2)(x2)\n",
    "    \n",
    "#     mha2 = MHA2(x2,x2)\n",
    "#     x2 = tf.keras.layers.Add()([x2, mha2])\n",
    "#     x2 = Activation('relu')(x2)\n",
    "    \n",
    "#     x2 = LSTM(32, return_sequences=True)(x2)\n",
    "#     #x2 = Dropout(0.2)(x2)\n",
    "# #\n",
    "#     mha3 = MHA3(x2,x2)\n",
    "#     x2 = tf.keras.layers.Add()([x2, mha3])\n",
    "#     x2 = Activation('relu')(x2)\n",
    "#     x2 = Flatten()(x2)\n",
    "#     out2 = Dense(1)(x2)\n",
    "    "
   ]
  },
  {
   "cell_type": "code",
   "execution_count": 104,
   "id": "09016b5d",
   "metadata": {
    "ExecuteTime": {
     "end_time": "2023-11-01T08:08:04.037004Z",
     "start_time": "2023-11-01T08:08:04.031014Z"
    },
    "code_folding": [
     0
    ]
   },
   "outputs": [],
   "source": [
    "# def my_model():\n",
    "# #     MHA1 = tf.keras.layers.MultiHeadAttention(num_heads=2, key_dim=3)\n",
    "#     MHA2 = tf.keras.layers.MultiHeadAttention(num_heads=4, key_dim=16)\n",
    "# #     MHA3 = tf.keras.layers.MultiHeadAttention(num_heads=4, key_dim=8)\n",
    "#     #MHA4 = tf.keras.layers.MultiHeadAttention(num_heads=8, key_dim=16)\n",
    "    \n",
    "#     model_input= Input(shape=(6,5))\n",
    "    \n",
    "# #     mha1 = MHA1(model_input,model_input)\n",
    "# #     model = tf.keras.layers.Add()([model_input,mha1])\n",
    "# #     model = tf.keras.layers.ReLU()(model)\n",
    "    \n",
    "#     model= LSTM(64, return_sequences=True)(model_input)   \n",
    "#     model = Dropout(0.2)(model)\n",
    "#     mha2 = MHA2(model,model)\n",
    "#     model = tf.keras.layers.Add()([model,mha2])\n",
    "#     model = tf.keras.layers.ReLU()(model)\n",
    "    \n",
    "#     model = LSTM(32, return_sequences=True)(model)\n",
    "#     model = Dropout(0.2)(model)\n",
    "# #     mha3 = MHA3(model,model)\n",
    "# #     model = tf.keras.layers.Add()([model, mha3])\n",
    "# #     model = tf.keras.layers.ReLU()(model)\n",
    "    \n",
    "# #     model_out = LSTM(32, return_sequences=True)(model)\n",
    "# #     model = Dropout(0.3)(model)\n",
    "# #     mha4 = MHA4(model,model)\n",
    "# #     model = tf.keras.layers.Add()([model, mha4,model_out])\n",
    "# #     model = tf.keras.layers.ReLU()(model)\n",
    "    \n",
    "    \n",
    "#     model = Flatten()(model)\n",
    "#     out = Dense(1)(model)\n",
    "#     model = Model(inputs=model_input, outputs=out)\n",
    "#     return model"
   ]
  },
  {
   "cell_type": "code",
   "execution_count": 113,
   "id": "db386094",
   "metadata": {
    "ExecuteTime": {
     "end_time": "2023-11-01T08:48:24.869863Z",
     "start_time": "2023-11-01T08:48:24.861875Z"
    }
   },
   "outputs": [],
   "source": [
    "# 注意力层的定制实现，以适应多次注意力调用\n",
    "class Attention(Layer):\n",
    "    def __init__(self, units=128, **kwargs):\n",
    "        self.units = units\n",
    "        super().__init__(**kwargs)\n",
    "        \n",
    "    def __call__(self, inputs):\n",
    "        \"\"\"\n",
    "        Keras的多对一注意力机制。\n",
    "        @param inputs: 3D tensor with shape (batch_size, time_steps, input_dim).\n",
    "        @return: 2D tensor with shape (batch_size, 128)\n",
    "        \"\"\"\n",
    "        \n",
    "        hidden_states = inputs\n",
    "        hidden_size = int(hidden_states.shape[2])  \n",
    "        \n",
    "        # Inside dense layer 内部全连接层\n",
    "        #              hidden_states            dot               W            =>           score_first_part\n",
    "        # (batch_size, time_steps, hidden_size) dot (hidden_size, hidden_size) => (batch_size, time_steps, hidden_size)\n",
    "        # W是可训练权重矩阵 \n",
    "        \n",
    "        score_first_part = Dense(hidden_size, use_bias=False)(hidden_states) \n",
    "        # 进行一次全连接，本质上没有太大意义，只是为了增加一下模型复杂度，\n",
    "        # 并且改变一下前T个时间步的特征表示,这里其实也可以不进行全连接，直接使用hidden_states\n",
    "        \n",
    "        #            score_first_part           dot        last_hidden_state     => attention_weights\n",
    "        # (batch_size, time_steps, hidden_size) dot   (batch_size, hidden_size)  => (batch_size, time_steps)\n",
    "        # # 注意力，增加对最后一个时间步长的关注\n",
    "        \n",
    "        h_t = Lambda(lambda x: x[:, -1, :], output_shape=(hidden_size,))(hidden_states)  # 取出最后一个时间步的特征\n",
    "        score = Dot(axes=[1, 2])([h_t, score_first_part])  # 将最后一个时间步长与前T个时间步长进行点积\n",
    "        attention_weights = Activation('softmax')(score)   # 求权重（将权值通过softmax进行归一化，得到直接可用的权重）\n",
    "        \n",
    "        \n",
    "        # (batch_size, time_steps, hidden_size) dot (batch_size, time_steps) => (batch_size, hidden_size)\n",
    "        context_vector = Dot(axes=[1, 1])([hidden_states, attention_weights])  # 上下文向量\n",
    "        pre_activation = Concatenate()([context_vector, h_t]) #再次将最后一个时间步的信息加入，本质上是一个残差连接，这步可以省略\n",
    "        attention_vector = Dense(self.units, use_bias=False, activation='tanh')(pre_activation) # 用一个全连接层进行合并\n",
    "        \n",
    "        print('注意力被执行了一次')\n",
    "        return attention_vector\n",
    "\n",
    "    def get_config(self):\n",
    "        return {'units': self.units}\n",
    "\n",
    "    @classmethod\n",
    "    def from_config(cls, config):\n",
    "        return cls(**config)"
   ]
  },
  {
   "cell_type": "code",
   "execution_count": 116,
   "id": "4ca1bdae",
   "metadata": {
    "ExecuteTime": {
     "end_time": "2023-11-01T08:48:51.022722Z",
     "start_time": "2023-11-01T08:48:51.017730Z"
    }
   },
   "outputs": [],
   "source": [
    "def my_model():\n",
    "    \n",
    "    model_input= Input(shape=(6,5))\n",
    "   \n",
    "    model= LSTM(64, return_sequences=True)(model_input)   \n",
    "    model = Dropout(0.2)(model)\n",
    "    \n",
    "    model = LSTM(32, return_sequences=True)(model)\n",
    "    model = Attention()(model)\n",
    "    \n",
    "    model = Flatten()(model)\n",
    "    \n",
    "    out = Dense(1)(model)\n",
    "    model = Model(inputs=model_input, outputs=out)\n",
    "    return model"
   ]
  },
  {
   "cell_type": "code",
   "execution_count": 117,
   "id": "a853928f",
   "metadata": {
    "ExecuteTime": {
     "end_time": "2023-11-01T08:48:52.530327Z",
     "start_time": "2023-11-01T08:48:51.527920Z"
    }
   },
   "outputs": [
    {
     "name": "stdout",
     "output_type": "stream",
     "text": [
      "注意力被执行了一次\n"
     ]
    },
    {
     "data": {
      "image/png": "[encoded data removed]",
      "text/plain": [
       "<IPython.core.display.Image object>"
      ]
     },
     "execution_count": 117,
     "metadata": {},
     "output_type": "execute_result"
    }
   ],
   "source": [
    "import graphviz\n",
    "model = my_model()\n",
    "#model.summary()\n",
    "plot_model(model,show_shapes=True,show_layer_names=True)"
   ]
  },
  {
   "cell_type": "code",
   "execution_count": 118,
   "id": "70b8dbd1",
   "metadata": {
    "ExecuteTime": {
     "end_time": "2023-11-01T08:49:39.167754Z",
     "start_time": "2023-11-01T08:49:39.157770Z"
    }
   },
   "outputs": [],
   "source": [
    "# 创建神经网络模型\n",
    "num_depths = 1\n",
    "num_features = 5\n",
    "# # 编译模型\n",
    "model.compile(optimizer='adam', loss='mean_squared_error')\n",
    "checkpoint_path='./LSTM_MHA_8.h5'\n",
    "keras_callbacks   = [\n",
    "      EarlyStopping(monitor='val_loss', patience=30, mode='min', min_delta=0.001),\n",
    "      ModelCheckpoint(checkpoint_path, monitor='val_loss', save_best_only=True, mode='min')\n",
    "]"
   ]
  },
  {
   "cell_type": "code",
   "execution_count": 119,
   "id": "d5f9a97c",
   "metadata": {
    "ExecuteTime": {
     "end_time": "2023-11-01T08:59:01.292767Z",
     "start_time": "2023-11-01T08:49:40.734104Z"
    }
   },
   "outputs": [
    {
     "name": "stdout",
     "output_type": "stream",
     "text": [
      "Epoch 1/1000\n",
      "834/834 - 8s - loss: 0.0642 - val_loss: 0.0310\n",
      "Epoch 2/1000\n",
      "834/834 - 6s - loss: 0.0296 - val_loss: 0.0247\n",
      "Epoch 3/1000\n",
      "834/834 - 6s - loss: 0.0256 - val_loss: 0.0228\n",
      "Epoch 4/1000\n",
      "834/834 - 6s - loss: 0.0237 - val_loss: 0.0213\n",
      "Epoch 5/1000\n",
      "834/834 - 6s - loss: 0.0224 - val_loss: 0.0203\n",
      "Epoch 6/1000\n",
      "834/834 - 6s - loss: 0.0215 - val_loss: 0.0195\n",
      "Epoch 7/1000\n",
      "834/834 - 6s - loss: 0.0207 - val_loss: 0.0188\n",
      "Epoch 8/1000\n",
      "834/834 - 6s - loss: 0.0201 - val_loss: 0.0185\n",
      "Epoch 9/1000\n",
      "834/834 - 6s - loss: 0.0196 - val_loss: 0.0181\n",
      "Epoch 10/1000\n",
      "834/834 - 6s - loss: 0.0191 - val_loss: 0.0178\n",
      "Epoch 11/1000\n",
      "834/834 - 6s - loss: 0.0188 - val_loss: 0.0173\n",
      "Epoch 12/1000\n",
      "834/834 - 6s - loss: 0.0184 - val_loss: 0.0171\n",
      "Epoch 13/1000\n",
      "834/834 - 6s - loss: 0.0181 - val_loss: 0.0170\n",
      "Epoch 14/1000\n",
      "834/834 - 6s - loss: 0.0179 - val_loss: 0.0165\n",
      "Epoch 15/1000\n",
      "834/834 - 6s - loss: 0.0176 - val_loss: 0.0163\n",
      "Epoch 16/1000\n",
      "834/834 - 6s - loss: 0.0174 - val_loss: 0.0161\n",
      "Epoch 17/1000\n",
      "834/834 - 6s - loss: 0.0172 - val_loss: 0.0158\n",
      "Epoch 18/1000\n",
      "834/834 - 6s - loss: 0.0170 - val_loss: 0.0157\n",
      "Epoch 19/1000\n",
      "834/834 - 6s - loss: 0.0168 - val_loss: 0.0155\n",
      "Epoch 20/1000\n",
      "834/834 - 6s - loss: 0.0166 - val_loss: 0.0154\n",
      "Epoch 21/1000\n",
      "834/834 - 6s - loss: 0.0165 - val_loss: 0.0153\n",
      "Epoch 22/1000\n",
      "834/834 - 6s - loss: 0.0163 - val_loss: 0.0151\n",
      "Epoch 23/1000\n",
      "834/834 - 6s - loss: 0.0162 - val_loss: 0.0150\n",
      "Epoch 24/1000\n",
      "834/834 - 6s - loss: 0.0160 - val_loss: 0.0148\n",
      "Epoch 25/1000\n",
      "834/834 - 6s - loss: 0.0159 - val_loss: 0.0145\n",
      "Epoch 26/1000\n",
      "834/834 - 6s - loss: 0.0158 - val_loss: 0.0146\n",
      "Epoch 27/1000\n",
      "834/834 - 6s - loss: 0.0156 - val_loss: 0.0143\n",
      "Epoch 28/1000\n",
      "834/834 - 6s - loss: 0.0155 - val_loss: 0.0142\n",
      "Epoch 29/1000\n",
      "834/834 - 6s - loss: 0.0154 - val_loss: 0.0141\n",
      "Epoch 30/1000\n",
      "834/834 - 6s - loss: 0.0153 - val_loss: 0.0140\n",
      "Epoch 31/1000\n",
      "834/834 - 6s - loss: 0.0152 - val_loss: 0.0140\n",
      "Epoch 32/1000\n",
      "834/834 - 6s - loss: 0.0151 - val_loss: 0.0138\n",
      "Epoch 33/1000\n",
      "834/834 - 6s - loss: 0.0150 - val_loss: 0.0137\n",
      "Epoch 34/1000\n",
      "834/834 - 6s - loss: 0.0149 - val_loss: 0.0136\n",
      "Epoch 35/1000\n",
      "834/834 - 6s - loss: 0.0148 - val_loss: 0.0135\n",
      "Epoch 36/1000\n",
      "834/834 - 6s - loss: 0.0147 - val_loss: 0.0135\n",
      "Epoch 37/1000\n",
      "834/834 - 6s - loss: 0.0146 - val_loss: 0.0135\n",
      "Epoch 38/1000\n",
      "834/834 - 6s - loss: 0.0145 - val_loss: 0.0132\n",
      "Epoch 39/1000\n",
      "834/834 - 6s - loss: 0.0145 - val_loss: 0.0132\n",
      "Epoch 40/1000\n",
      "834/834 - 6s - loss: 0.0144 - val_loss: 0.0131\n",
      "Epoch 41/1000\n",
      "834/834 - 6s - loss: 0.0143 - val_loss: 0.0129\n",
      "Epoch 42/1000\n",
      "834/834 - 6s - loss: 0.0142 - val_loss: 0.0130\n",
      "Epoch 43/1000\n",
      "834/834 - 6s - loss: 0.0142 - val_loss: 0.0129\n",
      "Epoch 44/1000\n",
      "834/834 - 6s - loss: 0.0141 - val_loss: 0.0127\n",
      "Epoch 45/1000\n",
      "834/834 - 6s - loss: 0.0140 - val_loss: 0.0127\n",
      "Epoch 46/1000\n",
      "834/834 - 6s - loss: 0.0140 - val_loss: 0.0128\n",
      "Epoch 47/1000\n",
      "834/834 - 6s - loss: 0.0139 - val_loss: 0.0126\n",
      "Epoch 48/1000\n",
      "834/834 - 6s - loss: 0.0138 - val_loss: 0.0126\n",
      "Epoch 49/1000\n",
      "834/834 - 6s - loss: 0.0138 - val_loss: 0.0125\n",
      "Epoch 50/1000\n",
      "834/834 - 6s - loss: 0.0137 - val_loss: 0.0124\n",
      "Epoch 51/1000\n",
      "834/834 - 6s - loss: 0.0137 - val_loss: 0.0123\n",
      "Epoch 52/1000\n",
      "834/834 - 6s - loss: 0.0136 - val_loss: 0.0123\n",
      "Epoch 53/1000\n",
      "834/834 - 6s - loss: 0.0136 - val_loss: 0.0123\n",
      "Epoch 54/1000\n",
      "834/834 - 6s - loss: 0.0135 - val_loss: 0.0122\n",
      "Epoch 55/1000\n",
      "834/834 - 6s - loss: 0.0135 - val_loss: 0.0121\n",
      "Epoch 56/1000\n",
      "834/834 - 6s - loss: 0.0134 - val_loss: 0.0121\n",
      "Epoch 57/1000\n",
      "834/834 - 6s - loss: 0.0134 - val_loss: 0.0120\n",
      "Epoch 58/1000\n",
      "834/834 - 6s - loss: 0.0133 - val_loss: 0.0120\n",
      "Epoch 59/1000\n",
      "834/834 - 6s - loss: 0.0133 - val_loss: 0.0120\n",
      "Epoch 60/1000\n",
      "834/834 - 6s - loss: 0.0132 - val_loss: 0.0120\n",
      "Epoch 61/1000\n",
      "834/834 - 6s - loss: 0.0132 - val_loss: 0.0118\n",
      "Epoch 62/1000\n",
      "834/834 - 6s - loss: 0.0132 - val_loss: 0.0119\n",
      "Epoch 63/1000\n",
      "834/834 - 6s - loss: 0.0131 - val_loss: 0.0118\n",
      "Epoch 64/1000\n",
      "834/834 - 6s - loss: 0.0131 - val_loss: 0.0117\n",
      "Epoch 65/1000\n",
      "834/834 - 6s - loss: 0.0131 - val_loss: 0.0118\n",
      "Epoch 66/1000\n",
      "834/834 - 6s - loss: 0.0130 - val_loss: 0.0118\n",
      "Epoch 67/1000\n",
      "834/834 - 6s - loss: 0.0130 - val_loss: 0.0116\n",
      "Epoch 68/1000\n",
      "834/834 - 6s - loss: 0.0129 - val_loss: 0.0117\n",
      "Epoch 69/1000\n",
      "834/834 - 6s - loss: 0.0129 - val_loss: 0.0116\n",
      "Epoch 70/1000\n",
      "834/834 - 6s - loss: 0.0129 - val_loss: 0.0115\n",
      "Epoch 71/1000\n",
      "834/834 - 6s - loss: 0.0129 - val_loss: 0.0115\n",
      "Epoch 72/1000\n",
      "834/834 - 6s - loss: 0.0128 - val_loss: 0.0114\n",
      "Epoch 73/1000\n",
      "834/834 - 6s - loss: 0.0128 - val_loss: 0.0116\n",
      "Epoch 74/1000\n",
      "834/834 - 6s - loss: 0.0128 - val_loss: 0.0114\n",
      "Epoch 75/1000\n",
      "834/834 - 6s - loss: 0.0127 - val_loss: 0.0113\n",
      "Epoch 76/1000\n",
      "834/834 - 6s - loss: 0.0127 - val_loss: 0.0114\n",
      "Epoch 77/1000\n",
      "834/834 - 6s - loss: 0.0127 - val_loss: 0.0114\n",
      "Epoch 78/1000\n",
      "834/834 - 6s - loss: 0.0126 - val_loss: 0.0113\n",
      "Epoch 79/1000\n",
      "834/834 - 6s - loss: 0.0126 - val_loss: 0.0112\n",
      "Epoch 80/1000\n",
      "834/834 - 6s - loss: 0.0126 - val_loss: 0.0113\n",
      "Epoch 81/1000\n",
      "834/834 - 6s - loss: 0.0126 - val_loss: 0.0112\n",
      "Epoch 82/1000\n",
      "834/834 - 6s - loss: 0.0125 - val_loss: 0.0112\n",
      "Epoch 83/1000\n",
      "834/834 - 6s - loss: 0.0125 - val_loss: 0.0112\n",
      "Epoch 84/1000\n",
      "834/834 - 6s - loss: 0.0125 - val_loss: 0.0111\n",
      "Epoch 85/1000\n",
      "834/834 - 6s - loss: 0.0125 - val_loss: 0.0111\n",
      "Epoch 86/1000\n",
      "834/834 - 6s - loss: 0.0124 - val_loss: 0.0111\n",
      "Epoch 87/1000\n",
      "834/834 - 6s - loss: 0.0124 - val_loss: 0.0110\n",
      "Epoch 88/1000\n",
      "834/834 - 6s - loss: 0.0124 - val_loss: 0.0110\n",
      "Epoch 89/1000\n",
      "834/834 - 6s - loss: 0.0124 - val_loss: 0.0110\n",
      "Epoch 90/1000\n",
      "834/834 - 6s - loss: 0.0124 - val_loss: 0.0110\n",
      "Epoch 91/1000\n",
      "834/834 - 6s - loss: 0.0123 - val_loss: 0.0109\n",
      "Epoch 92/1000\n",
      "834/834 - 6s - loss: 0.0123 - val_loss: 0.0112\n",
      "Epoch 93/1000\n",
      "834/834 - 6s - loss: 0.0123 - val_loss: 0.0109\n",
      "Epoch 94/1000\n",
      "834/834 - 6s - loss: 0.0123 - val_loss: 0.0109\n",
      "Epoch 95/1000\n",
      "834/834 - 6s - loss: 0.0122 - val_loss: 0.0108\n",
      "Epoch 96/1000\n",
      "834/834 - 6s - loss: 0.0122 - val_loss: 0.0109\n",
      "Epoch 97/1000\n",
      "834/834 - 6s - loss: 0.0122 - val_loss: 0.0108\n"
     ]
    }
   ],
   "source": [
    "num_epochs = 1000\n",
    "batch_size = 10240\n",
    "\n",
    "history = model.fit(x_train, y_train[:,14:15], validation_data=(x_val,y_val[:,14:15]),\n",
    "                    epochs=num_epochs, batch_size=batch_size, verbose=2, callbacks=keras_callbacks)"
   ]
  },
  {
   "cell_type": "markdown",
   "id": "9078e70b",
   "metadata": {},
   "source": [
    "## 网格搜索交叉验证寻找最佳参数"
   ]
  },
  {
   "cell_type": "code",
   "execution_count": null,
   "id": "1fe983fc",
   "metadata": {
    "ExecuteTime": {
     "end_time": "2023-11-01T03:14:56.419332Z",
     "start_time": "2023-11-01T03:14:56.419332Z"
    }
   },
   "outputs": [],
   "source": [
    "# model = KerasRegressor(build_fn=create_model,verbose=2)"
   ]
  },
  {
   "cell_type": "code",
   "execution_count": null,
   "id": "9d66f9a5",
   "metadata": {
    "ExecuteTime": {
     "end_time": "2023-11-01T03:14:56.420330Z",
     "start_time": "2023-11-01T03:14:56.420330Z"
    },
    "code_folding": [
     0
    ]
   },
   "outputs": [],
   "source": [
    "# param_grid = {\n",
    "#     'neurons': [15,30,50,100,150,200],\n",
    "# }"
   ]
  },
  {
   "cell_type": "code",
   "execution_count": null,
   "id": "2e91bcc1",
   "metadata": {
    "ExecuteTime": {
     "end_time": "2023-11-01T03:14:56.421329Z",
     "start_time": "2023-11-01T03:14:56.421329Z"
    },
    "code_folding": [
     0
    ]
   },
   "outputs": [],
   "source": [
    "# # 使用GridSearchCV进行交叉验证并搜索最佳参数组合：\n",
    "# grid_search = GridSearchCV(estimator=model, param_grid=param_grid, cv=5)\n",
    "# grid_result = grid_search.fit(x_train, y_train[:,14:15],epochs=200,verbose=2,batch_size=1024)"
   ]
  },
  {
   "cell_type": "code",
   "execution_count": null,
   "id": "482bf93d",
   "metadata": {
    "ExecuteTime": {
     "end_time": "2023-11-01T03:14:56.422327Z",
     "start_time": "2023-11-01T03:14:56.422327Z"
    },
    "code_folding": []
   },
   "outputs": [],
   "source": [
    "# print(\"Best: %f using %s\" % (grid_result.best_score_, grid_result.best_params_))"
   ]
  },
  {
   "cell_type": "markdown",
   "id": "613e01d6",
   "metadata": {},
   "source": [
    "## 训练30 - 1000m"
   ]
  },
  {
   "cell_type": "code",
   "execution_count": null,
   "id": "2de091a3",
   "metadata": {
    "ExecuteTime": {
     "end_time": "2023-11-01T03:14:56.423326Z",
     "start_time": "2023-11-01T03:14:56.423326Z"
    }
   },
   "outputs": [],
   "source": [
    "def train_model(x_train,y_train,x_val,y_val,name):\n",
    "    # 创建网络\n",
    "    model = my_model()\n",
    "    # 编译网络\n",
    "    model.compile(loss='mse', optimizer='adam')\n",
    "    checkpoint_path=name\n",
    "    keras_callbacks   = [\n",
    "          EarlyStopping(monitor='val_loss', patience=30, mode='min', min_delta=0.001),\n",
    "          ModelCheckpoint(checkpoint_path, monitor='val_loss', save_best_only=True, mode='min')\n",
    "    ]\n",
    "    model.fit(x_train, y_train, validation_data=(x_val,y_val),\n",
    "                    epochs=1000, batch_size=1024, verbose=2, callbacks=keras_callbacks)"
   ]
  },
  {
   "cell_type": "code",
   "execution_count": null,
   "id": "89909c73",
   "metadata": {
    "ExecuteTime": {
     "end_time": "2023-11-01T03:14:56.424324Z",
     "start_time": "2023-11-01T03:14:56.424324Z"
    }
   },
   "outputs": [],
   "source": [
    "x_train.shape,y_train.shape,x_val.shape,y_val.shape"
   ]
  },
  {
   "cell_type": "code",
   "execution_count": null,
   "id": "1e62344b",
   "metadata": {
    "ExecuteTime": {
     "end_time": "2023-11-01T03:14:56.425322Z",
     "start_time": "2023-11-01T03:14:56.425322Z"
    }
   },
   "outputs": [],
   "source": [
    "depth = [30,50,100,125,150,200,250,300,400,500,600,700,800,900,1000]"
   ]
  },
  {
   "cell_type": "code",
   "execution_count": null,
   "id": "681979f1",
   "metadata": {
    "ExecuteTime": {
     "end_time": "2023-11-01T03:14:56.426321Z",
     "start_time": "2023-11-01T03:14:56.426321Z"
    }
   },
   "outputs": [],
   "source": [
    "# 训练30 - 1000m\n",
    "for i in range(0,15):\n",
    "    train_model(x_train,y_train[:,i:i+1],x_val,y_val[:,i:i+1],'./LSTM_model_'+str(depth[i])+'m.h5')"
   ]
  },
  {
   "cell_type": "markdown",
   "id": "4516c80c",
   "metadata": {},
   "source": [
    "### 训练指定层"
   ]
  },
  {
   "cell_type": "code",
   "execution_count": null,
   "id": "711b3e8e",
   "metadata": {
    "ExecuteTime": {
     "end_time": "2023-11-01T03:28:48.816832Z",
     "start_time": "2023-11-01T03:26:52.068865Z"
    },
    "scrolled": true
   },
   "outputs": [],
   "source": []
  },
  {
   "cell_type": "markdown",
   "id": "1275d7a0",
   "metadata": {},
   "source": [
    "## 模型评估"
   ]
  },
  {
   "cell_type": "code",
   "execution_count": 87,
   "id": "a7d0b3be",
   "metadata": {
    "ExecuteTime": {
     "end_time": "2023-11-01T04:19:44.568040Z",
     "start_time": "2023-11-01T04:19:44.528106Z"
    },
    "code_folding": [
     0,
     3,
     16,
     45
    ]
   },
   "outputs": [],
   "source": [
    "# 评估函数定义\n",
    "# 异常相关系数\n",
    "import math\n",
    "def acc(actual, predicted):\n",
    "    pred_avg = np.average(predicted)\n",
    "\n",
    "    act_avg = np.average(actual)\n",
    "    diff_pred = predicted - pred_avg\n",
    "    diff_act = actual - act_avg\n",
    "    numerator = np.mean(np.sum(diff_pred*diff_act, axis=0))\n",
    "    denominator = math.sqrt(np.mean(np.sum(diff_pred**2, axis=0)) * np.mean(np.sum(diff_act**2, axis=0)))\n",
    "    ret_val = numerator/denominator\n",
    "    return (100 * ret_val)\n",
    "\n",
    "\n",
    "# 查看损失\n",
    "def look_loss(history):\n",
    "    plt.figure(figsize=(6.3, 2.5), dpi = 100)\n",
    "    plt.plot(history.history['loss'], label='training data')\n",
    "    plt.plot(history.history['val_loss'], label='validation data')\n",
    "    plt.title('Loss')\n",
    "    plt.ylabel('MSE Loss')\n",
    "    plt.xlabel('Number of epochs')\n",
    "    plt.grid()\n",
    "    plt.legend(loc=\"upper right\")\n",
    "    plt.show()\n",
    "\n",
    "\n",
    "# 模型预测\n",
    "def all_estimate(best_model,x_test,y_test):\n",
    "    testPred_1 = best_model.predict(x_test)\n",
    "    a = y_test\n",
    "    y_test_p = a.reshape(-1,1)\n",
    "    testPred_p = testPred_1.reshape(-1,1)\n",
    "\n",
    "\n",
    "    rmse = sqrt(mean_squared_error(y_test_p,testPred_p))\n",
    "    print('Test RMSE: %.3f' % rmse)\n",
    "\n",
    "    print('acc:',acc(y_test_p,testPred_p))\n",
    "\n",
    "    r2 = r2_score(y_test_p,testPred_p)\n",
    "    print(\"R² score:\", r2)  \n",
    "    \n",
    "\n",
    "def respective_estimate(best_model,x_test,y_test):\n",
    "    re2_list = []\n",
    "    rmse_list = []\n",
    "    for i in range(6):\n",
    "        # 模型预测\n",
    "        testPred = best_model.predict(x_test[i:i+1])\n",
    "        a = y_test[i:i+1]\n",
    "        y_test_p = a.reshape(-1,1)\n",
    "        testPred_p = testPred.reshape(-1,1)\n",
    "        r2 = r2_score(y_test_p,testPred_p)\n",
    "        rmse = sqrt(mean_squared_error(y_test_p,testPred_p))\n",
    "        re2_list.append(r2)\n",
    "        rmse_list.append(rmse)    \n",
    "    return re2_list,rmse_list"
   ]
  },
  {
   "cell_type": "code",
   "execution_count": 120,
   "id": "27e2f202",
   "metadata": {
    "ExecuteTime": {
     "end_time": "2023-11-01T08:59:08.240597Z",
     "start_time": "2023-11-01T08:59:08.084848Z"
    }
   },
   "outputs": [
    {
     "data": {
      "image/png": "[encoded data removed]",
      "text/plain": [
       "<Figure size 630x250 with 1 Axes>"
      ]
     },
     "metadata": {},
     "output_type": "display_data"
    }
   ],
   "source": [
    "look_loss(history)"
   ]
  },
  {
   "cell_type": "markdown",
   "id": "650a3669",
   "metadata": {},
   "source": [
    "### 对指定层进行评估"
   ]
  },
  {
   "cell_type": "code",
   "execution_count": 121,
   "id": "6afc7fe3",
   "metadata": {
    "ExecuteTime": {
     "end_time": "2023-11-01T08:59:51.281395Z",
     "start_time": "2023-11-01T08:59:19.863910Z"
    }
   },
   "outputs": [
    {
     "name": "stdout",
     "output_type": "stream",
     "text": [
      "Test RMSE: 0.172\n",
      "acc: 98.5224902051825\n",
      "R² score: 0.970387885196331\n"
     ]
    }
   ],
   "source": [
    "best_model = tf.keras.models.load_model('LSTM_MHA_8.h5')\n",
    "all_estimate(best_model,x_test,y_test[:,14:15])"
   ]
  },
  {
   "cell_type": "markdown",
   "id": "3f0aad38",
   "metadata": {},
   "source": [
    "### 对所有层进行评估"
   ]
  },
  {
   "cell_type": "code",
   "execution_count": null,
   "id": "9bf805b3",
   "metadata": {
    "ExecuteTime": {
     "end_time": "2023-11-01T03:14:56.430314Z",
     "start_time": "2023-11-01T03:14:56.430314Z"
    }
   },
   "outputs": [],
   "source": [
    "# 模型预测\n",
    "for i in range(0,15):\n",
    "    best_model = tf.keras.models.load_model('LSTM_model_'+str(depth[i])+'m.h5')\n",
    "    print(str(depth[i])+'测试集：')\n",
    "    all_estimate(best_model,x_test,y_test[:,i:i+1])\n",
    "# re2_list,rmse_list = respective_estimate(best_model,x_test,y_test[:,:,:,:,0:5])\n",
    "# re2_list,rmse_list"
   ]
  },
  {
   "cell_type": "markdown",
   "id": "c5347be8",
   "metadata": {},
   "source": [
    "# 保存预测结果"
   ]
  },
  {
   "cell_type": "code",
   "execution_count": null,
   "id": "dcf59029",
   "metadata": {
    "ExecuteTime": {
     "end_time": "2023-11-01T03:14:56.431313Z",
     "start_time": "2023-11-01T03:14:56.431313Z"
    }
   },
   "outputs": [],
   "source": [
    "# 模型预测\n",
    "result = [] \n",
    "for i in range(0,15):\n",
    "    best_model = tf.keras.models.load_model('LSTM_model_'+str(depth[i])+'m.h5')\n",
    "    #print('预测第'+str(depth[i]+'m的温度')\n",
    "    testPred = best_model.predict(x_test)\n",
    "    result.append(testPred)"
   ]
  },
  {
   "cell_type": "code",
   "execution_count": null,
   "id": "f4102afd",
   "metadata": {
    "ExecuteTime": {
     "end_time": "2023-11-01T03:14:56.432311Z",
     "start_time": "2023-11-01T03:14:56.432311Z"
    }
   },
   "outputs": [],
   "source": [
    "result = np.array(result)\n",
    "print(result.shape)\n",
    "result = np.transpose(result,(1,2,0))\n",
    "print(result.shape)\n",
    "result = result.reshape(-1,15)\n",
    "print(result.shape)"
   ]
  },
  {
   "cell_type": "markdown",
   "id": "d07214f5",
   "metadata": {},
   "source": [
    "## 对预测结果进行反归一化"
   ]
  },
  {
   "cell_type": "code",
   "execution_count": null,
   "id": "1013dde8",
   "metadata": {
    "ExecuteTime": {
     "end_time": "2023-11-01T03:14:56.432311Z",
     "start_time": "2023-11-01T03:14:56.432311Z"
    }
   },
   "outputs": [],
   "source": [
    "y_test = y_test.reshape(-1,15)"
   ]
  },
  {
   "cell_type": "code",
   "execution_count": null,
   "id": "0f9ed2f9",
   "metadata": {
    "ExecuteTime": {
     "end_time": "2023-11-01T03:14:56.433309Z",
     "start_time": "2023-11-01T03:14:56.433309Z"
    }
   },
   "outputs": [],
   "source": [
    "result.shape,y_test.shape "
   ]
  },
  {
   "cell_type": "code",
   "execution_count": null,
   "id": "cf99fe97",
   "metadata": {
    "ExecuteTime": {
     "end_time": "2023-11-01T03:14:56.434308Z",
     "start_time": "2023-11-01T03:14:56.434308Z"
    }
   },
   "outputs": [],
   "source": [
    "result_unscaled = scaler_l.inverse_transform(result)\n",
    "y_test_unscaled = scaler_l.inverse_transform(y_test)"
   ]
  },
  {
   "cell_type": "markdown",
   "id": "1571020b",
   "metadata": {},
   "source": [
    "## 评估反归一化之后的结果"
   ]
  },
  {
   "cell_type": "code",
   "execution_count": null,
   "id": "2db16c0d",
   "metadata": {
    "ExecuteTime": {
     "end_time": "2023-11-01T03:14:56.435306Z",
     "start_time": "2023-11-01T03:14:56.435306Z"
    }
   },
   "outputs": [],
   "source": [
    "for i in range(0,15):\n",
    "    r2 = r2_score(y_test_unscaled[:,i],result_unscaled[:,i])\n",
    "    print(str(depth[i])+'m R² score:',r2)"
   ]
  },
  {
   "cell_type": "code",
   "execution_count": null,
   "id": "bb95728f",
   "metadata": {
    "ExecuteTime": {
     "end_time": "2023-11-01T03:14:56.436305Z",
     "start_time": "2023-11-01T03:14:56.436305Z"
    }
   },
   "outputs": [],
   "source": [
    "for i in range(0,15):\n",
    "    mse =  mean_squared_error(y_test_unscaled[:,i],result_unscaled[:,i])\n",
    "    print(str(depth[i])+'m Test mse: %.3f' % mse)"
   ]
  },
  {
   "cell_type": "markdown",
   "id": "5aa065c9",
   "metadata": {},
   "source": [
    "# 预测结果可视化"
   ]
  },
  {
   "cell_type": "markdown",
   "id": "12b57477",
   "metadata": {},
   "source": [
    "## 为归一化之后的预测值和真实值填充nan"
   ]
  },
  {
   "cell_type": "code",
   "execution_count": null,
   "id": "a778c00c",
   "metadata": {
    "ExecuteTime": {
     "end_time": "2023-11-01T03:14:56.437303Z",
     "start_time": "2023-11-01T03:14:56.437303Z"
    }
   },
   "outputs": [],
   "source": [
    "cat_data_ss_depth_test = np.transpose(cat_data_ss_depth,(1,2,0,3))\n",
    "print(cat_data_ss_depth_test.shape)\n",
    "cat_data_ss_depth_test = cat_data_ss_depth_test.reshape ((-1,132*20))\n",
    "print(cat_data_ss_depth_test.shape)"
   ]
  },
  {
   "cell_type": "code",
   "execution_count": null,
   "id": "5b1987b8",
   "metadata": {
    "ExecuteTime": {
     "end_time": "2023-11-01T03:14:56.438301Z",
     "start_time": "2023-11-01T03:14:56.438301Z"
    }
   },
   "outputs": [],
   "source": [
    "cat_data_ss_depth_test[cat_data_ss_depth_test == 32767] = np.nan\n",
    "print('cat_data_ss_depth_test删除nan值之前',cat_data_ss_depth_test.shape)\n",
    "# 使用 numpy.isnan 函数检测NaN值\n",
    "nan_mask = np.isnan(cat_data_ss_depth_test)"
   ]
  },
  {
   "cell_type": "code",
   "execution_count": null,
   "id": "ff223b20",
   "metadata": {
    "ExecuteTime": {
     "end_time": "2023-11-01T03:14:56.438301Z",
     "start_time": "2023-11-01T03:14:56.438301Z"
    }
   },
   "outputs": [],
   "source": [
    "nan_mask[nan_mask.any(axis=1) == True] = True   # nan为True,只要有一个通道存在nan,就都设置为nan\n",
    "nan_masks = nan_mask[:,1]    #得到图像的masks"
   ]
  },
  {
   "cell_type": "code",
   "execution_count": null,
   "id": "c129cf08",
   "metadata": {
    "ExecuteTime": {
     "end_time": "2023-11-01T03:14:56.439300Z",
     "start_time": "2023-11-01T03:14:56.439300Z"
    }
   },
   "outputs": [],
   "source": [
    "### 创建一个形状与nan_masks相同且全是nan的数组\n",
    "testPred_with_nan = np.full((168000,12*15), np.nan)  \n",
    "print(testPred_with_nan.shape)\n",
    "\n",
    "y_test_with_nan = np.full((168000,12*15), np.nan)  \n",
    "print(y_test_with_nan.shape)"
   ]
  },
  {
   "cell_type": "code",
   "execution_count": null,
   "id": "c08d831b",
   "metadata": {
    "ExecuteTime": {
     "end_time": "2023-11-01T03:14:56.440298Z",
     "start_time": "2023-11-01T03:14:56.440298Z"
    }
   },
   "outputs": [],
   "source": [
    "result_unscaled_reshape = result_unscaled.reshape(12,-1,15)\n",
    "print(result_unscaled_reshape.shape)\n",
    "result_unscaled_reshape = np.transpose(result_unscaled_reshape,(1,0,2))\n",
    "print(result_unscaled_reshape.shape)\n",
    "result_unscaled_reshape = result_unscaled_reshape.reshape(-1,12*15)\n",
    "print(result_unscaled_reshape.shape)\n",
    "\n",
    "# ======================================== #\n",
    "y_test_unscaled_reshape = y_test_unscaled.reshape(12,-1,15)\n",
    "print(y_test_unscaled_reshape.shape)\n",
    "y_test_unscaled_reshape = np.transpose(y_test_unscaled_reshape,(1,0,2))\n",
    "print(y_test_unscaled_reshape.shape)\n",
    "y_test_unscaled_reshape = y_test_unscaled_reshape.reshape(-1,12*15)\n",
    "print(y_test_unscaled_reshape.shape)\n"
   ]
  },
  {
   "cell_type": "code",
   "execution_count": null,
   "id": "df4f93fa",
   "metadata": {
    "ExecuteTime": {
     "end_time": "2023-11-01T03:14:56.441297Z",
     "start_time": "2023-11-01T03:14:56.441297Z"
    }
   },
   "outputs": [],
   "source": [
    "y_test_unscaled.shape "
   ]
  },
  {
   "cell_type": "code",
   "execution_count": null,
   "id": "9a971489",
   "metadata": {
    "ExecuteTime": {
     "end_time": "2023-11-01T03:14:56.442295Z",
     "start_time": "2023-11-01T03:14:56.442295Z"
    }
   },
   "outputs": [],
   "source": [
    "num = 0\n",
    "for i,nan_mask in enumerate(nan_masks):   # i从0开始\n",
    "\n",
    "    if (nan_mask == False): # False 代表没有nan，使用预测值进行填充\n",
    "        testPred_with_nan[i] = result_unscaled_reshape[num]\n",
    "        y_test_with_nan[i] = y_test_unscaled_reshape[num]\n",
    "        num = num + 1\n",
    "        \n",
    "print(num)"
   ]
  },
  {
   "cell_type": "code",
   "execution_count": null,
   "id": "a7c301e2",
   "metadata": {
    "ExecuteTime": {
     "end_time": "2023-11-01T03:14:56.443293Z",
     "start_time": "2023-11-01T03:14:56.443293Z"
    }
   },
   "outputs": [],
   "source": [
    "testPred_with_nan = testPred_with_nan.reshape(280, 600,12,15)\n",
    "testPred_with_nan = np.transpose(testPred_with_nan,(2,3,0,1))\n",
    "\n",
    "\n",
    "y_test_with_nan = y_test_with_nan.reshape(280, 600,12,15)\n",
    "y_test_with_nan = np.transpose(y_test_with_nan,(2,3,0,1))\n",
    "\n",
    "print(testPred_with_nan.shape,y_test_with_nan.shape)"
   ]
  },
  {
   "cell_type": "markdown",
   "id": "b6dfa8f2",
   "metadata": {
    "ExecuteTime": {
     "end_time": "2023-10-06T13:07:37.341964Z",
     "start_time": "2023-10-06T13:07:37.302028Z"
    }
   },
   "source": [
    "# 结果可视化"
   ]
  },
  {
   "cell_type": "code",
   "execution_count": null,
   "id": "347081c6",
   "metadata": {
    "ExecuteTime": {
     "end_time": "2023-11-01T03:14:56.444292Z",
     "start_time": "2023-11-01T03:14:56.444292Z"
    }
   },
   "outputs": [],
   "source": [
    "lat = []\n",
    "lon = []\n",
    "time = []"
   ]
  },
  {
   "cell_type": "code",
   "execution_count": null,
   "id": "8a6cb507",
   "metadata": {
    "ExecuteTime": {
     "end_time": "2023-11-01T03:14:56.444292Z",
     "start_time": "2023-11-01T03:14:56.444292Z"
    }
   },
   "outputs": [],
   "source": [
    "lon.append(data_ssh['lon'][:].data)\n",
    "lat.append(data_ssh['lat'][:].data)"
   ]
  },
  {
   "cell_type": "code",
   "execution_count": null,
   "id": "fa3a8f00",
   "metadata": {
    "ExecuteTime": {
     "end_time": "2023-11-01T03:14:56.445290Z",
     "start_time": "2023-11-01T03:14:56.445290Z"
    }
   },
   "outputs": [],
   "source": [
    "start_year = 2015\n",
    "end_year =2015\n",
    "time = []\n",
    "date_range = pd.date_range(datetime(start_year,1,1),datetime(end_year+1,1,1),freq='1M')\n",
    "len(date_range)\n",
    "for i in range(len(date_range)):\n",
    "    time.append(i)"
   ]
  },
  {
   "cell_type": "code",
   "execution_count": null,
   "id": "209e68f0",
   "metadata": {
    "ExecuteTime": {
     "end_time": "2023-11-01T03:14:56.446289Z",
     "start_time": "2023-11-01T03:14:56.446289Z"
    }
   },
   "outputs": [],
   "source": [
    "new_NC.close()"
   ]
  },
  {
   "cell_type": "code",
   "execution_count": null,
   "id": "a4751334",
   "metadata": {
    "ExecuteTime": {
     "end_time": "2023-11-01T03:14:56.447287Z",
     "start_time": "2023-11-01T03:14:56.447287Z"
    }
   },
   "outputs": [],
   "source": [
    "new_NC = nc.Dataset(\"result30_1000m_LSTM.nc\", 'w', format='NETCDF4')\n",
    "\n",
    "'''\n",
    "定义维度，后一个参数表示维度的长度，因为是合并的同一个产品的数据，所以是统一\n",
    "的,注意维度的长度一定要和读入的数据匹配\n",
    "'''\n",
    "\n",
    "new_NC.createDimension('lat', len(lat[0]))\n",
    "new_NC.createDimension('lon', len(lon[0]))\n",
    "new_NC.createDimension('true_sta', len(y_test_with_nan))\n",
    "new_NC.createDimension('pred_sta', len(testPred_with_nan))\n",
    "\n",
    "new_NC.createDimension('depth', 15)\n",
    "new_NC.createDimension('time', len(time))\n",
    "\n",
    "\n",
    "\n",
    "\n",
    "new_NC.createVariable('lat', 'f', (\"lat\"))\n",
    "new_NC.createVariable('lon', 'f', (\"lon\"))\n",
    "new_NC.createVariable('depth', 'f', (\"depth\"))\n",
    "new_NC.createVariable('true_sta', 'f',(\"time\",\"depth\",\"lat\",\"lon\"))\n",
    "new_NC.createVariable('pred_sta', 'f',(\"time\",\"depth\",\"lat\",\"lon\"))\n",
    "\n",
    "time_var = new_NC.createVariable('time', 'f4',(\"time\"))\n",
    "time_var.units = 'months since 2015-01-15'\n",
    "time_var.long_name = 'Months in Monthly Means'\n",
    "time_var.axis = 'T'\n",
    "\n",
    "\n",
    "\n",
    "#向变量中填充数据\n",
    "new_NC.variables['lat'][:] = lat[0]\n",
    "new_NC.variables['lon'][:] = lon[0]\n",
    "new_NC.variables['time'][:] = np.array(time)\n",
    "new_NC.variables['depth'][:] = depth\n",
    "\n",
    "new_NC.variables['true_sta'][:]=np.array(y_test_with_nan)\n",
    "new_NC.variables['pred_sta'][:]=np.array(testPred_with_nan)\n",
    "\n",
    "\n",
    "#最后记得关闭文件\n",
    "new_NC.close()\n"
   ]
  },
  {
   "cell_type": "code",
   "execution_count": null,
   "id": "29f796bb",
   "metadata": {
    "ExecuteTime": {
     "end_time": "2023-11-01T03:14:56.448285Z",
     "start_time": "2023-11-01T03:14:56.448285Z"
    }
   },
   "outputs": [],
   "source": [
    "depth"
   ]
  },
  {
   "cell_type": "code",
   "execution_count": null,
   "id": "2fdb2681",
   "metadata": {},
   "outputs": [],
   "source": []
  }
 ],
 "metadata": {
  "kernelspec": {
   "display_name": "Python [conda env:python] *",
   "language": "python",
   "name": "conda-env-python-py"
  },
  "language_info": {
   "codemirror_mode": {
    "name": "ipython",
    "version": 3
   },
   "file_extension": ".py",
   "mimetype": "text/x-python",
   "name": "python",
   "nbconvert_exporter": "python",
   "pygments_lexer": "ipython3",
   "version": "3.8.17"
  },
  "toc": {
   "base_numbering": 1,
   "nav_menu": {},
   "number_sections": true,
   "sideBar": true,
   "skip_h1_title": false,
   "title_cell": "Table of Contents",
   "title_sidebar": "Contents",
   "toc_cell": false,
   "toc_position": {
    "height": "calc(100% - 180px)",
    "left": "10px",
    "top": "150px",
    "width": "244.4px"
   },
   "toc_section_display": true,
   "toc_window_display": true
  }
 },
 "nbformat": 4,
 "nbformat_minor": 5
}
