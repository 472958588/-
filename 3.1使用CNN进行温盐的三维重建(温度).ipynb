{
 "cells": [
  {
   "cell_type": "code",
   "execution_count": 1,
   "id": "24cc7c46",
   "metadata": {
    "ExecuteTime": {
     "end_time": "2024-06-08T07:36:35.205387Z",
     "start_time": "2024-06-08T07:36:31.909686Z"
    },
    "code_folding": [
     0
    ]
   },
   "outputs": [],
   "source": [
    "#导包\n",
    "from netCDF4 import Dataset\n",
    "from tensorflow.keras import layers, models\n",
    "from tensorflow.keras.layers import ConvLSTM2D,LSTM, BatchNormalization, LayerNormalization,Input, Conv3D, TimeDistributed, Flatten\n",
    "from tensorflow.keras.layers import Concatenate,Conv2D,TimeDistributed, MaxPooling2D, Input, MaxPooling3D\n",
    "from tensorflow.keras.layers import  Reshape,multiply\n",
    "from tensorflow.keras.layers import Layer,Lambda,Dot,ReLU, Dense, Dropout, Activation, Flatten,Attention\n",
    "from tensorflow.keras.utils import plot_model\n",
    "from tensorflow.keras.models import Sequential,Model,load_model\n",
    "from tensorflow.keras.optimizers import Adam,SGD\n",
    "from sklearn.model_selection import train_test_split\n",
    "from tensorflow.keras.callbacks import EarlyStopping, ModelCheckpoint\n",
    "from sklearn.preprocessing import MinMaxScaler, StandardScaler\n",
    "from tensorflow.keras.losses import MeanSquaredError\n",
    "from sklearn.metrics import r2_score,accuracy_score,precision_score\n",
    "from tensorflow.keras.metrics import RootMeanSquaredError\n",
    "from tensorflow.keras import regularizers\n",
    "import tensorflow as tf\n",
    "from datetime import datetime\n",
    "from sklearn.model_selection import cross_val_score\n",
    "from sklearn.model_selection import GridSearchCV\n",
    "from tensorflow.keras import models, layers\n",
    "from tensorflow.keras.wrappers.scikit_learn import KerasRegressor\n",
    "import tensorflow.keras as keras\n",
    "from tensorflow.keras import layers, Sequential, regularizers\n",
    "# calculate RMSE\n",
    "from sklearn.metrics import mean_squared_error\n",
    "from math import sqrt\n",
    "import pandas as pd \n",
    "import tensorflow as tf\n",
    "import gc \n",
    "import gzip\n",
    "import matplotlib.pyplot as plt\n",
    "import numpy as np\n",
    "import netCDF4 as nc\n",
    "import match\n",
    "import numpy as np\n",
    "import matplotlib.pyplot as plt\n",
    "import xarray as xr\n",
    "import os \n",
    "%matplotlib inline"
   ]
  },
  {
   "cell_type": "code",
   "execution_count": 2,
   "id": "619adb84",
   "metadata": {
    "ExecuteTime": {
     "end_time": "2024-06-08T07:36:35.363133Z",
     "start_time": "2024-06-08T07:36:35.207392Z"
    }
   },
   "outputs": [
    {
     "data": {
      "text/plain": [
       "1"
      ]
     },
     "execution_count": 2,
     "metadata": {},
     "output_type": "execute_result"
    }
   ],
   "source": [
    "# 检查可用GPU数量\n",
    "len(tf.config.experimental.list_physical_devices('GPU'))"
   ]
  },
  {
   "cell_type": "markdown",
   "id": "f580b19d",
   "metadata": {},
   "source": [
    "# 读取数据"
   ]
  },
  {
   "cell_type": "markdown",
   "id": "a969a48c",
   "metadata": {},
   "source": [
    "## SSH"
   ]
  },
  {
   "cell_type": "code",
   "execution_count": 3,
   "id": "a2879bf4",
   "metadata": {
    "ExecuteTime": {
     "end_time": "2024-06-08T07:36:35.372119Z",
     "start_time": "2024-06-08T07:36:35.364131Z"
    }
   },
   "outputs": [],
   "source": [
    "data_ssh = nc.Dataset(r'D:/codeFile/jupyterDemo/3d_ts/BPNN/data/SSH/SSH_2005-2015_month.nc')"
   ]
  },
  {
   "cell_type": "code",
   "execution_count": 4,
   "id": "8d073208",
   "metadata": {
    "ExecuteTime": {
     "end_time": "2024-06-08T07:36:35.380106Z",
     "start_time": "2024-06-08T07:36:35.373117Z"
    }
   },
   "outputs": [
    {
     "name": "stdout",
     "output_type": "stream",
     "text": [
      "132\n"
     ]
    }
   ],
   "source": [
    "time_ssh = data_ssh['time'][:]\n",
    "print(len(time_ssh))"
   ]
  },
  {
   "cell_type": "code",
   "execution_count": 5,
   "id": "601b1b6d",
   "metadata": {
    "ExecuteTime": {
     "end_time": "2024-06-08T07:36:35.385097Z",
     "start_time": "2024-06-08T07:36:35.381104Z"
    },
    "scrolled": false
   },
   "outputs": [],
   "source": [
    "# 查看研究区域经纬度\n",
    "ssh_lat = data_ssh['lat'][:].data\n",
    "#print(ssh_lat[:])\n",
    "ssh_lon = data_ssh['lon'][:].data\n",
    "#print(ssh_lon[:])"
   ]
  },
  {
   "cell_type": "code",
   "execution_count": 6,
   "id": "e1e7d608",
   "metadata": {
    "ExecuteTime": {
     "end_time": "2024-06-08T07:36:35.455984Z",
     "start_time": "2024-06-08T07:36:35.386096Z"
    }
   },
   "outputs": [
    {
     "name": "stdout",
     "output_type": "stream",
     "text": [
      "(132, 280, 600)\n"
     ]
    }
   ],
   "source": [
    "ssh = data_ssh['ssh'][:].data\n",
    "print(ssh.shape)"
   ]
  },
  {
   "cell_type": "code",
   "execution_count": 7,
   "id": "0c26b86a",
   "metadata": {
    "ExecuteTime": {
     "end_time": "2024-06-08T07:36:35.532894Z",
     "start_time": "2024-06-08T07:36:35.456982Z"
    }
   },
   "outputs": [
    {
     "data": {
      "text/plain": [
       "(2.20051, -0.43673334)"
      ]
     },
     "execution_count": 7,
     "metadata": {},
     "output_type": "execute_result"
    }
   ],
   "source": [
    "np.nanmax(ssh),np.nanmin(ssh)"
   ]
  },
  {
   "cell_type": "markdown",
   "id": "203facec",
   "metadata": {},
   "source": [
    "## SSS"
   ]
  },
  {
   "cell_type": "code",
   "execution_count": 8,
   "id": "7fde41f7",
   "metadata": {
    "ExecuteTime": {
     "end_time": "2024-06-08T07:36:36.114924Z",
     "start_time": "2024-06-08T07:36:36.109932Z"
    }
   },
   "outputs": [],
   "source": [
    "data_sss = nc.Dataset(r'D:/codeFile/jupyterDemo/3d_ts/BPNN/data/SSS/dataset-sss-ssd-rep-monthly_2005-2020.nc')"
   ]
  },
  {
   "cell_type": "code",
   "execution_count": 9,
   "id": "97c14ff6",
   "metadata": {
    "ExecuteTime": {
     "end_time": "2024-06-08T07:36:36.469354Z",
     "start_time": "2024-06-08T07:36:36.464362Z"
    }
   },
   "outputs": [
    {
     "name": "stdout",
     "output_type": "stream",
     "text": [
      "132\n"
     ]
    }
   ],
   "source": [
    "# 确定时间\n",
    "time_sss = data_sss['time'][:132]\n",
    "print(len(time_sss))"
   ]
  },
  {
   "cell_type": "code",
   "execution_count": 10,
   "id": "463ec7e5",
   "metadata": {
    "ExecuteTime": {
     "end_time": "2024-06-08T07:36:36.651062Z",
     "start_time": "2024-06-08T07:36:36.646070Z"
    }
   },
   "outputs": [],
   "source": [
    "# 获取研究位置经纬度\n",
    "sss_lat = data_sss['lat'][:].data\n",
    "#print(sss_lat[:])\n",
    "sss_lon = data_sss['lon'][:].data\n",
    "#print(sss_lon[:])"
   ]
  },
  {
   "cell_type": "code",
   "execution_count": 11,
   "id": "778ef529",
   "metadata": {
    "ExecuteTime": {
     "end_time": "2024-06-08T07:36:36.910695Z",
     "start_time": "2024-06-08T07:36:36.793832Z"
    }
   },
   "outputs": [
    {
     "name": "stdout",
     "output_type": "stream",
     "text": [
      "(132, 1, 280, 600)\n",
      "(132, 280, 600)\n"
     ]
    }
   ],
   "source": [
    "sss = data_sss['sos'][:132].data \n",
    "print(sss.shape)\n",
    "sss = np.squeeze(sss) # 移除大小为一的维度\n",
    "print(sss.shape)"
   ]
  },
  {
   "cell_type": "code",
   "execution_count": 12,
   "id": "b1e08930",
   "metadata": {
    "ExecuteTime": {
     "end_time": "2024-06-08T07:36:37.019471Z",
     "start_time": "2024-06-08T07:36:36.945589Z"
    }
   },
   "outputs": [
    {
     "data": {
      "text/plain": [
       "(36.072178, 13.604756)"
      ]
     },
     "execution_count": 12,
     "metadata": {},
     "output_type": "execute_result"
    }
   ],
   "source": [
    "np.nanmax(sss),np.nanmin(sss)"
   ]
  },
  {
   "cell_type": "markdown",
   "id": "12d5c8e2",
   "metadata": {},
   "source": [
    "## SSW"
   ]
  },
  {
   "cell_type": "code",
   "execution_count": 13,
   "id": "d026b883",
   "metadata": {
    "ExecuteTime": {
     "end_time": "2024-06-08T07:36:37.520664Z",
     "start_time": "2024-06-08T07:36:37.513675Z"
    }
   },
   "outputs": [],
   "source": [
    "data_ssw = nc.Dataset(r'D:/codeFile/jupyterDemo/3d_ts/BPNN/data/SSW/anon_ssw_2005_2018_Month_data.nc')"
   ]
  },
  {
   "cell_type": "code",
   "execution_count": 14,
   "id": "a09f6f8d",
   "metadata": {
    "ExecuteTime": {
     "end_time": "2024-06-08T07:36:37.678410Z",
     "start_time": "2024-06-08T07:36:37.674417Z"
    }
   },
   "outputs": [
    {
     "name": "stdout",
     "output_type": "stream",
     "text": [
      "132\n"
     ]
    }
   ],
   "source": [
    "# 确定时间\n",
    "time_ssw = data_ssw['time'][:132]\n",
    "print(len(time_ssw))"
   ]
  },
  {
   "cell_type": "code",
   "execution_count": 15,
   "id": "447b145c",
   "metadata": {
    "ExecuteTime": {
     "end_time": "2024-06-08T07:36:37.838153Z",
     "start_time": "2024-06-08T07:36:37.834160Z"
    }
   },
   "outputs": [],
   "source": [
    "lat_ssw = data_ssw['lat'][:].data\n",
    "#print(lat_ssw[314:594])\n",
    "lon_ssw = data_ssw['lon'][:].data\n",
    "#print(lon_ssw[440:1040])\n",
    "\n",
    "# lat 0.125    ----    69.875\n",
    "# lon  110.125    ----    259.875"
   ]
  },
  {
   "cell_type": "code",
   "execution_count": 16,
   "id": "68eef6fa",
   "metadata": {
    "ExecuteTime": {
     "end_time": "2024-06-08T07:36:38.169620Z",
     "start_time": "2024-06-08T07:36:37.934998Z"
    }
   },
   "outputs": [],
   "source": [
    "uwnd = data_ssw['uwnd'][:132,314:594,440:1040].data  \n",
    "vwnd = data_ssw['vwnd'][:132,314:594,440:1040].data"
   ]
  },
  {
   "cell_type": "code",
   "execution_count": 17,
   "id": "83cf7d8a",
   "metadata": {
    "ExecuteTime": {
     "end_time": "2024-06-08T07:36:38.175611Z",
     "start_time": "2024-06-08T07:36:38.171617Z"
    }
   },
   "outputs": [
    {
     "name": "stdout",
     "output_type": "stream",
     "text": [
      "(132, 280, 600)\n",
      "(132, 280, 600)\n"
     ]
    }
   ],
   "source": [
    "print(uwnd.shape)\n",
    "print(vwnd.shape)"
   ]
  },
  {
   "cell_type": "code",
   "execution_count": 18,
   "id": "c5c8a2cd",
   "metadata": {
    "ExecuteTime": {
     "end_time": "2024-06-08T07:36:38.364308Z",
     "start_time": "2024-06-08T07:36:38.304404Z"
    }
   },
   "outputs": [
    {
     "data": {
      "text/plain": [
       "(12.433594, -11.7988205, 8.8359995, -13.645481)"
      ]
     },
     "execution_count": 18,
     "metadata": {},
     "output_type": "execute_result"
    }
   ],
   "source": [
    "np.nanmax(uwnd),np.nanmin(uwnd),np.nanmax(vwnd),np.nanmin(vwnd)"
   ]
  },
  {
   "cell_type": "markdown",
   "id": "4334792f",
   "metadata": {},
   "source": [
    "## 3DT"
   ]
  },
  {
   "cell_type": "code",
   "execution_count": 19,
   "id": "e02ac03d",
   "metadata": {
    "ExecuteTime": {
     "end_time": "2024-06-08T07:36:38.962368Z",
     "start_time": "2024-06-08T07:36:38.957376Z"
    }
   },
   "outputs": [],
   "source": [
    "data_3dt_1 = nc.Dataset(r'D:/codeFile/jupyterDemo/3d_ts/BPNN/data/3DT/dataset-armor-3d-rep-monthly_2005-2009.nc')\n",
    "data_3dt_2 = nc.Dataset(r'D:/codeFile/jupyterDemo/3d_ts/BPNN/data/3DT/dataset-armor-3d-rep-monthly_2010-2015.nc')"
   ]
  },
  {
   "cell_type": "code",
   "execution_count": 20,
   "id": "c15b88bd",
   "metadata": {
    "ExecuteTime": {
     "end_time": "2024-06-08T07:36:52.797124Z",
     "start_time": "2024-06-08T07:36:39.113125Z"
    }
   },
   "outputs": [],
   "source": [
    "sst_1 = data_3dt_1['to'][:].data\n",
    "sst_2 = data_3dt_2['to'][:].data"
   ]
  },
  {
   "cell_type": "code",
   "execution_count": 21,
   "id": "96f1a109",
   "metadata": {
    "ExecuteTime": {
     "end_time": "2024-06-08T07:36:52.803114Z",
     "start_time": "2024-06-08T07:36:52.799121Z"
    }
   },
   "outputs": [
    {
     "name": "stdout",
     "output_type": "stream",
     "text": [
      "(60, 43, 280, 600)\n",
      "(72, 43, 280, 600)\n"
     ]
    }
   ],
   "source": [
    "print(sst_1.shape)\n",
    "print(sst_2.shape)"
   ]
  },
  {
   "cell_type": "markdown",
   "id": "856d9df5",
   "metadata": {},
   "source": [
    "###  30 - 2000m 温度数据"
   ]
  },
  {
   "cell_type": "code",
   "execution_count": 22,
   "id": "aad4e347",
   "metadata": {
    "ExecuteTime": {
     "end_time": "2024-06-08T07:37:22.993130Z",
     "start_time": "2024-06-08T07:37:19.959009Z"
    }
   },
   "outputs": [
    {
     "name": "stdout",
     "output_type": "stream",
     "text": [
      "(132, 43, 280, 600)\n"
     ]
    }
   ],
   "source": [
    "temp_depth = np.append(sst_1,sst_2,axis=0)\n",
    "print(temp_depth.shape)"
   ]
  },
  {
   "cell_type": "code",
   "execution_count": 23,
   "id": "98f2e6ad",
   "metadata": {
    "ExecuteTime": {
     "end_time": "2024-06-08T07:37:51.218003Z",
     "start_time": "2024-06-08T07:37:51.212013Z"
    }
   },
   "outputs": [],
   "source": [
    "# 所有深度层\n",
    "depths = [0,5,10,15,20,25,30,35,40,45,50,55,60,65,70,80,90,100,125,150,175,200,225,250,275,300,350,400,\n",
    "         450,500,550,600,700,800,900,1000,1100,1200,1300,1400,1500,1750,2000]\n",
    "\n",
    "#选取的深度层\n",
    "depths_use = [10,15,20,30,40,50,60,70,80,90,100,125,150,175,200,225,250,275,300,350,400,\n",
    "              500,600,700,800,900,1000,1100,1300,1500,1750,2000]\n",
    "\n",
    "#[50,100,125,150,200,250,300,400,500,600,700,800,900,1000]"
   ]
  },
  {
   "cell_type": "code",
   "execution_count": 24,
   "id": "340dd8d6",
   "metadata": {
    "ExecuteTime": {
     "end_time": "2024-06-08T07:37:59.107621Z",
     "start_time": "2024-06-08T07:37:59.103627Z"
    }
   },
   "outputs": [],
   "source": [
    "temp_depth_use = temp_depth[:,1:2]"
   ]
  },
  {
   "cell_type": "code",
   "execution_count": 25,
   "id": "a693fa1b",
   "metadata": {
    "ExecuteTime": {
     "end_time": "2024-06-08T07:39:17.698872Z",
     "start_time": "2024-06-08T07:38:31.440248Z"
    }
   },
   "outputs": [],
   "source": [
    "for i,depth in enumerate(depths):\n",
    "    if(depth in depths_use):\n",
    "        #print(depths[i])\n",
    "        temp_depth_use = np.concatenate((temp_depth_use,temp_depth[:,i:i+1]),axis=1)  "
   ]
  },
  {
   "cell_type": "code",
   "execution_count": 26,
   "id": "a271c345",
   "metadata": {
    "ExecuteTime": {
     "end_time": "2024-06-08T07:39:17.704863Z",
     "start_time": "2024-06-08T07:39:17.699871Z"
    }
   },
   "outputs": [
    {
     "name": "stdout",
     "output_type": "stream",
     "text": [
      "(132, 33, 280, 600)\n",
      "(132, 280, 600, 33)\n"
     ]
    }
   ],
   "source": [
    "print(temp_depth_use.shape)\n",
    "temp_depth_use = np.transpose(temp_depth_use, (0,2,3,1))\n",
    "print(temp_depth_use.shape)"
   ]
  },
  {
   "cell_type": "markdown",
   "id": "f2c9055f",
   "metadata": {},
   "source": [
    "## SST表面温度数据"
   ]
  },
  {
   "cell_type": "code",
   "execution_count": 27,
   "id": "6234b015",
   "metadata": {
    "ExecuteTime": {
     "end_time": "2024-06-08T07:39:26.512503Z",
     "start_time": "2024-06-08T07:39:26.509508Z"
    }
   },
   "outputs": [],
   "source": [
    "sst = temp_depth[:,0:1,:,:]"
   ]
  },
  {
   "cell_type": "code",
   "execution_count": 28,
   "id": "2f16fbe9",
   "metadata": {
    "ExecuteTime": {
     "end_time": "2024-06-08T07:39:29.801216Z",
     "start_time": "2024-06-08T07:39:29.797222Z"
    }
   },
   "outputs": [
    {
     "name": "stdout",
     "output_type": "stream",
     "text": [
      "(132, 280, 600)\n"
     ]
    }
   ],
   "source": [
    "sst = np.squeeze(sst)\n",
    "print(sst.shape)"
   ]
  },
  {
   "cell_type": "markdown",
   "id": "79fe4126",
   "metadata": {},
   "source": [
    "## 数据合并"
   ]
  },
  {
   "cell_type": "code",
   "execution_count": 29,
   "id": "dd1ca4c6",
   "metadata": {
    "ExecuteTime": {
     "end_time": "2024-06-08T07:39:50.034484Z",
     "start_time": "2024-06-08T07:39:49.405495Z"
    }
   },
   "outputs": [
    {
     "name": "stdout",
     "output_type": "stream",
     "text": [
      "(132, 280, 600) (132, 280, 600) (132, 280, 600) (132, 280, 600) (132, 280, 600)\n"
     ]
    },
    {
     "data": {
      "text/plain": [
       "(132, 280, 600, 5)"
      ]
     },
     "execution_count": 29,
     "metadata": {},
     "output_type": "execute_result"
    }
   ],
   "source": [
    "print(ssh.shape,sss.shape,uwnd.shape,vwnd.shape,sst.shape)\n",
    "cat_data =np.stack((ssh,sss,uwnd,vwnd,sst),axis=3)\n",
    "cat_data.shape"
   ]
  },
  {
   "cell_type": "code",
   "execution_count": 30,
   "id": "31946f16",
   "metadata": {
    "ExecuteTime": {
     "end_time": "2024-06-08T07:39:55.470433Z",
     "start_time": "2024-06-08T07:39:52.573092Z"
    }
   },
   "outputs": [],
   "source": [
    "# 将表面数据和水下数据在最后一个维度拼接，将空值删除。\n",
    "cat_data_ss_depth = np.concatenate((cat_data,temp_depth_use),axis=-1)"
   ]
  },
  {
   "cell_type": "code",
   "execution_count": 31,
   "id": "3f4b2121",
   "metadata": {
    "ExecuteTime": {
     "end_time": "2024-06-08T07:39:55.476424Z",
     "start_time": "2024-06-08T07:39:55.471432Z"
    }
   },
   "outputs": [
    {
     "data": {
      "text/plain": [
       "(132, 280, 600, 38)"
      ]
     },
     "execution_count": 31,
     "metadata": {},
     "output_type": "execute_result"
    }
   ],
   "source": [
    "cat_data_ss_depth.shape "
   ]
  },
  {
   "cell_type": "markdown",
   "id": "6539202b",
   "metadata": {
    "ExecuteTime": {
     "end_time": "2023-10-08T07:54:27.397519Z",
     "start_time": "2023-10-08T07:54:27.393526Z"
    }
   },
   "source": [
    "## 将两个温度异常区域的数据设置为nan"
   ]
  },
  {
   "cell_type": "code",
   "execution_count": 32,
   "id": "1a958aaf",
   "metadata": {
    "ExecuteTime": {
     "end_time": "2024-06-08T07:40:51.800302Z",
     "start_time": "2024-06-08T07:40:51.723425Z"
    }
   },
   "outputs": [],
   "source": [
    "test = temp_depth_use[:,:,:,27:28]\n",
    "test[test < 0.4] = np.nan\n",
    "test[test > 10] = np.nan"
   ]
  },
  {
   "cell_type": "code",
   "execution_count": 33,
   "id": "6155394a",
   "metadata": {
    "ExecuteTime": {
     "end_time": "2024-06-08T07:41:08.173910Z",
     "start_time": "2024-06-08T07:41:07.902347Z"
    }
   },
   "outputs": [],
   "source": [
    "cat_data_ss_depth[:,:,:,32:33] = test"
   ]
  },
  {
   "cell_type": "code",
   "execution_count": 34,
   "id": "10f15c0b",
   "metadata": {
    "ExecuteTime": {
     "end_time": "2024-06-08T07:41:08.687085Z",
     "start_time": "2024-06-08T07:41:08.682093Z"
    }
   },
   "outputs": [
    {
     "data": {
      "text/plain": [
       "(132, 280, 600, 38)"
      ]
     },
     "execution_count": 34,
     "metadata": {},
     "output_type": "execute_result"
    }
   ],
   "source": [
    "cat_data_ss_depth.shape "
   ]
  },
  {
   "cell_type": "markdown",
   "id": "b2596fa1",
   "metadata": {},
   "source": [
    "## 将填充值赋值为NAN，且一个点中有一个维度为nan，则将这个点的所有维度都设置为nan \n"
   ]
  },
  {
   "cell_type": "code",
   "execution_count": 35,
   "id": "119f831a",
   "metadata": {
    "ExecuteTime": {
     "end_time": "2024-06-08T07:42:41.734958Z",
     "start_time": "2024-06-08T07:42:39.192046Z"
    },
    "code_folding": []
   },
   "outputs": [
    {
     "name": "stdout",
     "output_type": "stream",
     "text": [
      "(280, 600, 132, 38)\n",
      "(168000, 5016)\n"
     ]
    }
   ],
   "source": [
    "## 先对合并的数据进行reshape成（长*宽，时间*通道），此步骤是为了统一图像， 让所有时间所有深度的图像都相同。\n",
    "cat_data_ss_depth_reshape  = np.transpose(cat_data_ss_depth,(1,2,0,3))\n",
    "print(cat_data_ss_depth_reshape.shape)\n",
    "cat_data_ss_depth_reshape = cat_data_ss_depth_reshape.reshape ((-1,132*38))\n",
    "print(cat_data_ss_depth_reshape.shape)"
   ]
  },
  {
   "cell_type": "code",
   "execution_count": 36,
   "id": "cb75b4fa",
   "metadata": {
    "ExecuteTime": {
     "end_time": "2024-06-08T07:43:03.643499Z",
     "start_time": "2024-06-08T07:43:01.468995Z"
    },
    "code_folding": []
   },
   "outputs": [],
   "source": [
    "# 将填充值赋值为nan\n",
    "cat_data_ss_depth_reshape[cat_data_ss_depth_reshape == 32767] = np.nan\n",
    "nan_mask = np.isnan(cat_data_ss_depth_reshape)"
   ]
  },
  {
   "cell_type": "code",
   "execution_count": 38,
   "id": "53dc0aed",
   "metadata": {
    "ExecuteTime": {
     "end_time": "2024-06-08T07:43:07.454031Z",
     "start_time": "2024-06-08T07:43:07.397122Z"
    }
   },
   "outputs": [
    {
     "data": {
      "text/plain": [
       "64471"
      ]
     },
     "execution_count": 38,
     "metadata": {},
     "output_type": "execute_result"
    }
   ],
   "source": [
    "# 查看nan的个数 64471\n",
    "np.sum(nan_mask.any(axis=1) == True)"
   ]
  },
  {
   "cell_type": "code",
   "execution_count": 39,
   "id": "9d1f0613",
   "metadata": {
    "ExecuteTime": {
     "end_time": "2024-06-08T07:43:15.394364Z",
     "start_time": "2024-06-08T07:43:15.150755Z"
    }
   },
   "outputs": [
    {
     "name": "stdout",
     "output_type": "stream",
     "text": [
      "cat_data_ss_depth_reshape: (168000, 5016)\n"
     ]
    }
   ],
   "source": [
    "# 通过布尔索引删除NaN值。\n",
    "cat_data_ss_depth_reshape[nan_mask.any(axis=1) == True] = np.nan   \n",
    "# nan_mask.any(axis=1)==true,只要第一个维度中含有nan就将所有设置为nan。\n",
    "print('cat_data_ss_depth_reshape:',cat_data_ss_depth_reshape.shape)"
   ]
  },
  {
   "cell_type": "code",
   "execution_count": 40,
   "id": "d989b8a3",
   "metadata": {
    "ExecuteTime": {
     "end_time": "2024-06-08T07:43:16.261123Z",
     "start_time": "2024-06-08T07:43:16.253136Z"
    }
   },
   "outputs": [
    {
     "data": {
      "text/plain": [
       "64471"
      ]
     },
     "execution_count": 40,
     "metadata": {},
     "output_type": "execute_result"
    }
   ],
   "source": [
    "# 查看nan的个数，共有64471。\n",
    "np.sum(np.isnan(cat_data_ss_depth_reshape[:,4])) # 此处写几都可以，得到的nan的数量都是相同的。 "
   ]
  },
  {
   "cell_type": "code",
   "execution_count": 41,
   "id": "e15bafbf",
   "metadata": {
    "ExecuteTime": {
     "end_time": "2024-06-08T07:43:28.610003Z",
     "start_time": "2024-06-08T07:43:28.606010Z"
    },
    "code_folding": []
   },
   "outputs": [
    {
     "name": "stdout",
     "output_type": "stream",
     "text": [
      "(168000, 132, 38)\n",
      "(132, 168000, 38)\n"
     ]
    }
   ],
   "source": [
    "cat_data_ss_depth_reshape = cat_data_ss_depth_reshape.reshape(-1,132,38)\n",
    "print(cat_data_ss_depth_reshape.shape)\n",
    "cat_data_ss_depth_reshape = np.transpose(cat_data_ss_depth_reshape,(1,0,2))\n",
    "print(cat_data_ss_depth_reshape.shape)"
   ]
  },
  {
   "cell_type": "code",
   "execution_count": 42,
   "id": "3ab62a08",
   "metadata": {
    "ExecuteTime": {
     "end_time": "2024-06-08T07:43:33.215954Z",
     "start_time": "2024-06-08T07:43:33.211961Z"
    }
   },
   "outputs": [
    {
     "name": "stdout",
     "output_type": "stream",
     "text": [
      "(132, 280, 600, 38)\n"
     ]
    }
   ],
   "source": [
    "cat_data_ss_depth_reshape = cat_data_ss_depth_reshape.reshape(-1,280,600,38)\n",
    "print(cat_data_ss_depth_reshape.shape)"
   ]
  },
  {
   "cell_type": "code",
   "execution_count": 43,
   "id": "4b2b2040",
   "metadata": {
    "ExecuteTime": {
     "end_time": "2024-06-08T07:43:36.621294Z",
     "start_time": "2024-06-08T07:43:36.613306Z"
    }
   },
   "outputs": [
    {
     "data": {
      "text/plain": [
       "64471"
      ]
     },
     "execution_count": 43,
     "metadata": {},
     "output_type": "execute_result"
    }
   ],
   "source": [
    "# 确认nan的个数\n",
    "np.sum(np.isnan(cat_data_ss_depth_reshape[1:2,:,:,2:3]))"
   ]
  },
  {
   "cell_type": "markdown",
   "id": "eb31da4f",
   "metadata": {},
   "source": [
    "## 将数据分成小块"
   ]
  },
  {
   "cell_type": "code",
   "execution_count": 44,
   "id": "b2962990",
   "metadata": {
    "ExecuteTime": {
     "end_time": "2024-06-08T07:44:01.893927Z",
     "start_time": "2024-06-08T07:44:01.889934Z"
    }
   },
   "outputs": [
    {
     "name": "stdout",
     "output_type": "stream",
     "text": [
      "(132, 280, 600, 5) (132, 280, 600, 33)\n"
     ]
    }
   ],
   "source": [
    "cat_data_ss = cat_data_ss_depth_reshape[:,:,:,:5]    #表面数据\n",
    "cat_data_depth = cat_data_ss_depth_reshape[:,:,:,5:]  #次表层数据\n",
    "print(cat_data_ss.shape,cat_data_depth.shape)"
   ]
  },
  {
   "cell_type": "code",
   "execution_count": 45,
   "id": "d915c764",
   "metadata": {
    "ExecuteTime": {
     "end_time": "2024-06-08T07:44:05.714552Z",
     "start_time": "2024-06-08T07:44:05.706565Z"
    }
   },
   "outputs": [
    {
     "data": {
      "text/plain": [
       "64471"
      ]
     },
     "execution_count": 45,
     "metadata": {},
     "output_type": "execute_result"
    }
   ],
   "source": [
    "np.sum(np.isnan(cat_data_depth[1:2,:,:,5:6]))"
   ]
  },
  {
   "cell_type": "code",
   "execution_count": 46,
   "id": "a29a94cc",
   "metadata": {
    "ExecuteTime": {
     "end_time": "2024-06-08T07:50:30.620991Z",
     "start_time": "2024-06-08T07:48:58.703805Z"
    },
    "code_folding": []
   },
   "outputs": [
    {
     "name": "stdout",
     "output_type": "stream",
     "text": [
      "time_size: 132 lat_size: 280 lon_size: 600\n",
      "272 592\n",
      "out_data的形状 (132, 272, 592, 9, 9, 5)\n",
      "out_data_y的形状 (132, 272, 592, 33)\n"
     ]
    }
   ],
   "source": [
    "import numpy as np\n",
    "import pandas as pd\n",
    "\n",
    "time_size, lat_size, lon_size, channel = cat_data_ss.shape   # （132，280，600，5）\n",
    "\n",
    "# 定义矩形框的大小和步幅           \n",
    "box_size = 9  # 单位为度\n",
    "step_size = 1  # 滑动步幅\n",
    "\n",
    "# 计算输出网格的形状\n",
    "out_lat_size = (lat_size - box_size) // step_size  + 1 \n",
    "out_lon_size = (lon_size - box_size) // step_size  + 1 \n",
    "\n",
    "print('time_size:',time_size,'lat_size:',lat_size,'lon_size:',lon_size)   #(132 280 600)\n",
    "print(out_lat_size,out_lon_size)  #(272 592)\n",
    "\n",
    "#输出数组 \n",
    "out_data = np.zeros((time_size, out_lat_size , out_lon_size, box_size, box_size, channel)) #(132, 272, 592, 9,9,5)\n",
    "out_data_y = np.zeros((time_size, out_lat_size , out_lon_size, 33)) #(132, 272, 592,15)\n",
    "\n",
    "# 遍历时间步、纬度和经度\n",
    "for t in range(time_size):\n",
    "    sample_idx = 0\n",
    "    for lat in range(0, lat_size - box_size +1, step_size):\n",
    "        for lon in range(0, lon_size - box_size +1, step_size):\n",
    "            # 计算当前矩形框的边界\n",
    "            lat_min = lat\n",
    "            lat_max = lat + box_size\n",
    "            lon_min = lon\n",
    "            lon_max = lon + box_size\n",
    "            #print(lat_min,lat_max,lon_min,lon_max)\n",
    "            # 获取当前矩形框的地图数据\n",
    "            box_data = cat_data_ss[t, lat_min:lat_max, lon_min:lon_max,:]\n",
    "            # 写入数组中\n",
    "#             lat_ = lat//4\n",
    "#             lon_ = lon//4\n",
    "            out_data[t,lat,lon, :, :, :] = box_data\n",
    "            box_data = []\n",
    "            #print(sample_idx)\n",
    "            # 增加样本计数器\n",
    "            sample_idx += 1\n",
    "\n",
    "print('out_data的形状',out_data.shape)\n",
    "#return out_data\n",
    "    \n",
    "#==============================================================================#   \n",
    "\n",
    "# 遍历时间步、纬度和经度\n",
    "for t in range(time_size):\n",
    "    sample_idx = 0\n",
    "    for lat in range(4, lat_size-4, step_size):\n",
    "        for lon in range(4, lon_size-4, step_size):\n",
    "            box_data_y = cat_data_depth[t, lat:lat+1, lon:lon+1,:]\n",
    "            out_data_y[t,lat-4,lon-4, :] = box_data_y\n",
    "            box_data_y = []\n",
    "            #print(sample_idx)\n",
    "            # 增加样本计数器\n",
    "            sample_idx += 1\n",
    "\n",
    "print('out_data_y的形状',out_data_y.shape)\n",
    "    \n",
    "# out_data_reshape = slider_value(cat_data)"
   ]
  },
  {
   "cell_type": "markdown",
   "id": "0711d229",
   "metadata": {},
   "source": [
    "### test "
   ]
  },
  {
   "cell_type": "code",
   "execution_count": 47,
   "id": "0aafb18e",
   "metadata": {
    "ExecuteTime": {
     "end_time": "2024-06-08T07:51:41.480756Z",
     "start_time": "2024-06-08T07:51:41.472769Z"
    }
   },
   "outputs": [
    {
     "data": {
      "text/plain": [
       "59992"
      ]
     },
     "execution_count": 47,
     "metadata": {},
     "output_type": "execute_result"
    }
   ],
   "source": [
    "np.sum(np.isnan(out_data_y[1:2,:,:,2:3]))  # 之前的nan值个数为61950，当前为57599"
   ]
  },
  {
   "cell_type": "code",
   "execution_count": 48,
   "id": "4204fcc3",
   "metadata": {
    "ExecuteTime": {
     "end_time": "2024-06-08T07:53:29.727591Z",
     "start_time": "2024-06-08T07:53:29.723597Z"
    }
   },
   "outputs": [],
   "source": [
    "#out_data[1,24,1,:,:,4]"
   ]
  },
  {
   "cell_type": "code",
   "execution_count": 49,
   "id": "a999e182",
   "metadata": {
    "ExecuteTime": {
     "end_time": "2024-06-08T07:53:29.983180Z",
     "start_time": "2024-06-08T07:53:29.979187Z"
    }
   },
   "outputs": [],
   "source": [
    "#out_data_y[1,24,1,0]"
   ]
  },
  {
   "cell_type": "markdown",
   "id": "e6e7b58e",
   "metadata": {},
   "source": [
    "## 删除缺失值多于一半的数据"
   ]
  },
  {
   "cell_type": "markdown",
   "id": "ea6ea49d",
   "metadata": {
    "ExecuteTime": {
     "end_time": "2023-10-14T13:31:17.158866Z",
     "start_time": "2023-10-14T13:31:17.155871Z"
    }
   },
   "source": [
    "### 获取NAN_mask "
   ]
  },
  {
   "cell_type": "code",
   "execution_count": 50,
   "id": "15a0ff6a",
   "metadata": {
    "ExecuteTime": {
     "end_time": "2024-06-08T07:54:02.375550Z",
     "start_time": "2024-06-08T07:54:02.371557Z"
    }
   },
   "outputs": [
    {
     "data": {
      "text/plain": [
       "(132, 272, 592, 9, 9, 5)"
      ]
     },
     "execution_count": 50,
     "metadata": {},
     "output_type": "execute_result"
    }
   ],
   "source": [
    "out_data.shape "
   ]
  },
  {
   "cell_type": "code",
   "execution_count": 51,
   "id": "6c7ead8c",
   "metadata": {
    "ExecuteTime": {
     "end_time": "2024-06-08T07:55:08.773031Z",
     "start_time": "2024-06-08T07:55:01.545651Z"
    }
   },
   "outputs": [
    {
     "name": "stdout",
     "output_type": "stream",
     "text": [
      "(132, 161024, 9, 9, 5)\n",
      "(132, 161024, 9, 9, 5)\n"
     ]
    }
   ],
   "source": [
    "# 修改变量形状\n",
    "out_data_reshape = out_data.reshape((132,-1,9,9,5))\n",
    "print(out_data_reshape.shape) \n",
    "\n",
    "# 获取变量nan掩码\n",
    "nan_mask_out_data = np.isnan(out_data_reshape)\n",
    "print(nan_mask_out_data.shape)"
   ]
  },
  {
   "cell_type": "code",
   "execution_count": 54,
   "id": "bdccd35b",
   "metadata": {
    "ExecuteTime": {
     "end_time": "2024-06-08T07:55:53.760219Z",
     "start_time": "2024-06-08T07:55:53.746242Z"
    }
   },
   "outputs": [
    {
     "data": {
      "text/plain": [
       "4861287"
      ]
     },
     "execution_count": 54,
     "metadata": {},
     "output_type": "execute_result"
    }
   ],
   "source": [
    "# （161024，9，9）中存在4666932个nan\n",
    "np.count_nonzero(nan_mask_out_data[7:8,:,:,:,2:3])"
   ]
  },
  {
   "cell_type": "code",
   "execution_count": 52,
   "id": "4d8748f5",
   "metadata": {
    "ExecuteTime": {
     "end_time": "2024-06-08T07:55:14.430132Z",
     "start_time": "2024-06-08T07:55:14.426138Z"
    }
   },
   "outputs": [],
   "source": [
    "# 选取一个作为代表(都一样)\n",
    "nan_mask_out_data_one = nan_mask_out_data[0,:,:,:,0]   #(161024, 9, 9)\n",
    "nan_mask_out_data_one = nan_mask_out_data_one.reshape(-1,9*9) #（161024，81）    # 其中true 代表Nan"
   ]
  },
  {
   "cell_type": "code",
   "execution_count": 55,
   "id": "9754c66a",
   "metadata": {
    "ExecuteTime": {
     "end_time": "2024-06-08T07:58:48.512255Z",
     "start_time": "2024-06-08T07:58:48.509260Z"
    }
   },
   "outputs": [],
   "source": [
    "# 查看mask中Nan 的个数\n",
    "#np.count_nonzero(nan_mask_out_data_one)     # 4666932\n",
    "#查看形状\n",
    "#nan_mask_out_data_one.shape     # 161024, 81)\n",
    "# 查看内容\n",
    "#nan_mask_out_data_one"
   ]
  },
  {
   "cell_type": "markdown",
   "id": "196a96c6",
   "metadata": {},
   "source": [
    "### 为有效值大于一半的方块标注True"
   ]
  },
  {
   "cell_type": "code",
   "execution_count": 56,
   "id": "5bfa7b93",
   "metadata": {
    "ExecuteTime": {
     "end_time": "2024-06-08T07:59:03.286872Z",
     "start_time": "2024-06-08T07:59:03.120141Z"
    }
   },
   "outputs": [],
   "source": [
    "nan_mask = [] \n",
    "for i in nan_mask_out_data_one:\n",
    "    if(np.count_nonzero(i) <=40):    #True 代表nan，当nan小于等于40时，代表有效值大于一半\n",
    "        nan_mask.append(True)\n",
    "    else:\n",
    "        nan_mask.append(False)"
   ]
  },
  {
   "cell_type": "code",
   "execution_count": 57,
   "id": "7f288860",
   "metadata": {
    "ExecuteTime": {
     "end_time": "2024-06-08T07:59:03.368741Z",
     "start_time": "2024-06-08T07:59:03.360754Z"
    }
   },
   "outputs": [
    {
     "data": {
      "text/plain": [
       "101392"
      ]
     },
     "execution_count": 57,
     "metadata": {},
     "output_type": "execute_result"
    }
   ],
   "source": [
    "np.count_nonzero(nan_mask)  # 查看有效值个数"
   ]
  },
  {
   "cell_type": "code",
   "execution_count": 58,
   "id": "899afd0d",
   "metadata": {
    "ExecuteTime": {
     "end_time": "2024-06-08T07:59:25.109207Z",
     "start_time": "2024-06-08T07:59:25.104215Z"
    }
   },
   "outputs": [
    {
     "name": "stdout",
     "output_type": "stream",
     "text": [
      "out_data_reshape: (161024, 132, 9, 9, 5)\n",
      "out_data_y_reshape: (272, 592, 132, 33)\n",
      "out_data_y_reshape: (161024, 132, 33)\n"
     ]
    }
   ],
   "source": [
    "out_data_reshape =  np.transpose(out_data_reshape,(1,0,2,3,4))\n",
    "print('out_data_reshape:',out_data_reshape.shape)\n",
    "out_data_y_reshape =  np.transpose(out_data_y,(1,2,0,3))\n",
    "print('out_data_y_reshape:',out_data_y_reshape.shape)\n",
    "out_data_y_reshape = out_data_y_reshape.reshape(-1,132,33)\n",
    "print('out_data_y_reshape:',out_data_y_reshape.shape)"
   ]
  },
  {
   "cell_type": "markdown",
   "id": "14075089",
   "metadata": {},
   "source": [
    "## 开始删除无效数据"
   ]
  },
  {
   "cell_type": "code",
   "execution_count": 59,
   "id": "93ad4743",
   "metadata": {
    "ExecuteTime": {
     "end_time": "2024-06-08T07:59:59.842101Z",
     "start_time": "2024-06-08T07:59:41.126190Z"
    }
   },
   "outputs": [
    {
     "name": "stdout",
     "output_type": "stream",
     "text": [
      "(101392, 132, 9, 9, 5) (101392, 132, 33)\n"
     ]
    }
   ],
   "source": [
    "out_data_reshape = out_data_reshape[nan_mask]\n",
    "out_data_y_reshape = out_data_y_reshape[nan_mask]\n",
    "print(out_data_reshape.shape,out_data_y_reshape.shape)"
   ]
  },
  {
   "cell_type": "markdown",
   "id": "c9ddb083",
   "metadata": {},
   "source": [
    "## 使用0来填充nan "
   ]
  },
  {
   "cell_type": "code",
   "execution_count": 60,
   "id": "9d3199a0",
   "metadata": {
    "ExecuteTime": {
     "end_time": "2024-06-08T08:01:27.026711Z",
     "start_time": "2024-06-08T08:00:06.021938Z"
    }
   },
   "outputs": [],
   "source": [
    "out_data_reshape = np.nan_to_num(out_data_reshape, nan=0)   # (103623, 132, 9, 9, 5) \n",
    "out_data_y_reshape = np.nan_to_num(out_data_y_reshape, nan=0)  #(103623, 132, 15)"
   ]
  },
  {
   "cell_type": "markdown",
   "id": "dcc6b9cb",
   "metadata": {},
   "source": [
    "# 验证集和测试集的划分"
   ]
  },
  {
   "cell_type": "markdown",
   "id": "4e542bf9",
   "metadata": {},
   "source": [
    "## 对数据进行reshape,以进行数据集的划分"
   ]
  },
  {
   "cell_type": "code",
   "execution_count": 61,
   "id": "91064314",
   "metadata": {
    "ExecuteTime": {
     "end_time": "2024-06-08T08:02:17.064230Z",
     "start_time": "2024-06-08T08:02:17.060236Z"
    }
   },
   "outputs": [
    {
     "name": "stdout",
     "output_type": "stream",
     "text": [
      "out_data_reshape: (132, 101392, 9, 9, 5)\n",
      "out_data_y_reshape: (132, 101392, 33)\n"
     ]
    }
   ],
   "source": [
    "out_data_reshape = np.transpose(out_data_reshape,(1,0,2,3,4))\n",
    "print('out_data_reshape:',out_data_reshape.shape)\n",
    "out_data_y_reshape =  np.transpose(out_data_y_reshape,(1,0,2))\n",
    "print('out_data_y_reshape:',out_data_y_reshape.shape)"
   ]
  },
  {
   "cell_type": "code",
   "execution_count": 62,
   "id": "ce22e0d5",
   "metadata": {
    "ExecuteTime": {
     "end_time": "2024-06-08T08:02:20.219158Z",
     "start_time": "2024-06-08T08:02:20.215164Z"
    }
   },
   "outputs": [],
   "source": [
    "# 最后十二个月的数据作为test\n",
    "test_num = 120\n",
    "x_train = out_data_reshape[:test_num]\n",
    "y_train = out_data_y_reshape[:test_num]\n",
    "\n",
    "x_test = out_data_reshape[test_num:]\n",
    "y_test = out_data_y_reshape[test_num:]"
   ]
  },
  {
   "cell_type": "code",
   "execution_count": 63,
   "id": "08307c9e",
   "metadata": {
    "ExecuteTime": {
     "end_time": "2024-06-08T08:02:25.333723Z",
     "start_time": "2024-06-08T08:02:25.328731Z"
    }
   },
   "outputs": [
    {
     "data": {
      "text/plain": [
       "((120, 101392, 9, 9, 5),\n",
       " (120, 101392, 33),\n",
       " (12, 101392, 9, 9, 5),\n",
       " (12, 101392, 33))"
      ]
     },
     "execution_count": 63,
     "metadata": {},
     "output_type": "execute_result"
    }
   ],
   "source": [
    "# 查看形状\n",
    "x_train.shape,y_train.shape,x_test.shape,y_test.shape "
   ]
  },
  {
   "cell_type": "code",
   "execution_count": 64,
   "id": "7e9bf3c9",
   "metadata": {
    "ExecuteTime": {
     "end_time": "2024-06-08T08:03:16.429377Z",
     "start_time": "2024-06-08T08:02:55.580895Z"
    }
   },
   "outputs": [],
   "source": [
    "# 将前两个维度进行合并  时间*(lat*lon)\n",
    "x_train = np.reshape(x_train,(-1,9,9,5))\n",
    "x_test = np.reshape(x_test,(-1,9,9,5))\n",
    "\n",
    "y_train = np.reshape(y_train,(-1,33))\n",
    "y_test = np.reshape(y_test,(-1,33))"
   ]
  },
  {
   "cell_type": "markdown",
   "id": "82145a06",
   "metadata": {
    "ExecuteTime": {
     "end_time": "2023-09-27T11:16:55.407824Z",
     "start_time": "2023-09-27T11:16:55.403831Z"
    }
   },
   "source": [
    "## 划分训练数据和目标数据"
   ]
  },
  {
   "cell_type": "code",
   "execution_count": 65,
   "id": "ef288642",
   "metadata": {
    "ExecuteTime": {
     "end_time": "2024-06-08T08:03:16.435367Z",
     "start_time": "2024-06-08T08:03:16.430376Z"
    }
   },
   "outputs": [
    {
     "name": "stdout",
     "output_type": "stream",
     "text": [
      "x_test.shape: (1216704, 9, 9, 5)\n",
      "y_test.shape (1216704, 33)\n",
      "x_train (12167040, 9, 9, 5)\n",
      "y_train (12167040, 33)\n"
     ]
    }
   ],
   "source": [
    "print('x_test.shape:',x_test.shape)\n",
    "print('y_test.shape',y_test.shape)\n",
    "print('x_train',x_train.shape)\n",
    "print('y_train',y_train.shape)"
   ]
  },
  {
   "cell_type": "code",
   "execution_count": 66,
   "id": "57afe328",
   "metadata": {
    "ExecuteTime": {
     "end_time": "2024-06-08T08:03:53.622331Z",
     "start_time": "2024-06-08T08:03:20.574462Z"
    }
   },
   "outputs": [],
   "source": [
    "# 这是验证集和训练集的划分是随机选取。\n",
    "x_train, x_val, y_train, y_val = train_test_split(x_train, y_train, test_size=0.3, random_state=100)"
   ]
  },
  {
   "cell_type": "code",
   "execution_count": 67,
   "id": "56fdc0c1",
   "metadata": {
    "ExecuteTime": {
     "end_time": "2024-06-08T08:03:53.628322Z",
     "start_time": "2024-06-08T08:03:53.624328Z"
    }
   },
   "outputs": [
    {
     "name": "stdout",
     "output_type": "stream",
     "text": [
      "x_train (8516928, 9, 9, 5)\n",
      "x_test (1216704, 9, 9, 5)\n",
      "x_val (3650112, 9, 9, 5)\n",
      "y_train (8516928, 33)\n",
      "y_test (1216704, 33)\n",
      "y_val (3650112, 33)\n"
     ]
    }
   ],
   "source": [
    "print('x_train',x_train.shape)\n",
    "print('x_test',x_test.shape)\n",
    "print('x_val',x_val.shape)\n",
    "print('y_train',y_train.shape)\n",
    "print('y_test',y_test.shape)\n",
    "print('y_val',y_val.shape)"
   ]
  },
  {
   "cell_type": "markdown",
   "id": "4adfdb57",
   "metadata": {},
   "source": [
    "# 特征归一化"
   ]
  },
  {
   "cell_type": "code",
   "execution_count": 68,
   "id": "0e7a1057",
   "metadata": {
    "ExecuteTime": {
     "end_time": "2024-06-08T08:03:53.632321Z",
     "start_time": "2024-06-08T08:03:53.629321Z"
    },
    "code_folding": []
   },
   "outputs": [],
   "source": [
    "# 记录数据集的形状\n",
    "x_train_shape = x_train.shape\n",
    "y_train_shape = y_train.shape\n",
    "\n",
    "x_test_shape = x_test.shape\n",
    "y_test_shape = y_test.shape\n",
    "\n",
    "x_val_shape = x_val.shape\n",
    "y_val_shape = y_val.shape"
   ]
  },
  {
   "cell_type": "code",
   "execution_count": 69,
   "id": "9e19fa83",
   "metadata": {
    "ExecuteTime": {
     "end_time": "2024-06-08T08:05:56.882510Z",
     "start_time": "2024-06-08T08:04:07.801851Z"
    }
   },
   "outputs": [],
   "source": [
    "scaler_f = StandardScaler()\n",
    "x_train = scaler_f.fit_transform(x_train.reshape(-1,x_train_shape[3])) \n",
    "x_test = scaler_f.transform(x_test.reshape(-1,x_test_shape[3]))\n",
    "x_val = scaler_f.transform(x_val.reshape(-1,x_val_shape[3]))\n",
    "\n",
    "scaler_l = StandardScaler()\n",
    "y_train = scaler_l.fit_transform(y_train.reshape(-1,y_train_shape[1])) \n",
    "y_test = scaler_l.transform(y_test.reshape(-1,y_test_shape[1])) \n",
    "y_val = scaler_l.transform(y_val.reshape(-1,y_val_shape[1])) "
   ]
  },
  {
   "cell_type": "code",
   "execution_count": 70,
   "id": "5efe52e7",
   "metadata": {
    "ExecuteTime": {
     "end_time": "2024-06-08T08:05:56.888501Z",
     "start_time": "2024-06-08T08:05:56.883508Z"
    }
   },
   "outputs": [],
   "source": [
    "x_train = np.reshape(x_train,(-1,9,9,5))\n",
    "x_test = np.reshape(x_test,(-1,9,9,5))\n",
    "x_val = np.reshape(x_val,(-1,9,9,5))\n",
    "y_train = np.reshape(y_train,(-1,33))\n",
    "y_test = np.reshape(y_test,(-1,33))\n",
    "y_val = np.reshape(y_val,(-1,33))"
   ]
  },
  {
   "cell_type": "code",
   "execution_count": 71,
   "id": "5cd9d9f6",
   "metadata": {
    "ExecuteTime": {
     "end_time": "2024-06-08T08:05:56.893493Z",
     "start_time": "2024-06-08T08:05:56.889499Z"
    }
   },
   "outputs": [
    {
     "name": "stdout",
     "output_type": "stream",
     "text": [
      "x_train (8516928, 9, 9, 5)\n",
      "x_test (1216704, 9, 9, 5)\n",
      "x_val (3650112, 9, 9, 5)\n",
      "y_train (8516928, 33)\n",
      "y_test (1216704, 33)\n",
      "y_val (3650112, 33)\n"
     ]
    }
   ],
   "source": [
    "print('x_train',x_train.shape)\n",
    "print('x_test',x_test.shape)\n",
    "print('x_val',x_val.shape)\n",
    "print('y_train',y_train.shape)\n",
    "print('y_test',y_test.shape)\n",
    "print('y_val',y_val.shape)"
   ]
  },
  {
   "cell_type": "markdown",
   "id": "82214b18",
   "metadata": {},
   "source": [
    "# 定义网络结构"
   ]
  },
  {
   "cell_type": "code",
   "execution_count": 72,
   "id": "be193a0a",
   "metadata": {
    "ExecuteTime": {
     "end_time": "2024-06-08T08:14:12.560739Z",
     "start_time": "2024-06-08T08:14:12.556746Z"
    },
    "code_folding": [
     0
    ]
   },
   "outputs": [],
   "source": [
    "# # 创建神经网络模型\n",
    "# def create_model():   \n",
    "#     model = models.Sequential([\n",
    "#         layers.Dense(200, activation='tanh', input_shape=(5,)),  # 输入层和隐藏层\n",
    "#         layers.Dense(15, activation='tanh'),\n",
    "#         layers.Dense(8, activation='tanh'),\n",
    "#         layers.Dense(1, activation='linear')  # 输出层，num_depths表示深度的数量\n",
    "#     ])\n",
    "#     model.compile(optimizer='adam', loss='mean_squared_error')\n",
    "#     return model \n",
    "# #model.summary()"
   ]
  },
  {
   "cell_type": "code",
   "execution_count": 74,
   "id": "bde37741",
   "metadata": {
    "ExecuteTime": {
     "end_time": "2024-06-08T08:15:18.678097Z",
     "start_time": "2024-06-08T08:15:18.671109Z"
    },
    "code_folding": []
   },
   "outputs": [],
   "source": [
    "def ChannelAttention(inputs,in_planes, ratio=2):\n",
    "    \n",
    "    avg_out= layers.GlobalAveragePooling2D()\n",
    "    max_out= layers.GlobalMaxPooling2D()\n",
    "\n",
    "    fc1 = layers.Dense(in_planes//ratio, kernel_initializer='he_normal',\n",
    "                            kernel_regularizer=regularizers.l2(5e-4),\n",
    "                            activation=tf.nn.relu,\n",
    "                            use_bias=True, bias_initializer='zeros')\n",
    "    fc2 = layers.Dense(in_planes, kernel_initializer='he_normal',\n",
    "                            kernel_regularizer=regularizers.l2(5e-4),\n",
    "                            use_bias=True, bias_initializer='zeros')\n",
    "\n",
    "    \n",
    "    avg_out = avg_out(inputs)\n",
    "    max_out = max_out(inputs)\n",
    "    out = tf.stack([avg_out, max_out], axis=1)  # shape=(None, 2, fea_num)\n",
    "    out = fc2(fc1(out))\n",
    "    out = tf.reduce_sum(out, axis=1)             # shape=(256, 512)\n",
    "    out = tf.nn.sigmoid(out)\n",
    "    out = layers.Reshape((1, 1, out.shape[1]))(out)\n",
    "\n",
    "    return  out*inputs"
   ]
  },
  {
   "cell_type": "code",
   "execution_count": 75,
   "id": "9947b9bb",
   "metadata": {
    "ExecuteTime": {
     "end_time": "2024-06-08T08:15:41.655681Z",
     "start_time": "2024-06-08T08:15:41.650687Z"
    },
    "code_folding": []
   },
   "outputs": [],
   "source": [
    "def regularized_padded_conv(*args, **kwargs):\n",
    "    return layers.Conv2D(*args, **kwargs, padding='same', use_bias=False,\n",
    "                         kernel_initializer='he_normal',\n",
    "                         kernel_regularizer=regularizers.l2(5e-4))\n",
    "\n",
    "def SpatialAttention(inputs,kernel_size=5):\n",
    "    conv1 = regularized_padded_conv(1, kernel_size=kernel_size, strides=1, activation='sigmoid')\n",
    "    avg_out = tf.reduce_mean(inputs, axis=3)\n",
    "    max_out = tf.reduce_max(inputs, axis=3)\n",
    "    out = tf.stack([avg_out, max_out], axis=-1)             # 创建一个维度,拼接到一起concat。\n",
    "    out = conv1(out)\n",
    "    return out*inputs"
   ]
  },
  {
   "cell_type": "code",
   "execution_count": 76,
   "id": "174d3a8e",
   "metadata": {
    "ExecuteTime": {
     "end_time": "2024-06-08T08:15:45.887072Z",
     "start_time": "2024-06-08T08:15:45.883063Z"
    },
    "code_folding": []
   },
   "outputs": [],
   "source": [
    "def cbam_block(inputs, in_planes,ratio=2):\n",
    "\n",
    "    cbam_feature = ChannelAttention(inputs, in_planes,ratio)\n",
    "    cbam_feature = SpatialAttention(cbam_feature)\n",
    "    return cbam_feature"
   ]
  },
  {
   "cell_type": "code",
   "execution_count": 77,
   "id": "09016b5d",
   "metadata": {
    "ExecuteTime": {
     "end_time": "2024-06-08T08:15:49.897018Z",
     "start_time": "2024-06-08T08:15:49.891025Z"
    },
    "code_folding": []
   },
   "outputs": [],
   "source": [
    "def create_model():\n",
    "    model_input= Input(shape=x_train.shape[1:])\n",
    "    output_size = 1\n",
    "    x = cbam_block(model_input,5)\n",
    "    x = Conv2D(filters=16, kernel_size=(3, 3),strides=1)(model_input)\n",
    "    x = BatchNormalization()(x)\n",
    "    x = Activation('relu')(x)\n",
    "    x = Dropout(rate=0.1)(x)\n",
    "\n",
    "    x = cbam_block(x,16)\n",
    "    x = Conv2D(filters=32, kernel_size=(3, 3),strides=1)(x)\n",
    "    x = BatchNormalization()(x)\n",
    "    x = Activation('relu')(x)\n",
    "    x = Dropout(rate=0.1)(x)\n",
    "\n",
    "    x = cbam_block(x,32)\n",
    "    x = Flatten()(x)\n",
    "\n",
    "    x = Dense(units=16)(x)\n",
    "    x = Activation('relu')(x)\n",
    "\n",
    "    out = Dense(units=output_size)(x)\n",
    "    \n",
    "    model = Model(inputs=model_input, outputs=out)\n",
    "    model.compile(optimizer='adam', loss='mean_squared_error')\n",
    "    return model "
   ]
  },
  {
   "cell_type": "code",
   "execution_count": 78,
   "id": "b568ef4e",
   "metadata": {
    "ExecuteTime": {
     "end_time": "2024-06-08T08:15:55.439107Z",
     "start_time": "2024-06-08T08:15:50.554958Z"
    }
   },
   "outputs": [
    {
     "name": "stdout",
     "output_type": "stream",
     "text": [
      "Model: \"model\"\n",
      "__________________________________________________________________________________________________\n",
      "Layer (type)                    Output Shape         Param #     Connected to                     \n",
      "==================================================================================================\n",
      "input_1 (InputLayer)            [(None, 9, 9, 5)]    0                                            \n",
      "__________________________________________________________________________________________________\n",
      "conv2d_1 (Conv2D)               (None, 7, 7, 16)     736         input_1[0][0]                    \n",
      "__________________________________________________________________________________________________\n",
      "batch_normalization (BatchNorma (None, 7, 7, 16)     64          conv2d_1[0][0]                   \n",
      "__________________________________________________________________________________________________\n",
      "activation (Activation)         (None, 7, 7, 16)     0           batch_normalization[0][0]        \n",
      "__________________________________________________________________________________________________\n",
      "dropout (Dropout)               (None, 7, 7, 16)     0           activation[0][0]                 \n",
      "__________________________________________________________________________________________________\n",
      "global_average_pooling2d_1 (Glo (None, 16)           0           dropout[0][0]                    \n",
      "__________________________________________________________________________________________________\n",
      "global_max_pooling2d_1 (GlobalM (None, 16)           0           dropout[0][0]                    \n",
      "__________________________________________________________________________________________________\n",
      "tf.stack_2 (TFOpLambda)         (None, 2, 16)        0           global_average_pooling2d_1[0][0] \n",
      "                                                                 global_max_pooling2d_1[0][0]     \n",
      "__________________________________________________________________________________________________\n",
      "dense_2 (Dense)                 (None, 2, 8)         136         tf.stack_2[0][0]                 \n",
      "__________________________________________________________________________________________________\n",
      "dense_3 (Dense)                 (None, 2, 16)        144         dense_2[0][0]                    \n",
      "__________________________________________________________________________________________________\n",
      "tf.math.reduce_sum_1 (TFOpLambd (None, 16)           0           dense_3[0][0]                    \n",
      "__________________________________________________________________________________________________\n",
      "tf.math.sigmoid_1 (TFOpLambda)  (None, 16)           0           tf.math.reduce_sum_1[0][0]       \n",
      "__________________________________________________________________________________________________\n",
      "reshape_1 (Reshape)             (None, 1, 1, 16)     0           tf.math.sigmoid_1[0][0]          \n",
      "__________________________________________________________________________________________________\n",
      "tf.math.multiply_2 (TFOpLambda) (None, 7, 7, 16)     0           reshape_1[0][0]                  \n",
      "                                                                 dropout[0][0]                    \n",
      "__________________________________________________________________________________________________\n",
      "tf.math.reduce_mean_1 (TFOpLamb (None, 7, 7)         0           tf.math.multiply_2[0][0]         \n",
      "__________________________________________________________________________________________________\n",
      "tf.math.reduce_max_1 (TFOpLambd (None, 7, 7)         0           tf.math.multiply_2[0][0]         \n",
      "__________________________________________________________________________________________________\n",
      "tf.stack_3 (TFOpLambda)         (None, 7, 7, 2)      0           tf.math.reduce_mean_1[0][0]      \n",
      "                                                                 tf.math.reduce_max_1[0][0]       \n",
      "__________________________________________________________________________________________________\n",
      "conv2d_2 (Conv2D)               (None, 7, 7, 1)      50          tf.stack_3[0][0]                 \n",
      "__________________________________________________________________________________________________\n",
      "tf.math.multiply_3 (TFOpLambda) (None, 7, 7, 16)     0           conv2d_2[0][0]                   \n",
      "                                                                 tf.math.multiply_2[0][0]         \n",
      "__________________________________________________________________________________________________\n",
      "conv2d_3 (Conv2D)               (None, 5, 5, 32)     4640        tf.math.multiply_3[0][0]         \n",
      "__________________________________________________________________________________________________\n",
      "batch_normalization_1 (BatchNor (None, 5, 5, 32)     128         conv2d_3[0][0]                   \n",
      "__________________________________________________________________________________________________\n",
      "activation_1 (Activation)       (None, 5, 5, 32)     0           batch_normalization_1[0][0]      \n",
      "__________________________________________________________________________________________________\n",
      "dropout_1 (Dropout)             (None, 5, 5, 32)     0           activation_1[0][0]               \n",
      "__________________________________________________________________________________________________\n",
      "global_average_pooling2d_2 (Glo (None, 32)           0           dropout_1[0][0]                  \n",
      "__________________________________________________________________________________________________\n",
      "global_max_pooling2d_2 (GlobalM (None, 32)           0           dropout_1[0][0]                  \n",
      "__________________________________________________________________________________________________\n",
      "tf.stack_4 (TFOpLambda)         (None, 2, 32)        0           global_average_pooling2d_2[0][0] \n",
      "                                                                 global_max_pooling2d_2[0][0]     \n",
      "__________________________________________________________________________________________________\n",
      "dense_4 (Dense)                 (None, 2, 16)        528         tf.stack_4[0][0]                 \n",
      "__________________________________________________________________________________________________\n",
      "dense_5 (Dense)                 (None, 2, 32)        544         dense_4[0][0]                    \n",
      "__________________________________________________________________________________________________\n",
      "tf.math.reduce_sum_2 (TFOpLambd (None, 32)           0           dense_5[0][0]                    \n",
      "__________________________________________________________________________________________________\n",
      "tf.math.sigmoid_2 (TFOpLambda)  (None, 32)           0           tf.math.reduce_sum_2[0][0]       \n",
      "__________________________________________________________________________________________________\n",
      "reshape_2 (Reshape)             (None, 1, 1, 32)     0           tf.math.sigmoid_2[0][0]          \n",
      "__________________________________________________________________________________________________\n",
      "tf.math.multiply_4 (TFOpLambda) (None, 5, 5, 32)     0           reshape_2[0][0]                  \n",
      "                                                                 dropout_1[0][0]                  \n",
      "__________________________________________________________________________________________________\n",
      "tf.math.reduce_mean_2 (TFOpLamb (None, 5, 5)         0           tf.math.multiply_4[0][0]         \n",
      "__________________________________________________________________________________________________\n",
      "tf.math.reduce_max_2 (TFOpLambd (None, 5, 5)         0           tf.math.multiply_4[0][0]         \n",
      "__________________________________________________________________________________________________\n",
      "tf.stack_5 (TFOpLambda)         (None, 5, 5, 2)      0           tf.math.reduce_mean_2[0][0]      \n",
      "                                                                 tf.math.reduce_max_2[0][0]       \n",
      "__________________________________________________________________________________________________\n",
      "conv2d_4 (Conv2D)               (None, 5, 5, 1)      50          tf.stack_5[0][0]                 \n",
      "__________________________________________________________________________________________________\n",
      "tf.math.multiply_5 (TFOpLambda) (None, 5, 5, 32)     0           conv2d_4[0][0]                   \n",
      "                                                                 tf.math.multiply_4[0][0]         \n",
      "__________________________________________________________________________________________________\n",
      "flatten (Flatten)               (None, 800)          0           tf.math.multiply_5[0][0]         \n",
      "__________________________________________________________________________________________________\n",
      "dense_6 (Dense)                 (None, 16)           12816       flatten[0][0]                    \n",
      "__________________________________________________________________________________________________\n",
      "activation_2 (Activation)       (None, 16)           0           dense_6[0][0]                    \n",
      "__________________________________________________________________________________________________\n",
      "dense_7 (Dense)                 (None, 1)            17          activation_2[0][0]               \n",
      "==================================================================================================\n",
      "Total params: 19,853\n",
      "Trainable params: 19,757\n",
      "Non-trainable params: 96\n",
      "__________________________________________________________________________________________________\n"
     ]
    }
   ],
   "source": [
    "model = create_model()\n",
    "model.summary()"
   ]
  },
  {
   "cell_type": "code",
   "execution_count": 76,
   "id": "5656463b",
   "metadata": {
    "ExecuteTime": {
     "end_time": "2023-12-30T06:31:41.093552Z",
     "start_time": "2023-12-30T06:31:41.089559Z"
    }
   },
   "outputs": [],
   "source": [
    "# initial_learning_rate = 0.0005\n",
    "# optimizer = tf.keras.optimizers.Adam(learning_rate=initial_learning_rate)\n",
    "\n",
    "\n",
    "# model.compile(optimizer='adam', loss='mean_squared_error')\n",
    "# checkpoint_path='./CNN_model_30.h5'\n",
    "# keras_callbacks   = [\n",
    "#       EarlyStopping(monitor='val_loss', patience=30, mode='min', min_delta=0.001),\n",
    "#       ModelCheckpoint(checkpoint_path, monitor='val_loss', save_best_only=True, mode='min')\n",
    "# ]"
   ]
  },
  {
   "cell_type": "code",
   "execution_count": 77,
   "id": "2737bb61",
   "metadata": {
    "ExecuteTime": {
     "end_time": "2023-12-30T06:31:41.097546Z",
     "start_time": "2023-12-30T06:31:41.094551Z"
    }
   },
   "outputs": [],
   "source": [
    "# num_epochs = 1000\n",
    "# batch_size = 10240\n",
    "\n",
    "# history = model.fit(x_train, y_train[:,14:15], validation_data=(x_val,y_val[:,14:15]),\n",
    "#                     epochs=num_epochs, batch_size=batch_size, verbose=2, callbacks=keras_callbacks)"
   ]
  },
  {
   "cell_type": "markdown",
   "id": "9078e70b",
   "metadata": {},
   "source": [
    "## 网格搜索交叉验证寻找最佳参数"
   ]
  },
  {
   "cell_type": "code",
   "execution_count": 78,
   "id": "1fe983fc",
   "metadata": {
    "ExecuteTime": {
     "end_time": "2023-12-30T06:31:41.101539Z",
     "start_time": "2023-12-30T06:31:41.098544Z"
    },
    "code_folding": []
   },
   "outputs": [],
   "source": [
    "# model = KerasRegressor(build_fn=create_model,verbose=2)"
   ]
  },
  {
   "cell_type": "code",
   "execution_count": 79,
   "id": "9d66f9a5",
   "metadata": {
    "ExecuteTime": {
     "end_time": "2023-12-30T06:31:41.106531Z",
     "start_time": "2023-12-30T06:31:41.102538Z"
    },
    "code_folding": [
     0
    ]
   },
   "outputs": [],
   "source": [
    "# param_grid = {\n",
    "#     'neurons1': [16,32,64,128],\n",
    "#     'neurons2': [32,64,128,256],\n",
    "# }"
   ]
  },
  {
   "cell_type": "code",
   "execution_count": 80,
   "id": "2e91bcc1",
   "metadata": {
    "ExecuteTime": {
     "end_time": "2023-12-30T06:31:41.110525Z",
     "start_time": "2023-12-30T06:31:41.107530Z"
    },
    "code_folding": [
     0
    ]
   },
   "outputs": [],
   "source": [
    "# # 使用GridSearchCV进行交叉验证并搜索最佳参数组合：\n",
    "# grid_search = GridSearchCV(estimator=model, param_grid=param_grid, cv=3)\n",
    "# grid_result = grid_search.fit(x_train, y_train[:,14:15],epochs=100,verbose=2,batch_size=10240)"
   ]
  },
  {
   "cell_type": "code",
   "execution_count": 81,
   "id": "482bf93d",
   "metadata": {
    "ExecuteTime": {
     "end_time": "2023-12-30T06:31:41.113524Z",
     "start_time": "2023-12-30T06:31:41.111523Z"
    },
    "code_folding": []
   },
   "outputs": [],
   "source": [
    "# print(\"Best: %f using %s\" % (grid_result.best_score_, grid_result.best_params_))"
   ]
  },
  {
   "cell_type": "markdown",
   "id": "a2f8c413",
   "metadata": {},
   "source": [
    "## 训练"
   ]
  },
  {
   "cell_type": "code",
   "execution_count": 80,
   "id": "eb9e990b",
   "metadata": {
    "ExecuteTime": {
     "end_time": "2024-06-08T08:20:10.268715Z",
     "start_time": "2024-06-08T08:20:10.263723Z"
    }
   },
   "outputs": [],
   "source": [
    "def train_model_CNN(x_train,y_train,x_val,y_val,name):\n",
    "    # 创建网络\n",
    "    model = create_model()\n",
    "    # 编译网络\n",
    "    model.compile(loss='mse', optimizer='adam')\n",
    "    checkpoint_path=name\n",
    "    keras_callbacks   = [\n",
    "          EarlyStopping(monitor='val_loss', patience=30, mode='min', min_delta=0.001),\n",
    "          ModelCheckpoint(checkpoint_path, monitor='val_loss', save_best_only=True, mode='min')\n",
    "    ]\n",
    "    model.fit(x_train, y_train, validation_data=(x_val,y_val),\n",
    "                    epochs=1000, batch_size=10240, verbose=2, callbacks=keras_callbacks)"
   ]
  },
  {
   "cell_type": "code",
   "execution_count": 83,
   "id": "fd30c7de",
   "metadata": {
    "ExecuteTime": {
     "end_time": "2024-06-08T22:42:00.472222Z",
     "start_time": "2024-06-08T08:20:26.451555Z"
    }
   },
   "outputs": [
    {
     "name": "stdout",
     "output_type": "stream",
     "text": [
      "Epoch 1/1000\n",
      "832/832 - 33s - loss: 0.0524 - val_loss: 0.0139\n",
      "Epoch 2/1000\n",
      "832/832 - 25s - loss: 0.0091 - val_loss: 0.0044\n",
      "Epoch 3/1000\n",
      "832/832 - 25s - loss: 0.0044 - val_loss: 0.0029\n",
      "Epoch 4/1000\n",
      "832/832 - 25s - loss: 0.0034 - val_loss: 0.0024\n",
      "Epoch 5/1000\n",
      "832/832 - 25s - loss: 0.0030 - val_loss: 0.0027\n",
      "Epoch 6/1000\n",
      "832/832 - 25s - loss: 0.0028 - val_loss: 0.0036\n",
      "Epoch 7/1000\n",
      "832/832 - 25s - loss: 0.0026 - val_loss: 0.0022\n",
      "Epoch 8/1000\n",
      "832/832 - 25s - loss: 0.0025 - val_loss: 0.0020\n",
      "Epoch 9/1000\n",
      "832/832 - 25s - loss: 0.0023 - val_loss: 0.0023\n",
      "Epoch 10/1000\n",
      "832/832 - 25s - loss: 0.0023 - val_loss: 0.0019\n",
      "Epoch 11/1000\n",
      "832/832 - 25s - loss: 0.0022 - val_loss: 0.0017\n",
      "Epoch 12/1000\n",
      "832/832 - 25s - loss: 0.0022 - val_loss: 0.0018\n",
      "Epoch 13/1000\n",
      "832/832 - 25s - loss: 0.0021 - val_loss: 0.0016\n",
      "Epoch 14/1000\n",
      "832/832 - 25s - loss: 0.0020 - val_loss: 0.0019\n",
      "Epoch 15/1000\n",
      "832/832 - 25s - loss: 0.0020 - val_loss: 0.0018\n",
      "Epoch 16/1000\n",
      "832/832 - 25s - loss: 0.0020 - val_loss: 0.0020\n",
      "Epoch 17/1000\n",
      "832/832 - 25s - loss: 0.0019 - val_loss: 0.0016\n",
      "Epoch 18/1000\n",
      "832/832 - 25s - loss: 0.0019 - val_loss: 0.0019\n",
      "Epoch 19/1000\n",
      "832/832 - 25s - loss: 0.0019 - val_loss: 0.0018\n",
      "Epoch 20/1000\n",
      "832/832 - 25s - loss: 0.0019 - val_loss: 0.0017\n",
      "Epoch 21/1000\n",
      "832/832 - 25s - loss: 0.0018 - val_loss: 0.0015\n",
      "Epoch 22/1000\n",
      "832/832 - 25s - loss: 0.0018 - val_loss: 0.0017\n",
      "Epoch 23/1000\n",
      "832/832 - 25s - loss: 0.0018 - val_loss: 0.0016\n",
      "Epoch 24/1000\n",
      "832/832 - 25s - loss: 0.0018 - val_loss: 0.0017\n",
      "Epoch 25/1000\n",
      "832/832 - 25s - loss: 0.0018 - val_loss: 0.0015\n",
      "Epoch 26/1000\n",
      "832/832 - 25s - loss: 0.0018 - val_loss: 0.0017\n",
      "Epoch 27/1000\n",
      "832/832 - 25s - loss: 0.0018 - val_loss: 0.0016\n",
      "Epoch 28/1000\n",
      "832/832 - 25s - loss: 0.0017 - val_loss: 0.0016\n",
      "Epoch 29/1000\n",
      "832/832 - 25s - loss: 0.0017 - val_loss: 0.0014\n",
      "Epoch 30/1000\n",
      "832/832 - 25s - loss: 0.0017 - val_loss: 0.0020\n",
      "Epoch 31/1000\n",
      "832/832 - 25s - loss: 0.0017 - val_loss: 0.0016\n",
      "Epoch 32/1000\n",
      "832/832 - 25s - loss: 0.0017 - val_loss: 0.0018\n",
      "Epoch 33/1000\n",
      "832/832 - 25s - loss: 0.0017 - val_loss: 0.0015\n",
      "Epoch 34/1000\n",
      "832/832 - 25s - loss: 0.0016 - val_loss: 0.0020\n",
      "Epoch 35/1000\n",
      "832/832 - 25s - loss: 0.0016 - val_loss: 0.0018\n",
      "Epoch 36/1000\n",
      "832/832 - 25s - loss: 0.0016 - val_loss: 0.0015\n",
      "Epoch 37/1000\n",
      "832/832 - 25s - loss: 0.0016 - val_loss: 0.0018\n",
      "Epoch 38/1000\n",
      "832/832 - 25s - loss: 0.0016 - val_loss: 0.0021\n",
      "Epoch 39/1000\n",
      "832/832 - 25s - loss: 0.0016 - val_loss: 0.0016\n",
      "Epoch 40/1000\n",
      "832/832 - 25s - loss: 0.0016 - val_loss: 0.0016\n",
      "Epoch 41/1000\n",
      "832/832 - 25s - loss: 0.0016 - val_loss: 0.0015\n",
      "Epoch 1/1000\n",
      "832/832 - 29s - loss: 0.0547 - val_loss: 0.0167\n",
      "Epoch 2/1000\n",
      "832/832 - 25s - loss: 0.0122 - val_loss: 0.0069\n",
      "Epoch 3/1000\n",
      "832/832 - 25s - loss: 0.0061 - val_loss: 0.0041\n",
      "Epoch 4/1000\n",
      "832/832 - 25s - loss: 0.0042 - val_loss: 0.0039\n",
      "Epoch 5/1000\n",
      "832/832 - 25s - loss: 0.0035 - val_loss: 0.0031\n",
      "Epoch 6/1000\n",
      "832/832 - 25s - loss: 0.0032 - val_loss: 0.0029\n",
      "Epoch 7/1000\n",
      "832/832 - 25s - loss: 0.0030 - val_loss: 0.0031\n",
      "Epoch 8/1000\n",
      "832/832 - 25s - loss: 0.0028 - val_loss: 0.0021\n",
      "Epoch 9/1000\n",
      "832/832 - 25s - loss: 0.0027 - val_loss: 0.0020\n",
      "Epoch 10/1000\n",
      "832/832 - 25s - loss: 0.0026 - val_loss: 0.0031\n",
      "Epoch 11/1000\n",
      "832/832 - 25s - loss: 0.0026 - val_loss: 0.0029\n",
      "Epoch 12/1000\n",
      "832/832 - 25s - loss: 0.0025 - val_loss: 0.0024\n",
      "Epoch 13/1000\n",
      "832/832 - 25s - loss: 0.0024 - val_loss: 0.0026\n",
      "Epoch 14/1000\n",
      "832/832 - 25s - loss: 0.0024 - val_loss: 0.0026\n",
      "Epoch 15/1000\n",
      "832/832 - 25s - loss: 0.0023 - val_loss: 0.0026\n",
      "Epoch 16/1000\n",
      "832/832 - 25s - loss: 0.0023 - val_loss: 0.0027\n",
      "Epoch 17/1000\n",
      "832/832 - 25s - loss: 0.0023 - val_loss: 0.0022\n",
      "Epoch 18/1000\n",
      "832/832 - 25s - loss: 0.0022 - val_loss: 0.0024\n",
      "Epoch 19/1000\n",
      "832/832 - 25s - loss: 0.0022 - val_loss: 0.0024\n",
      "Epoch 20/1000\n",
      "832/832 - 25s - loss: 0.0022 - val_loss: 0.0025\n",
      "Epoch 21/1000\n",
      "832/832 - 25s - loss: 0.0021 - val_loss: 0.0029\n",
      "Epoch 22/1000\n",
      "832/832 - 25s - loss: 0.0022 - val_loss: 0.0032\n",
      "Epoch 23/1000\n",
      "832/832 - 25s - loss: 0.0021 - val_loss: 0.0021\n",
      "Epoch 24/1000\n",
      "832/832 - 25s - loss: 0.0021 - val_loss: 0.0027\n",
      "Epoch 25/1000\n",
      "832/832 - 25s - loss: 0.0021 - val_loss: 0.0021\n",
      "Epoch 26/1000\n",
      "832/832 - 25s - loss: 0.0020 - val_loss: 0.0018\n",
      "Epoch 27/1000\n",
      "832/832 - 25s - loss: 0.0020 - val_loss: 0.0019\n",
      "Epoch 28/1000\n",
      "832/832 - 25s - loss: 0.0020 - val_loss: 0.0019\n",
      "Epoch 29/1000\n",
      "832/832 - 25s - loss: 0.0020 - val_loss: 0.0023\n",
      "Epoch 30/1000\n",
      "832/832 - 25s - loss: 0.0020 - val_loss: 0.0020\n",
      "Epoch 31/1000\n",
      "832/832 - 25s - loss: 0.0020 - val_loss: 0.0018\n",
      "Epoch 32/1000\n",
      "832/832 - 25s - loss: 0.0020 - val_loss: 0.0019\n",
      "Epoch 33/1000\n",
      "832/832 - 25s - loss: 0.0020 - val_loss: 0.0021\n",
      "Epoch 34/1000\n",
      "832/832 - 25s - loss: 0.0020 - val_loss: 0.0018\n",
      "Epoch 35/1000\n",
      "832/832 - 25s - loss: 0.0019 - val_loss: 0.0018\n",
      "Epoch 36/1000\n",
      "832/832 - 25s - loss: 0.0019 - val_loss: 0.0022\n",
      "Epoch 37/1000\n",
      "832/832 - 25s - loss: 0.0019 - val_loss: 0.0021\n",
      "Epoch 38/1000\n",
      "832/832 - 25s - loss: 0.0019 - val_loss: 0.0023\n",
      "Epoch 39/1000\n",
      "832/832 - 25s - loss: 0.0019 - val_loss: 0.0020\n",
      "Epoch 40/1000\n",
      "832/832 - 25s - loss: 0.0019 - val_loss: 0.0020\n",
      "Epoch 41/1000\n",
      "832/832 - 25s - loss: 0.0019 - val_loss: 0.0021\n",
      "Epoch 42/1000\n",
      "832/832 - 25s - loss: 0.0019 - val_loss: 0.0023\n",
      "Epoch 43/1000\n",
      "832/832 - 25s - loss: 0.0019 - val_loss: 0.0021\n",
      "Epoch 44/1000\n",
      "832/832 - 25s - loss: 0.0019 - val_loss: 0.0019\n",
      "Epoch 45/1000\n",
      "832/832 - 25s - loss: 0.0019 - val_loss: 0.0022\n",
      "Epoch 46/1000\n",
      "832/832 - 25s - loss: 0.0018 - val_loss: 0.0021\n",
      "Epoch 47/1000\n",
      "832/832 - 25s - loss: 0.0018 - val_loss: 0.0021\n",
      "Epoch 48/1000\n",
      "832/832 - 25s - loss: 0.0019 - val_loss: 0.0022\n",
      "Epoch 49/1000\n",
      "832/832 - 25s - loss: 0.0019 - val_loss: 0.0021\n",
      "Epoch 50/1000\n",
      "832/832 - 25s - loss: 0.0018 - val_loss: 0.0021\n",
      "Epoch 51/1000\n",
      "832/832 - 25s - loss: 0.0018 - val_loss: 0.0021\n",
      "Epoch 52/1000\n",
      "832/832 - 25s - loss: 0.0018 - val_loss: 0.0019\n",
      "Epoch 53/1000\n",
      "832/832 - 25s - loss: 0.0018 - val_loss: 0.0025\n",
      "Epoch 54/1000\n",
      "832/832 - 25s - loss: 0.0018 - val_loss: 0.0024\n",
      "Epoch 55/1000\n",
      "832/832 - 25s - loss: 0.0018 - val_loss: 0.0018\n",
      "Epoch 56/1000\n",
      "832/832 - 25s - loss: 0.0018 - val_loss: 0.0021\n",
      "Epoch 1/1000\n",
      "832/832 - 29s - loss: 0.0597 - val_loss: 0.0200\n",
      "Epoch 2/1000\n",
      "832/832 - 25s - loss: 0.0136 - val_loss: 0.0080\n",
      "Epoch 3/1000\n",
      "832/832 - 25s - loss: 0.0068 - val_loss: 0.0056\n",
      "Epoch 4/1000\n",
      "832/832 - 25s - loss: 0.0048 - val_loss: 0.0057\n",
      "Epoch 5/1000\n",
      "832/832 - 25s - loss: 0.0040 - val_loss: 0.0047\n",
      "Epoch 6/1000\n",
      "832/832 - 25s - loss: 0.0037 - val_loss: 0.0044\n",
      "Epoch 7/1000\n",
      "832/832 - 25s - loss: 0.0035 - val_loss: 0.0043\n",
      "Epoch 8/1000\n",
      "832/832 - 25s - loss: 0.0033 - val_loss: 0.0067\n",
      "Epoch 9/1000\n",
      "832/832 - 25s - loss: 0.0032 - val_loss: 0.0053\n",
      "Epoch 10/1000\n",
      "832/832 - 25s - loss: 0.0031 - val_loss: 0.0051\n",
      "Epoch 11/1000\n",
      "832/832 - 25s - loss: 0.0031 - val_loss: 0.0039\n",
      "Epoch 12/1000\n",
      "832/832 - 25s - loss: 0.0030 - val_loss: 0.0041\n",
      "Epoch 13/1000\n",
      "832/832 - 25s - loss: 0.0030 - val_loss: 0.0032\n",
      "Epoch 14/1000\n",
      "832/832 - 25s - loss: 0.0029 - val_loss: 0.0037\n",
      "Epoch 15/1000\n",
      "832/832 - 25s - loss: 0.0029 - val_loss: 0.0075\n",
      "Epoch 16/1000\n",
      "832/832 - 25s - loss: 0.0028 - val_loss: 0.0038\n",
      "Epoch 17/1000\n",
      "832/832 - 25s - loss: 0.0028 - val_loss: 0.0040\n",
      "Epoch 18/1000\n",
      "832/832 - 25s - loss: 0.0028 - val_loss: 0.0040\n",
      "Epoch 19/1000\n",
      "832/832 - 25s - loss: 0.0027 - val_loss: 0.0064\n",
      "Epoch 20/1000\n",
      "832/832 - 25s - loss: 0.0027 - val_loss: 0.0048\n",
      "Epoch 21/1000\n",
      "832/832 - 25s - loss: 0.0027 - val_loss: 0.0041\n",
      "Epoch 22/1000\n",
      "832/832 - 25s - loss: 0.0027 - val_loss: 0.0049\n",
      "Epoch 23/1000\n",
      "832/832 - 25s - loss: 0.0027 - val_loss: 0.0036\n",
      "Epoch 24/1000\n",
      "832/832 - 25s - loss: 0.0026 - val_loss: 0.0044\n",
      "Epoch 25/1000\n",
      "832/832 - 25s - loss: 0.0026 - val_loss: 0.0034\n",
      "Epoch 26/1000\n",
      "832/832 - 25s - loss: 0.0026 - val_loss: 0.0048\n",
      "Epoch 27/1000\n",
      "832/832 - 25s - loss: 0.0026 - val_loss: 0.0037\n",
      "Epoch 28/1000\n",
      "832/832 - 25s - loss: 0.0025 - val_loss: 0.0044\n",
      "Epoch 29/1000\n",
      "832/832 - 25s - loss: 0.0025 - val_loss: 0.0039\n",
      "Epoch 30/1000\n",
      "832/832 - 25s - loss: 0.0026 - val_loss: 0.0042\n",
      "Epoch 31/1000\n",
      "832/832 - 25s - loss: 0.0026 - val_loss: 0.0038\n",
      "Epoch 32/1000\n",
      "832/832 - 25s - loss: 0.0026 - val_loss: 0.0038\n",
      "Epoch 33/1000\n",
      "832/832 - 25s - loss: 0.0025 - val_loss: 0.0034\n",
      "Epoch 34/1000\n",
      "832/832 - 25s - loss: 0.0025 - val_loss: 0.0048\n",
      "Epoch 35/1000\n",
      "832/832 - 25s - loss: 0.0025 - val_loss: 0.0041\n",
      "Epoch 36/1000\n",
      "832/832 - 25s - loss: 0.0025 - val_loss: 0.0030\n"
     ]
    },
    {
     "name": "stdout",
     "output_type": "stream",
     "text": [
      "Epoch 37/1000\n",
      "832/832 - 25s - loss: 0.0025 - val_loss: 0.0049\n",
      "Epoch 38/1000\n",
      "832/832 - 25s - loss: 0.0024 - val_loss: 0.0048\n",
      "Epoch 39/1000\n",
      "832/832 - 25s - loss: 0.0025 - val_loss: 0.0032\n",
      "Epoch 40/1000\n",
      "832/832 - 25s - loss: 0.0024 - val_loss: 0.0044\n",
      "Epoch 41/1000\n",
      "832/832 - 25s - loss: 0.0024 - val_loss: 0.0045\n",
      "Epoch 42/1000\n",
      "832/832 - 25s - loss: 0.0025 - val_loss: 0.0039\n",
      "Epoch 43/1000\n",
      "832/832 - 25s - loss: 0.0024 - val_loss: 0.0042\n",
      "Epoch 1/1000\n",
      "832/832 - 32s - loss: 0.0576 - val_loss: 0.0212\n",
      "Epoch 2/1000\n",
      "832/832 - 26s - loss: 0.0155 - val_loss: 0.0098\n",
      "Epoch 3/1000\n",
      "832/832 - 26s - loss: 0.0088 - val_loss: 0.0071\n",
      "Epoch 4/1000\n",
      "832/832 - 26s - loss: 0.0065 - val_loss: 0.0065\n",
      "Epoch 5/1000\n",
      "832/832 - 26s - loss: 0.0055 - val_loss: 0.0052\n",
      "Epoch 6/1000\n",
      "832/832 - 26s - loss: 0.0051 - val_loss: 0.0043\n",
      "Epoch 7/1000\n",
      "832/832 - 26s - loss: 0.0048 - val_loss: 0.0047\n",
      "Epoch 8/1000\n",
      "832/832 - 26s - loss: 0.0046 - val_loss: 0.0037\n",
      "Epoch 9/1000\n",
      "832/832 - 26s - loss: 0.0045 - val_loss: 0.0038\n",
      "Epoch 10/1000\n",
      "832/832 - 26s - loss: 0.0043 - val_loss: 0.0046\n",
      "Epoch 11/1000\n",
      "832/832 - 26s - loss: 0.0042 - val_loss: 0.0044\n",
      "Epoch 12/1000\n",
      "832/832 - 26s - loss: 0.0042 - val_loss: 0.0040\n",
      "Epoch 13/1000\n",
      "832/832 - 26s - loss: 0.0041 - val_loss: 0.0042\n",
      "Epoch 14/1000\n",
      "832/832 - 26s - loss: 0.0040 - val_loss: 0.0042\n",
      "Epoch 15/1000\n",
      "832/832 - 26s - loss: 0.0039 - val_loss: 0.0042\n",
      "Epoch 16/1000\n",
      "832/832 - 26s - loss: 0.0039 - val_loss: 0.0039\n",
      "Epoch 17/1000\n",
      "832/832 - 26s - loss: 0.0038 - val_loss: 0.0038\n",
      "Epoch 18/1000\n",
      "832/832 - 26s - loss: 0.0038 - val_loss: 0.0048\n",
      "Epoch 19/1000\n",
      "832/832 - 26s - loss: 0.0038 - val_loss: 0.0038\n",
      "Epoch 20/1000\n",
      "832/832 - 26s - loss: 0.0038 - val_loss: 0.0037\n",
      "Epoch 21/1000\n",
      "832/832 - 26s - loss: 0.0037 - val_loss: 0.0043\n",
      "Epoch 22/1000\n",
      "832/832 - 26s - loss: 0.0037 - val_loss: 0.0044\n",
      "Epoch 23/1000\n",
      "832/832 - 26s - loss: 0.0037 - val_loss: 0.0037\n",
      "Epoch 24/1000\n",
      "832/832 - 26s - loss: 0.0036 - val_loss: 0.0048\n",
      "Epoch 25/1000\n",
      "832/832 - 26s - loss: 0.0036 - val_loss: 0.0045\n",
      "Epoch 26/1000\n",
      "832/832 - 26s - loss: 0.0036 - val_loss: 0.0036\n",
      "Epoch 27/1000\n",
      "832/832 - 26s - loss: 0.0036 - val_loss: 0.0037\n",
      "Epoch 28/1000\n",
      "832/832 - 26s - loss: 0.0036 - val_loss: 0.0040\n",
      "Epoch 29/1000\n",
      "832/832 - 26s - loss: 0.0035 - val_loss: 0.0034\n",
      "Epoch 30/1000\n",
      "832/832 - 26s - loss: 0.0035 - val_loss: 0.0037\n",
      "Epoch 31/1000\n",
      "832/832 - 26s - loss: 0.0035 - val_loss: 0.0033\n",
      "Epoch 32/1000\n",
      "832/832 - 26s - loss: 0.0035 - val_loss: 0.0032\n",
      "Epoch 33/1000\n",
      "832/832 - 26s - loss: 0.0035 - val_loss: 0.0051\n",
      "Epoch 34/1000\n",
      "832/832 - 26s - loss: 0.0035 - val_loss: 0.0049\n",
      "Epoch 35/1000\n",
      "832/832 - 26s - loss: 0.0035 - val_loss: 0.0035\n",
      "Epoch 36/1000\n",
      "832/832 - 26s - loss: 0.0035 - val_loss: 0.0044\n",
      "Epoch 37/1000\n",
      "832/832 - 26s - loss: 0.0034 - val_loss: 0.0048\n",
      "Epoch 38/1000\n",
      "832/832 - 26s - loss: 0.0034 - val_loss: 0.0038\n",
      "Epoch 1/1000\n",
      "832/832 - 32s - loss: 0.0721 - val_loss: 0.0347\n",
      "Epoch 2/1000\n",
      "832/832 - 26s - loss: 0.0246 - val_loss: 0.0176\n",
      "Epoch 3/1000\n",
      "832/832 - 26s - loss: 0.0144 - val_loss: 0.0113\n",
      "Epoch 4/1000\n",
      "832/832 - 26s - loss: 0.0109 - val_loss: 0.0089\n",
      "Epoch 5/1000\n",
      "832/832 - 26s - loss: 0.0095 - val_loss: 0.0082\n",
      "Epoch 6/1000\n",
      "832/832 - 26s - loss: 0.0088 - val_loss: 0.0100\n",
      "Epoch 7/1000\n",
      "832/832 - 26s - loss: 0.0084 - val_loss: 0.0079\n",
      "Epoch 8/1000\n",
      "832/832 - 26s - loss: 0.0081 - val_loss: 0.0069\n",
      "Epoch 9/1000\n",
      "832/832 - 26s - loss: 0.0078 - val_loss: 0.0068\n",
      "Epoch 10/1000\n",
      "832/832 - 26s - loss: 0.0077 - val_loss: 0.0072\n",
      "Epoch 11/1000\n",
      "832/832 - 26s - loss: 0.0075 - val_loss: 0.0070\n",
      "Epoch 12/1000\n",
      "832/832 - 26s - loss: 0.0073 - val_loss: 0.0068\n",
      "Epoch 13/1000\n",
      "832/832 - 26s - loss: 0.0072 - val_loss: 0.0071\n",
      "Epoch 14/1000\n",
      "832/832 - 26s - loss: 0.0071 - val_loss: 0.0073\n",
      "Epoch 15/1000\n",
      "832/832 - 26s - loss: 0.0070 - val_loss: 0.0076\n",
      "Epoch 16/1000\n",
      "832/832 - 26s - loss: 0.0069 - val_loss: 0.0086\n",
      "Epoch 17/1000\n",
      "832/832 - 26s - loss: 0.0068 - val_loss: 0.0076\n",
      "Epoch 18/1000\n",
      "832/832 - 26s - loss: 0.0068 - val_loss: 0.0067\n",
      "Epoch 19/1000\n",
      "832/832 - 26s - loss: 0.0067 - val_loss: 0.0089\n",
      "Epoch 20/1000\n",
      "832/832 - 26s - loss: 0.0066 - val_loss: 0.0086\n",
      "Epoch 21/1000\n",
      "832/832 - 26s - loss: 0.0066 - val_loss: 0.0072\n",
      "Epoch 22/1000\n",
      "832/832 - 26s - loss: 0.0066 - val_loss: 0.0070\n",
      "Epoch 23/1000\n",
      "832/832 - 27s - loss: 0.0065 - val_loss: 0.0082\n",
      "Epoch 24/1000\n",
      "832/832 - 26s - loss: 0.0065 - val_loss: 0.0081\n",
      "Epoch 25/1000\n",
      "832/832 - 26s - loss: 0.0064 - val_loss: 0.0077\n",
      "Epoch 26/1000\n",
      "832/832 - 26s - loss: 0.0064 - val_loss: 0.0091\n",
      "Epoch 27/1000\n",
      "832/832 - 26s - loss: 0.0064 - val_loss: 0.0073\n",
      "Epoch 28/1000\n",
      "832/832 - 26s - loss: 0.0063 - val_loss: 0.0078\n",
      "Epoch 29/1000\n",
      "832/832 - 26s - loss: 0.0063 - val_loss: 0.0074\n",
      "Epoch 30/1000\n",
      "832/832 - 26s - loss: 0.0063 - val_loss: 0.0080\n",
      "Epoch 31/1000\n",
      "832/832 - 26s - loss: 0.0063 - val_loss: 0.0080\n",
      "Epoch 32/1000\n",
      "832/832 - 26s - loss: 0.0062 - val_loss: 0.0067\n",
      "Epoch 33/1000\n",
      "832/832 - 26s - loss: 0.0062 - val_loss: 0.0087\n",
      "Epoch 34/1000\n",
      "832/832 - 26s - loss: 0.0062 - val_loss: 0.0080\n",
      "Epoch 35/1000\n",
      "832/832 - 26s - loss: 0.0062 - val_loss: 0.0074\n",
      "Epoch 36/1000\n",
      "832/832 - 26s - loss: 0.0062 - val_loss: 0.0085\n",
      "Epoch 37/1000\n",
      "832/832 - 26s - loss: 0.0061 - val_loss: 0.0084\n",
      "Epoch 38/1000\n",
      "832/832 - 26s - loss: 0.0061 - val_loss: 0.0080\n",
      "Epoch 1/1000\n",
      "832/832 - 39s - loss: 0.0709 - val_loss: 0.0325\n",
      "Epoch 2/1000\n",
      "832/832 - 25s - loss: 0.0238 - val_loss: 0.0160\n",
      "Epoch 3/1000\n",
      "832/832 - 25s - loss: 0.0155 - val_loss: 0.0123\n",
      "Epoch 4/1000\n",
      "832/832 - 25s - loss: 0.0131 - val_loss: 0.0112\n",
      "Epoch 5/1000\n",
      "832/832 - 25s - loss: 0.0122 - val_loss: 0.0107\n",
      "Epoch 6/1000\n",
      "832/832 - 25s - loss: 0.0115 - val_loss: 0.0109\n",
      "Epoch 7/1000\n",
      "832/832 - 25s - loss: 0.0112 - val_loss: 0.0105\n",
      "Epoch 8/1000\n",
      "832/832 - 25s - loss: 0.0109 - val_loss: 0.0098\n",
      "Epoch 9/1000\n",
      "832/832 - 25s - loss: 0.0106 - val_loss: 0.0095\n",
      "Epoch 10/1000\n",
      "832/832 - 25s - loss: 0.0104 - val_loss: 0.0104\n",
      "Epoch 11/1000\n",
      "832/832 - 25s - loss: 0.0102 - val_loss: 0.0096\n",
      "Epoch 12/1000\n",
      "832/832 - 25s - loss: 0.0100 - val_loss: 0.0094\n",
      "Epoch 13/1000\n",
      "832/832 - 25s - loss: 0.0100 - val_loss: 0.0092\n",
      "Epoch 14/1000\n",
      "832/832 - 25s - loss: 0.0098 - val_loss: 0.0094\n",
      "Epoch 15/1000\n",
      "832/832 - 25s - loss: 0.0098 - val_loss: 0.0091\n",
      "Epoch 16/1000\n",
      "832/832 - 25s - loss: 0.0096 - val_loss: 0.0090\n",
      "Epoch 17/1000\n",
      "832/832 - 25s - loss: 0.0095 - val_loss: 0.0090\n",
      "Epoch 18/1000\n",
      "832/832 - 25s - loss: 0.0095 - val_loss: 0.0086\n",
      "Epoch 19/1000\n",
      "832/832 - 25s - loss: 0.0094 - val_loss: 0.0092\n",
      "Epoch 20/1000\n",
      "832/832 - 25s - loss: 0.0094 - val_loss: 0.0086\n",
      "Epoch 21/1000\n",
      "832/832 - 25s - loss: 0.0093 - val_loss: 0.0088\n",
      "Epoch 22/1000\n",
      "832/832 - 25s - loss: 0.0093 - val_loss: 0.0086\n",
      "Epoch 23/1000\n",
      "832/832 - 25s - loss: 0.0092 - val_loss: 0.0085\n",
      "Epoch 24/1000\n",
      "832/832 - 25s - loss: 0.0092 - val_loss: 0.0085\n",
      "Epoch 25/1000\n",
      "832/832 - 25s - loss: 0.0092 - val_loss: 0.0086\n",
      "Epoch 26/1000\n",
      "832/832 - 25s - loss: 0.0091 - val_loss: 0.0088\n",
      "Epoch 27/1000\n",
      "832/832 - 25s - loss: 0.0091 - val_loss: 0.0086\n",
      "Epoch 28/1000\n",
      "832/832 - 25s - loss: 0.0091 - val_loss: 0.0084\n",
      "Epoch 29/1000\n",
      "832/832 - 25s - loss: 0.0091 - val_loss: 0.0087\n",
      "Epoch 30/1000\n",
      "832/832 - 25s - loss: 0.0090 - val_loss: 0.0087\n",
      "Epoch 31/1000\n",
      "832/832 - 25s - loss: 0.0090 - val_loss: 0.0085\n",
      "Epoch 32/1000\n",
      "832/832 - 25s - loss: 0.0090 - val_loss: 0.0086\n",
      "Epoch 33/1000\n",
      "832/832 - 25s - loss: 0.0089 - val_loss: 0.0087\n",
      "Epoch 34/1000\n",
      "832/832 - 25s - loss: 0.0089 - val_loss: 0.0085\n",
      "Epoch 35/1000\n",
      "832/832 - 25s - loss: 0.0089 - val_loss: 0.0088\n",
      "Epoch 36/1000\n",
      "832/832 - 25s - loss: 0.0089 - val_loss: 0.0086\n",
      "Epoch 37/1000\n",
      "832/832 - 25s - loss: 0.0089 - val_loss: 0.0087\n",
      "Epoch 38/1000\n",
      "832/832 - 25s - loss: 0.0089 - val_loss: 0.0084\n",
      "Epoch 39/1000\n",
      "832/832 - 25s - loss: 0.0088 - val_loss: 0.0085\n",
      "Epoch 40/1000\n",
      "832/832 - 25s - loss: 0.0088 - val_loss: 0.0085\n",
      "Epoch 41/1000\n",
      "832/832 - 25s - loss: 0.0088 - val_loss: 0.0085\n",
      "Epoch 42/1000\n",
      "832/832 - 25s - loss: 0.0088 - val_loss: 0.0092\n",
      "Epoch 43/1000\n",
      "832/832 - 25s - loss: 0.0087 - val_loss: 0.0084\n",
      "Epoch 44/1000\n",
      "832/832 - 25s - loss: 0.0087 - val_loss: 0.0085\n",
      "Epoch 45/1000\n",
      "832/832 - 25s - loss: 0.0087 - val_loss: 0.0088\n",
      "Epoch 46/1000\n",
      "832/832 - 25s - loss: 0.0087 - val_loss: 0.0085\n",
      "Epoch 47/1000\n",
      "832/832 - 25s - loss: 0.0087 - val_loss: 0.0084\n",
      "Epoch 48/1000\n",
      "832/832 - 25s - loss: 0.0087 - val_loss: 0.0087\n",
      "Epoch 1/1000\n",
      "832/832 - 29s - loss: 0.0707 - val_loss: 0.0305\n",
      "Epoch 2/1000\n",
      "832/832 - 25s - loss: 0.0246 - val_loss: 0.0179\n"
     ]
    },
    {
     "name": "stdout",
     "output_type": "stream",
     "text": [
      "Epoch 3/1000\n",
      "832/832 - 25s - loss: 0.0176 - val_loss: 0.0147\n",
      "Epoch 4/1000\n",
      "832/832 - 25s - loss: 0.0155 - val_loss: 0.0139\n",
      "Epoch 5/1000\n",
      "832/832 - 25s - loss: 0.0145 - val_loss: 0.0126\n",
      "Epoch 6/1000\n",
      "832/832 - 25s - loss: 0.0138 - val_loss: 0.0131\n",
      "Epoch 7/1000\n",
      "832/832 - 25s - loss: 0.0134 - val_loss: 0.0124\n",
      "Epoch 8/1000\n",
      "832/832 - 25s - loss: 0.0131 - val_loss: 0.0121\n",
      "Epoch 9/1000\n",
      "832/832 - 25s - loss: 0.0128 - val_loss: 0.0120\n",
      "Epoch 10/1000\n",
      "832/832 - 25s - loss: 0.0126 - val_loss: 0.0134\n",
      "Epoch 11/1000\n",
      "832/832 - 25s - loss: 0.0124 - val_loss: 0.0120\n",
      "Epoch 12/1000\n",
      "832/832 - 25s - loss: 0.0122 - val_loss: 0.0125\n",
      "Epoch 13/1000\n",
      "832/832 - 25s - loss: 0.0120 - val_loss: 0.0118\n",
      "Epoch 14/1000\n",
      "832/832 - 25s - loss: 0.0119 - val_loss: 0.0117\n",
      "Epoch 15/1000\n",
      "832/832 - 25s - loss: 0.0118 - val_loss: 0.0116\n",
      "Epoch 16/1000\n",
      "832/832 - 25s - loss: 0.0117 - val_loss: 0.0137\n",
      "Epoch 17/1000\n",
      "832/832 - 25s - loss: 0.0117 - val_loss: 0.0114\n",
      "Epoch 18/1000\n",
      "832/832 - 25s - loss: 0.0116 - val_loss: 0.0110\n",
      "Epoch 19/1000\n",
      "832/832 - 25s - loss: 0.0115 - val_loss: 0.0118\n",
      "Epoch 20/1000\n",
      "832/832 - 25s - loss: 0.0114 - val_loss: 0.0120\n",
      "Epoch 21/1000\n",
      "832/832 - 25s - loss: 0.0114 - val_loss: 0.0111\n",
      "Epoch 22/1000\n",
      "832/832 - 25s - loss: 0.0113 - val_loss: 0.0116\n",
      "Epoch 23/1000\n",
      "832/832 - 25s - loss: 0.0112 - val_loss: 0.0120\n",
      "Epoch 24/1000\n",
      "832/832 - 25s - loss: 0.0112 - val_loss: 0.0117\n",
      "Epoch 25/1000\n",
      "832/832 - 25s - loss: 0.0112 - val_loss: 0.0114\n",
      "Epoch 26/1000\n",
      "832/832 - 25s - loss: 0.0111 - val_loss: 0.0115\n",
      "Epoch 27/1000\n",
      "832/832 - 25s - loss: 0.0111 - val_loss: 0.0109\n",
      "Epoch 28/1000\n",
      "832/832 - 25s - loss: 0.0111 - val_loss: 0.0111\n",
      "Epoch 29/1000\n",
      "832/832 - 25s - loss: 0.0110 - val_loss: 0.0110\n",
      "Epoch 30/1000\n",
      "832/832 - 25s - loss: 0.0110 - val_loss: 0.0120\n",
      "Epoch 31/1000\n",
      "832/832 - 25s - loss: 0.0110 - val_loss: 0.0107\n",
      "Epoch 32/1000\n",
      "832/832 - 25s - loss: 0.0109 - val_loss: 0.0110\n",
      "Epoch 33/1000\n",
      "832/832 - 25s - loss: 0.0109 - val_loss: 0.0109\n",
      "Epoch 34/1000\n",
      "832/832 - 25s - loss: 0.0109 - val_loss: 0.0112\n",
      "Epoch 35/1000\n",
      "832/832 - 25s - loss: 0.0108 - val_loss: 0.0117\n",
      "Epoch 36/1000\n",
      "832/832 - 25s - loss: 0.0108 - val_loss: 0.0117\n",
      "Epoch 37/1000\n",
      "832/832 - 25s - loss: 0.0108 - val_loss: 0.0114\n",
      "Epoch 38/1000\n",
      "832/832 - 25s - loss: 0.0107 - val_loss: 0.0109\n",
      "Epoch 39/1000\n",
      "832/832 - 25s - loss: 0.0107 - val_loss: 0.0121\n",
      "Epoch 40/1000\n",
      "832/832 - 25s - loss: 0.0107 - val_loss: 0.0106\n",
      "Epoch 41/1000\n",
      "832/832 - 25s - loss: 0.0107 - val_loss: 0.0117\n",
      "Epoch 42/1000\n",
      "832/832 - 25s - loss: 0.0106 - val_loss: 0.0113\n",
      "Epoch 43/1000\n",
      "832/832 - 25s - loss: 0.0106 - val_loss: 0.0113\n",
      "Epoch 44/1000\n",
      "832/832 - 25s - loss: 0.0106 - val_loss: 0.0121\n",
      "Epoch 45/1000\n",
      "832/832 - 25s - loss: 0.0106 - val_loss: 0.0113\n",
      "Epoch 1/1000\n",
      "832/832 - 29s - loss: 0.0767 - val_loss: 0.0365\n",
      "Epoch 2/1000\n",
      "832/832 - 25s - loss: 0.0281 - val_loss: 0.0217\n",
      "Epoch 3/1000\n",
      "832/832 - 25s - loss: 0.0208 - val_loss: 0.0173\n",
      "Epoch 4/1000\n",
      "832/832 - 25s - loss: 0.0180 - val_loss: 0.0158\n",
      "Epoch 5/1000\n",
      "832/832 - 25s - loss: 0.0169 - val_loss: 0.0148\n",
      "Epoch 6/1000\n",
      "832/832 - 25s - loss: 0.0160 - val_loss: 0.0141\n",
      "Epoch 7/1000\n",
      "832/832 - 25s - loss: 0.0156 - val_loss: 0.0138\n",
      "Epoch 8/1000\n",
      "832/832 - 25s - loss: 0.0152 - val_loss: 0.0137\n",
      "Epoch 9/1000\n",
      "832/832 - 25s - loss: 0.0148 - val_loss: 0.0141\n",
      "Epoch 10/1000\n",
      "832/832 - 25s - loss: 0.0145 - val_loss: 0.0131\n",
      "Epoch 11/1000\n",
      "832/832 - 25s - loss: 0.0142 - val_loss: 0.0132\n",
      "Epoch 12/1000\n",
      "832/832 - 25s - loss: 0.0140 - val_loss: 0.0130\n",
      "Epoch 13/1000\n",
      "832/832 - 25s - loss: 0.0138 - val_loss: 0.0130\n",
      "Epoch 14/1000\n",
      "832/832 - 25s - loss: 0.0137 - val_loss: 0.0125\n",
      "Epoch 15/1000\n",
      "832/832 - 25s - loss: 0.0134 - val_loss: 0.0126\n",
      "Epoch 16/1000\n",
      "832/832 - 25s - loss: 0.0134 - val_loss: 0.0126\n",
      "Epoch 17/1000\n",
      "832/832 - 25s - loss: 0.0132 - val_loss: 0.0123\n",
      "Epoch 18/1000\n",
      "832/832 - 25s - loss: 0.0131 - val_loss: 0.0122\n",
      "Epoch 19/1000\n",
      "832/832 - 25s - loss: 0.0130 - val_loss: 0.0120\n",
      "Epoch 20/1000\n",
      "832/832 - 25s - loss: 0.0129 - val_loss: 0.0124\n",
      "Epoch 21/1000\n",
      "832/832 - 25s - loss: 0.0128 - val_loss: 0.0125\n",
      "Epoch 22/1000\n",
      "832/832 - 25s - loss: 0.0128 - val_loss: 0.0122\n",
      "Epoch 23/1000\n",
      "832/832 - 25s - loss: 0.0127 - val_loss: 0.0121\n",
      "Epoch 24/1000\n",
      "832/832 - 25s - loss: 0.0127 - val_loss: 0.0124\n",
      "Epoch 25/1000\n",
      "832/832 - 25s - loss: 0.0126 - val_loss: 0.0125\n",
      "Epoch 26/1000\n",
      "832/832 - 25s - loss: 0.0126 - val_loss: 0.0123\n",
      "Epoch 27/1000\n",
      "832/832 - 25s - loss: 0.0126 - val_loss: 0.0129\n",
      "Epoch 28/1000\n",
      "832/832 - 25s - loss: 0.0125 - val_loss: 0.0121\n",
      "Epoch 29/1000\n",
      "832/832 - 25s - loss: 0.0124 - val_loss: 0.0126\n",
      "Epoch 30/1000\n",
      "832/832 - 25s - loss: 0.0124 - val_loss: 0.0121\n",
      "Epoch 31/1000\n",
      "832/832 - 25s - loss: 0.0124 - val_loss: 0.0123\n",
      "Epoch 32/1000\n",
      "832/832 - 25s - loss: 0.0123 - val_loss: 0.0125\n",
      "Epoch 33/1000\n",
      "832/832 - 25s - loss: 0.0123 - val_loss: 0.0126\n",
      "Epoch 34/1000\n",
      "832/832 - 25s - loss: 0.0122 - val_loss: 0.0124\n",
      "Epoch 35/1000\n",
      "832/832 - 25s - loss: 0.0123 - val_loss: 0.0121\n",
      "Epoch 36/1000\n",
      "832/832 - 25s - loss: 0.0122 - val_loss: 0.0122\n",
      "Epoch 37/1000\n",
      "832/832 - 25s - loss: 0.0122 - val_loss: 0.0124\n",
      "Epoch 38/1000\n",
      "832/832 - 25s - loss: 0.0122 - val_loss: 0.0124\n",
      "Epoch 39/1000\n",
      "832/832 - 25s - loss: 0.0121 - val_loss: 0.0128\n",
      "Epoch 40/1000\n",
      "832/832 - 25s - loss: 0.0121 - val_loss: 0.0121\n",
      "Epoch 41/1000\n",
      "832/832 - 25s - loss: 0.0121 - val_loss: 0.0124\n",
      "Epoch 42/1000\n",
      "832/832 - 25s - loss: 0.0120 - val_loss: 0.0121\n",
      "Epoch 43/1000\n",
      "832/832 - 25s - loss: 0.0121 - val_loss: 0.0121\n",
      "Epoch 44/1000\n",
      "832/832 - 25s - loss: 0.0120 - val_loss: 0.0128\n",
      "Epoch 1/1000\n",
      "832/832 - 29s - loss: 0.0830 - val_loss: 0.0384\n",
      "Epoch 2/1000\n",
      "832/832 - 25s - loss: 0.0323 - val_loss: 0.0251\n",
      "Epoch 3/1000\n",
      "832/832 - 25s - loss: 0.0239 - val_loss: 0.0205\n",
      "Epoch 4/1000\n",
      "832/832 - 25s - loss: 0.0207 - val_loss: 0.0178\n",
      "Epoch 5/1000\n",
      "832/832 - 25s - loss: 0.0191 - val_loss: 0.0172\n",
      "Epoch 6/1000\n",
      "832/832 - 25s - loss: 0.0180 - val_loss: 0.0173\n",
      "Epoch 7/1000\n",
      "832/832 - 25s - loss: 0.0172 - val_loss: 0.0156\n",
      "Epoch 8/1000\n",
      "832/832 - 25s - loss: 0.0166 - val_loss: 0.0154\n",
      "Epoch 9/1000\n",
      "832/832 - 25s - loss: 0.0162 - val_loss: 0.0159\n",
      "Epoch 10/1000\n",
      "832/832 - 25s - loss: 0.0158 - val_loss: 0.0146\n",
      "Epoch 11/1000\n",
      "832/832 - 25s - loss: 0.0154 - val_loss: 0.0145\n",
      "Epoch 12/1000\n",
      "832/832 - 25s - loss: 0.0153 - val_loss: 0.0146\n",
      "Epoch 13/1000\n",
      "832/832 - 25s - loss: 0.0149 - val_loss: 0.0141\n",
      "Epoch 14/1000\n",
      "832/832 - 25s - loss: 0.0148 - val_loss: 0.0138\n",
      "Epoch 15/1000\n",
      "832/832 - 25s - loss: 0.0145 - val_loss: 0.0139\n",
      "Epoch 16/1000\n",
      "832/832 - 25s - loss: 0.0144 - val_loss: 0.0134\n",
      "Epoch 17/1000\n",
      "832/832 - 25s - loss: 0.0142 - val_loss: 0.0133\n",
      "Epoch 18/1000\n",
      "832/832 - 25s - loss: 0.0142 - val_loss: 0.0131\n",
      "Epoch 19/1000\n",
      "832/832 - 25s - loss: 0.0140 - val_loss: 0.0135\n",
      "Epoch 20/1000\n",
      "832/832 - 25s - loss: 0.0139 - val_loss: 0.0133\n",
      "Epoch 21/1000\n",
      "832/832 - 25s - loss: 0.0138 - val_loss: 0.0146\n",
      "Epoch 22/1000\n",
      "832/832 - 25s - loss: 0.0138 - val_loss: 0.0133\n",
      "Epoch 23/1000\n",
      "832/832 - 25s - loss: 0.0137 - val_loss: 0.0131\n",
      "Epoch 24/1000\n",
      "832/832 - 25s - loss: 0.0136 - val_loss: 0.0131\n",
      "Epoch 25/1000\n",
      "832/832 - 25s - loss: 0.0135 - val_loss: 0.0132\n",
      "Epoch 26/1000\n",
      "832/832 - 25s - loss: 0.0134 - val_loss: 0.0133\n",
      "Epoch 27/1000\n",
      "832/832 - 25s - loss: 0.0134 - val_loss: 0.0129\n",
      "Epoch 28/1000\n",
      "832/832 - 25s - loss: 0.0133 - val_loss: 0.0131\n",
      "Epoch 29/1000\n",
      "832/832 - 25s - loss: 0.0133 - val_loss: 0.0126\n",
      "Epoch 30/1000\n",
      "832/832 - 25s - loss: 0.0131 - val_loss: 0.0127\n",
      "Epoch 31/1000\n",
      "832/832 - 25s - loss: 0.0131 - val_loss: 0.0126\n",
      "Epoch 32/1000\n",
      "832/832 - 25s - loss: 0.0131 - val_loss: 0.0132\n",
      "Epoch 33/1000\n",
      "832/832 - 25s - loss: 0.0130 - val_loss: 0.0126\n",
      "Epoch 34/1000\n",
      "832/832 - 25s - loss: 0.0130 - val_loss: 0.0129\n",
      "Epoch 35/1000\n",
      "832/832 - 25s - loss: 0.0129 - val_loss: 0.0128\n",
      "Epoch 36/1000\n",
      "832/832 - 25s - loss: 0.0129 - val_loss: 0.0126\n",
      "Epoch 37/1000\n",
      "832/832 - 25s - loss: 0.0128 - val_loss: 0.0126\n",
      "Epoch 38/1000\n",
      "832/832 - 25s - loss: 0.0128 - val_loss: 0.0126\n",
      "Epoch 39/1000\n",
      "832/832 - 25s - loss: 0.0128 - val_loss: 0.0131\n",
      "Epoch 40/1000\n",
      "832/832 - 25s - loss: 0.0127 - val_loss: 0.0129\n",
      "Epoch 41/1000\n",
      "832/832 - 25s - loss: 0.0127 - val_loss: 0.0122\n",
      "Epoch 42/1000\n",
      "832/832 - 25s - loss: 0.0126 - val_loss: 0.0127\n",
      "Epoch 43/1000\n",
      "832/832 - 25s - loss: 0.0126 - val_loss: 0.0126\n",
      "Epoch 44/1000\n",
      "832/832 - 25s - loss: 0.0126 - val_loss: 0.0127\n",
      "Epoch 45/1000\n",
      "832/832 - 25s - loss: 0.0125 - val_loss: 0.0122\n",
      "Epoch 46/1000\n",
      "832/832 - 25s - loss: 0.0126 - val_loss: 0.0125\n"
     ]
    },
    {
     "name": "stdout",
     "output_type": "stream",
     "text": [
      "Epoch 47/1000\n",
      "832/832 - 25s - loss: 0.0125 - val_loss: 0.0125\n",
      "Epoch 48/1000\n",
      "832/832 - 25s - loss: 0.0125 - val_loss: 0.0127\n",
      "Epoch 49/1000\n",
      "832/832 - 25s - loss: 0.0124 - val_loss: 0.0124\n",
      "Epoch 50/1000\n",
      "832/832 - 25s - loss: 0.0124 - val_loss: 0.0132\n",
      "Epoch 51/1000\n",
      "832/832 - 25s - loss: 0.0124 - val_loss: 0.0125\n",
      "Epoch 52/1000\n",
      "832/832 - 25s - loss: 0.0123 - val_loss: 0.0130\n",
      "Epoch 53/1000\n",
      "832/832 - 25s - loss: 0.0124 - val_loss: 0.0128\n",
      "Epoch 54/1000\n",
      "832/832 - 25s - loss: 0.0123 - val_loss: 0.0127\n",
      "Epoch 55/1000\n",
      "832/832 - 25s - loss: 0.0123 - val_loss: 0.0129\n",
      "Epoch 56/1000\n",
      "832/832 - 25s - loss: 0.0123 - val_loss: 0.0138\n",
      "Epoch 57/1000\n",
      "832/832 - 25s - loss: 0.0123 - val_loss: 0.0120\n",
      "Epoch 58/1000\n",
      "832/832 - 25s - loss: 0.0123 - val_loss: 0.0123\n",
      "Epoch 59/1000\n",
      "832/832 - 25s - loss: 0.0123 - val_loss: 0.0126\n",
      "Epoch 60/1000\n",
      "832/832 - 25s - loss: 0.0122 - val_loss: 0.0122\n",
      "Epoch 61/1000\n",
      "832/832 - 25s - loss: 0.0123 - val_loss: 0.0141\n",
      "Epoch 62/1000\n",
      "832/832 - 25s - loss: 0.0123 - val_loss: 0.0126\n",
      "Epoch 63/1000\n",
      "832/832 - 25s - loss: 0.0122 - val_loss: 0.0123\n",
      "Epoch 64/1000\n",
      "832/832 - 25s - loss: 0.0122 - val_loss: 0.0125\n",
      "Epoch 65/1000\n",
      "832/832 - 25s - loss: 0.0122 - val_loss: 0.0125\n",
      "Epoch 66/1000\n",
      "832/832 - 25s - loss: 0.0122 - val_loss: 0.0120\n",
      "Epoch 67/1000\n",
      "832/832 - 25s - loss: 0.0122 - val_loss: 0.0134\n",
      "Epoch 68/1000\n",
      "832/832 - 25s - loss: 0.0122 - val_loss: 0.0126\n",
      "Epoch 69/1000\n",
      "832/832 - 25s - loss: 0.0121 - val_loss: 0.0121\n",
      "Epoch 70/1000\n",
      "832/832 - 25s - loss: 0.0121 - val_loss: 0.0122\n",
      "Epoch 71/1000\n",
      "832/832 - 25s - loss: 0.0121 - val_loss: 0.0122\n",
      "Epoch 1/1000\n",
      "832/832 - 32s - loss: 0.0869 - val_loss: 0.0438\n",
      "Epoch 2/1000\n",
      "832/832 - 26s - loss: 0.0343 - val_loss: 0.0260\n",
      "Epoch 3/1000\n",
      "832/832 - 26s - loss: 0.0247 - val_loss: 0.0211\n",
      "Epoch 4/1000\n",
      "832/832 - 26s - loss: 0.0213 - val_loss: 0.0184\n",
      "Epoch 5/1000\n",
      "832/832 - 26s - loss: 0.0197 - val_loss: 0.0178\n",
      "Epoch 6/1000\n",
      "832/832 - 26s - loss: 0.0188 - val_loss: 0.0172\n",
      "Epoch 7/1000\n",
      "832/832 - 26s - loss: 0.0182 - val_loss: 0.0171\n",
      "Epoch 8/1000\n",
      "832/832 - 26s - loss: 0.0177 - val_loss: 0.0182\n",
      "Epoch 9/1000\n",
      "832/832 - 26s - loss: 0.0173 - val_loss: 0.0167\n",
      "Epoch 10/1000\n",
      "832/832 - 26s - loss: 0.0170 - val_loss: 0.0162\n",
      "Epoch 11/1000\n",
      "832/832 - 26s - loss: 0.0166 - val_loss: 0.0154\n",
      "Epoch 12/1000\n",
      "832/832 - 26s - loss: 0.0164 - val_loss: 0.0164\n",
      "Epoch 13/1000\n",
      "832/832 - 26s - loss: 0.0162 - val_loss: 0.0156\n",
      "Epoch 14/1000\n",
      "832/832 - 26s - loss: 0.0160 - val_loss: 0.0163\n",
      "Epoch 15/1000\n",
      "832/832 - 26s - loss: 0.0159 - val_loss: 0.0156\n",
      "Epoch 16/1000\n",
      "832/832 - 26s - loss: 0.0157 - val_loss: 0.0165\n",
      "Epoch 17/1000\n",
      "832/832 - 26s - loss: 0.0156 - val_loss: 0.0164\n",
      "Epoch 18/1000\n",
      "832/832 - 26s - loss: 0.0155 - val_loss: 0.0158\n",
      "Epoch 19/1000\n",
      "832/832 - 26s - loss: 0.0154 - val_loss: 0.0160\n",
      "Epoch 20/1000\n",
      "832/832 - 26s - loss: 0.0153 - val_loss: 0.0158\n",
      "Epoch 21/1000\n",
      "832/832 - 26s - loss: 0.0153 - val_loss: 0.0159\n",
      "Epoch 22/1000\n",
      "832/832 - 26s - loss: 0.0152 - val_loss: 0.0172\n",
      "Epoch 23/1000\n",
      "832/832 - 26s - loss: 0.0151 - val_loss: 0.0158\n",
      "Epoch 24/1000\n",
      "832/832 - 26s - loss: 0.0151 - val_loss: 0.0161\n",
      "Epoch 25/1000\n",
      "832/832 - 26s - loss: 0.0150 - val_loss: 0.0157\n",
      "Epoch 26/1000\n",
      "832/832 - 26s - loss: 0.0150 - val_loss: 0.0175\n",
      "Epoch 27/1000\n",
      "832/832 - 26s - loss: 0.0149 - val_loss: 0.0166\n",
      "Epoch 28/1000\n",
      "832/832 - 26s - loss: 0.0149 - val_loss: 0.0182\n",
      "Epoch 29/1000\n",
      "832/832 - 26s - loss: 0.0147 - val_loss: 0.0155\n",
      "Epoch 30/1000\n",
      "832/832 - 26s - loss: 0.0148 - val_loss: 0.0177\n",
      "Epoch 31/1000\n",
      "832/832 - 26s - loss: 0.0147 - val_loss: 0.0176\n",
      "Epoch 32/1000\n",
      "832/832 - 26s - loss: 0.0147 - val_loss: 0.0165\n",
      "Epoch 33/1000\n",
      "832/832 - 26s - loss: 0.0146 - val_loss: 0.0171\n",
      "Epoch 34/1000\n",
      "832/832 - 26s - loss: 0.0146 - val_loss: 0.0164\n",
      "Epoch 35/1000\n",
      "832/832 - 26s - loss: 0.0145 - val_loss: 0.0159\n",
      "Epoch 36/1000\n",
      "832/832 - 26s - loss: 0.0145 - val_loss: 0.0192\n",
      "Epoch 37/1000\n",
      "832/832 - 26s - loss: 0.0144 - val_loss: 0.0165\n",
      "Epoch 38/1000\n",
      "832/832 - 26s - loss: 0.0144 - val_loss: 0.0187\n",
      "Epoch 39/1000\n",
      "832/832 - 26s - loss: 0.0143 - val_loss: 0.0184\n",
      "Epoch 40/1000\n",
      "832/832 - 26s - loss: 0.0143 - val_loss: 0.0166\n",
      "Epoch 1/1000\n",
      "832/832 - 38s - loss: 0.0882 - val_loss: 0.0456\n",
      "Epoch 2/1000\n",
      "832/832 - 25s - loss: 0.0376 - val_loss: 0.0288\n",
      "Epoch 3/1000\n",
      "832/832 - 25s - loss: 0.0274 - val_loss: 0.0233\n",
      "Epoch 4/1000\n",
      "832/832 - 25s - loss: 0.0232 - val_loss: 0.0205\n",
      "Epoch 5/1000\n",
      "832/832 - 25s - loss: 0.0210 - val_loss: 0.0190\n",
      "Epoch 6/1000\n",
      "832/832 - 25s - loss: 0.0195 - val_loss: 0.0186\n",
      "Epoch 7/1000\n",
      "832/832 - 25s - loss: 0.0188 - val_loss: 0.0174\n",
      "Epoch 8/1000\n",
      "832/832 - 25s - loss: 0.0182 - val_loss: 0.0176\n",
      "Epoch 9/1000\n",
      "832/832 - 25s - loss: 0.0178 - val_loss: 0.0167\n",
      "Epoch 10/1000\n",
      "832/832 - 25s - loss: 0.0174 - val_loss: 0.0162\n",
      "Epoch 11/1000\n",
      "832/832 - 25s - loss: 0.0171 - val_loss: 0.0179\n",
      "Epoch 12/1000\n",
      "832/832 - 25s - loss: 0.0168 - val_loss: 0.0161\n",
      "Epoch 13/1000\n",
      "832/832 - 25s - loss: 0.0166 - val_loss: 0.0153\n",
      "Epoch 14/1000\n",
      "832/832 - 25s - loss: 0.0165 - val_loss: 0.0161\n",
      "Epoch 15/1000\n",
      "832/832 - 25s - loss: 0.0163 - val_loss: 0.0162\n",
      "Epoch 16/1000\n",
      "832/832 - 25s - loss: 0.0162 - val_loss: 0.0159\n",
      "Epoch 17/1000\n",
      "832/832 - 25s - loss: 0.0161 - val_loss: 0.0164\n",
      "Epoch 18/1000\n",
      "832/832 - 25s - loss: 0.0159 - val_loss: 0.0185\n",
      "Epoch 19/1000\n",
      "832/832 - 25s - loss: 0.0159 - val_loss: 0.0165\n",
      "Epoch 20/1000\n",
      "832/832 - 25s - loss: 0.0157 - val_loss: 0.0158\n",
      "Epoch 21/1000\n",
      "832/832 - 25s - loss: 0.0156 - val_loss: 0.0154\n",
      "Epoch 22/1000\n",
      "832/832 - 25s - loss: 0.0156 - val_loss: 0.0152\n",
      "Epoch 23/1000\n",
      "832/832 - 25s - loss: 0.0155 - val_loss: 0.0158\n",
      "Epoch 24/1000\n",
      "832/832 - 25s - loss: 0.0155 - val_loss: 0.0157\n",
      "Epoch 25/1000\n",
      "832/832 - 25s - loss: 0.0154 - val_loss: 0.0148\n",
      "Epoch 26/1000\n",
      "832/832 - 25s - loss: 0.0152 - val_loss: 0.0145\n",
      "Epoch 27/1000\n",
      "832/832 - 25s - loss: 0.0152 - val_loss: 0.0151\n",
      "Epoch 28/1000\n",
      "832/832 - 25s - loss: 0.0152 - val_loss: 0.0143\n",
      "Epoch 29/1000\n",
      "832/832 - 25s - loss: 0.0151 - val_loss: 0.0159\n",
      "Epoch 30/1000\n",
      "832/832 - 25s - loss: 0.0151 - val_loss: 0.0156\n",
      "Epoch 31/1000\n",
      "832/832 - 25s - loss: 0.0150 - val_loss: 0.0149\n",
      "Epoch 32/1000\n",
      "832/832 - 25s - loss: 0.0150 - val_loss: 0.0144\n",
      "Epoch 33/1000\n",
      "832/832 - 25s - loss: 0.0150 - val_loss: 0.0146\n",
      "Epoch 34/1000\n",
      "832/832 - 25s - loss: 0.0149 - val_loss: 0.0144\n",
      "Epoch 35/1000\n",
      "832/832 - 25s - loss: 0.0149 - val_loss: 0.0144\n",
      "Epoch 36/1000\n",
      "832/832 - 25s - loss: 0.0148 - val_loss: 0.0150\n",
      "Epoch 37/1000\n",
      "832/832 - 25s - loss: 0.0148 - val_loss: 0.0147\n",
      "Epoch 38/1000\n",
      "832/832 - 25s - loss: 0.0148 - val_loss: 0.0154\n",
      "Epoch 39/1000\n",
      "832/832 - 25s - loss: 0.0147 - val_loss: 0.0143\n",
      "Epoch 40/1000\n",
      "832/832 - 25s - loss: 0.0147 - val_loss: 0.0146\n",
      "Epoch 41/1000\n",
      "832/832 - 25s - loss: 0.0146 - val_loss: 0.0146\n",
      "Epoch 42/1000\n",
      "832/832 - 25s - loss: 0.0147 - val_loss: 0.0146\n",
      "Epoch 43/1000\n",
      "832/832 - 25s - loss: 0.0146 - val_loss: 0.0145\n",
      "Epoch 44/1000\n",
      "832/832 - 25s - loss: 0.0146 - val_loss: 0.0148\n",
      "Epoch 45/1000\n",
      "832/832 - 25s - loss: 0.0145 - val_loss: 0.0143\n",
      "Epoch 46/1000\n",
      "832/832 - 25s - loss: 0.0145 - val_loss: 0.0145\n",
      "Epoch 47/1000\n",
      "832/832 - 25s - loss: 0.0145 - val_loss: 0.0143\n",
      "Epoch 48/1000\n",
      "832/832 - 25s - loss: 0.0145 - val_loss: 0.0141\n",
      "Epoch 49/1000\n",
      "832/832 - 25s - loss: 0.0145 - val_loss: 0.0145\n",
      "Epoch 50/1000\n",
      "832/832 - 25s - loss: 0.0145 - val_loss: 0.0140\n",
      "Epoch 51/1000\n",
      "832/832 - 25s - loss: 0.0144 - val_loss: 0.0144\n",
      "Epoch 52/1000\n",
      "832/832 - 25s - loss: 0.0143 - val_loss: 0.0142\n",
      "Epoch 53/1000\n",
      "832/832 - 25s - loss: 0.0144 - val_loss: 0.0138\n",
      "Epoch 54/1000\n",
      "832/832 - 25s - loss: 0.0143 - val_loss: 0.0151\n",
      "Epoch 55/1000\n",
      "832/832 - 25s - loss: 0.0143 - val_loss: 0.0142\n",
      "Epoch 1/1000\n",
      "832/832 - 29s - loss: 0.0904 - val_loss: 0.0471\n",
      "Epoch 2/1000\n",
      "832/832 - 25s - loss: 0.0376 - val_loss: 0.0291\n",
      "Epoch 3/1000\n",
      "832/832 - 25s - loss: 0.0287 - val_loss: 0.0250\n",
      "Epoch 4/1000\n",
      "832/832 - 25s - loss: 0.0254 - val_loss: 0.0234\n",
      "Epoch 5/1000\n",
      "832/832 - 25s - loss: 0.0233 - val_loss: 0.0222\n",
      "Epoch 6/1000\n",
      "832/832 - 25s - loss: 0.0220 - val_loss: 0.0207\n",
      "Epoch 7/1000\n",
      "832/832 - 25s - loss: 0.0211 - val_loss: 0.0207\n",
      "Epoch 8/1000\n",
      "832/832 - 25s - loss: 0.0203 - val_loss: 0.0188\n",
      "Epoch 9/1000\n",
      "832/832 - 25s - loss: 0.0198 - val_loss: 0.0193\n",
      "Epoch 10/1000\n",
      "832/832 - 25s - loss: 0.0193 - val_loss: 0.0184\n",
      "Epoch 11/1000\n",
      "832/832 - 25s - loss: 0.0190 - val_loss: 0.0176\n",
      "Epoch 12/1000\n",
      "832/832 - 25s - loss: 0.0186 - val_loss: 0.0168\n",
      "Epoch 13/1000\n",
      "832/832 - 25s - loss: 0.0184 - val_loss: 0.0185\n"
     ]
    },
    {
     "name": "stdout",
     "output_type": "stream",
     "text": [
      "Epoch 14/1000\n",
      "832/832 - 25s - loss: 0.0180 - val_loss: 0.0171\n",
      "Epoch 15/1000\n",
      "832/832 - 25s - loss: 0.0179 - val_loss: 0.0175\n",
      "Epoch 16/1000\n",
      "832/832 - 25s - loss: 0.0177 - val_loss: 0.0166\n",
      "Epoch 17/1000\n",
      "832/832 - 25s - loss: 0.0175 - val_loss: 0.0163\n",
      "Epoch 18/1000\n",
      "832/832 - 25s - loss: 0.0172 - val_loss: 0.0178\n",
      "Epoch 19/1000\n",
      "832/832 - 25s - loss: 0.0171 - val_loss: 0.0173\n",
      "Epoch 20/1000\n",
      "832/832 - 25s - loss: 0.0169 - val_loss: 0.0157\n",
      "Epoch 21/1000\n",
      "832/832 - 25s - loss: 0.0168 - val_loss: 0.0165\n",
      "Epoch 22/1000\n",
      "832/832 - 25s - loss: 0.0166 - val_loss: 0.0159\n",
      "Epoch 23/1000\n",
      "832/832 - 25s - loss: 0.0165 - val_loss: 0.0160\n",
      "Epoch 24/1000\n",
      "832/832 - 25s - loss: 0.0164 - val_loss: 0.0155\n",
      "Epoch 25/1000\n",
      "832/832 - 25s - loss: 0.0163 - val_loss: 0.0152\n",
      "Epoch 26/1000\n",
      "832/832 - 25s - loss: 0.0162 - val_loss: 0.0154\n",
      "Epoch 27/1000\n",
      "832/832 - 25s - loss: 0.0161 - val_loss: 0.0151\n",
      "Epoch 28/1000\n",
      "832/832 - 25s - loss: 0.0161 - val_loss: 0.0171\n",
      "Epoch 29/1000\n",
      "832/832 - 25s - loss: 0.0160 - val_loss: 0.0160\n",
      "Epoch 30/1000\n",
      "832/832 - 25s - loss: 0.0159 - val_loss: 0.0153\n",
      "Epoch 31/1000\n",
      "832/832 - 25s - loss: 0.0159 - val_loss: 0.0160\n",
      "Epoch 32/1000\n",
      "832/832 - 25s - loss: 0.0158 - val_loss: 0.0156\n",
      "Epoch 33/1000\n",
      "832/832 - 25s - loss: 0.0158 - val_loss: 0.0154\n",
      "Epoch 34/1000\n",
      "832/832 - 25s - loss: 0.0158 - val_loss: 0.0149\n",
      "Epoch 35/1000\n",
      "832/832 - 25s - loss: 0.0157 - val_loss: 0.0158\n",
      "Epoch 36/1000\n",
      "832/832 - 25s - loss: 0.0156 - val_loss: 0.0159\n",
      "Epoch 37/1000\n",
      "832/832 - 25s - loss: 0.0156 - val_loss: 0.0150\n",
      "Epoch 38/1000\n",
      "832/832 - 25s - loss: 0.0155 - val_loss: 0.0155\n",
      "Epoch 39/1000\n",
      "832/832 - 25s - loss: 0.0155 - val_loss: 0.0157\n",
      "Epoch 40/1000\n",
      "832/832 - 25s - loss: 0.0155 - val_loss: 0.0163\n",
      "Epoch 41/1000\n",
      "832/832 - 25s - loss: 0.0154 - val_loss: 0.0152\n",
      "Epoch 42/1000\n",
      "832/832 - 25s - loss: 0.0154 - val_loss: 0.0150\n",
      "Epoch 43/1000\n",
      "832/832 - 25s - loss: 0.0154 - val_loss: 0.0152\n",
      "Epoch 44/1000\n",
      "832/832 - 25s - loss: 0.0153 - val_loss: 0.0151\n",
      "Epoch 45/1000\n",
      "832/832 - 25s - loss: 0.0154 - val_loss: 0.0149\n",
      "Epoch 46/1000\n",
      "832/832 - 25s - loss: 0.0153 - val_loss: 0.0150\n",
      "Epoch 47/1000\n",
      "832/832 - 25s - loss: 0.0153 - val_loss: 0.0149\n",
      "Epoch 48/1000\n",
      "832/832 - 25s - loss: 0.0153 - val_loss: 0.0148\n",
      "Epoch 49/1000\n",
      "832/832 - 25s - loss: 0.0152 - val_loss: 0.0159\n",
      "Epoch 50/1000\n",
      "832/832 - 25s - loss: 0.0152 - val_loss: 0.0148\n",
      "Epoch 51/1000\n",
      "832/832 - 25s - loss: 0.0151 - val_loss: 0.0149\n",
      "Epoch 52/1000\n",
      "832/832 - 25s - loss: 0.0151 - val_loss: 0.0151\n",
      "Epoch 53/1000\n",
      "832/832 - 25s - loss: 0.0151 - val_loss: 0.0147\n",
      "Epoch 54/1000\n",
      "832/832 - 25s - loss: 0.0151 - val_loss: 0.0149\n",
      "Epoch 1/1000\n",
      "832/832 - 29s - loss: 0.0899 - val_loss: 0.0450\n",
      "Epoch 2/1000\n",
      "832/832 - 25s - loss: 0.0385 - val_loss: 0.0305\n",
      "Epoch 3/1000\n",
      "832/832 - 25s - loss: 0.0290 - val_loss: 0.0283\n",
      "Epoch 4/1000\n",
      "832/832 - 25s - loss: 0.0254 - val_loss: 0.0242\n",
      "Epoch 5/1000\n",
      "832/832 - 25s - loss: 0.0234 - val_loss: 0.0234\n",
      "Epoch 6/1000\n",
      "832/832 - 25s - loss: 0.0223 - val_loss: 0.0235\n",
      "Epoch 7/1000\n",
      "832/832 - 25s - loss: 0.0215 - val_loss: 0.0254\n",
      "Epoch 8/1000\n",
      "832/832 - 25s - loss: 0.0209 - val_loss: 0.0213\n",
      "Epoch 9/1000\n",
      "832/832 - 25s - loss: 0.0204 - val_loss: 0.0246\n",
      "Epoch 10/1000\n",
      "832/832 - 25s - loss: 0.0201 - val_loss: 0.0212\n",
      "Epoch 11/1000\n",
      "832/832 - 25s - loss: 0.0198 - val_loss: 0.0204\n",
      "Epoch 12/1000\n",
      "832/832 - 25s - loss: 0.0195 - val_loss: 0.0199\n",
      "Epoch 13/1000\n",
      "832/832 - 25s - loss: 0.0193 - val_loss: 0.0241\n",
      "Epoch 14/1000\n",
      "832/832 - 25s - loss: 0.0192 - val_loss: 0.0218\n",
      "Epoch 15/1000\n",
      "832/832 - 25s - loss: 0.0190 - val_loss: 0.0208\n",
      "Epoch 16/1000\n",
      "832/832 - 25s - loss: 0.0188 - val_loss: 0.0198\n",
      "Epoch 17/1000\n",
      "832/832 - 25s - loss: 0.0186 - val_loss: 0.0193\n",
      "Epoch 18/1000\n",
      "832/832 - 25s - loss: 0.0185 - val_loss: 0.0191\n",
      "Epoch 19/1000\n",
      "832/832 - 25s - loss: 0.0184 - val_loss: 0.0197\n",
      "Epoch 20/1000\n",
      "832/832 - 25s - loss: 0.0183 - val_loss: 0.0187\n",
      "Epoch 21/1000\n",
      "832/832 - 25s - loss: 0.0182 - val_loss: 0.0185\n",
      "Epoch 22/1000\n",
      "832/832 - 25s - loss: 0.0181 - val_loss: 0.0199\n",
      "Epoch 23/1000\n",
      "832/832 - 25s - loss: 0.0181 - val_loss: 0.0186\n",
      "Epoch 24/1000\n",
      "832/832 - 25s - loss: 0.0180 - val_loss: 0.0187\n",
      "Epoch 25/1000\n",
      "832/832 - 25s - loss: 0.0178 - val_loss: 0.0190\n",
      "Epoch 26/1000\n",
      "832/832 - 25s - loss: 0.0179 - val_loss: 0.0191\n",
      "Epoch 27/1000\n",
      "832/832 - 25s - loss: 0.0178 - val_loss: 0.0184\n",
      "Epoch 28/1000\n",
      "832/832 - 25s - loss: 0.0177 - val_loss: 0.0196\n",
      "Epoch 29/1000\n",
      "832/832 - 25s - loss: 0.0177 - val_loss: 0.0199\n",
      "Epoch 30/1000\n",
      "832/832 - 25s - loss: 0.0176 - val_loss: 0.0191\n",
      "Epoch 31/1000\n",
      "832/832 - 25s - loss: 0.0176 - val_loss: 0.0193\n",
      "Epoch 32/1000\n",
      "832/832 - 25s - loss: 0.0176 - val_loss: 0.0182\n",
      "Epoch 33/1000\n",
      "832/832 - 25s - loss: 0.0176 - val_loss: 0.0194\n",
      "Epoch 34/1000\n",
      "832/832 - 25s - loss: 0.0175 - val_loss: 0.0187\n",
      "Epoch 35/1000\n",
      "832/832 - 25s - loss: 0.0175 - val_loss: 0.0180\n",
      "Epoch 36/1000\n",
      "832/832 - 25s - loss: 0.0174 - val_loss: 0.0182\n",
      "Epoch 37/1000\n",
      "832/832 - 25s - loss: 0.0174 - val_loss: 0.0189\n",
      "Epoch 38/1000\n",
      "832/832 - 25s - loss: 0.0173 - val_loss: 0.0187\n",
      "Epoch 39/1000\n",
      "832/832 - 25s - loss: 0.0173 - val_loss: 0.0201\n",
      "Epoch 40/1000\n",
      "832/832 - 25s - loss: 0.0173 - val_loss: 0.0190\n",
      "Epoch 41/1000\n",
      "832/832 - 25s - loss: 0.0173 - val_loss: 0.0186\n",
      "Epoch 42/1000\n",
      "832/832 - 25s - loss: 0.0173 - val_loss: 0.0186\n",
      "Epoch 43/1000\n",
      "832/832 - 25s - loss: 0.0172 - val_loss: 0.0190\n",
      "Epoch 44/1000\n",
      "832/832 - 25s - loss: 0.0172 - val_loss: 0.0181\n",
      "Epoch 45/1000\n",
      "832/832 - 25s - loss: 0.0171 - val_loss: 0.0190\n",
      "Epoch 46/1000\n",
      "832/832 - 25s - loss: 0.0172 - val_loss: 0.0199\n",
      "Epoch 47/1000\n",
      "832/832 - 25s - loss: 0.0171 - val_loss: 0.0184\n",
      "Epoch 48/1000\n",
      "832/832 - 25s - loss: 0.0171 - val_loss: 0.0199\n",
      "Epoch 49/1000\n",
      "832/832 - 25s - loss: 0.0171 - val_loss: 0.0193\n",
      "Epoch 50/1000\n",
      "832/832 - 25s - loss: 0.0171 - val_loss: 0.0189\n",
      "Epoch 1/1000\n",
      "832/832 - 29s - loss: 0.0970 - val_loss: 0.0522\n",
      "Epoch 2/1000\n",
      "832/832 - 25s - loss: 0.0439 - val_loss: 0.0352\n",
      "Epoch 3/1000\n",
      "832/832 - 25s - loss: 0.0337 - val_loss: 0.0296\n",
      "Epoch 4/1000\n",
      "832/832 - 25s - loss: 0.0298 - val_loss: 0.0311\n",
      "Epoch 5/1000\n",
      "832/832 - 25s - loss: 0.0275 - val_loss: 0.0281\n",
      "Epoch 6/1000\n",
      "832/832 - 25s - loss: 0.0261 - val_loss: 0.0257\n",
      "Epoch 7/1000\n",
      "832/832 - 25s - loss: 0.0250 - val_loss: 0.0264\n",
      "Epoch 8/1000\n",
      "832/832 - 25s - loss: 0.0242 - val_loss: 0.0245\n",
      "Epoch 9/1000\n",
      "832/832 - 25s - loss: 0.0236 - val_loss: 0.0228\n",
      "Epoch 10/1000\n",
      "832/832 - 25s - loss: 0.0230 - val_loss: 0.0226\n",
      "Epoch 11/1000\n",
      "832/832 - 25s - loss: 0.0226 - val_loss: 0.0229\n",
      "Epoch 12/1000\n",
      "832/832 - 25s - loss: 0.0223 - val_loss: 0.0216\n",
      "Epoch 13/1000\n",
      "832/832 - 25s - loss: 0.0220 - val_loss: 0.0224\n",
      "Epoch 14/1000\n",
      "832/832 - 25s - loss: 0.0217 - val_loss: 0.0216\n",
      "Epoch 15/1000\n",
      "832/832 - 25s - loss: 0.0215 - val_loss: 0.0215\n",
      "Epoch 16/1000\n",
      "832/832 - 25s - loss: 0.0213 - val_loss: 0.0207\n",
      "Epoch 17/1000\n",
      "832/832 - 25s - loss: 0.0211 - val_loss: 0.0230\n",
      "Epoch 18/1000\n",
      "832/832 - 25s - loss: 0.0210 - val_loss: 0.0204\n",
      "Epoch 19/1000\n",
      "832/832 - 25s - loss: 0.0208 - val_loss: 0.0212\n",
      "Epoch 20/1000\n",
      "832/832 - 25s - loss: 0.0207 - val_loss: 0.0218\n",
      "Epoch 21/1000\n",
      "832/832 - 25s - loss: 0.0205 - val_loss: 0.0228\n",
      "Epoch 22/1000\n",
      "832/832 - 25s - loss: 0.0204 - val_loss: 0.0212\n",
      "Epoch 23/1000\n",
      "832/832 - 25s - loss: 0.0203 - val_loss: 0.0221\n",
      "Epoch 24/1000\n",
      "832/832 - 25s - loss: 0.0201 - val_loss: 0.0208\n",
      "Epoch 25/1000\n",
      "832/832 - 25s - loss: 0.0200 - val_loss: 0.0215\n",
      "Epoch 26/1000\n",
      "832/832 - 25s - loss: 0.0199 - val_loss: 0.0217\n",
      "Epoch 27/1000\n",
      "832/832 - 25s - loss: 0.0198 - val_loss: 0.0211\n",
      "Epoch 28/1000\n",
      "832/832 - 25s - loss: 0.0198 - val_loss: 0.0216\n",
      "Epoch 29/1000\n",
      "832/832 - 25s - loss: 0.0197 - val_loss: 0.0220\n",
      "Epoch 30/1000\n",
      "832/832 - 25s - loss: 0.0196 - val_loss: 0.0217\n",
      "Epoch 31/1000\n",
      "832/832 - 25s - loss: 0.0196 - val_loss: 0.0215\n",
      "Epoch 32/1000\n",
      "832/832 - 25s - loss: 0.0194 - val_loss: 0.0224\n",
      "Epoch 33/1000\n",
      "832/832 - 25s - loss: 0.0194 - val_loss: 0.0212\n",
      "Epoch 34/1000\n",
      "832/832 - 25s - loss: 0.0194 - val_loss: 0.0212\n",
      "Epoch 35/1000\n",
      "832/832 - 25s - loss: 0.0193 - val_loss: 0.0224\n",
      "Epoch 36/1000\n",
      "832/832 - 25s - loss: 0.0192 - val_loss: 0.0222\n",
      "Epoch 37/1000\n",
      "832/832 - 25s - loss: 0.0192 - val_loss: 0.0221\n",
      "Epoch 38/1000\n",
      "832/832 - 25s - loss: 0.0191 - val_loss: 0.0206\n",
      "Epoch 39/1000\n",
      "832/832 - 25s - loss: 0.0191 - val_loss: 0.0212\n",
      "Epoch 40/1000\n",
      "832/832 - 25s - loss: 0.0190 - val_loss: 0.0223\n",
      "Epoch 41/1000\n",
      "832/832 - 25s - loss: 0.0190 - val_loss: 0.0225\n",
      "Epoch 42/1000\n",
      "832/832 - 25s - loss: 0.0189 - val_loss: 0.0234\n"
     ]
    },
    {
     "name": "stdout",
     "output_type": "stream",
     "text": [
      "Epoch 43/1000\n",
      "832/832 - 25s - loss: 0.0189 - val_loss: 0.0220\n",
      "Epoch 44/1000\n",
      "832/832 - 25s - loss: 0.0189 - val_loss: 0.0229\n",
      "Epoch 45/1000\n",
      "832/832 - 25s - loss: 0.0188 - val_loss: 0.0205\n",
      "Epoch 46/1000\n",
      "832/832 - 25s - loss: 0.0187 - val_loss: 0.0218\n",
      "Epoch 47/1000\n",
      "832/832 - 25s - loss: 0.0187 - val_loss: 0.0222\n",
      "Epoch 48/1000\n",
      "832/832 - 25s - loss: 0.0186 - val_loss: 0.0224\n",
      "Epoch 1/1000\n",
      "832/832 - 36s - loss: 0.0904 - val_loss: 0.0443\n",
      "Epoch 2/1000\n",
      "832/832 - 25s - loss: 0.0387 - val_loss: 0.0333\n",
      "Epoch 3/1000\n",
      "832/832 - 25s - loss: 0.0314 - val_loss: 0.0288\n",
      "Epoch 4/1000\n",
      "832/832 - 25s - loss: 0.0286 - val_loss: 0.0267\n",
      "Epoch 5/1000\n",
      "832/832 - 25s - loss: 0.0270 - val_loss: 0.0254\n",
      "Epoch 6/1000\n",
      "832/832 - 25s - loss: 0.0260 - val_loss: 0.0239\n",
      "Epoch 7/1000\n",
      "832/832 - 25s - loss: 0.0252 - val_loss: 0.0236\n",
      "Epoch 8/1000\n",
      "832/832 - 25s - loss: 0.0246 - val_loss: 0.0240\n",
      "Epoch 9/1000\n",
      "832/832 - 25s - loss: 0.0241 - val_loss: 0.0227\n",
      "Epoch 10/1000\n",
      "832/832 - 25s - loss: 0.0236 - val_loss: 0.0233\n",
      "Epoch 11/1000\n",
      "832/832 - 25s - loss: 0.0234 - val_loss: 0.0236\n",
      "Epoch 12/1000\n",
      "832/832 - 25s - loss: 0.0230 - val_loss: 0.0228\n",
      "Epoch 13/1000\n",
      "832/832 - 25s - loss: 0.0227 - val_loss: 0.0226\n",
      "Epoch 14/1000\n",
      "832/832 - 25s - loss: 0.0225 - val_loss: 0.0228\n",
      "Epoch 15/1000\n",
      "832/832 - 25s - loss: 0.0224 - val_loss: 0.0221\n",
      "Epoch 16/1000\n",
      "832/832 - 25s - loss: 0.0222 - val_loss: 0.0222\n",
      "Epoch 17/1000\n",
      "832/832 - 25s - loss: 0.0220 - val_loss: 0.0221\n",
      "Epoch 18/1000\n",
      "832/832 - 25s - loss: 0.0219 - val_loss: 0.0222\n",
      "Epoch 19/1000\n",
      "832/832 - 25s - loss: 0.0219 - val_loss: 0.0220\n",
      "Epoch 20/1000\n",
      "832/832 - 25s - loss: 0.0218 - val_loss: 0.0215\n",
      "Epoch 21/1000\n",
      "832/832 - 25s - loss: 0.0216 - val_loss: 0.0212\n",
      "Epoch 22/1000\n",
      "832/832 - 25s - loss: 0.0216 - val_loss: 0.0210\n",
      "Epoch 23/1000\n",
      "832/832 - 25s - loss: 0.0214 - val_loss: 0.0217\n",
      "Epoch 24/1000\n",
      "832/832 - 25s - loss: 0.0214 - val_loss: 0.0216\n",
      "Epoch 25/1000\n",
      "832/832 - 25s - loss: 0.0213 - val_loss: 0.0214\n",
      "Epoch 26/1000\n",
      "832/832 - 25s - loss: 0.0212 - val_loss: 0.0212\n",
      "Epoch 27/1000\n",
      "832/832 - 25s - loss: 0.0211 - val_loss: 0.0209\n",
      "Epoch 28/1000\n",
      "832/832 - 25s - loss: 0.0210 - val_loss: 0.0210\n",
      "Epoch 29/1000\n",
      "832/832 - 25s - loss: 0.0210 - val_loss: 0.0206\n",
      "Epoch 30/1000\n",
      "832/832 - 25s - loss: 0.0209 - val_loss: 0.0208\n",
      "Epoch 31/1000\n",
      "832/832 - 25s - loss: 0.0208 - val_loss: 0.0217\n",
      "Epoch 32/1000\n",
      "832/832 - 25s - loss: 0.0208 - val_loss: 0.0217\n",
      "Epoch 33/1000\n",
      "832/832 - 25s - loss: 0.0208 - val_loss: 0.0205\n",
      "Epoch 34/1000\n",
      "832/832 - 25s - loss: 0.0208 - val_loss: 0.0208\n",
      "Epoch 35/1000\n",
      "832/832 - 25s - loss: 0.0207 - val_loss: 0.0205\n",
      "Epoch 36/1000\n",
      "832/832 - 25s - loss: 0.0207 - val_loss: 0.0203\n",
      "Epoch 37/1000\n",
      "832/832 - 25s - loss: 0.0206 - val_loss: 0.0205\n",
      "Epoch 38/1000\n",
      "832/832 - 25s - loss: 0.0206 - val_loss: 0.0202\n",
      "Epoch 39/1000\n",
      "832/832 - 25s - loss: 0.0205 - val_loss: 0.0206\n",
      "Epoch 40/1000\n",
      "832/832 - 25s - loss: 0.0205 - val_loss: 0.0207\n",
      "Epoch 41/1000\n",
      "832/832 - 25s - loss: 0.0205 - val_loss: 0.0201\n",
      "Epoch 42/1000\n",
      "832/832 - 25s - loss: 0.0204 - val_loss: 0.0215\n",
      "Epoch 43/1000\n",
      "832/832 - 25s - loss: 0.0204 - val_loss: 0.0206\n",
      "Epoch 44/1000\n",
      "832/832 - 25s - loss: 0.0204 - val_loss: 0.0208\n",
      "Epoch 45/1000\n",
      "832/832 - 25s - loss: 0.0203 - val_loss: 0.0207\n",
      "Epoch 46/1000\n",
      "832/832 - 25s - loss: 0.0203 - val_loss: 0.0210\n",
      "Epoch 47/1000\n",
      "832/832 - 25s - loss: 0.0203 - val_loss: 0.0207\n",
      "Epoch 48/1000\n",
      "832/832 - 25s - loss: 0.0203 - val_loss: 0.0204\n",
      "Epoch 49/1000\n",
      "832/832 - 25s - loss: 0.0203 - val_loss: 0.0216\n",
      "Epoch 50/1000\n",
      "832/832 - 25s - loss: 0.0202 - val_loss: 0.0205\n",
      "Epoch 51/1000\n",
      "832/832 - 25s - loss: 0.0202 - val_loss: 0.0202\n",
      "Epoch 52/1000\n",
      "832/832 - 25s - loss: 0.0201 - val_loss: 0.0202\n",
      "Epoch 53/1000\n",
      "832/832 - 25s - loss: 0.0201 - val_loss: 0.0206\n",
      "Epoch 54/1000\n",
      "832/832 - 25s - loss: 0.0201 - val_loss: 0.0205\n",
      "Epoch 55/1000\n",
      "832/832 - 25s - loss: 0.0200 - val_loss: 0.0207\n",
      "Epoch 56/1000\n",
      "832/832 - 25s - loss: 0.0200 - val_loss: 0.0206\n",
      "Epoch 57/1000\n",
      "832/832 - 25s - loss: 0.0200 - val_loss: 0.0204\n",
      "Epoch 58/1000\n",
      "832/832 - 25s - loss: 0.0199 - val_loss: 0.0202\n",
      "Epoch 59/1000\n",
      "832/832 - 25s - loss: 0.0200 - val_loss: 0.0201\n",
      "Epoch 60/1000\n",
      "832/832 - 25s - loss: 0.0199 - val_loss: 0.0213\n",
      "Epoch 61/1000\n",
      "832/832 - 25s - loss: 0.0199 - val_loss: 0.0204\n",
      "Epoch 62/1000\n",
      "832/832 - 25s - loss: 0.0199 - val_loss: 0.0206\n",
      "Epoch 63/1000\n",
      "832/832 - 25s - loss: 0.0198 - val_loss: 0.0207\n",
      "Epoch 1/1000\n",
      "832/832 - 29s - loss: 0.0891 - val_loss: 0.0503\n",
      "Epoch 2/1000\n",
      "832/832 - 25s - loss: 0.0412 - val_loss: 0.0335\n",
      "Epoch 3/1000\n",
      "832/832 - 25s - loss: 0.0319 - val_loss: 0.0279\n",
      "Epoch 4/1000\n",
      "832/832 - 25s - loss: 0.0284 - val_loss: 0.0259\n",
      "Epoch 5/1000\n",
      "832/832 - 25s - loss: 0.0265 - val_loss: 0.0241\n",
      "Epoch 6/1000\n",
      "832/832 - 25s - loss: 0.0253 - val_loss: 0.0265\n",
      "Epoch 7/1000\n",
      "832/832 - 25s - loss: 0.0245 - val_loss: 0.0243\n",
      "Epoch 8/1000\n",
      "832/832 - 25s - loss: 0.0240 - val_loss: 0.0244\n",
      "Epoch 9/1000\n",
      "832/832 - 25s - loss: 0.0234 - val_loss: 0.0237\n",
      "Epoch 10/1000\n",
      "832/832 - 25s - loss: 0.0229 - val_loss: 0.0226\n",
      "Epoch 11/1000\n",
      "832/832 - 25s - loss: 0.0227 - val_loss: 0.0223\n",
      "Epoch 12/1000\n",
      "832/832 - 25s - loss: 0.0223 - val_loss: 0.0222\n",
      "Epoch 13/1000\n",
      "832/832 - 25s - loss: 0.0220 - val_loss: 0.0234\n",
      "Epoch 14/1000\n",
      "832/832 - 25s - loss: 0.0218 - val_loss: 0.0223\n",
      "Epoch 15/1000\n",
      "832/832 - 25s - loss: 0.0216 - val_loss: 0.0211\n",
      "Epoch 16/1000\n",
      "832/832 - 25s - loss: 0.0214 - val_loss: 0.0215\n",
      "Epoch 17/1000\n",
      "832/832 - 25s - loss: 0.0213 - val_loss: 0.0207\n",
      "Epoch 18/1000\n",
      "832/832 - 25s - loss: 0.0212 - val_loss: 0.0222\n",
      "Epoch 19/1000\n",
      "832/832 - 25s - loss: 0.0210 - val_loss: 0.0224\n",
      "Epoch 20/1000\n",
      "832/832 - 25s - loss: 0.0209 - val_loss: 0.0208\n",
      "Epoch 21/1000\n",
      "832/832 - 25s - loss: 0.0208 - val_loss: 0.0208\n",
      "Epoch 22/1000\n",
      "832/832 - 25s - loss: 0.0207 - val_loss: 0.0213\n",
      "Epoch 23/1000\n",
      "832/832 - 25s - loss: 0.0207 - val_loss: 0.0210\n",
      "Epoch 24/1000\n",
      "832/832 - 25s - loss: 0.0206 - val_loss: 0.0205\n",
      "Epoch 25/1000\n",
      "832/832 - 25s - loss: 0.0205 - val_loss: 0.0203\n",
      "Epoch 26/1000\n",
      "832/832 - 25s - loss: 0.0204 - val_loss: 0.0205\n",
      "Epoch 27/1000\n",
      "832/832 - 25s - loss: 0.0204 - val_loss: 0.0198\n",
      "Epoch 28/1000\n",
      "832/832 - 25s - loss: 0.0203 - val_loss: 0.0193\n",
      "Epoch 29/1000\n",
      "832/832 - 25s - loss: 0.0203 - val_loss: 0.0200\n",
      "Epoch 30/1000\n",
      "832/832 - 25s - loss: 0.0202 - val_loss: 0.0204\n",
      "Epoch 31/1000\n",
      "832/832 - 25s - loss: 0.0202 - val_loss: 0.0204\n",
      "Epoch 32/1000\n",
      "832/832 - 25s - loss: 0.0201 - val_loss: 0.0204\n",
      "Epoch 33/1000\n",
      "832/832 - 25s - loss: 0.0201 - val_loss: 0.0206\n",
      "Epoch 34/1000\n",
      "832/832 - 25s - loss: 0.0200 - val_loss: 0.0218\n",
      "Epoch 35/1000\n",
      "832/832 - 25s - loss: 0.0199 - val_loss: 0.0201\n",
      "Epoch 36/1000\n",
      "832/832 - 25s - loss: 0.0199 - val_loss: 0.0191\n",
      "Epoch 37/1000\n",
      "832/832 - 25s - loss: 0.0198 - val_loss: 0.0195\n",
      "Epoch 38/1000\n",
      "832/832 - 25s - loss: 0.0198 - val_loss: 0.0207\n",
      "Epoch 39/1000\n",
      "832/832 - 25s - loss: 0.0198 - val_loss: 0.0199\n",
      "Epoch 40/1000\n",
      "832/832 - 25s - loss: 0.0197 - val_loss: 0.0195\n",
      "Epoch 41/1000\n",
      "832/832 - 25s - loss: 0.0197 - val_loss: 0.0199\n",
      "Epoch 42/1000\n",
      "832/832 - 25s - loss: 0.0197 - val_loss: 0.0192\n",
      "Epoch 43/1000\n",
      "832/832 - 25s - loss: 0.0196 - val_loss: 0.0195\n",
      "Epoch 44/1000\n",
      "832/832 - 25s - loss: 0.0196 - val_loss: 0.0194\n",
      "Epoch 45/1000\n",
      "832/832 - 25s - loss: 0.0196 - val_loss: 0.0195\n",
      "Epoch 46/1000\n",
      "832/832 - 25s - loss: 0.0195 - val_loss: 0.0193\n",
      "Epoch 47/1000\n",
      "832/832 - 25s - loss: 0.0195 - val_loss: 0.0203\n",
      "Epoch 48/1000\n",
      "832/832 - 25s - loss: 0.0195 - val_loss: 0.0192\n",
      "Epoch 49/1000\n",
      "832/832 - 25s - loss: 0.0195 - val_loss: 0.0192\n",
      "Epoch 50/1000\n",
      "832/832 - 25s - loss: 0.0194 - val_loss: 0.0199\n",
      "Epoch 51/1000\n",
      "832/832 - 25s - loss: 0.0194 - val_loss: 0.0194\n",
      "Epoch 52/1000\n",
      "832/832 - 25s - loss: 0.0194 - val_loss: 0.0196\n",
      "Epoch 53/1000\n",
      "832/832 - 25s - loss: 0.0194 - val_loss: 0.0194\n",
      "Epoch 54/1000\n",
      "832/832 - 25s - loss: 0.0194 - val_loss: 0.0196\n",
      "Epoch 55/1000\n",
      "832/832 - 25s - loss: 0.0193 - val_loss: 0.0194\n",
      "Epoch 56/1000\n",
      "832/832 - 25s - loss: 0.0193 - val_loss: 0.0200\n",
      "Epoch 57/1000\n",
      "832/832 - 25s - loss: 0.0193 - val_loss: 0.0189\n",
      "Epoch 1/1000\n",
      "832/832 - 29s - loss: 0.0846 - val_loss: 0.0376\n",
      "Epoch 2/1000\n",
      "832/832 - 25s - loss: 0.0326 - val_loss: 0.0270\n",
      "Epoch 3/1000\n",
      "832/832 - 25s - loss: 0.0265 - val_loss: 0.0277\n",
      "Epoch 4/1000\n",
      "832/832 - 25s - loss: 0.0242 - val_loss: 0.0228\n",
      "Epoch 5/1000\n",
      "832/832 - 25s - loss: 0.0229 - val_loss: 0.0223\n",
      "Epoch 6/1000\n",
      "832/832 - 25s - loss: 0.0221 - val_loss: 0.0218\n",
      "Epoch 7/1000\n",
      "832/832 - 25s - loss: 0.0215 - val_loss: 0.0212\n"
     ]
    },
    {
     "name": "stdout",
     "output_type": "stream",
     "text": [
      "Epoch 8/1000\n",
      "832/832 - 25s - loss: 0.0209 - val_loss: 0.0207\n",
      "Epoch 9/1000\n",
      "832/832 - 25s - loss: 0.0206 - val_loss: 0.0232\n",
      "Epoch 10/1000\n",
      "832/832 - 25s - loss: 0.0203 - val_loss: 0.0200\n",
      "Epoch 11/1000\n",
      "832/832 - 25s - loss: 0.0201 - val_loss: 0.0214\n",
      "Epoch 12/1000\n",
      "832/832 - 25s - loss: 0.0199 - val_loss: 0.0209\n",
      "Epoch 13/1000\n",
      "832/832 - 25s - loss: 0.0196 - val_loss: 0.0189\n",
      "Epoch 14/1000\n",
      "832/832 - 25s - loss: 0.0195 - val_loss: 0.0201\n",
      "Epoch 15/1000\n",
      "832/832 - 25s - loss: 0.0193 - val_loss: 0.0199\n",
      "Epoch 16/1000\n",
      "832/832 - 25s - loss: 0.0192 - val_loss: 0.0194\n",
      "Epoch 17/1000\n",
      "832/832 - 25s - loss: 0.0191 - val_loss: 0.0185\n",
      "Epoch 18/1000\n",
      "832/832 - 25s - loss: 0.0189 - val_loss: 0.0195\n",
      "Epoch 19/1000\n",
      "832/832 - 25s - loss: 0.0188 - val_loss: 0.0179\n",
      "Epoch 20/1000\n",
      "832/832 - 25s - loss: 0.0187 - val_loss: 0.0184\n",
      "Epoch 21/1000\n",
      "832/832 - 25s - loss: 0.0187 - val_loss: 0.0179\n",
      "Epoch 22/1000\n",
      "832/832 - 25s - loss: 0.0186 - val_loss: 0.0185\n",
      "Epoch 23/1000\n",
      "832/832 - 25s - loss: 0.0185 - val_loss: 0.0184\n",
      "Epoch 24/1000\n",
      "832/832 - 25s - loss: 0.0185 - val_loss: 0.0186\n",
      "Epoch 25/1000\n",
      "832/832 - 25s - loss: 0.0184 - val_loss: 0.0181\n",
      "Epoch 26/1000\n",
      "832/832 - 25s - loss: 0.0183 - val_loss: 0.0178\n",
      "Epoch 27/1000\n",
      "832/832 - 25s - loss: 0.0183 - val_loss: 0.0186\n",
      "Epoch 28/1000\n",
      "832/832 - 25s - loss: 0.0183 - val_loss: 0.0188\n",
      "Epoch 29/1000\n",
      "832/832 - 25s - loss: 0.0182 - val_loss: 0.0184\n",
      "Epoch 30/1000\n",
      "832/832 - 25s - loss: 0.0182 - val_loss: 0.0180\n",
      "Epoch 31/1000\n",
      "832/832 - 25s - loss: 0.0181 - val_loss: 0.0192\n",
      "Epoch 32/1000\n",
      "832/832 - 25s - loss: 0.0181 - val_loss: 0.0174\n",
      "Epoch 33/1000\n",
      "832/832 - 25s - loss: 0.0181 - val_loss: 0.0180\n",
      "Epoch 34/1000\n",
      "832/832 - 25s - loss: 0.0180 - val_loss: 0.0181\n",
      "Epoch 35/1000\n",
      "832/832 - 25s - loss: 0.0180 - val_loss: 0.0188\n",
      "Epoch 36/1000\n",
      "832/832 - 25s - loss: 0.0179 - val_loss: 0.0182\n",
      "Epoch 37/1000\n",
      "832/832 - 25s - loss: 0.0179 - val_loss: 0.0183\n",
      "Epoch 38/1000\n",
      "832/832 - 25s - loss: 0.0179 - val_loss: 0.0184\n",
      "Epoch 39/1000\n",
      "832/832 - 25s - loss: 0.0178 - val_loss: 0.0185\n",
      "Epoch 40/1000\n",
      "832/832 - 25s - loss: 0.0178 - val_loss: 0.0182\n",
      "Epoch 41/1000\n",
      "832/832 - 25s - loss: 0.0178 - val_loss: 0.0196\n",
      "Epoch 42/1000\n",
      "832/832 - 25s - loss: 0.0178 - val_loss: 0.0208\n",
      "Epoch 43/1000\n",
      "832/832 - 25s - loss: 0.0177 - val_loss: 0.0183\n",
      "Epoch 44/1000\n",
      "832/832 - 25s - loss: 0.0177 - val_loss: 0.0185\n",
      "Epoch 45/1000\n",
      "832/832 - 25s - loss: 0.0177 - val_loss: 0.0173\n",
      "Epoch 46/1000\n",
      "832/832 - 25s - loss: 0.0177 - val_loss: 0.0181\n",
      "Epoch 47/1000\n",
      "832/832 - 25s - loss: 0.0176 - val_loss: 0.0179\n",
      "Epoch 48/1000\n",
      "832/832 - 25s - loss: 0.0176 - val_loss: 0.0190\n",
      "Epoch 49/1000\n",
      "832/832 - 25s - loss: 0.0176 - val_loss: 0.0184\n",
      "Epoch 50/1000\n",
      "832/832 - 25s - loss: 0.0176 - val_loss: 0.0186\n",
      "Epoch 51/1000\n",
      "832/832 - 25s - loss: 0.0175 - val_loss: 0.0179\n",
      "Epoch 1/1000\n",
      "832/832 - 30s - loss: 0.0894 - val_loss: 0.0450\n",
      "Epoch 2/1000\n",
      "832/832 - 25s - loss: 0.0375 - val_loss: 0.0309\n",
      "Epoch 3/1000\n",
      "832/832 - 25s - loss: 0.0283 - val_loss: 0.0244\n",
      "Epoch 4/1000\n",
      "832/832 - 25s - loss: 0.0248 - val_loss: 0.0223\n",
      "Epoch 5/1000\n",
      "832/832 - 25s - loss: 0.0230 - val_loss: 0.0215\n",
      "Epoch 6/1000\n",
      "832/832 - 25s - loss: 0.0217 - val_loss: 0.0204\n",
      "Epoch 7/1000\n",
      "832/832 - 25s - loss: 0.0208 - val_loss: 0.0191\n",
      "Epoch 8/1000\n",
      "832/832 - 25s - loss: 0.0202 - val_loss: 0.0188\n",
      "Epoch 9/1000\n",
      "832/832 - 25s - loss: 0.0197 - val_loss: 0.0192\n",
      "Epoch 10/1000\n",
      "832/832 - 25s - loss: 0.0192 - val_loss: 0.0186\n",
      "Epoch 11/1000\n",
      "832/832 - 25s - loss: 0.0189 - val_loss: 0.0188\n",
      "Epoch 12/1000\n",
      "832/832 - 25s - loss: 0.0186 - val_loss: 0.0184\n",
      "Epoch 13/1000\n",
      "832/832 - 25s - loss: 0.0184 - val_loss: 0.0180\n",
      "Epoch 14/1000\n",
      "832/832 - 25s - loss: 0.0181 - val_loss: 0.0193\n",
      "Epoch 15/1000\n",
      "832/832 - 25s - loss: 0.0180 - val_loss: 0.0205\n",
      "Epoch 16/1000\n",
      "832/832 - 25s - loss: 0.0178 - val_loss: 0.0175\n",
      "Epoch 17/1000\n",
      "832/832 - 25s - loss: 0.0176 - val_loss: 0.0174\n",
      "Epoch 18/1000\n",
      "832/832 - 25s - loss: 0.0175 - val_loss: 0.0174\n",
      "Epoch 19/1000\n",
      "832/832 - 25s - loss: 0.0174 - val_loss: 0.0164\n",
      "Epoch 20/1000\n",
      "832/832 - 25s - loss: 0.0172 - val_loss: 0.0172\n",
      "Epoch 21/1000\n",
      "832/832 - 25s - loss: 0.0172 - val_loss: 0.0169\n",
      "Epoch 22/1000\n",
      "832/832 - 25s - loss: 0.0170 - val_loss: 0.0170\n",
      "Epoch 23/1000\n",
      "832/832 - 25s - loss: 0.0169 - val_loss: 0.0181\n",
      "Epoch 24/1000\n",
      "832/832 - 25s - loss: 0.0168 - val_loss: 0.0173\n",
      "Epoch 25/1000\n",
      "832/832 - 25s - loss: 0.0168 - val_loss: 0.0169\n",
      "Epoch 26/1000\n",
      "832/832 - 25s - loss: 0.0167 - val_loss: 0.0172\n",
      "Epoch 27/1000\n",
      "832/832 - 25s - loss: 0.0166 - val_loss: 0.0174\n",
      "Epoch 28/1000\n",
      "832/832 - 25s - loss: 0.0166 - val_loss: 0.0172\n",
      "Epoch 29/1000\n",
      "832/832 - 25s - loss: 0.0165 - val_loss: 0.0171\n",
      "Epoch 30/1000\n",
      "832/832 - 25s - loss: 0.0165 - val_loss: 0.0171\n",
      "Epoch 31/1000\n",
      "832/832 - 25s - loss: 0.0164 - val_loss: 0.0170\n",
      "Epoch 32/1000\n",
      "832/832 - 25s - loss: 0.0163 - val_loss: 0.0157\n",
      "Epoch 33/1000\n",
      "832/832 - 25s - loss: 0.0163 - val_loss: 0.0161\n",
      "Epoch 34/1000\n",
      "832/832 - 25s - loss: 0.0163 - val_loss: 0.0166\n",
      "Epoch 35/1000\n",
      "832/832 - 25s - loss: 0.0162 - val_loss: 0.0162\n",
      "Epoch 36/1000\n",
      "832/832 - 25s - loss: 0.0161 - val_loss: 0.0159\n",
      "Epoch 37/1000\n",
      "832/832 - 25s - loss: 0.0161 - val_loss: 0.0170\n",
      "Epoch 38/1000\n",
      "832/832 - 25s - loss: 0.0161 - val_loss: 0.0176\n",
      "Epoch 39/1000\n",
      "832/832 - 25s - loss: 0.0161 - val_loss: 0.0158\n",
      "Epoch 40/1000\n",
      "832/832 - 25s - loss: 0.0161 - val_loss: 0.0162\n",
      "Epoch 41/1000\n",
      "832/832 - 25s - loss: 0.0160 - val_loss: 0.0167\n",
      "Epoch 42/1000\n",
      "832/832 - 25s - loss: 0.0160 - val_loss: 0.0159\n",
      "Epoch 43/1000\n",
      "832/832 - 25s - loss: 0.0160 - val_loss: 0.0159\n",
      "Epoch 44/1000\n",
      "832/832 - 25s - loss: 0.0159 - val_loss: 0.0157\n",
      "Epoch 45/1000\n",
      "832/832 - 25s - loss: 0.0159 - val_loss: 0.0155\n",
      "Epoch 46/1000\n",
      "832/832 - 25s - loss: 0.0159 - val_loss: 0.0157\n",
      "Epoch 47/1000\n",
      "832/832 - 25s - loss: 0.0158 - val_loss: 0.0163\n",
      "Epoch 48/1000\n",
      "832/832 - 25s - loss: 0.0159 - val_loss: 0.0152\n",
      "Epoch 49/1000\n",
      "832/832 - 25s - loss: 0.0158 - val_loss: 0.0163\n",
      "Epoch 50/1000\n",
      "832/832 - 25s - loss: 0.0158 - val_loss: 0.0160\n",
      "Epoch 51/1000\n",
      "832/832 - 25s - loss: 0.0158 - val_loss: 0.0153\n",
      "Epoch 52/1000\n",
      "832/832 - 25s - loss: 0.0158 - val_loss: 0.0158\n",
      "Epoch 53/1000\n",
      "832/832 - 25s - loss: 0.0157 - val_loss: 0.0151\n",
      "Epoch 54/1000\n",
      "832/832 - 25s - loss: 0.0157 - val_loss: 0.0165\n",
      "Epoch 55/1000\n",
      "832/832 - 25s - loss: 0.0157 - val_loss: 0.0154\n",
      "Epoch 56/1000\n",
      "832/832 - 25s - loss: 0.0157 - val_loss: 0.0156\n",
      "Epoch 57/1000\n",
      "832/832 - 25s - loss: 0.0156 - val_loss: 0.0161\n",
      "Epoch 58/1000\n",
      "832/832 - 25s - loss: 0.0157 - val_loss: 0.0156\n",
      "Epoch 59/1000\n",
      "832/832 - 25s - loss: 0.0156 - val_loss: 0.0159\n",
      "Epoch 60/1000\n",
      "832/832 - 25s - loss: 0.0157 - val_loss: 0.0154\n",
      "Epoch 61/1000\n",
      "832/832 - 25s - loss: 0.0156 - val_loss: 0.0158\n",
      "Epoch 62/1000\n",
      "832/832 - 25s - loss: 0.0156 - val_loss: 0.0158\n",
      "Epoch 63/1000\n",
      "832/832 - 25s - loss: 0.0156 - val_loss: 0.0156\n",
      "Epoch 64/1000\n",
      "832/832 - 25s - loss: 0.0156 - val_loss: 0.0158\n",
      "Epoch 65/1000\n",
      "832/832 - 25s - loss: 0.0156 - val_loss: 0.0159\n",
      "Epoch 66/1000\n",
      "832/832 - 25s - loss: 0.0156 - val_loss: 0.0161\n",
      "Epoch 67/1000\n",
      "832/832 - 25s - loss: 0.0156 - val_loss: 0.0157\n",
      "Epoch 68/1000\n",
      "832/832 - 25s - loss: 0.0156 - val_loss: 0.0153\n",
      "Epoch 69/1000\n",
      "832/832 - 25s - loss: 0.0155 - val_loss: 0.0159\n",
      "Epoch 70/1000\n",
      "832/832 - 25s - loss: 0.0155 - val_loss: 0.0157\n",
      "Epoch 71/1000\n",
      "832/832 - 25s - loss: 0.0155 - val_loss: 0.0160\n",
      "Epoch 72/1000\n",
      "832/832 - 25s - loss: 0.0155 - val_loss: 0.0163\n",
      "Epoch 73/1000\n",
      "832/832 - 25s - loss: 0.0155 - val_loss: 0.0159\n",
      "Epoch 74/1000\n",
      "832/832 - 25s - loss: 0.0155 - val_loss: 0.0151\n",
      "Epoch 75/1000\n",
      "832/832 - 25s - loss: 0.0155 - val_loss: 0.0168\n",
      "Epoch 76/1000\n",
      "832/832 - 25s - loss: 0.0155 - val_loss: 0.0165\n",
      "Epoch 77/1000\n",
      "832/832 - 25s - loss: 0.0155 - val_loss: 0.0154\n",
      "Epoch 78/1000\n",
      "832/832 - 25s - loss: 0.0154 - val_loss: 0.0170\n",
      "Epoch 1/1000\n",
      "832/832 - 32s - loss: 0.0835 - val_loss: 0.0403\n",
      "Epoch 2/1000\n",
      "832/832 - 26s - loss: 0.0331 - val_loss: 0.0272\n",
      "Epoch 3/1000\n",
      "832/832 - 26s - loss: 0.0251 - val_loss: 0.0238\n",
      "Epoch 4/1000\n",
      "832/832 - 26s - loss: 0.0222 - val_loss: 0.0212\n",
      "Epoch 5/1000\n",
      "832/832 - 26s - loss: 0.0208 - val_loss: 0.0195\n",
      "Epoch 6/1000\n",
      "832/832 - 26s - loss: 0.0200 - val_loss: 0.0194\n",
      "Epoch 7/1000\n",
      "832/832 - 26s - loss: 0.0193 - val_loss: 0.0198\n",
      "Epoch 8/1000\n",
      "832/832 - 26s - loss: 0.0188 - val_loss: 0.0194\n",
      "Epoch 9/1000\n",
      "832/832 - 26s - loss: 0.0185 - val_loss: 0.0188\n",
      "Epoch 10/1000\n",
      "832/832 - 26s - loss: 0.0182 - val_loss: 0.0173\n",
      "Epoch 11/1000\n",
      "832/832 - 26s - loss: 0.0180 - val_loss: 0.0189\n"
     ]
    },
    {
     "name": "stdout",
     "output_type": "stream",
     "text": [
      "Epoch 12/1000\n",
      "832/832 - 26s - loss: 0.0178 - val_loss: 0.0179\n",
      "Epoch 13/1000\n",
      "832/832 - 26s - loss: 0.0176 - val_loss: 0.0169\n",
      "Epoch 14/1000\n",
      "832/832 - 26s - loss: 0.0175 - val_loss: 0.0184\n",
      "Epoch 15/1000\n",
      "832/832 - 26s - loss: 0.0174 - val_loss: 0.0186\n",
      "Epoch 16/1000\n",
      "832/832 - 26s - loss: 0.0173 - val_loss: 0.0168\n",
      "Epoch 17/1000\n",
      "832/832 - 26s - loss: 0.0171 - val_loss: 0.0180\n",
      "Epoch 18/1000\n",
      "832/832 - 26s - loss: 0.0171 - val_loss: 0.0189\n",
      "Epoch 19/1000\n",
      "832/832 - 26s - loss: 0.0170 - val_loss: 0.0192\n",
      "Epoch 20/1000\n",
      "832/832 - 26s - loss: 0.0169 - val_loss: 0.0164\n",
      "Epoch 21/1000\n",
      "832/832 - 26s - loss: 0.0169 - val_loss: 0.0186\n",
      "Epoch 22/1000\n",
      "832/832 - 26s - loss: 0.0167 - val_loss: 0.0175\n",
      "Epoch 23/1000\n",
      "832/832 - 26s - loss: 0.0167 - val_loss: 0.0181\n",
      "Epoch 24/1000\n",
      "832/832 - 26s - loss: 0.0167 - val_loss: 0.0192\n",
      "Epoch 25/1000\n",
      "832/832 - 26s - loss: 0.0166 - val_loss: 0.0173\n",
      "Epoch 26/1000\n",
      "832/832 - 26s - loss: 0.0165 - val_loss: 0.0185\n",
      "Epoch 27/1000\n",
      "832/832 - 26s - loss: 0.0165 - val_loss: 0.0165\n",
      "Epoch 28/1000\n",
      "832/832 - 26s - loss: 0.0165 - val_loss: 0.0172\n",
      "Epoch 29/1000\n",
      "832/832 - 26s - loss: 0.0164 - val_loss: 0.0169\n",
      "Epoch 30/1000\n",
      "832/832 - 26s - loss: 0.0164 - val_loss: 0.0167\n",
      "Epoch 31/1000\n",
      "832/832 - 26s - loss: 0.0163 - val_loss: 0.0181\n",
      "Epoch 32/1000\n",
      "832/832 - 26s - loss: 0.0163 - val_loss: 0.0181\n",
      "Epoch 33/1000\n",
      "832/832 - 26s - loss: 0.0163 - val_loss: 0.0165\n",
      "Epoch 34/1000\n",
      "832/832 - 26s - loss: 0.0162 - val_loss: 0.0191\n",
      "Epoch 35/1000\n",
      "832/832 - 26s - loss: 0.0162 - val_loss: 0.0165\n",
      "Epoch 36/1000\n",
      "832/832 - 26s - loss: 0.0162 - val_loss: 0.0164\n",
      "Epoch 37/1000\n",
      "832/832 - 26s - loss: 0.0161 - val_loss: 0.0176\n",
      "Epoch 38/1000\n",
      "832/832 - 26s - loss: 0.0161 - val_loss: 0.0167\n",
      "Epoch 39/1000\n",
      "832/832 - 26s - loss: 0.0161 - val_loss: 0.0170\n",
      "Epoch 40/1000\n",
      "832/832 - 26s - loss: 0.0161 - val_loss: 0.0169\n",
      "Epoch 1/1000\n",
      "832/832 - 37s - loss: 0.0944 - val_loss: 0.0487\n",
      "Epoch 2/1000\n",
      "832/832 - 25s - loss: 0.0411 - val_loss: 0.0329\n",
      "Epoch 3/1000\n",
      "832/832 - 25s - loss: 0.0303 - val_loss: 0.0266\n",
      "Epoch 4/1000\n",
      "832/832 - 25s - loss: 0.0259 - val_loss: 0.0237\n",
      "Epoch 5/1000\n",
      "832/832 - 25s - loss: 0.0238 - val_loss: 0.0225\n",
      "Epoch 6/1000\n",
      "832/832 - 25s - loss: 0.0226 - val_loss: 0.0212\n",
      "Epoch 7/1000\n",
      "832/832 - 25s - loss: 0.0217 - val_loss: 0.0204\n",
      "Epoch 8/1000\n",
      "832/832 - 25s - loss: 0.0211 - val_loss: 0.0200\n",
      "Epoch 9/1000\n",
      "832/832 - 25s - loss: 0.0206 - val_loss: 0.0189\n",
      "Epoch 10/1000\n",
      "832/832 - 25s - loss: 0.0202 - val_loss: 0.0199\n",
      "Epoch 11/1000\n",
      "832/832 - 25s - loss: 0.0198 - val_loss: 0.0216\n",
      "Epoch 12/1000\n",
      "832/832 - 25s - loss: 0.0195 - val_loss: 0.0198\n",
      "Epoch 13/1000\n",
      "832/832 - 25s - loss: 0.0193 - val_loss: 0.0216\n",
      "Epoch 14/1000\n",
      "832/832 - 25s - loss: 0.0190 - val_loss: 0.0182\n",
      "Epoch 15/1000\n",
      "832/832 - 25s - loss: 0.0188 - val_loss: 0.0191\n",
      "Epoch 16/1000\n",
      "832/832 - 25s - loss: 0.0186 - val_loss: 0.0207\n",
      "Epoch 17/1000\n",
      "832/832 - 25s - loss: 0.0185 - val_loss: 0.0180\n",
      "Epoch 18/1000\n",
      "832/832 - 25s - loss: 0.0182 - val_loss: 0.0176\n",
      "Epoch 19/1000\n",
      "832/832 - 25s - loss: 0.0181 - val_loss: 0.0170\n",
      "Epoch 20/1000\n",
      "832/832 - 25s - loss: 0.0179 - val_loss: 0.0167\n",
      "Epoch 21/1000\n",
      "832/832 - 25s - loss: 0.0178 - val_loss: 0.0171\n",
      "Epoch 22/1000\n",
      "832/832 - 25s - loss: 0.0177 - val_loss: 0.0168\n",
      "Epoch 23/1000\n",
      "832/832 - 25s - loss: 0.0176 - val_loss: 0.0167\n",
      "Epoch 24/1000\n",
      "832/832 - 25s - loss: 0.0175 - val_loss: 0.0179\n",
      "Epoch 25/1000\n",
      "832/832 - 25s - loss: 0.0174 - val_loss: 0.0171\n",
      "Epoch 26/1000\n",
      "832/832 - 25s - loss: 0.0173 - val_loss: 0.0194\n",
      "Epoch 27/1000\n",
      "832/832 - 25s - loss: 0.0173 - val_loss: 0.0172\n",
      "Epoch 28/1000\n",
      "832/832 - 25s - loss: 0.0172 - val_loss: 0.0170\n",
      "Epoch 29/1000\n",
      "832/832 - 25s - loss: 0.0171 - val_loss: 0.0182\n",
      "Epoch 30/1000\n",
      "832/832 - 25s - loss: 0.0171 - val_loss: 0.0185\n",
      "Epoch 31/1000\n",
      "832/832 - 25s - loss: 0.0170 - val_loss: 0.0177\n",
      "Epoch 32/1000\n",
      "832/832 - 25s - loss: 0.0170 - val_loss: 0.0168\n",
      "Epoch 33/1000\n",
      "832/832 - 25s - loss: 0.0169 - val_loss: 0.0163\n",
      "Epoch 34/1000\n",
      "832/832 - 25s - loss: 0.0169 - val_loss: 0.0166\n",
      "Epoch 35/1000\n",
      "832/832 - 25s - loss: 0.0168 - val_loss: 0.0158\n",
      "Epoch 36/1000\n",
      "832/832 - 25s - loss: 0.0167 - val_loss: 0.0170\n",
      "Epoch 37/1000\n",
      "832/832 - 25s - loss: 0.0167 - val_loss: 0.0157\n",
      "Epoch 38/1000\n",
      "832/832 - 25s - loss: 0.0167 - val_loss: 0.0166\n",
      "Epoch 39/1000\n",
      "832/832 - 25s - loss: 0.0166 - val_loss: 0.0163\n",
      "Epoch 40/1000\n",
      "832/832 - 25s - loss: 0.0166 - val_loss: 0.0171\n",
      "Epoch 41/1000\n",
      "832/832 - 25s - loss: 0.0165 - val_loss: 0.0174\n",
      "Epoch 42/1000\n",
      "832/832 - 25s - loss: 0.0165 - val_loss: 0.0155\n",
      "Epoch 43/1000\n",
      "832/832 - 25s - loss: 0.0165 - val_loss: 0.0180\n",
      "Epoch 44/1000\n",
      "832/832 - 25s - loss: 0.0165 - val_loss: 0.0159\n",
      "Epoch 45/1000\n",
      "832/832 - 25s - loss: 0.0164 - val_loss: 0.0199\n",
      "Epoch 46/1000\n",
      "832/832 - 25s - loss: 0.0164 - val_loss: 0.0170\n",
      "Epoch 47/1000\n",
      "832/832 - 25s - loss: 0.0164 - val_loss: 0.0171\n",
      "Epoch 48/1000\n",
      "832/832 - 25s - loss: 0.0163 - val_loss: 0.0170\n",
      "Epoch 49/1000\n",
      "832/832 - 25s - loss: 0.0163 - val_loss: 0.0154\n",
      "Epoch 50/1000\n",
      "832/832 - 25s - loss: 0.0163 - val_loss: 0.0156\n",
      "Epoch 51/1000\n",
      "832/832 - 25s - loss: 0.0162 - val_loss: 0.0156\n",
      "Epoch 52/1000\n",
      "832/832 - 25s - loss: 0.0162 - val_loss: 0.0156\n",
      "Epoch 53/1000\n",
      "832/832 - 25s - loss: 0.0162 - val_loss: 0.0159\n",
      "Epoch 54/1000\n",
      "832/832 - 25s - loss: 0.0162 - val_loss: 0.0154\n",
      "Epoch 55/1000\n",
      "832/832 - 25s - loss: 0.0161 - val_loss: 0.0157\n",
      "Epoch 56/1000\n",
      "832/832 - 25s - loss: 0.0161 - val_loss: 0.0187\n",
      "Epoch 57/1000\n",
      "832/832 - 25s - loss: 0.0161 - val_loss: 0.0161\n",
      "Epoch 58/1000\n",
      "832/832 - 25s - loss: 0.0160 - val_loss: 0.0168\n",
      "Epoch 59/1000\n",
      "832/832 - 25s - loss: 0.0161 - val_loss: 0.0180\n",
      "Epoch 60/1000\n",
      "832/832 - 25s - loss: 0.0160 - val_loss: 0.0159\n",
      "Epoch 61/1000\n",
      "832/832 - 25s - loss: 0.0161 - val_loss: 0.0170\n",
      "Epoch 62/1000\n",
      "832/832 - 25s - loss: 0.0160 - val_loss: 0.0154\n",
      "Epoch 63/1000\n",
      "832/832 - 25s - loss: 0.0160 - val_loss: 0.0164\n",
      "Epoch 1/1000\n",
      "832/832 - 29s - loss: 0.0976 - val_loss: 0.0535\n",
      "Epoch 2/1000\n",
      "832/832 - 25s - loss: 0.0405 - val_loss: 0.0392\n",
      "Epoch 3/1000\n",
      "832/832 - 25s - loss: 0.0316 - val_loss: 0.0332\n",
      "Epoch 4/1000\n",
      "832/832 - 25s - loss: 0.0282 - val_loss: 0.0328\n",
      "Epoch 5/1000\n",
      "832/832 - 25s - loss: 0.0264 - val_loss: 0.0278\n",
      "Epoch 6/1000\n",
      "832/832 - 25s - loss: 0.0252 - val_loss: 0.0240\n",
      "Epoch 7/1000\n",
      "832/832 - 25s - loss: 0.0242 - val_loss: 0.0267\n",
      "Epoch 8/1000\n",
      "832/832 - 25s - loss: 0.0235 - val_loss: 0.0243\n",
      "Epoch 9/1000\n",
      "832/832 - 25s - loss: 0.0229 - val_loss: 0.0235\n",
      "Epoch 10/1000\n",
      "832/832 - 25s - loss: 0.0225 - val_loss: 0.0227\n",
      "Epoch 11/1000\n",
      "832/832 - 25s - loss: 0.0221 - val_loss: 0.0218\n",
      "Epoch 12/1000\n",
      "832/832 - 25s - loss: 0.0218 - val_loss: 0.0235\n",
      "Epoch 13/1000\n",
      "832/832 - 25s - loss: 0.0215 - val_loss: 0.0224\n",
      "Epoch 14/1000\n",
      "832/832 - 25s - loss: 0.0213 - val_loss: 0.0246\n",
      "Epoch 15/1000\n",
      "832/832 - 25s - loss: 0.0211 - val_loss: 0.0220\n",
      "Epoch 16/1000\n",
      "832/832 - 25s - loss: 0.0210 - val_loss: 0.0211\n",
      "Epoch 17/1000\n",
      "832/832 - 25s - loss: 0.0208 - val_loss: 0.0208\n",
      "Epoch 18/1000\n",
      "832/832 - 25s - loss: 0.0207 - val_loss: 0.0233\n",
      "Epoch 19/1000\n",
      "832/832 - 25s - loss: 0.0205 - val_loss: 0.0249\n",
      "Epoch 20/1000\n",
      "832/832 - 25s - loss: 0.0203 - val_loss: 0.0225\n",
      "Epoch 21/1000\n",
      "832/832 - 25s - loss: 0.0203 - val_loss: 0.0232\n",
      "Epoch 22/1000\n",
      "832/832 - 25s - loss: 0.0202 - val_loss: 0.0218\n",
      "Epoch 23/1000\n",
      "832/832 - 25s - loss: 0.0201 - val_loss: 0.0205\n",
      "Epoch 24/1000\n",
      "832/832 - 25s - loss: 0.0201 - val_loss: 0.0213\n",
      "Epoch 25/1000\n",
      "832/832 - 25s - loss: 0.0199 - val_loss: 0.0202\n",
      "Epoch 26/1000\n",
      "832/832 - 25s - loss: 0.0199 - val_loss: 0.0219\n",
      "Epoch 27/1000\n",
      "832/832 - 25s - loss: 0.0198 - val_loss: 0.0195\n",
      "Epoch 28/1000\n",
      "832/832 - 25s - loss: 0.0198 - val_loss: 0.0235\n",
      "Epoch 29/1000\n",
      "832/832 - 25s - loss: 0.0197 - val_loss: 0.0201\n",
      "Epoch 30/1000\n",
      "832/832 - 25s - loss: 0.0196 - val_loss: 0.0209\n",
      "Epoch 31/1000\n",
      "832/832 - 25s - loss: 0.0195 - val_loss: 0.0206\n",
      "Epoch 32/1000\n",
      "832/832 - 25s - loss: 0.0194 - val_loss: 0.0241\n",
      "Epoch 33/1000\n",
      "832/832 - 25s - loss: 0.0195 - val_loss: 0.0209\n",
      "Epoch 34/1000\n",
      "832/832 - 25s - loss: 0.0194 - val_loss: 0.0199\n",
      "Epoch 35/1000\n",
      "832/832 - 25s - loss: 0.0193 - val_loss: 0.0199\n",
      "Epoch 36/1000\n",
      "832/832 - 25s - loss: 0.0193 - val_loss: 0.0193\n",
      "Epoch 37/1000\n",
      "832/832 - 25s - loss: 0.0193 - val_loss: 0.0239\n",
      "Epoch 38/1000\n",
      "832/832 - 25s - loss: 0.0192 - val_loss: 0.0209\n",
      "Epoch 39/1000\n",
      "832/832 - 25s - loss: 0.0192 - val_loss: 0.0191\n",
      "Epoch 40/1000\n",
      "832/832 - 25s - loss: 0.0191 - val_loss: 0.0204\n",
      "Epoch 41/1000\n",
      "832/832 - 25s - loss: 0.0190 - val_loss: 0.0233\n"
     ]
    },
    {
     "name": "stdout",
     "output_type": "stream",
     "text": [
      "Epoch 42/1000\n",
      "832/832 - 25s - loss: 0.0190 - val_loss: 0.0222\n",
      "Epoch 43/1000\n",
      "832/832 - 25s - loss: 0.0190 - val_loss: 0.0208\n",
      "Epoch 44/1000\n",
      "832/832 - 25s - loss: 0.0189 - val_loss: 0.0191\n",
      "Epoch 45/1000\n",
      "832/832 - 25s - loss: 0.0188 - val_loss: 0.0188\n",
      "Epoch 46/1000\n",
      "832/832 - 25s - loss: 0.0188 - val_loss: 0.0216\n",
      "Epoch 47/1000\n",
      "832/832 - 25s - loss: 0.0188 - val_loss: 0.0241\n",
      "Epoch 48/1000\n",
      "832/832 - 25s - loss: 0.0188 - val_loss: 0.0213\n",
      "Epoch 49/1000\n",
      "832/832 - 25s - loss: 0.0187 - val_loss: 0.0232\n",
      "Epoch 50/1000\n",
      "832/832 - 25s - loss: 0.0187 - val_loss: 0.0214\n",
      "Epoch 51/1000\n",
      "832/832 - 25s - loss: 0.0187 - val_loss: 0.0203\n",
      "Epoch 52/1000\n",
      "832/832 - 25s - loss: 0.0186 - val_loss: 0.0235\n",
      "Epoch 53/1000\n",
      "832/832 - 25s - loss: 0.0186 - val_loss: 0.0196\n",
      "Epoch 54/1000\n",
      "832/832 - 25s - loss: 0.0186 - val_loss: 0.0221\n",
      "Epoch 55/1000\n",
      "832/832 - 25s - loss: 0.0185 - val_loss: 0.0181\n",
      "Epoch 56/1000\n",
      "832/832 - 25s - loss: 0.0185 - val_loss: 0.0203\n",
      "Epoch 57/1000\n",
      "832/832 - 25s - loss: 0.0185 - val_loss: 0.0203\n",
      "Epoch 58/1000\n",
      "832/832 - 25s - loss: 0.0185 - val_loss: 0.0199\n",
      "Epoch 59/1000\n",
      "832/832 - 25s - loss: 0.0185 - val_loss: 0.0203\n",
      "Epoch 60/1000\n",
      "832/832 - 25s - loss: 0.0184 - val_loss: 0.0192\n",
      "Epoch 61/1000\n",
      "832/832 - 25s - loss: 0.0184 - val_loss: 0.0197\n",
      "Epoch 62/1000\n",
      "832/832 - 25s - loss: 0.0184 - val_loss: 0.0188\n",
      "Epoch 63/1000\n",
      "832/832 - 25s - loss: 0.0184 - val_loss: 0.0192\n",
      "Epoch 64/1000\n",
      "832/832 - 25s - loss: 0.0184 - val_loss: 0.0207\n",
      "Epoch 65/1000\n",
      "832/832 - 25s - loss: 0.0184 - val_loss: 0.0186\n",
      "Epoch 66/1000\n",
      "832/832 - 25s - loss: 0.0183 - val_loss: 0.0185\n",
      "Epoch 67/1000\n",
      "832/832 - 25s - loss: 0.0183 - val_loss: 0.0203\n",
      "Epoch 68/1000\n",
      "832/832 - 25s - loss: 0.0183 - val_loss: 0.0194\n",
      "Epoch 69/1000\n",
      "832/832 - 25s - loss: 0.0183 - val_loss: 0.0217\n",
      "Epoch 70/1000\n",
      "832/832 - 25s - loss: 0.0183 - val_loss: 0.0207\n",
      "Epoch 71/1000\n",
      "832/832 - 25s - loss: 0.0183 - val_loss: 0.0202\n",
      "Epoch 72/1000\n",
      "832/832 - 25s - loss: 0.0182 - val_loss: 0.0195\n",
      "Epoch 73/1000\n",
      "832/832 - 25s - loss: 0.0182 - val_loss: 0.0210\n",
      "Epoch 74/1000\n",
      "832/832 - 25s - loss: 0.0182 - val_loss: 0.0218\n",
      "Epoch 75/1000\n",
      "832/832 - 25s - loss: 0.0182 - val_loss: 0.0199\n",
      "Epoch 76/1000\n",
      "832/832 - 25s - loss: 0.0182 - val_loss: 0.0221\n",
      "Epoch 77/1000\n",
      "832/832 - 25s - loss: 0.0182 - val_loss: 0.0202\n",
      "Epoch 78/1000\n",
      "832/832 - 25s - loss: 0.0181 - val_loss: 0.0195\n",
      "Epoch 79/1000\n",
      "832/832 - 25s - loss: 0.0181 - val_loss: 0.0204\n",
      "Epoch 80/1000\n",
      "832/832 - 25s - loss: 0.0181 - val_loss: 0.0216\n",
      "Epoch 81/1000\n",
      "832/832 - 25s - loss: 0.0181 - val_loss: 0.0190\n",
      "Epoch 82/1000\n",
      "832/832 - 25s - loss: 0.0181 - val_loss: 0.0191\n",
      "Epoch 83/1000\n",
      "832/832 - 25s - loss: 0.0181 - val_loss: 0.0202\n",
      "Epoch 84/1000\n",
      "832/832 - 25s - loss: 0.0181 - val_loss: 0.0186\n",
      "Epoch 85/1000\n",
      "832/832 - 25s - loss: 0.0181 - val_loss: 0.0216\n",
      "Epoch 1/1000\n",
      "832/832 - 29s - loss: 0.1053 - val_loss: 0.0569\n",
      "Epoch 2/1000\n",
      "832/832 - 25s - loss: 0.0495 - val_loss: 0.0472\n",
      "Epoch 3/1000\n",
      "832/832 - 25s - loss: 0.0392 - val_loss: 0.0417\n",
      "Epoch 4/1000\n",
      "832/832 - 25s - loss: 0.0345 - val_loss: 0.0407\n",
      "Epoch 5/1000\n",
      "832/832 - 25s - loss: 0.0318 - val_loss: 0.0379\n",
      "Epoch 6/1000\n",
      "832/832 - 25s - loss: 0.0300 - val_loss: 0.0292\n",
      "Epoch 7/1000\n",
      "832/832 - 25s - loss: 0.0285 - val_loss: 0.0359\n",
      "Epoch 8/1000\n",
      "832/832 - 25s - loss: 0.0275 - val_loss: 0.0267\n",
      "Epoch 9/1000\n",
      "832/832 - 25s - loss: 0.0268 - val_loss: 0.0290\n",
      "Epoch 10/1000\n",
      "832/832 - 25s - loss: 0.0262 - val_loss: 0.0291\n",
      "Epoch 11/1000\n",
      "832/832 - 25s - loss: 0.0258 - val_loss: 0.0292\n",
      "Epoch 12/1000\n",
      "832/832 - 25s - loss: 0.0255 - val_loss: 0.0276\n",
      "Epoch 13/1000\n",
      "832/832 - 25s - loss: 0.0251 - val_loss: 0.0251\n",
      "Epoch 14/1000\n",
      "832/832 - 25s - loss: 0.0248 - val_loss: 0.0268\n",
      "Epoch 15/1000\n",
      "832/832 - 25s - loss: 0.0246 - val_loss: 0.0261\n",
      "Epoch 16/1000\n",
      "832/832 - 25s - loss: 0.0244 - val_loss: 0.0253\n",
      "Epoch 17/1000\n",
      "832/832 - 25s - loss: 0.0242 - val_loss: 0.0275\n",
      "Epoch 18/1000\n",
      "832/832 - 25s - loss: 0.0240 - val_loss: 0.0258\n",
      "Epoch 19/1000\n",
      "832/832 - 25s - loss: 0.0239 - val_loss: 0.0246\n",
      "Epoch 20/1000\n",
      "832/832 - 25s - loss: 0.0238 - val_loss: 0.0240\n",
      "Epoch 21/1000\n",
      "832/832 - 25s - loss: 0.0236 - val_loss: 0.0247\n",
      "Epoch 22/1000\n",
      "832/832 - 25s - loss: 0.0235 - val_loss: 0.0257\n",
      "Epoch 23/1000\n",
      "832/832 - 25s - loss: 0.0234 - val_loss: 0.0234\n",
      "Epoch 24/1000\n",
      "832/832 - 25s - loss: 0.0234 - val_loss: 0.0244\n",
      "Epoch 25/1000\n",
      "832/832 - 25s - loss: 0.0233 - val_loss: 0.0224\n",
      "Epoch 26/1000\n",
      "832/832 - 25s - loss: 0.0232 - val_loss: 0.0288\n",
      "Epoch 27/1000\n",
      "832/832 - 25s - loss: 0.0232 - val_loss: 0.0252\n",
      "Epoch 28/1000\n",
      "832/832 - 25s - loss: 0.0230 - val_loss: 0.0230\n",
      "Epoch 29/1000\n",
      "832/832 - 25s - loss: 0.0230 - val_loss: 0.0261\n",
      "Epoch 30/1000\n",
      "832/832 - 25s - loss: 0.0228 - val_loss: 0.0281\n",
      "Epoch 31/1000\n",
      "832/832 - 25s - loss: 0.0228 - val_loss: 0.0231\n",
      "Epoch 32/1000\n",
      "832/832 - 25s - loss: 0.0228 - val_loss: 0.0231\n",
      "Epoch 33/1000\n",
      "832/832 - 25s - loss: 0.0227 - val_loss: 0.0231\n",
      "Epoch 34/1000\n",
      "832/832 - 25s - loss: 0.0227 - val_loss: 0.0236\n",
      "Epoch 35/1000\n",
      "832/832 - 25s - loss: 0.0226 - val_loss: 0.0233\n",
      "Epoch 36/1000\n",
      "832/832 - 25s - loss: 0.0225 - val_loss: 0.0246\n",
      "Epoch 37/1000\n",
      "832/832 - 25s - loss: 0.0225 - val_loss: 0.0223\n",
      "Epoch 38/1000\n",
      "832/832 - 25s - loss: 0.0225 - val_loss: 0.0248\n",
      "Epoch 39/1000\n",
      "832/832 - 25s - loss: 0.0224 - val_loss: 0.0258\n",
      "Epoch 40/1000\n",
      "832/832 - 25s - loss: 0.0224 - val_loss: 0.0242\n",
      "Epoch 41/1000\n",
      "832/832 - 25s - loss: 0.0224 - val_loss: 0.0226\n",
      "Epoch 42/1000\n",
      "832/832 - 25s - loss: 0.0222 - val_loss: 0.0225\n",
      "Epoch 43/1000\n",
      "832/832 - 25s - loss: 0.0222 - val_loss: 0.0220\n",
      "Epoch 44/1000\n",
      "832/832 - 25s - loss: 0.0222 - val_loss: 0.0229\n",
      "Epoch 45/1000\n",
      "832/832 - 25s - loss: 0.0222 - val_loss: 0.0237\n",
      "Epoch 46/1000\n",
      "832/832 - 25s - loss: 0.0221 - val_loss: 0.0237\n",
      "Epoch 47/1000\n",
      "832/832 - 25s - loss: 0.0221 - val_loss: 0.0231\n",
      "Epoch 48/1000\n",
      "832/832 - 25s - loss: 0.0221 - val_loss: 0.0239\n",
      "Epoch 49/1000\n",
      "832/832 - 25s - loss: 0.0220 - val_loss: 0.0240\n",
      "Epoch 50/1000\n",
      "832/832 - 25s - loss: 0.0220 - val_loss: 0.0236\n",
      "Epoch 51/1000\n",
      "832/832 - 25s - loss: 0.0220 - val_loss: 0.0222\n",
      "Epoch 52/1000\n",
      "832/832 - 25s - loss: 0.0219 - val_loss: 0.0224\n",
      "Epoch 53/1000\n",
      "832/832 - 25s - loss: 0.0219 - val_loss: 0.0226\n",
      "Epoch 54/1000\n",
      "832/832 - 25s - loss: 0.0218 - val_loss: 0.0232\n",
      "Epoch 55/1000\n",
      "832/832 - 25s - loss: 0.0218 - val_loss: 0.0233\n",
      "Epoch 1/1000\n",
      "832/832 - 29s - loss: 0.1098 - val_loss: 0.0663\n",
      "Epoch 2/1000\n",
      "832/832 - 25s - loss: 0.0569 - val_loss: 0.0473\n",
      "Epoch 3/1000\n",
      "832/832 - 25s - loss: 0.0459 - val_loss: 0.0407\n",
      "Epoch 4/1000\n",
      "832/832 - 25s - loss: 0.0406 - val_loss: 0.0380\n",
      "Epoch 5/1000\n",
      "832/832 - 25s - loss: 0.0378 - val_loss: 0.0349\n",
      "Epoch 6/1000\n",
      "832/832 - 25s - loss: 0.0360 - val_loss: 0.0331\n",
      "Epoch 7/1000\n",
      "832/832 - 25s - loss: 0.0347 - val_loss: 0.0343\n",
      "Epoch 8/1000\n",
      "832/832 - 25s - loss: 0.0339 - val_loss: 0.0315\n",
      "Epoch 9/1000\n",
      "832/832 - 25s - loss: 0.0331 - val_loss: 0.0333\n",
      "Epoch 10/1000\n",
      "832/832 - 25s - loss: 0.0323 - val_loss: 0.0345\n",
      "Epoch 11/1000\n",
      "832/832 - 25s - loss: 0.0319 - val_loss: 0.0320\n",
      "Epoch 12/1000\n",
      "832/832 - 25s - loss: 0.0314 - val_loss: 0.0311\n",
      "Epoch 13/1000\n",
      "832/832 - 25s - loss: 0.0310 - val_loss: 0.0311\n",
      "Epoch 14/1000\n",
      "832/832 - 25s - loss: 0.0307 - val_loss: 0.0348\n",
      "Epoch 15/1000\n",
      "832/832 - 25s - loss: 0.0304 - val_loss: 0.0333\n",
      "Epoch 16/1000\n",
      "832/832 - 25s - loss: 0.0301 - val_loss: 0.0339\n",
      "Epoch 17/1000\n",
      "832/832 - 25s - loss: 0.0299 - val_loss: 0.0318\n",
      "Epoch 18/1000\n",
      "832/832 - 25s - loss: 0.0296 - val_loss: 0.0316\n",
      "Epoch 19/1000\n",
      "832/832 - 25s - loss: 0.0294 - val_loss: 0.0320\n",
      "Epoch 20/1000\n",
      "832/832 - 25s - loss: 0.0293 - val_loss: 0.0329\n",
      "Epoch 21/1000\n",
      "832/832 - 25s - loss: 0.0291 - val_loss: 0.0302\n",
      "Epoch 22/1000\n",
      "832/832 - 25s - loss: 0.0289 - val_loss: 0.0295\n",
      "Epoch 23/1000\n",
      "832/832 - 25s - loss: 0.0287 - val_loss: 0.0306\n",
      "Epoch 24/1000\n",
      "832/832 - 25s - loss: 0.0285 - val_loss: 0.0303\n",
      "Epoch 25/1000\n",
      "832/832 - 25s - loss: 0.0285 - val_loss: 0.0298\n",
      "Epoch 26/1000\n",
      "832/832 - 25s - loss: 0.0283 - val_loss: 0.0295\n",
      "Epoch 27/1000\n",
      "832/832 - 25s - loss: 0.0282 - val_loss: 0.0286\n",
      "Epoch 28/1000\n",
      "832/832 - 25s - loss: 0.0281 - val_loss: 0.0301\n",
      "Epoch 29/1000\n",
      "832/832 - 25s - loss: 0.0280 - val_loss: 0.0332\n",
      "Epoch 30/1000\n",
      "832/832 - 25s - loss: 0.0278 - val_loss: 0.0299\n",
      "Epoch 31/1000\n",
      "832/832 - 25s - loss: 0.0279 - val_loss: 0.0310\n",
      "Epoch 32/1000\n",
      "832/832 - 25s - loss: 0.0277 - val_loss: 0.0286\n",
      "Epoch 33/1000\n",
      "832/832 - 25s - loss: 0.0277 - val_loss: 0.0312\n",
      "Epoch 34/1000\n",
      "832/832 - 25s - loss: 0.0275 - val_loss: 0.0294\n"
     ]
    },
    {
     "name": "stdout",
     "output_type": "stream",
     "text": [
      "Epoch 35/1000\n",
      "832/832 - 25s - loss: 0.0275 - val_loss: 0.0303\n",
      "Epoch 36/1000\n",
      "832/832 - 25s - loss: 0.0274 - val_loss: 0.0295\n",
      "Epoch 37/1000\n",
      "832/832 - 25s - loss: 0.0274 - val_loss: 0.0292\n",
      "Epoch 38/1000\n",
      "832/832 - 25s - loss: 0.0273 - val_loss: 0.0336\n",
      "Epoch 39/1000\n",
      "832/832 - 25s - loss: 0.0273 - val_loss: 0.0345\n",
      "Epoch 40/1000\n",
      "832/832 - 25s - loss: 0.0273 - val_loss: 0.0329\n",
      "Epoch 41/1000\n",
      "832/832 - 25s - loss: 0.0272 - val_loss: 0.0325\n",
      "Epoch 42/1000\n",
      "832/832 - 25s - loss: 0.0271 - val_loss: 0.0324\n",
      "Epoch 43/1000\n",
      "832/832 - 25s - loss: 0.0271 - val_loss: 0.0309\n",
      "Epoch 44/1000\n",
      "832/832 - 25s - loss: 0.0270 - val_loss: 0.0307\n",
      "Epoch 45/1000\n",
      "832/832 - 25s - loss: 0.0270 - val_loss: 0.0308\n",
      "Epoch 46/1000\n",
      "832/832 - 25s - loss: 0.0270 - val_loss: 0.0281\n",
      "Epoch 47/1000\n",
      "832/832 - 25s - loss: 0.0269 - val_loss: 0.0302\n",
      "Epoch 48/1000\n",
      "832/832 - 25s - loss: 0.0269 - val_loss: 0.0276\n",
      "Epoch 49/1000\n",
      "832/832 - 25s - loss: 0.0269 - val_loss: 0.0296\n",
      "Epoch 50/1000\n",
      "832/832 - 25s - loss: 0.0268 - val_loss: 0.0336\n",
      "Epoch 51/1000\n",
      "832/832 - 25s - loss: 0.0267 - val_loss: 0.0302\n",
      "Epoch 52/1000\n",
      "832/832 - 25s - loss: 0.0268 - val_loss: 0.0270\n",
      "Epoch 53/1000\n",
      "832/832 - 25s - loss: 0.0267 - val_loss: 0.0268\n",
      "Epoch 54/1000\n",
      "832/832 - 25s - loss: 0.0267 - val_loss: 0.0292\n",
      "Epoch 55/1000\n",
      "832/832 - 25s - loss: 0.0267 - val_loss: 0.0301\n",
      "Epoch 56/1000\n",
      "832/832 - 25s - loss: 0.0266 - val_loss: 0.0310\n",
      "Epoch 57/1000\n",
      "832/832 - 25s - loss: 0.0266 - val_loss: 0.0267\n",
      "Epoch 58/1000\n",
      "832/832 - 25s - loss: 0.0265 - val_loss: 0.0276\n",
      "Epoch 59/1000\n",
      "832/832 - 25s - loss: 0.0266 - val_loss: 0.0305\n",
      "Epoch 60/1000\n",
      "832/832 - 25s - loss: 0.0265 - val_loss: 0.0299\n",
      "Epoch 61/1000\n",
      "832/832 - 25s - loss: 0.0265 - val_loss: 0.0292\n",
      "Epoch 62/1000\n",
      "832/832 - 25s - loss: 0.0265 - val_loss: 0.0285\n",
      "Epoch 63/1000\n",
      "832/832 - 25s - loss: 0.0265 - val_loss: 0.0290\n",
      "Epoch 64/1000\n",
      "832/832 - 25s - loss: 0.0264 - val_loss: 0.0280\n",
      "Epoch 65/1000\n",
      "832/832 - 25s - loss: 0.0264 - val_loss: 0.0281\n",
      "Epoch 66/1000\n",
      "832/832 - 25s - loss: 0.0264 - val_loss: 0.0289\n",
      "Epoch 67/1000\n",
      "832/832 - 25s - loss: 0.0263 - val_loss: 0.0315\n",
      "Epoch 68/1000\n",
      "832/832 - 25s - loss: 0.0263 - val_loss: 0.0326\n",
      "Epoch 69/1000\n",
      "832/832 - 25s - loss: 0.0263 - val_loss: 0.0283\n",
      "Epoch 70/1000\n",
      "832/832 - 25s - loss: 0.0263 - val_loss: 0.0297\n",
      "Epoch 71/1000\n",
      "832/832 - 25s - loss: 0.0262 - val_loss: 0.0289\n",
      "Epoch 72/1000\n",
      "832/832 - 25s - loss: 0.0263 - val_loss: 0.0288\n",
      "Epoch 73/1000\n",
      "832/832 - 25s - loss: 0.0262 - val_loss: 0.0283\n",
      "Epoch 74/1000\n",
      "832/832 - 25s - loss: 0.0262 - val_loss: 0.0311\n",
      "Epoch 75/1000\n",
      "832/832 - 25s - loss: 0.0263 - val_loss: 0.0293\n",
      "Epoch 76/1000\n",
      "832/832 - 25s - loss: 0.0262 - val_loss: 0.0322\n",
      "Epoch 77/1000\n",
      "832/832 - 25s - loss: 0.0261 - val_loss: 0.0273\n",
      "Epoch 78/1000\n",
      "832/832 - 25s - loss: 0.0261 - val_loss: 0.0289\n",
      "Epoch 79/1000\n",
      "832/832 - 25s - loss: 0.0261 - val_loss: 0.0275\n",
      "Epoch 80/1000\n",
      "832/832 - 25s - loss: 0.0261 - val_loss: 0.0346\n",
      "Epoch 81/1000\n",
      "832/832 - 25s - loss: 0.0261 - val_loss: 0.0304\n",
      "Epoch 82/1000\n",
      "832/832 - 25s - loss: 0.0260 - val_loss: 0.0293\n",
      "Epoch 1/1000\n",
      "832/832 - 32s - loss: 0.1238 - val_loss: 0.0834\n",
      "Epoch 2/1000\n",
      "832/832 - 26s - loss: 0.0669 - val_loss: 0.0641\n",
      "Epoch 3/1000\n",
      "832/832 - 26s - loss: 0.0540 - val_loss: 0.0503\n",
      "Epoch 4/1000\n",
      "832/832 - 26s - loss: 0.0469 - val_loss: 0.0451\n",
      "Epoch 5/1000\n",
      "832/832 - 26s - loss: 0.0428 - val_loss: 0.0445\n",
      "Epoch 6/1000\n",
      "832/832 - 26s - loss: 0.0403 - val_loss: 0.0414\n",
      "Epoch 7/1000\n",
      "832/832 - 26s - loss: 0.0387 - val_loss: 0.0415\n",
      "Epoch 8/1000\n",
      "832/832 - 26s - loss: 0.0375 - val_loss: 0.0370\n",
      "Epoch 9/1000\n",
      "832/832 - 26s - loss: 0.0365 - val_loss: 0.0361\n",
      "Epoch 10/1000\n",
      "832/832 - 26s - loss: 0.0357 - val_loss: 0.0367\n",
      "Epoch 11/1000\n",
      "832/832 - 26s - loss: 0.0351 - val_loss: 0.0372\n",
      "Epoch 12/1000\n",
      "832/832 - 26s - loss: 0.0344 - val_loss: 0.0343\n",
      "Epoch 13/1000\n",
      "832/832 - 25s - loss: 0.0341 - val_loss: 0.0361\n",
      "Epoch 14/1000\n",
      "832/832 - 25s - loss: 0.0337 - val_loss: 0.0371\n",
      "Epoch 15/1000\n",
      "832/832 - 25s - loss: 0.0334 - val_loss: 0.0338\n",
      "Epoch 16/1000\n",
      "832/832 - 25s - loss: 0.0330 - val_loss: 0.0351\n",
      "Epoch 17/1000\n",
      "832/832 - 25s - loss: 0.0329 - val_loss: 0.0344\n",
      "Epoch 18/1000\n",
      "832/832 - 25s - loss: 0.0325 - val_loss: 0.0322\n",
      "Epoch 19/1000\n",
      "832/832 - 25s - loss: 0.0324 - val_loss: 0.0356\n",
      "Epoch 20/1000\n",
      "832/832 - 25s - loss: 0.0323 - val_loss: 0.0350\n",
      "Epoch 21/1000\n",
      "832/832 - 25s - loss: 0.0321 - val_loss: 0.0353\n",
      "Epoch 22/1000\n",
      "832/832 - 25s - loss: 0.0319 - val_loss: 0.0345\n",
      "Epoch 23/1000\n",
      "832/832 - 25s - loss: 0.0318 - val_loss: 0.0340\n",
      "Epoch 24/1000\n",
      "832/832 - 25s - loss: 0.0316 - val_loss: 0.0332\n",
      "Epoch 25/1000\n",
      "832/832 - 25s - loss: 0.0315 - val_loss: 0.0344\n",
      "Epoch 26/1000\n",
      "832/832 - 25s - loss: 0.0314 - val_loss: 0.0337\n",
      "Epoch 27/1000\n",
      "832/832 - 25s - loss: 0.0312 - val_loss: 0.0333\n",
      "Epoch 28/1000\n",
      "832/832 - 25s - loss: 0.0312 - val_loss: 0.0327\n",
      "Epoch 29/1000\n",
      "832/832 - 25s - loss: 0.0310 - val_loss: 0.0344\n",
      "Epoch 30/1000\n",
      "832/832 - 25s - loss: 0.0309 - val_loss: 0.0362\n",
      "Epoch 31/1000\n",
      "832/832 - 25s - loss: 0.0308 - val_loss: 0.0353\n",
      "Epoch 32/1000\n",
      "832/832 - 25s - loss: 0.0307 - val_loss: 0.0335\n",
      "Epoch 33/1000\n",
      "832/832 - 25s - loss: 0.0307 - val_loss: 0.0334\n",
      "Epoch 34/1000\n",
      "832/832 - 25s - loss: 0.0305 - val_loss: 0.0337\n",
      "Epoch 35/1000\n",
      "832/832 - 25s - loss: 0.0305 - val_loss: 0.0309\n",
      "Epoch 36/1000\n",
      "832/832 - 25s - loss: 0.0304 - val_loss: 0.0317\n",
      "Epoch 37/1000\n",
      "832/832 - 25s - loss: 0.0303 - val_loss: 0.0319\n",
      "Epoch 38/1000\n",
      "832/832 - 25s - loss: 0.0303 - val_loss: 0.0329\n",
      "Epoch 39/1000\n",
      "832/832 - 25s - loss: 0.0302 - val_loss: 0.0338\n",
      "Epoch 40/1000\n",
      "832/832 - 25s - loss: 0.0301 - val_loss: 0.0308\n",
      "Epoch 41/1000\n",
      "832/832 - 25s - loss: 0.0300 - val_loss: 0.0315\n",
      "Epoch 42/1000\n",
      "832/832 - 25s - loss: 0.0301 - val_loss: 0.0322\n",
      "Epoch 43/1000\n",
      "832/832 - 25s - loss: 0.0299 - val_loss: 0.0333\n",
      "Epoch 44/1000\n",
      "832/832 - 25s - loss: 0.0298 - val_loss: 0.0314\n",
      "Epoch 45/1000\n",
      "832/832 - 25s - loss: 0.0297 - val_loss: 0.0313\n",
      "Epoch 46/1000\n",
      "832/832 - 25s - loss: 0.0297 - val_loss: 0.0343\n",
      "Epoch 47/1000\n",
      "832/832 - 25s - loss: 0.0297 - val_loss: 0.0309\n",
      "Epoch 48/1000\n",
      "832/832 - 25s - loss: 0.0297 - val_loss: 0.0320\n",
      "Epoch 49/1000\n",
      "832/832 - 25s - loss: 0.0295 - val_loss: 0.0317\n",
      "Epoch 50/1000\n",
      "832/832 - 25s - loss: 0.0296 - val_loss: 0.0308\n",
      "Epoch 51/1000\n",
      "832/832 - 25s - loss: 0.0295 - val_loss: 0.0301\n",
      "Epoch 52/1000\n",
      "832/832 - 25s - loss: 0.0294 - val_loss: 0.0317\n",
      "Epoch 53/1000\n",
      "832/832 - 25s - loss: 0.0294 - val_loss: 0.0304\n",
      "Epoch 54/1000\n",
      "832/832 - 25s - loss: 0.0293 - val_loss: 0.0305\n",
      "Epoch 55/1000\n",
      "832/832 - 25s - loss: 0.0292 - val_loss: 0.0303\n",
      "Epoch 56/1000\n",
      "832/832 - 25s - loss: 0.0292 - val_loss: 0.0334\n",
      "Epoch 57/1000\n",
      "832/832 - 25s - loss: 0.0292 - val_loss: 0.0310\n",
      "Epoch 58/1000\n",
      "832/832 - 25s - loss: 0.0291 - val_loss: 0.0304\n",
      "Epoch 59/1000\n",
      "832/832 - 25s - loss: 0.0292 - val_loss: 0.0325\n",
      "Epoch 60/1000\n",
      "832/832 - 25s - loss: 0.0291 - val_loss: 0.0299\n",
      "Epoch 61/1000\n",
      "832/832 - 25s - loss: 0.0290 - val_loss: 0.0298\n",
      "Epoch 62/1000\n",
      "832/832 - 25s - loss: 0.0290 - val_loss: 0.0301\n",
      "Epoch 63/1000\n",
      "832/832 - 25s - loss: 0.0289 - val_loss: 0.0299\n",
      "Epoch 64/1000\n",
      "832/832 - 25s - loss: 0.0289 - val_loss: 0.0297\n",
      "Epoch 65/1000\n",
      "832/832 - 25s - loss: 0.0289 - val_loss: 0.0288\n",
      "Epoch 66/1000\n",
      "832/832 - 25s - loss: 0.0288 - val_loss: 0.0310\n",
      "Epoch 67/1000\n",
      "832/832 - 25s - loss: 0.0288 - val_loss: 0.0314\n",
      "Epoch 68/1000\n",
      "832/832 - 25s - loss: 0.0288 - val_loss: 0.0299\n",
      "Epoch 69/1000\n",
      "832/832 - 25s - loss: 0.0287 - val_loss: 0.0294\n",
      "Epoch 70/1000\n",
      "832/832 - 25s - loss: 0.0287 - val_loss: 0.0296\n",
      "Epoch 71/1000\n",
      "832/832 - 25s - loss: 0.0287 - val_loss: 0.0298\n",
      "Epoch 72/1000\n",
      "832/832 - 25s - loss: 0.0286 - val_loss: 0.0313\n",
      "Epoch 73/1000\n",
      "832/832 - 25s - loss: 0.0287 - val_loss: 0.0299\n",
      "Epoch 74/1000\n",
      "832/832 - 25s - loss: 0.0286 - val_loss: 0.0295\n",
      "Epoch 75/1000\n",
      "832/832 - 25s - loss: 0.0285 - val_loss: 0.0299\n",
      "Epoch 76/1000\n",
      "832/832 - 25s - loss: 0.0285 - val_loss: 0.0296\n",
      "Epoch 77/1000\n",
      "832/832 - 25s - loss: 0.0285 - val_loss: 0.0306\n",
      "Epoch 78/1000\n",
      "832/832 - 25s - loss: 0.0285 - val_loss: 0.0300\n",
      "Epoch 79/1000\n",
      "832/832 - 25s - loss: 0.0285 - val_loss: 0.0308\n",
      "Epoch 80/1000\n",
      "832/832 - 25s - loss: 0.0284 - val_loss: 0.0300\n",
      "Epoch 81/1000\n",
      "832/832 - 25s - loss: 0.0284 - val_loss: 0.0320\n",
      "Epoch 82/1000\n",
      "832/832 - 25s - loss: 0.0284 - val_loss: 0.0294\n",
      "Epoch 83/1000\n",
      "832/832 - 25s - loss: 0.0284 - val_loss: 0.0307\n",
      "Epoch 84/1000\n",
      "832/832 - 25s - loss: 0.0283 - val_loss: 0.0305\n",
      "Epoch 85/1000\n",
      "832/832 - 25s - loss: 0.0284 - val_loss: 0.0294\n"
     ]
    },
    {
     "name": "stdout",
     "output_type": "stream",
     "text": [
      "Epoch 86/1000\n",
      "832/832 - 25s - loss: 0.0283 - val_loss: 0.0296\n",
      "Epoch 87/1000\n",
      "832/832 - 25s - loss: 0.0282 - val_loss: 0.0285\n",
      "Epoch 88/1000\n",
      "832/832 - 25s - loss: 0.0283 - val_loss: 0.0310\n",
      "Epoch 89/1000\n",
      "832/832 - 25s - loss: 0.0282 - val_loss: 0.0291\n",
      "Epoch 90/1000\n",
      "832/832 - 25s - loss: 0.0282 - val_loss: 0.0292\n",
      "Epoch 91/1000\n",
      "832/832 - 25s - loss: 0.0282 - val_loss: 0.0293\n",
      "Epoch 92/1000\n",
      "832/832 - 25s - loss: 0.0281 - val_loss: 0.0297\n",
      "Epoch 93/1000\n",
      "832/832 - 25s - loss: 0.0281 - val_loss: 0.0317\n",
      "Epoch 94/1000\n",
      "832/832 - 25s - loss: 0.0282 - val_loss: 0.0286\n",
      "Epoch 95/1000\n",
      "832/832 - 25s - loss: 0.0281 - val_loss: 0.0283\n",
      "Epoch 96/1000\n",
      "832/832 - 25s - loss: 0.0281 - val_loss: 0.0300\n",
      "Epoch 97/1000\n",
      "832/832 - 25s - loss: 0.0281 - val_loss: 0.0283\n",
      "Epoch 98/1000\n",
      "832/832 - 25s - loss: 0.0281 - val_loss: 0.0293\n",
      "Epoch 99/1000\n",
      "832/832 - 25s - loss: 0.0281 - val_loss: 0.0296\n",
      "Epoch 100/1000\n",
      "832/832 - 25s - loss: 0.0280 - val_loss: 0.0308\n",
      "Epoch 101/1000\n",
      "832/832 - 25s - loss: 0.0279 - val_loss: 0.0281\n",
      "Epoch 102/1000\n",
      "832/832 - 25s - loss: 0.0279 - val_loss: 0.0298\n",
      "Epoch 103/1000\n",
      "832/832 - 25s - loss: 0.0279 - val_loss: 0.0283\n",
      "Epoch 104/1000\n",
      "832/832 - 25s - loss: 0.0279 - val_loss: 0.0300\n",
      "Epoch 105/1000\n",
      "832/832 - 25s - loss: 0.0279 - val_loss: 0.0287\n",
      "Epoch 106/1000\n",
      "832/832 - 25s - loss: 0.0279 - val_loss: 0.0291\n",
      "Epoch 107/1000\n",
      "832/832 - 25s - loss: 0.0278 - val_loss: 0.0294\n",
      "Epoch 108/1000\n",
      "832/832 - 25s - loss: 0.0279 - val_loss: 0.0289\n",
      "Epoch 109/1000\n",
      "832/832 - 25s - loss: 0.0278 - val_loss: 0.0282\n",
      "Epoch 110/1000\n",
      "832/832 - 25s - loss: 0.0278 - val_loss: 0.0289\n",
      "Epoch 111/1000\n",
      "832/832 - 25s - loss: 0.0278 - val_loss: 0.0292\n",
      "Epoch 112/1000\n",
      "832/832 - 25s - loss: 0.0278 - val_loss: 0.0296\n",
      "Epoch 113/1000\n",
      "832/832 - 25s - loss: 0.0278 - val_loss: 0.0301\n",
      "Epoch 114/1000\n",
      "832/832 - 25s - loss: 0.0277 - val_loss: 0.0287\n",
      "Epoch 115/1000\n",
      "832/832 - 25s - loss: 0.0277 - val_loss: 0.0285\n",
      "Epoch 116/1000\n",
      "832/832 - 25s - loss: 0.0277 - val_loss: 0.0299\n",
      "Epoch 117/1000\n",
      "832/832 - 25s - loss: 0.0277 - val_loss: 0.0298\n",
      "Epoch 1/1000\n",
      "832/832 - 29s - loss: 0.1079 - val_loss: 0.0566\n",
      "Epoch 2/1000\n",
      "832/832 - 25s - loss: 0.0497 - val_loss: 0.0434\n",
      "Epoch 3/1000\n",
      "832/832 - 25s - loss: 0.0407 - val_loss: 0.0373\n",
      "Epoch 4/1000\n",
      "832/832 - 25s - loss: 0.0372 - val_loss: 0.0365\n",
      "Epoch 5/1000\n",
      "832/832 - 25s - loss: 0.0353 - val_loss: 0.0352\n",
      "Epoch 6/1000\n",
      "832/832 - 25s - loss: 0.0339 - val_loss: 0.0352\n",
      "Epoch 7/1000\n",
      "832/832 - 25s - loss: 0.0328 - val_loss: 0.0341\n",
      "Epoch 8/1000\n",
      "832/832 - 25s - loss: 0.0321 - val_loss: 0.0315\n",
      "Epoch 9/1000\n",
      "832/832 - 25s - loss: 0.0314 - val_loss: 0.0342\n",
      "Epoch 10/1000\n",
      "832/832 - 25s - loss: 0.0309 - val_loss: 0.0330\n",
      "Epoch 11/1000\n",
      "832/832 - 25s - loss: 0.0304 - val_loss: 0.0320\n",
      "Epoch 12/1000\n",
      "832/832 - 25s - loss: 0.0300 - val_loss: 0.0317\n",
      "Epoch 13/1000\n",
      "832/832 - 25s - loss: 0.0296 - val_loss: 0.0305\n",
      "Epoch 14/1000\n",
      "832/832 - 25s - loss: 0.0292 - val_loss: 0.0282\n",
      "Epoch 15/1000\n",
      "832/832 - 25s - loss: 0.0289 - val_loss: 0.0315\n",
      "Epoch 16/1000\n",
      "832/832 - 25s - loss: 0.0285 - val_loss: 0.0301\n",
      "Epoch 17/1000\n",
      "832/832 - 25s - loss: 0.0284 - val_loss: 0.0280\n",
      "Epoch 18/1000\n",
      "832/832 - 25s - loss: 0.0281 - val_loss: 0.0301\n",
      "Epoch 19/1000\n",
      "832/832 - 25s - loss: 0.0279 - val_loss: 0.0292\n",
      "Epoch 20/1000\n",
      "832/832 - 25s - loss: 0.0277 - val_loss: 0.0297\n",
      "Epoch 21/1000\n",
      "832/832 - 25s - loss: 0.0275 - val_loss: 0.0287\n",
      "Epoch 22/1000\n",
      "832/832 - 25s - loss: 0.0273 - val_loss: 0.0297\n",
      "Epoch 23/1000\n",
      "832/832 - 25s - loss: 0.0271 - val_loss: 0.0285\n",
      "Epoch 24/1000\n",
      "832/832 - 25s - loss: 0.0269 - val_loss: 0.0300\n",
      "Epoch 25/1000\n",
      "832/832 - 25s - loss: 0.0268 - val_loss: 0.0301\n",
      "Epoch 26/1000\n",
      "832/832 - 25s - loss: 0.0267 - val_loss: 0.0270\n",
      "Epoch 27/1000\n",
      "832/832 - 25s - loss: 0.0265 - val_loss: 0.0276\n",
      "Epoch 28/1000\n",
      "832/832 - 25s - loss: 0.0265 - val_loss: 0.0310\n",
      "Epoch 29/1000\n",
      "832/832 - 25s - loss: 0.0263 - val_loss: 0.0310\n",
      "Epoch 30/1000\n",
      "832/832 - 25s - loss: 0.0262 - val_loss: 0.0303\n",
      "Epoch 31/1000\n",
      "832/832 - 25s - loss: 0.0260 - val_loss: 0.0314\n",
      "Epoch 32/1000\n",
      "832/832 - 25s - loss: 0.0260 - val_loss: 0.0316\n",
      "Epoch 33/1000\n",
      "832/832 - 25s - loss: 0.0259 - val_loss: 0.0297\n",
      "Epoch 34/1000\n",
      "832/832 - 25s - loss: 0.0258 - val_loss: 0.0302\n",
      "Epoch 35/1000\n",
      "832/832 - 25s - loss: 0.0257 - val_loss: 0.0299\n",
      "Epoch 36/1000\n",
      "832/832 - 25s - loss: 0.0256 - val_loss: 0.0324\n",
      "Epoch 37/1000\n",
      "832/832 - 25s - loss: 0.0255 - val_loss: 0.0317\n",
      "Epoch 38/1000\n",
      "832/832 - 25s - loss: 0.0254 - val_loss: 0.0309\n",
      "Epoch 39/1000\n",
      "832/832 - 25s - loss: 0.0254 - val_loss: 0.0310\n",
      "Epoch 40/1000\n",
      "832/832 - 25s - loss: 0.0253 - val_loss: 0.0309\n",
      "Epoch 41/1000\n",
      "832/832 - 25s - loss: 0.0253 - val_loss: 0.0314\n",
      "Epoch 42/1000\n",
      "832/832 - 25s - loss: 0.0252 - val_loss: 0.0343\n",
      "Epoch 43/1000\n",
      "832/832 - 25s - loss: 0.0252 - val_loss: 0.0310\n",
      "Epoch 44/1000\n",
      "832/832 - 25s - loss: 0.0250 - val_loss: 0.0297\n",
      "Epoch 45/1000\n",
      "832/832 - 25s - loss: 0.0250 - val_loss: 0.0288\n",
      "Epoch 46/1000\n",
      "832/832 - 25s - loss: 0.0250 - val_loss: 0.0284\n",
      "Epoch 47/1000\n",
      "832/832 - 25s - loss: 0.0249 - val_loss: 0.0283\n",
      "Epoch 48/1000\n",
      "832/832 - 25s - loss: 0.0249 - val_loss: 0.0297\n",
      "Epoch 49/1000\n",
      "832/832 - 25s - loss: 0.0248 - val_loss: 0.0283\n",
      "Epoch 50/1000\n",
      "832/832 - 25s - loss: 0.0248 - val_loss: 0.0298\n",
      "Epoch 51/1000\n",
      "832/832 - 25s - loss: 0.0247 - val_loss: 0.0303\n",
      "Epoch 52/1000\n",
      "832/832 - 25s - loss: 0.0247 - val_loss: 0.0277\n",
      "Epoch 53/1000\n",
      "832/832 - 25s - loss: 0.0247 - val_loss: 0.0278\n",
      "Epoch 54/1000\n",
      "832/832 - 25s - loss: 0.0246 - val_loss: 0.0307\n",
      "Epoch 55/1000\n",
      "832/832 - 25s - loss: 0.0246 - val_loss: 0.0321\n",
      "Epoch 56/1000\n",
      "832/832 - 25s - loss: 0.0246 - val_loss: 0.0303\n",
      "Epoch 1/1000\n",
      "832/832 - 29s - loss: 0.1108 - val_loss: 0.0605\n",
      "Epoch 2/1000\n",
      "832/832 - 25s - loss: 0.0485 - val_loss: 0.0416\n",
      "Epoch 3/1000\n",
      "832/832 - 25s - loss: 0.0378 - val_loss: 0.0345\n",
      "Epoch 4/1000\n",
      "832/832 - 25s - loss: 0.0339 - val_loss: 0.0323\n",
      "Epoch 5/1000\n",
      "832/832 - 25s - loss: 0.0319 - val_loss: 0.0304\n",
      "Epoch 6/1000\n",
      "832/832 - 25s - loss: 0.0306 - val_loss: 0.0311\n",
      "Epoch 7/1000\n",
      "832/832 - 25s - loss: 0.0296 - val_loss: 0.0291\n",
      "Epoch 8/1000\n",
      "832/832 - 25s - loss: 0.0290 - val_loss: 0.0283\n",
      "Epoch 9/1000\n",
      "832/832 - 25s - loss: 0.0284 - val_loss: 0.0290\n",
      "Epoch 10/1000\n",
      "832/832 - 25s - loss: 0.0279 - val_loss: 0.0282\n",
      "Epoch 11/1000\n",
      "832/832 - 25s - loss: 0.0275 - val_loss: 0.0285\n",
      "Epoch 12/1000\n",
      "832/832 - 25s - loss: 0.0271 - val_loss: 0.0293\n",
      "Epoch 13/1000\n",
      "832/832 - 25s - loss: 0.0269 - val_loss: 0.0282\n",
      "Epoch 14/1000\n",
      "832/832 - 25s - loss: 0.0266 - val_loss: 0.0276\n",
      "Epoch 15/1000\n",
      "832/832 - 25s - loss: 0.0264 - val_loss: 0.0269\n",
      "Epoch 16/1000\n",
      "832/832 - 25s - loss: 0.0262 - val_loss: 0.0265\n",
      "Epoch 17/1000\n",
      "832/832 - 25s - loss: 0.0260 - val_loss: 0.0271\n",
      "Epoch 18/1000\n",
      "832/832 - 25s - loss: 0.0259 - val_loss: 0.0275\n",
      "Epoch 19/1000\n",
      "832/832 - 25s - loss: 0.0256 - val_loss: 0.0270\n",
      "Epoch 20/1000\n",
      "832/832 - 25s - loss: 0.0255 - val_loss: 0.0258\n",
      "Epoch 21/1000\n",
      "832/832 - 25s - loss: 0.0253 - val_loss: 0.0256\n",
      "Epoch 22/1000\n",
      "832/832 - 25s - loss: 0.0252 - val_loss: 0.0261\n",
      "Epoch 23/1000\n",
      "832/832 - 25s - loss: 0.0250 - val_loss: 0.0258\n",
      "Epoch 24/1000\n",
      "832/832 - 25s - loss: 0.0249 - val_loss: 0.0266\n",
      "Epoch 25/1000\n",
      "832/832 - 25s - loss: 0.0248 - val_loss: 0.0261\n",
      "Epoch 26/1000\n",
      "832/832 - 25s - loss: 0.0246 - val_loss: 0.0246\n",
      "Epoch 27/1000\n",
      "832/832 - 25s - loss: 0.0245 - val_loss: 0.0257\n",
      "Epoch 28/1000\n",
      "832/832 - 25s - loss: 0.0244 - val_loss: 0.0259\n",
      "Epoch 29/1000\n",
      "832/832 - 25s - loss: 0.0243 - val_loss: 0.0261\n",
      "Epoch 30/1000\n",
      "832/832 - 25s - loss: 0.0242 - val_loss: 0.0252\n",
      "Epoch 31/1000\n",
      "832/832 - 25s - loss: 0.0241 - val_loss: 0.0256\n",
      "Epoch 32/1000\n",
      "832/832 - 25s - loss: 0.0240 - val_loss: 0.0250\n",
      "Epoch 33/1000\n",
      "832/832 - 25s - loss: 0.0239 - val_loss: 0.0256\n",
      "Epoch 34/1000\n",
      "832/832 - 25s - loss: 0.0238 - val_loss: 0.0254\n",
      "Epoch 35/1000\n",
      "832/832 - 25s - loss: 0.0238 - val_loss: 0.0246\n",
      "Epoch 36/1000\n",
      "832/832 - 25s - loss: 0.0237 - val_loss: 0.0247\n",
      "Epoch 37/1000\n",
      "832/832 - 25s - loss: 0.0236 - val_loss: 0.0249\n",
      "Epoch 38/1000\n",
      "832/832 - 25s - loss: 0.0236 - val_loss: 0.0259\n",
      "Epoch 39/1000\n",
      "832/832 - 25s - loss: 0.0235 - val_loss: 0.0256\n",
      "Epoch 40/1000\n",
      "832/832 - 25s - loss: 0.0234 - val_loss: 0.0252\n",
      "Epoch 41/1000\n",
      "832/832 - 25s - loss: 0.0234 - val_loss: 0.0248\n",
      "Epoch 42/1000\n",
      "832/832 - 25s - loss: 0.0233 - val_loss: 0.0243\n",
      "Epoch 43/1000\n",
      "832/832 - 25s - loss: 0.0233 - val_loss: 0.0245\n",
      "Epoch 44/1000\n",
      "832/832 - 25s - loss: 0.0232 - val_loss: 0.0252\n",
      "Epoch 45/1000\n"
     ]
    },
    {
     "name": "stdout",
     "output_type": "stream",
     "text": [
      "832/832 - 25s - loss: 0.0232 - val_loss: 0.0254\n",
      "Epoch 46/1000\n",
      "832/832 - 25s - loss: 0.0232 - val_loss: 0.0243\n",
      "Epoch 47/1000\n",
      "832/832 - 25s - loss: 0.0231 - val_loss: 0.0249\n",
      "Epoch 48/1000\n",
      "832/832 - 25s - loss: 0.0231 - val_loss: 0.0255\n",
      "Epoch 49/1000\n",
      "832/832 - 25s - loss: 0.0231 - val_loss: 0.0252\n",
      "Epoch 50/1000\n",
      "832/832 - 25s - loss: 0.0230 - val_loss: 0.0255\n",
      "Epoch 51/1000\n",
      "832/832 - 25s - loss: 0.0230 - val_loss: 0.0253\n",
      "Epoch 52/1000\n",
      "832/832 - 25s - loss: 0.0229 - val_loss: 0.0245\n",
      "Epoch 53/1000\n",
      "832/832 - 25s - loss: 0.0228 - val_loss: 0.0243\n",
      "Epoch 54/1000\n",
      "832/832 - 25s - loss: 0.0228 - val_loss: 0.0240\n",
      "Epoch 55/1000\n",
      "832/832 - 25s - loss: 0.0228 - val_loss: 0.0251\n",
      "Epoch 56/1000\n",
      "832/832 - 25s - loss: 0.0227 - val_loss: 0.0252\n",
      "Epoch 1/1000\n",
      "832/832 - 29s - loss: 0.1054 - val_loss: 0.0528\n",
      "Epoch 2/1000\n",
      "832/832 - 25s - loss: 0.0450 - val_loss: 0.0364\n",
      "Epoch 3/1000\n",
      "832/832 - 25s - loss: 0.0359 - val_loss: 0.0309\n",
      "Epoch 4/1000\n",
      "832/832 - 25s - loss: 0.0321 - val_loss: 0.0304\n",
      "Epoch 5/1000\n",
      "832/832 - 25s - loss: 0.0299 - val_loss: 0.0281\n",
      "Epoch 6/1000\n",
      "832/832 - 25s - loss: 0.0285 - val_loss: 0.0265\n",
      "Epoch 7/1000\n",
      "832/832 - 25s - loss: 0.0276 - val_loss: 0.0258\n",
      "Epoch 8/1000\n",
      "832/832 - 25s - loss: 0.0269 - val_loss: 0.0269\n",
      "Epoch 9/1000\n",
      "832/832 - 25s - loss: 0.0263 - val_loss: 0.0274\n",
      "Epoch 10/1000\n",
      "832/832 - 25s - loss: 0.0258 - val_loss: 0.0259\n",
      "Epoch 11/1000\n",
      "832/832 - 25s - loss: 0.0255 - val_loss: 0.0249\n",
      "Epoch 12/1000\n",
      "832/832 - 25s - loss: 0.0252 - val_loss: 0.0249\n",
      "Epoch 13/1000\n",
      "832/832 - 25s - loss: 0.0249 - val_loss: 0.0253\n",
      "Epoch 14/1000\n",
      "832/832 - 25s - loss: 0.0246 - val_loss: 0.0248\n",
      "Epoch 15/1000\n",
      "832/832 - 25s - loss: 0.0244 - val_loss: 0.0244\n",
      "Epoch 16/1000\n",
      "832/832 - 25s - loss: 0.0242 - val_loss: 0.0249\n",
      "Epoch 17/1000\n",
      "832/832 - 25s - loss: 0.0240 - val_loss: 0.0247\n",
      "Epoch 18/1000\n",
      "832/832 - 25s - loss: 0.0239 - val_loss: 0.0243\n",
      "Epoch 19/1000\n",
      "832/832 - 25s - loss: 0.0237 - val_loss: 0.0241\n",
      "Epoch 20/1000\n",
      "832/832 - 25s - loss: 0.0236 - val_loss: 0.0242\n",
      "Epoch 21/1000\n",
      "832/832 - 25s - loss: 0.0234 - val_loss: 0.0235\n",
      "Epoch 22/1000\n",
      "832/832 - 25s - loss: 0.0233 - val_loss: 0.0234\n",
      "Epoch 23/1000\n",
      "832/832 - 25s - loss: 0.0231 - val_loss: 0.0237\n",
      "Epoch 24/1000\n",
      "832/832 - 25s - loss: 0.0230 - val_loss: 0.0240\n",
      "Epoch 25/1000\n",
      "832/832 - 25s - loss: 0.0230 - val_loss: 0.0235\n",
      "Epoch 26/1000\n",
      "832/832 - 25s - loss: 0.0228 - val_loss: 0.0230\n",
      "Epoch 27/1000\n",
      "832/832 - 25s - loss: 0.0228 - val_loss: 0.0235\n",
      "Epoch 28/1000\n",
      "832/832 - 25s - loss: 0.0227 - val_loss: 0.0227\n",
      "Epoch 29/1000\n",
      "832/832 - 25s - loss: 0.0226 - val_loss: 0.0231\n",
      "Epoch 30/1000\n",
      "832/832 - 25s - loss: 0.0225 - val_loss: 0.0225\n",
      "Epoch 31/1000\n",
      "832/832 - 25s - loss: 0.0224 - val_loss: 0.0230\n",
      "Epoch 32/1000\n",
      "832/832 - 25s - loss: 0.0224 - val_loss: 0.0240\n",
      "Epoch 33/1000\n",
      "832/832 - 25s - loss: 0.0223 - val_loss: 0.0229\n",
      "Epoch 34/1000\n",
      "832/832 - 25s - loss: 0.0222 - val_loss: 0.0228\n",
      "Epoch 35/1000\n",
      "832/832 - 25s - loss: 0.0222 - val_loss: 0.0224\n",
      "Epoch 36/1000\n",
      "832/832 - 25s - loss: 0.0221 - val_loss: 0.0237\n",
      "Epoch 37/1000\n",
      "832/832 - 25s - loss: 0.0221 - val_loss: 0.0227\n",
      "Epoch 38/1000\n",
      "832/832 - 25s - loss: 0.0220 - val_loss: 0.0235\n",
      "Epoch 39/1000\n",
      "832/832 - 25s - loss: 0.0220 - val_loss: 0.0221\n",
      "Epoch 40/1000\n",
      "832/832 - 25s - loss: 0.0220 - val_loss: 0.0226\n",
      "Epoch 41/1000\n",
      "832/832 - 25s - loss: 0.0219 - val_loss: 0.0224\n",
      "Epoch 42/1000\n",
      "832/832 - 25s - loss: 0.0218 - val_loss: 0.0220\n",
      "Epoch 43/1000\n",
      "832/832 - 25s - loss: 0.0218 - val_loss: 0.0225\n",
      "Epoch 44/1000\n",
      "832/832 - 25s - loss: 0.0218 - val_loss: 0.0227\n",
      "Epoch 45/1000\n",
      "832/832 - 25s - loss: 0.0217 - val_loss: 0.0222\n",
      "Epoch 46/1000\n",
      "832/832 - 25s - loss: 0.0217 - val_loss: 0.0221\n",
      "Epoch 47/1000\n",
      "832/832 - 25s - loss: 0.0217 - val_loss: 0.0233\n",
      "Epoch 48/1000\n",
      "832/832 - 25s - loss: 0.0216 - val_loss: 0.0225\n",
      "Epoch 49/1000\n",
      "832/832 - 25s - loss: 0.0216 - val_loss: 0.0230\n",
      "Epoch 50/1000\n",
      "832/832 - 25s - loss: 0.0216 - val_loss: 0.0230\n",
      "Epoch 51/1000\n",
      "832/832 - 25s - loss: 0.0216 - val_loss: 0.0229\n",
      "Epoch 52/1000\n",
      "832/832 - 25s - loss: 0.0216 - val_loss: 0.0226\n",
      "Epoch 53/1000\n",
      "832/832 - 25s - loss: 0.0215 - val_loss: 0.0228\n",
      "Epoch 54/1000\n",
      "832/832 - 25s - loss: 0.0215 - val_loss: 0.0227\n",
      "Epoch 55/1000\n",
      "832/832 - 25s - loss: 0.0215 - val_loss: 0.0225\n",
      "Epoch 56/1000\n",
      "832/832 - 25s - loss: 0.0214 - val_loss: 0.0221\n",
      "Epoch 57/1000\n",
      "832/832 - 25s - loss: 0.0215 - val_loss: 0.0242\n",
      "Epoch 58/1000\n",
      "832/832 - 25s - loss: 0.0214 - val_loss: 0.0234\n",
      "Epoch 59/1000\n",
      "832/832 - 25s - loss: 0.0214 - val_loss: 0.0230\n",
      "Epoch 60/1000\n",
      "832/832 - 25s - loss: 0.0214 - val_loss: 0.0227\n",
      "Epoch 61/1000\n",
      "832/832 - 25s - loss: 0.0214 - val_loss: 0.0219\n",
      "Epoch 62/1000\n",
      "832/832 - 25s - loss: 0.0214 - val_loss: 0.0224\n",
      "Epoch 63/1000\n",
      "832/832 - 25s - loss: 0.0214 - val_loss: 0.0218\n",
      "Epoch 64/1000\n",
      "832/832 - 25s - loss: 0.0213 - val_loss: 0.0227\n",
      "Epoch 65/1000\n",
      "832/832 - 25s - loss: 0.0213 - val_loss: 0.0222\n",
      "Epoch 1/1000\n",
      "832/832 - 32s - loss: 0.1089 - val_loss: 0.0539\n",
      "Epoch 2/1000\n",
      "832/832 - 26s - loss: 0.0471 - val_loss: 0.0374\n",
      "Epoch 3/1000\n",
      "832/832 - 26s - loss: 0.0365 - val_loss: 0.0322\n",
      "Epoch 4/1000\n",
      "832/832 - 26s - loss: 0.0324 - val_loss: 0.0297\n",
      "Epoch 5/1000\n",
      "832/832 - 26s - loss: 0.0300 - val_loss: 0.0276\n",
      "Epoch 6/1000\n",
      "832/832 - 26s - loss: 0.0287 - val_loss: 0.0279\n",
      "Epoch 7/1000\n",
      "832/832 - 26s - loss: 0.0276 - val_loss: 0.0277\n",
      "Epoch 8/1000\n",
      "832/832 - 26s - loss: 0.0269 - val_loss: 0.0261\n",
      "Epoch 9/1000\n",
      "832/832 - 26s - loss: 0.0264 - val_loss: 0.0264\n",
      "Epoch 10/1000\n",
      "832/832 - 26s - loss: 0.0259 - val_loss: 0.0267\n",
      "Epoch 11/1000\n",
      "832/832 - 26s - loss: 0.0254 - val_loss: 0.0258\n",
      "Epoch 12/1000\n",
      "832/832 - 26s - loss: 0.0252 - val_loss: 0.0249\n",
      "Epoch 13/1000\n",
      "832/832 - 26s - loss: 0.0248 - val_loss: 0.0249\n",
      "Epoch 14/1000\n",
      "832/832 - 26s - loss: 0.0246 - val_loss: 0.0247\n",
      "Epoch 15/1000\n",
      "832/832 - 26s - loss: 0.0243 - val_loss: 0.0245\n",
      "Epoch 16/1000\n",
      "832/832 - 26s - loss: 0.0241 - val_loss: 0.0238\n",
      "Epoch 17/1000\n",
      "832/832 - 26s - loss: 0.0239 - val_loss: 0.0242\n",
      "Epoch 18/1000\n",
      "832/832 - 26s - loss: 0.0238 - val_loss: 0.0251\n",
      "Epoch 19/1000\n",
      "832/832 - 26s - loss: 0.0236 - val_loss: 0.0245\n",
      "Epoch 20/1000\n",
      "832/832 - 26s - loss: 0.0235 - val_loss: 0.0246\n",
      "Epoch 21/1000\n",
      "832/832 - 26s - loss: 0.0233 - val_loss: 0.0243\n",
      "Epoch 22/1000\n",
      "832/832 - 26s - loss: 0.0233 - val_loss: 0.0240\n",
      "Epoch 23/1000\n",
      "832/832 - 26s - loss: 0.0232 - val_loss: 0.0229\n",
      "Epoch 24/1000\n",
      "832/832 - 26s - loss: 0.0230 - val_loss: 0.0239\n",
      "Epoch 25/1000\n",
      "832/832 - 26s - loss: 0.0230 - val_loss: 0.0234\n",
      "Epoch 26/1000\n",
      "832/832 - 26s - loss: 0.0229 - val_loss: 0.0232\n",
      "Epoch 27/1000\n",
      "832/832 - 26s - loss: 0.0228 - val_loss: 0.0230\n",
      "Epoch 28/1000\n",
      "832/832 - 26s - loss: 0.0227 - val_loss: 0.0229\n",
      "Epoch 29/1000\n",
      "832/832 - 26s - loss: 0.0226 - val_loss: 0.0234\n",
      "Epoch 30/1000\n",
      "832/832 - 26s - loss: 0.0225 - val_loss: 0.0227\n",
      "Epoch 31/1000\n",
      "832/832 - 26s - loss: 0.0225 - val_loss: 0.0234\n",
      "Epoch 32/1000\n",
      "832/832 - 26s - loss: 0.0224 - val_loss: 0.0228\n",
      "Epoch 33/1000\n",
      "832/832 - 26s - loss: 0.0223 - val_loss: 0.0238\n",
      "Epoch 34/1000\n",
      "832/832 - 26s - loss: 0.0222 - val_loss: 0.0230\n",
      "Epoch 35/1000\n",
      "832/832 - 26s - loss: 0.0222 - val_loss: 0.0228\n",
      "Epoch 36/1000\n",
      "832/832 - 26s - loss: 0.0221 - val_loss: 0.0224\n",
      "Epoch 37/1000\n",
      "832/832 - 26s - loss: 0.0220 - val_loss: 0.0236\n",
      "Epoch 38/1000\n",
      "832/832 - 26s - loss: 0.0220 - val_loss: 0.0221\n",
      "Epoch 39/1000\n",
      "832/832 - 26s - loss: 0.0219 - val_loss: 0.0224\n",
      "Epoch 40/1000\n",
      "832/832 - 26s - loss: 0.0219 - val_loss: 0.0218\n",
      "Epoch 41/1000\n",
      "832/832 - 26s - loss: 0.0218 - val_loss: 0.0219\n",
      "Epoch 42/1000\n",
      "832/832 - 26s - loss: 0.0218 - val_loss: 0.0226\n",
      "Epoch 43/1000\n",
      "832/832 - 26s - loss: 0.0217 - val_loss: 0.0222\n",
      "Epoch 44/1000\n",
      "832/832 - 26s - loss: 0.0217 - val_loss: 0.0223\n",
      "Epoch 45/1000\n",
      "832/832 - 26s - loss: 0.0217 - val_loss: 0.0226\n",
      "Epoch 46/1000\n",
      "832/832 - 26s - loss: 0.0216 - val_loss: 0.0215\n",
      "Epoch 47/1000\n",
      "832/832 - 26s - loss: 0.0216 - val_loss: 0.0225\n",
      "Epoch 48/1000\n",
      "832/832 - 26s - loss: 0.0215 - val_loss: 0.0229\n",
      "Epoch 49/1000\n",
      "832/832 - 26s - loss: 0.0215 - val_loss: 0.0224\n",
      "Epoch 50/1000\n",
      "832/832 - 26s - loss: 0.0214 - val_loss: 0.0211\n",
      "Epoch 51/1000\n",
      "832/832 - 26s - loss: 0.0214 - val_loss: 0.0216\n",
      "Epoch 52/1000\n",
      "832/832 - 26s - loss: 0.0214 - val_loss: 0.0219\n",
      "Epoch 53/1000\n",
      "832/832 - 26s - loss: 0.0213 - val_loss: 0.0220\n",
      "Epoch 54/1000\n",
      "832/832 - 26s - loss: 0.0213 - val_loss: 0.0209\n",
      "Epoch 55/1000\n",
      "832/832 - 26s - loss: 0.0212 - val_loss: 0.0221\n",
      "Epoch 56/1000\n",
      "832/832 - 26s - loss: 0.0212 - val_loss: 0.0216\n"
     ]
    },
    {
     "name": "stdout",
     "output_type": "stream",
     "text": [
      "Epoch 57/1000\n",
      "832/832 - 26s - loss: 0.0212 - val_loss: 0.0215\n",
      "Epoch 58/1000\n",
      "832/832 - 26s - loss: 0.0212 - val_loss: 0.0219\n",
      "Epoch 59/1000\n",
      "832/832 - 26s - loss: 0.0212 - val_loss: 0.0213\n",
      "Epoch 60/1000\n",
      "832/832 - 26s - loss: 0.0211 - val_loss: 0.0213\n",
      "Epoch 61/1000\n",
      "832/832 - 26s - loss: 0.0211 - val_loss: 0.0221\n",
      "Epoch 62/1000\n",
      "832/832 - 26s - loss: 0.0211 - val_loss: 0.0220\n",
      "Epoch 63/1000\n",
      "832/832 - 26s - loss: 0.0210 - val_loss: 0.0219\n",
      "Epoch 64/1000\n",
      "832/832 - 26s - loss: 0.0210 - val_loss: 0.0216\n",
      "Epoch 65/1000\n",
      "832/832 - 26s - loss: 0.0210 - val_loss: 0.0212\n",
      "Epoch 66/1000\n",
      "832/832 - 26s - loss: 0.0210 - val_loss: 0.0217\n",
      "Epoch 67/1000\n",
      "832/832 - 26s - loss: 0.0210 - val_loss: 0.0215\n",
      "Epoch 68/1000\n",
      "832/832 - 26s - loss: 0.0209 - val_loss: 0.0215\n",
      "Epoch 69/1000\n",
      "832/832 - 26s - loss: 0.0209 - val_loss: 0.0216\n",
      "Epoch 70/1000\n",
      "832/832 - 26s - loss: 0.0209 - val_loss: 0.0209\n",
      "Epoch 71/1000\n",
      "832/832 - 26s - loss: 0.0209 - val_loss: 0.0215\n",
      "Epoch 72/1000\n",
      "832/832 - 26s - loss: 0.0209 - val_loss: 0.0216\n",
      "Epoch 73/1000\n",
      "832/832 - 26s - loss: 0.0208 - val_loss: 0.0215\n",
      "Epoch 74/1000\n",
      "832/832 - 26s - loss: 0.0208 - val_loss: 0.0207\n",
      "Epoch 75/1000\n",
      "832/832 - 26s - loss: 0.0208 - val_loss: 0.0218\n",
      "Epoch 76/1000\n",
      "832/832 - 26s - loss: 0.0208 - val_loss: 0.0234\n",
      "Epoch 1/1000\n",
      "832/832 - 37s - loss: 0.1155 - val_loss: 0.0587\n",
      "Epoch 2/1000\n",
      "832/832 - 25s - loss: 0.0534 - val_loss: 0.0422\n",
      "Epoch 3/1000\n",
      "832/832 - 25s - loss: 0.0426 - val_loss: 0.0374\n",
      "Epoch 4/1000\n",
      "832/832 - 25s - loss: 0.0377 - val_loss: 0.0334\n",
      "Epoch 5/1000\n",
      "832/832 - 25s - loss: 0.0347 - val_loss: 0.0318\n",
      "Epoch 6/1000\n",
      "832/832 - 25s - loss: 0.0322 - val_loss: 0.0297\n",
      "Epoch 7/1000\n",
      "832/832 - 25s - loss: 0.0306 - val_loss: 0.0296\n",
      "Epoch 8/1000\n",
      "832/832 - 25s - loss: 0.0295 - val_loss: 0.0286\n",
      "Epoch 9/1000\n",
      "832/832 - 25s - loss: 0.0287 - val_loss: 0.0270\n",
      "Epoch 10/1000\n",
      "832/832 - 25s - loss: 0.0281 - val_loss: 0.0259\n",
      "Epoch 11/1000\n",
      "832/832 - 25s - loss: 0.0276 - val_loss: 0.0260\n",
      "Epoch 12/1000\n",
      "832/832 - 25s - loss: 0.0272 - val_loss: 0.0259\n",
      "Epoch 13/1000\n",
      "832/832 - 25s - loss: 0.0269 - val_loss: 0.0263\n",
      "Epoch 14/1000\n",
      "832/832 - 25s - loss: 0.0266 - val_loss: 0.0257\n",
      "Epoch 15/1000\n",
      "832/832 - 25s - loss: 0.0262 - val_loss: 0.0253\n",
      "Epoch 16/1000\n",
      "832/832 - 25s - loss: 0.0260 - val_loss: 0.0250\n",
      "Epoch 17/1000\n",
      "832/832 - 25s - loss: 0.0258 - val_loss: 0.0249\n",
      "Epoch 18/1000\n",
      "832/832 - 25s - loss: 0.0256 - val_loss: 0.0247\n",
      "Epoch 19/1000\n",
      "832/832 - 25s - loss: 0.0254 - val_loss: 0.0258\n",
      "Epoch 20/1000\n",
      "832/832 - 25s - loss: 0.0253 - val_loss: 0.0256\n",
      "Epoch 21/1000\n",
      "832/832 - 25s - loss: 0.0252 - val_loss: 0.0247\n",
      "Epoch 22/1000\n",
      "832/832 - 25s - loss: 0.0250 - val_loss: 0.0237\n",
      "Epoch 23/1000\n",
      "832/832 - 25s - loss: 0.0249 - val_loss: 0.0241\n",
      "Epoch 24/1000\n",
      "832/832 - 25s - loss: 0.0247 - val_loss: 0.0242\n",
      "Epoch 25/1000\n",
      "832/832 - 25s - loss: 0.0247 - val_loss: 0.0246\n",
      "Epoch 26/1000\n",
      "832/832 - 25s - loss: 0.0245 - val_loss: 0.0245\n",
      "Epoch 27/1000\n",
      "832/832 - 25s - loss: 0.0245 - val_loss: 0.0258\n",
      "Epoch 28/1000\n",
      "832/832 - 25s - loss: 0.0244 - val_loss: 0.0243\n",
      "Epoch 29/1000\n",
      "832/832 - 25s - loss: 0.0243 - val_loss: 0.0239\n",
      "Epoch 30/1000\n",
      "832/832 - 25s - loss: 0.0243 - val_loss: 0.0234\n",
      "Epoch 31/1000\n",
      "832/832 - 25s - loss: 0.0241 - val_loss: 0.0235\n",
      "Epoch 32/1000\n",
      "832/832 - 25s - loss: 0.0241 - val_loss: 0.0250\n",
      "Epoch 33/1000\n",
      "832/832 - 25s - loss: 0.0240 - val_loss: 0.0252\n",
      "Epoch 34/1000\n",
      "832/832 - 25s - loss: 0.0240 - val_loss: 0.0240\n",
      "Epoch 35/1000\n",
      "832/832 - 25s - loss: 0.0239 - val_loss: 0.0242\n",
      "Epoch 36/1000\n",
      "832/832 - 25s - loss: 0.0239 - val_loss: 0.0234\n",
      "Epoch 37/1000\n",
      "832/832 - 25s - loss: 0.0238 - val_loss: 0.0245\n",
      "Epoch 38/1000\n",
      "832/832 - 25s - loss: 0.0238 - val_loss: 0.0239\n",
      "Epoch 39/1000\n",
      "832/832 - 25s - loss: 0.0237 - val_loss: 0.0234\n",
      "Epoch 40/1000\n",
      "832/832 - 25s - loss: 0.0237 - val_loss: 0.0238\n",
      "Epoch 41/1000\n",
      "832/832 - 25s - loss: 0.0236 - val_loss: 0.0236\n",
      "Epoch 42/1000\n",
      "832/832 - 25s - loss: 0.0236 - val_loss: 0.0239\n",
      "Epoch 43/1000\n",
      "832/832 - 25s - loss: 0.0236 - val_loss: 0.0236\n",
      "Epoch 44/1000\n",
      "832/832 - 25s - loss: 0.0235 - val_loss: 0.0233\n",
      "Epoch 45/1000\n",
      "832/832 - 25s - loss: 0.0235 - val_loss: 0.0235\n",
      "Epoch 46/1000\n",
      "832/832 - 25s - loss: 0.0235 - val_loss: 0.0228\n",
      "Epoch 47/1000\n",
      "832/832 - 25s - loss: 0.0234 - val_loss: 0.0239\n",
      "Epoch 48/1000\n",
      "832/832 - 25s - loss: 0.0234 - val_loss: 0.0234\n",
      "Epoch 49/1000\n",
      "832/832 - 25s - loss: 0.0234 - val_loss: 0.0228\n",
      "Epoch 50/1000\n",
      "832/832 - 25s - loss: 0.0234 - val_loss: 0.0257\n",
      "Epoch 51/1000\n",
      "832/832 - 25s - loss: 0.0233 - val_loss: 0.0246\n",
      "Epoch 52/1000\n",
      "832/832 - 25s - loss: 0.0233 - val_loss: 0.0233\n",
      "Epoch 1/1000\n",
      "832/832 - 29s - loss: 0.1169 - val_loss: 0.0607\n",
      "Epoch 2/1000\n",
      "832/832 - 25s - loss: 0.0552 - val_loss: 0.0472\n",
      "Epoch 3/1000\n",
      "832/832 - 25s - loss: 0.0447 - val_loss: 0.0392\n",
      "Epoch 4/1000\n",
      "832/832 - 25s - loss: 0.0400 - val_loss: 0.0361\n",
      "Epoch 5/1000\n",
      "832/832 - 25s - loss: 0.0374 - val_loss: 0.0355\n",
      "Epoch 6/1000\n",
      "832/832 - 25s - loss: 0.0355 - val_loss: 0.0332\n",
      "Epoch 7/1000\n",
      "832/832 - 25s - loss: 0.0341 - val_loss: 0.0333\n",
      "Epoch 8/1000\n",
      "832/832 - 25s - loss: 0.0330 - val_loss: 0.0320\n",
      "Epoch 9/1000\n",
      "832/832 - 25s - loss: 0.0321 - val_loss: 0.0330\n",
      "Epoch 10/1000\n",
      "832/832 - 25s - loss: 0.0315 - val_loss: 0.0309\n",
      "Epoch 11/1000\n",
      "832/832 - 25s - loss: 0.0310 - val_loss: 0.0307\n",
      "Epoch 12/1000\n",
      "832/832 - 25s - loss: 0.0305 - val_loss: 0.0301\n",
      "Epoch 13/1000\n",
      "832/832 - 25s - loss: 0.0301 - val_loss: 0.0291\n",
      "Epoch 14/1000\n",
      "832/832 - 25s - loss: 0.0297 - val_loss: 0.0295\n",
      "Epoch 15/1000\n",
      "832/832 - 25s - loss: 0.0294 - val_loss: 0.0287\n",
      "Epoch 16/1000\n",
      "832/832 - 25s - loss: 0.0291 - val_loss: 0.0297\n",
      "Epoch 17/1000\n",
      "832/832 - 25s - loss: 0.0289 - val_loss: 0.0290\n",
      "Epoch 18/1000\n",
      "832/832 - 25s - loss: 0.0288 - val_loss: 0.0283\n",
      "Epoch 19/1000\n",
      "832/832 - 25s - loss: 0.0286 - val_loss: 0.0274\n",
      "Epoch 20/1000\n",
      "832/832 - 25s - loss: 0.0284 - val_loss: 0.0285\n",
      "Epoch 21/1000\n",
      "832/832 - 25s - loss: 0.0282 - val_loss: 0.0269\n",
      "Epoch 22/1000\n",
      "832/832 - 25s - loss: 0.0281 - val_loss: 0.0272\n",
      "Epoch 23/1000\n",
      "832/832 - 25s - loss: 0.0279 - val_loss: 0.0276\n",
      "Epoch 24/1000\n",
      "832/832 - 25s - loss: 0.0279 - val_loss: 0.0273\n",
      "Epoch 25/1000\n",
      "832/832 - 25s - loss: 0.0277 - val_loss: 0.0270\n",
      "Epoch 26/1000\n",
      "832/832 - 25s - loss: 0.0276 - val_loss: 0.0290\n",
      "Epoch 27/1000\n",
      "832/832 - 25s - loss: 0.0276 - val_loss: 0.0269\n",
      "Epoch 28/1000\n",
      "832/832 - 25s - loss: 0.0274 - val_loss: 0.0273\n",
      "Epoch 29/1000\n",
      "832/832 - 25s - loss: 0.0273 - val_loss: 0.0270\n",
      "Epoch 30/1000\n",
      "832/832 - 25s - loss: 0.0272 - val_loss: 0.0273\n",
      "Epoch 31/1000\n",
      "832/832 - 25s - loss: 0.0271 - val_loss: 0.0268\n",
      "Epoch 32/1000\n",
      "832/832 - 25s - loss: 0.0271 - val_loss: 0.0265\n",
      "Epoch 33/1000\n",
      "832/832 - 25s - loss: 0.0270 - val_loss: 0.0267\n",
      "Epoch 34/1000\n",
      "832/832 - 25s - loss: 0.0269 - val_loss: 0.0276\n",
      "Epoch 35/1000\n",
      "832/832 - 25s - loss: 0.0268 - val_loss: 0.0263\n",
      "Epoch 36/1000\n",
      "832/832 - 25s - loss: 0.0267 - val_loss: 0.0259\n",
      "Epoch 37/1000\n",
      "832/832 - 25s - loss: 0.0267 - val_loss: 0.0273\n",
      "Epoch 38/1000\n",
      "832/832 - 25s - loss: 0.0266 - val_loss: 0.0268\n",
      "Epoch 39/1000\n",
      "832/832 - 25s - loss: 0.0266 - val_loss: 0.0263\n",
      "Epoch 40/1000\n",
      "832/832 - 25s - loss: 0.0265 - val_loss: 0.0264\n",
      "Epoch 41/1000\n",
      "832/832 - 25s - loss: 0.0264 - val_loss: 0.0259\n",
      "Epoch 42/1000\n",
      "832/832 - 25s - loss: 0.0264 - val_loss: 0.0271\n",
      "Epoch 43/1000\n",
      "832/832 - 25s - loss: 0.0263 - val_loss: 0.0257\n",
      "Epoch 44/1000\n",
      "832/832 - 25s - loss: 0.0263 - val_loss: 0.0260\n",
      "Epoch 45/1000\n",
      "832/832 - 25s - loss: 0.0262 - val_loss: 0.0254\n",
      "Epoch 46/1000\n",
      "832/832 - 25s - loss: 0.0261 - val_loss: 0.0253\n",
      "Epoch 47/1000\n",
      "832/832 - 25s - loss: 0.0261 - val_loss: 0.0256\n",
      "Epoch 48/1000\n",
      "832/832 - 25s - loss: 0.0260 - val_loss: 0.0262\n",
      "Epoch 49/1000\n",
      "832/832 - 25s - loss: 0.0260 - val_loss: 0.0258\n",
      "Epoch 50/1000\n",
      "832/832 - 25s - loss: 0.0259 - val_loss: 0.0255\n",
      "Epoch 51/1000\n",
      "832/832 - 25s - loss: 0.0259 - val_loss: 0.0253\n",
      "Epoch 52/1000\n",
      "832/832 - 25s - loss: 0.0258 - val_loss: 0.0254\n",
      "Epoch 53/1000\n",
      "832/832 - 25s - loss: 0.0258 - val_loss: 0.0256\n",
      "Epoch 54/1000\n",
      "832/832 - 25s - loss: 0.0257 - val_loss: 0.0273\n",
      "Epoch 55/1000\n",
      "832/832 - 25s - loss: 0.0257 - val_loss: 0.0249\n",
      "Epoch 56/1000\n",
      "832/832 - 25s - loss: 0.0256 - val_loss: 0.0254\n",
      "Epoch 57/1000\n",
      "832/832 - 25s - loss: 0.0256 - val_loss: 0.0260\n",
      "Epoch 58/1000\n",
      "832/832 - 25s - loss: 0.0255 - val_loss: 0.0249\n",
      "Epoch 59/1000\n",
      "832/832 - 25s - loss: 0.0255 - val_loss: 0.0265\n",
      "Epoch 60/1000\n",
      "832/832 - 25s - loss: 0.0255 - val_loss: 0.0254\n",
      "Epoch 61/1000\n",
      "832/832 - 25s - loss: 0.0254 - val_loss: 0.0253\n"
     ]
    },
    {
     "name": "stdout",
     "output_type": "stream",
     "text": [
      "Epoch 62/1000\n",
      "832/832 - 25s - loss: 0.0254 - val_loss: 0.0254\n",
      "Epoch 63/1000\n",
      "832/832 - 25s - loss: 0.0253 - val_loss: 0.0254\n",
      "Epoch 64/1000\n",
      "832/832 - 25s - loss: 0.0253 - val_loss: 0.0253\n",
      "Epoch 65/1000\n",
      "832/832 - 25s - loss: 0.0253 - val_loss: 0.0251\n",
      "Epoch 66/1000\n",
      "832/832 - 25s - loss: 0.0252 - val_loss: 0.0249\n",
      "Epoch 67/1000\n",
      "832/832 - 25s - loss: 0.0252 - val_loss: 0.0265\n",
      "Epoch 68/1000\n",
      "832/832 - 25s - loss: 0.0252 - val_loss: 0.0266\n",
      "Epoch 69/1000\n",
      "832/832 - 25s - loss: 0.0252 - val_loss: 0.0245\n",
      "Epoch 70/1000\n",
      "832/832 - 25s - loss: 0.0252 - val_loss: 0.0246\n",
      "Epoch 71/1000\n",
      "832/832 - 25s - loss: 0.0251 - val_loss: 0.0257\n",
      "Epoch 72/1000\n",
      "832/832 - 25s - loss: 0.0250 - val_loss: 0.0254\n",
      "Epoch 73/1000\n",
      "832/832 - 25s - loss: 0.0250 - val_loss: 0.0245\n",
      "Epoch 74/1000\n",
      "832/832 - 25s - loss: 0.0250 - val_loss: 0.0250\n",
      "Epoch 75/1000\n",
      "832/832 - 25s - loss: 0.0250 - val_loss: 0.0260\n",
      "Epoch 76/1000\n",
      "832/832 - 25s - loss: 0.0250 - val_loss: 0.0246\n",
      "Epoch 77/1000\n",
      "832/832 - 25s - loss: 0.0249 - val_loss: 0.0248\n",
      "Epoch 78/1000\n",
      "832/832 - 25s - loss: 0.0249 - val_loss: 0.0255\n",
      "Epoch 79/1000\n",
      "832/832 - 25s - loss: 0.0249 - val_loss: 0.0246\n",
      "Epoch 80/1000\n",
      "832/832 - 25s - loss: 0.0249 - val_loss: 0.0242\n",
      "Epoch 81/1000\n",
      "832/832 - 25s - loss: 0.0249 - val_loss: 0.0236\n",
      "Epoch 82/1000\n",
      "832/832 - 25s - loss: 0.0249 - val_loss: 0.0250\n",
      "Epoch 83/1000\n",
      "832/832 - 25s - loss: 0.0248 - val_loss: 0.0250\n",
      "Epoch 84/1000\n",
      "832/832 - 25s - loss: 0.0248 - val_loss: 0.0240\n",
      "Epoch 85/1000\n",
      "832/832 - 25s - loss: 0.0248 - val_loss: 0.0256\n",
      "Epoch 86/1000\n",
      "832/832 - 25s - loss: 0.0248 - val_loss: 0.0247\n",
      "Epoch 87/1000\n",
      "832/832 - 25s - loss: 0.0247 - val_loss: 0.0245\n",
      "Epoch 88/1000\n",
      "832/832 - 25s - loss: 0.0248 - val_loss: 0.0253\n",
      "Epoch 89/1000\n",
      "832/832 - 25s - loss: 0.0247 - val_loss: 0.0247\n",
      "Epoch 90/1000\n",
      "832/832 - 25s - loss: 0.0247 - val_loss: 0.0245\n",
      "Epoch 91/1000\n",
      "832/832 - 25s - loss: 0.0247 - val_loss: 0.0247\n",
      "Epoch 92/1000\n",
      "832/832 - 25s - loss: 0.0247 - val_loss: 0.0243\n",
      "Epoch 93/1000\n",
      "832/832 - 25s - loss: 0.0246 - val_loss: 0.0250\n",
      "Epoch 94/1000\n",
      "832/832 - 25s - loss: 0.0247 - val_loss: 0.0251\n",
      "Epoch 95/1000\n",
      "832/832 - 25s - loss: 0.0246 - val_loss: 0.0259\n",
      "Epoch 96/1000\n",
      "832/832 - 25s - loss: 0.0246 - val_loss: 0.0249\n",
      "Epoch 97/1000\n",
      "832/832 - 25s - loss: 0.0246 - val_loss: 0.0256\n",
      "Epoch 98/1000\n",
      "832/832 - 25s - loss: 0.0246 - val_loss: 0.0250\n",
      "Epoch 99/1000\n",
      "832/832 - 25s - loss: 0.0246 - val_loss: 0.0251\n",
      "Epoch 100/1000\n",
      "832/832 - 25s - loss: 0.0245 - val_loss: 0.0241\n",
      "Epoch 101/1000\n",
      "832/832 - 25s - loss: 0.0245 - val_loss: 0.0243\n",
      "Epoch 102/1000\n",
      "832/832 - 25s - loss: 0.0246 - val_loss: 0.0254\n",
      "Epoch 103/1000\n",
      "832/832 - 25s - loss: 0.0245 - val_loss: 0.0249\n",
      "Epoch 104/1000\n",
      "832/832 - 25s - loss: 0.0245 - val_loss: 0.0249\n",
      "Epoch 105/1000\n",
      "832/832 - 25s - loss: 0.0245 - val_loss: 0.0256\n",
      "Epoch 106/1000\n",
      "832/832 - 25s - loss: 0.0245 - val_loss: 0.0250\n",
      "Epoch 107/1000\n",
      "832/832 - 25s - loss: 0.0245 - val_loss: 0.0243\n",
      "Epoch 108/1000\n",
      "832/832 - 25s - loss: 0.0245 - val_loss: 0.0239\n",
      "Epoch 109/1000\n",
      "832/832 - 25s - loss: 0.0244 - val_loss: 0.0257\n",
      "Epoch 110/1000\n",
      "832/832 - 25s - loss: 0.0244 - val_loss: 0.0250\n",
      "Epoch 111/1000\n",
      "832/832 - 25s - loss: 0.0244 - val_loss: 0.0248\n",
      "Epoch 1/1000\n",
      "832/832 - 29s - loss: 0.1682 - val_loss: 0.0920\n",
      "Epoch 2/1000\n",
      "832/832 - 25s - loss: 0.0846 - val_loss: 0.0695\n",
      "Epoch 3/1000\n",
      "832/832 - 25s - loss: 0.0659 - val_loss: 0.0572\n",
      "Epoch 4/1000\n",
      "832/832 - 25s - loss: 0.0568 - val_loss: 0.0507\n",
      "Epoch 5/1000\n",
      "832/832 - 25s - loss: 0.0510 - val_loss: 0.0461\n",
      "Epoch 6/1000\n",
      "832/832 - 25s - loss: 0.0470 - val_loss: 0.0434\n",
      "Epoch 7/1000\n",
      "832/832 - 25s - loss: 0.0443 - val_loss: 0.0428\n",
      "Epoch 8/1000\n",
      "832/832 - 25s - loss: 0.0422 - val_loss: 0.0421\n",
      "Epoch 9/1000\n",
      "832/832 - 25s - loss: 0.0406 - val_loss: 0.0429\n",
      "Epoch 10/1000\n",
      "832/832 - 25s - loss: 0.0393 - val_loss: 0.0416\n",
      "Epoch 11/1000\n",
      "832/832 - 25s - loss: 0.0382 - val_loss: 0.0407\n",
      "Epoch 12/1000\n",
      "832/832 - 25s - loss: 0.0374 - val_loss: 0.0370\n",
      "Epoch 13/1000\n",
      "832/832 - 25s - loss: 0.0366 - val_loss: 0.0360\n",
      "Epoch 14/1000\n",
      "832/832 - 25s - loss: 0.0360 - val_loss: 0.0363\n",
      "Epoch 15/1000\n",
      "832/832 - 25s - loss: 0.0355 - val_loss: 0.0370\n",
      "Epoch 16/1000\n",
      "832/832 - 25s - loss: 0.0349 - val_loss: 0.0384\n",
      "Epoch 17/1000\n",
      "832/832 - 25s - loss: 0.0345 - val_loss: 0.0366\n",
      "Epoch 18/1000\n",
      "832/832 - 25s - loss: 0.0341 - val_loss: 0.0369\n",
      "Epoch 19/1000\n",
      "832/832 - 25s - loss: 0.0337 - val_loss: 0.0361\n",
      "Epoch 20/1000\n",
      "832/832 - 25s - loss: 0.0334 - val_loss: 0.0354\n",
      "Epoch 21/1000\n",
      "832/832 - 25s - loss: 0.0331 - val_loss: 0.0362\n",
      "Epoch 22/1000\n",
      "832/832 - 25s - loss: 0.0329 - val_loss: 0.0347\n",
      "Epoch 23/1000\n",
      "832/832 - 25s - loss: 0.0326 - val_loss: 0.0353\n",
      "Epoch 24/1000\n",
      "832/832 - 25s - loss: 0.0324 - val_loss: 0.0316\n",
      "Epoch 25/1000\n",
      "832/832 - 25s - loss: 0.0323 - val_loss: 0.0338\n",
      "Epoch 26/1000\n",
      "832/832 - 25s - loss: 0.0319 - val_loss: 0.0324\n",
      "Epoch 27/1000\n",
      "832/832 - 25s - loss: 0.0318 - val_loss: 0.0328\n",
      "Epoch 28/1000\n",
      "832/832 - 25s - loss: 0.0316 - val_loss: 0.0333\n",
      "Epoch 29/1000\n",
      "832/832 - 25s - loss: 0.0315 - val_loss: 0.0326\n",
      "Epoch 30/1000\n",
      "832/832 - 25s - loss: 0.0314 - val_loss: 0.0327\n",
      "Epoch 31/1000\n",
      "832/832 - 25s - loss: 0.0313 - val_loss: 0.0338\n",
      "Epoch 32/1000\n",
      "832/832 - 25s - loss: 0.0312 - val_loss: 0.0322\n",
      "Epoch 33/1000\n",
      "832/832 - 25s - loss: 0.0310 - val_loss: 0.0340\n",
      "Epoch 34/1000\n",
      "832/832 - 25s - loss: 0.0309 - val_loss: 0.0321\n",
      "Epoch 35/1000\n",
      "832/832 - 25s - loss: 0.0309 - val_loss: 0.0319\n",
      "Epoch 36/1000\n",
      "832/832 - 25s - loss: 0.0307 - val_loss: 0.0320\n",
      "Epoch 37/1000\n",
      "832/832 - 25s - loss: 0.0306 - val_loss: 0.0301\n",
      "Epoch 38/1000\n",
      "832/832 - 25s - loss: 0.0305 - val_loss: 0.0344\n",
      "Epoch 39/1000\n",
      "832/832 - 25s - loss: 0.0304 - val_loss: 0.0306\n",
      "Epoch 40/1000\n",
      "832/832 - 25s - loss: 0.0304 - val_loss: 0.0316\n",
      "Epoch 41/1000\n",
      "832/832 - 25s - loss: 0.0303 - val_loss: 0.0324\n",
      "Epoch 42/1000\n",
      "832/832 - 25s - loss: 0.0302 - val_loss: 0.0305\n",
      "Epoch 43/1000\n",
      "832/832 - 25s - loss: 0.0301 - val_loss: 0.0320\n",
      "Epoch 44/1000\n",
      "832/832 - 25s - loss: 0.0300 - val_loss: 0.0305\n",
      "Epoch 45/1000\n",
      "832/832 - 25s - loss: 0.0300 - val_loss: 0.0318\n",
      "Epoch 46/1000\n",
      "832/832 - 25s - loss: 0.0300 - val_loss: 0.0305\n",
      "Epoch 47/1000\n",
      "832/832 - 25s - loss: 0.0299 - val_loss: 0.0305\n",
      "Epoch 48/1000\n",
      "832/832 - 25s - loss: 0.0298 - val_loss: 0.0308\n",
      "Epoch 49/1000\n",
      "832/832 - 25s - loss: 0.0298 - val_loss: 0.0331\n",
      "Epoch 50/1000\n",
      "832/832 - 25s - loss: 0.0297 - val_loss: 0.0298\n",
      "Epoch 51/1000\n",
      "832/832 - 25s - loss: 0.0297 - val_loss: 0.0306\n",
      "Epoch 52/1000\n",
      "832/832 - 25s - loss: 0.0296 - val_loss: 0.0309\n",
      "Epoch 53/1000\n",
      "832/832 - 25s - loss: 0.0296 - val_loss: 0.0298\n",
      "Epoch 54/1000\n",
      "832/832 - 25s - loss: 0.0296 - val_loss: 0.0331\n",
      "Epoch 55/1000\n",
      "832/832 - 25s - loss: 0.0295 - val_loss: 0.0311\n",
      "Epoch 56/1000\n",
      "832/832 - 25s - loss: 0.0294 - val_loss: 0.0300\n",
      "Epoch 57/1000\n",
      "832/832 - 25s - loss: 0.0294 - val_loss: 0.0306\n",
      "Epoch 58/1000\n",
      "832/832 - 25s - loss: 0.0293 - val_loss: 0.0306\n",
      "Epoch 59/1000\n",
      "832/832 - 25s - loss: 0.0293 - val_loss: 0.0313\n",
      "Epoch 60/1000\n",
      "832/832 - 25s - loss: 0.0293 - val_loss: 0.0319\n",
      "Epoch 61/1000\n",
      "832/832 - 25s - loss: 0.0293 - val_loss: 0.0319\n",
      "Epoch 62/1000\n",
      "832/832 - 25s - loss: 0.0291 - val_loss: 0.0309\n",
      "Epoch 63/1000\n",
      "832/832 - 25s - loss: 0.0292 - val_loss: 0.0309\n",
      "Epoch 64/1000\n",
      "832/832 - 25s - loss: 0.0292 - val_loss: 0.0299\n",
      "Epoch 65/1000\n",
      "832/832 - 25s - loss: 0.0291 - val_loss: 0.0312\n",
      "Epoch 66/1000\n",
      "832/832 - 25s - loss: 0.0291 - val_loss: 0.0308\n",
      "Epoch 67/1000\n",
      "832/832 - 25s - loss: 0.0290 - val_loss: 0.0308\n",
      "Epoch 1/1000\n",
      "832/832 - 29s - loss: 0.1647 - val_loss: 0.0891\n",
      "Epoch 2/1000\n",
      "832/832 - 25s - loss: 0.0819 - val_loss: 0.0659\n",
      "Epoch 3/1000\n",
      "832/832 - 25s - loss: 0.0644 - val_loss: 0.0528\n",
      "Epoch 4/1000\n",
      "832/832 - 25s - loss: 0.0553 - val_loss: 0.0493\n",
      "Epoch 5/1000\n",
      "832/832 - 25s - loss: 0.0501 - val_loss: 0.0449\n",
      "Epoch 6/1000\n",
      "832/832 - 25s - loss: 0.0466 - val_loss: 0.0421\n",
      "Epoch 7/1000\n",
      "832/832 - 25s - loss: 0.0439 - val_loss: 0.0402\n",
      "Epoch 8/1000\n",
      "832/832 - 25s - loss: 0.0416 - val_loss: 0.0379\n",
      "Epoch 9/1000\n",
      "832/832 - 25s - loss: 0.0400 - val_loss: 0.0384\n",
      "Epoch 10/1000\n",
      "832/832 - 25s - loss: 0.0386 - val_loss: 0.0350\n",
      "Epoch 11/1000\n",
      "832/832 - 25s - loss: 0.0374 - val_loss: 0.0346\n",
      "Epoch 12/1000\n",
      "832/832 - 25s - loss: 0.0367 - val_loss: 0.0346\n",
      "Epoch 13/1000\n",
      "832/832 - 25s - loss: 0.0356 - val_loss: 0.0339\n",
      "Epoch 14/1000\n",
      "832/832 - 25s - loss: 0.0348 - val_loss: 0.0333\n",
      "Epoch 15/1000\n",
      "832/832 - 25s - loss: 0.0343 - val_loss: 0.0313\n",
      "Epoch 16/1000\n",
      "832/832 - 25s - loss: 0.0334 - val_loss: 0.0325\n"
     ]
    },
    {
     "name": "stdout",
     "output_type": "stream",
     "text": [
      "Epoch 17/1000\n",
      "832/832 - 25s - loss: 0.0329 - val_loss: 0.0326\n",
      "Epoch 18/1000\n",
      "832/832 - 25s - loss: 0.0324 - val_loss: 0.0333\n",
      "Epoch 19/1000\n",
      "832/832 - 25s - loss: 0.0319 - val_loss: 0.0323\n",
      "Epoch 20/1000\n",
      "832/832 - 25s - loss: 0.0314 - val_loss: 0.0309\n",
      "Epoch 21/1000\n",
      "832/832 - 25s - loss: 0.0311 - val_loss: 0.0301\n",
      "Epoch 22/1000\n",
      "832/832 - 25s - loss: 0.0308 - val_loss: 0.0321\n",
      "Epoch 23/1000\n",
      "832/832 - 25s - loss: 0.0305 - val_loss: 0.0308\n",
      "Epoch 24/1000\n",
      "832/832 - 25s - loss: 0.0301 - val_loss: 0.0323\n",
      "Epoch 25/1000\n",
      "832/832 - 25s - loss: 0.0300 - val_loss: 0.0282\n",
      "Epoch 26/1000\n",
      "832/832 - 25s - loss: 0.0296 - val_loss: 0.0284\n",
      "Epoch 27/1000\n",
      "832/832 - 25s - loss: 0.0293 - val_loss: 0.0296\n",
      "Epoch 28/1000\n",
      "832/832 - 25s - loss: 0.0290 - val_loss: 0.0301\n",
      "Epoch 29/1000\n",
      "832/832 - 25s - loss: 0.0289 - val_loss: 0.0303\n",
      "Epoch 30/1000\n",
      "832/832 - 25s - loss: 0.0287 - val_loss: 0.0286\n",
      "Epoch 31/1000\n",
      "832/832 - 25s - loss: 0.0285 - val_loss: 0.0289\n",
      "Epoch 32/1000\n",
      "832/832 - 25s - loss: 0.0281 - val_loss: 0.0290\n",
      "Epoch 33/1000\n",
      "832/832 - 25s - loss: 0.0280 - val_loss: 0.0289\n",
      "Epoch 34/1000\n",
      "832/832 - 25s - loss: 0.0278 - val_loss: 0.0277\n",
      "Epoch 35/1000\n",
      "832/832 - 25s - loss: 0.0276 - val_loss: 0.0285\n",
      "Epoch 36/1000\n",
      "832/832 - 25s - loss: 0.0274 - val_loss: 0.0277\n",
      "Epoch 37/1000\n",
      "832/832 - 25s - loss: 0.0272 - val_loss: 0.0277\n",
      "Epoch 38/1000\n",
      "832/832 - 25s - loss: 0.0269 - val_loss: 0.0278\n",
      "Epoch 39/1000\n",
      "832/832 - 25s - loss: 0.0266 - val_loss: 0.0275\n",
      "Epoch 40/1000\n",
      "832/832 - 25s - loss: 0.0266 - val_loss: 0.0268\n",
      "Epoch 41/1000\n",
      "832/832 - 25s - loss: 0.0264 - val_loss: 0.0289\n",
      "Epoch 42/1000\n",
      "832/832 - 25s - loss: 0.0263 - val_loss: 0.0312\n",
      "Epoch 43/1000\n",
      "832/832 - 25s - loss: 0.0261 - val_loss: 0.0278\n",
      "Epoch 44/1000\n",
      "832/832 - 25s - loss: 0.0259 - val_loss: 0.0286\n",
      "Epoch 45/1000\n",
      "832/832 - 25s - loss: 0.0258 - val_loss: 0.0274\n",
      "Epoch 46/1000\n",
      "832/832 - 25s - loss: 0.0256 - val_loss: 0.0275\n",
      "Epoch 47/1000\n",
      "832/832 - 25s - loss: 0.0255 - val_loss: 0.0257\n",
      "Epoch 48/1000\n",
      "832/832 - 25s - loss: 0.0254 - val_loss: 0.0253\n",
      "Epoch 49/1000\n",
      "832/832 - 25s - loss: 0.0252 - val_loss: 0.0274\n",
      "Epoch 50/1000\n",
      "832/832 - 25s - loss: 0.0251 - val_loss: 0.0275\n",
      "Epoch 51/1000\n",
      "832/832 - 25s - loss: 0.0250 - val_loss: 0.0252\n",
      "Epoch 52/1000\n",
      "832/832 - 25s - loss: 0.0249 - val_loss: 0.0271\n",
      "Epoch 53/1000\n",
      "832/832 - 25s - loss: 0.0248 - val_loss: 0.0260\n",
      "Epoch 54/1000\n",
      "832/832 - 25s - loss: 0.0247 - val_loss: 0.0268\n",
      "Epoch 55/1000\n",
      "832/832 - 25s - loss: 0.0246 - val_loss: 0.0272\n",
      "Epoch 56/1000\n",
      "832/832 - 25s - loss: 0.0245 - val_loss: 0.0264\n",
      "Epoch 57/1000\n",
      "832/832 - 25s - loss: 0.0244 - val_loss: 0.0259\n",
      "Epoch 58/1000\n",
      "832/832 - 25s - loss: 0.0243 - val_loss: 0.0267\n",
      "Epoch 59/1000\n",
      "832/832 - 25s - loss: 0.0241 - val_loss: 0.0262\n",
      "Epoch 60/1000\n",
      "832/832 - 25s - loss: 0.0243 - val_loss: 0.0266\n",
      "Epoch 61/1000\n",
      "832/832 - 25s - loss: 0.0240 - val_loss: 0.0247\n",
      "Epoch 62/1000\n",
      "832/832 - 25s - loss: 0.0240 - val_loss: 0.0254\n",
      "Epoch 63/1000\n",
      "832/832 - 25s - loss: 0.0239 - val_loss: 0.0267\n",
      "Epoch 64/1000\n",
      "832/832 - 25s - loss: 0.0239 - val_loss: 0.0253\n",
      "Epoch 65/1000\n",
      "832/832 - 25s - loss: 0.0237 - val_loss: 0.0255\n",
      "Epoch 66/1000\n",
      "832/832 - 25s - loss: 0.0238 - val_loss: 0.0242\n",
      "Epoch 67/1000\n",
      "832/832 - 25s - loss: 0.0236 - val_loss: 0.0259\n",
      "Epoch 68/1000\n",
      "832/832 - 25s - loss: 0.0236 - val_loss: 0.0269\n",
      "Epoch 69/1000\n",
      "832/832 - 25s - loss: 0.0235 - val_loss: 0.0259\n",
      "Epoch 70/1000\n",
      "832/832 - 25s - loss: 0.0235 - val_loss: 0.0255\n",
      "Epoch 71/1000\n",
      "832/832 - 25s - loss: 0.0234 - val_loss: 0.0262\n",
      "Epoch 72/1000\n",
      "832/832 - 25s - loss: 0.0234 - val_loss: 0.0268\n",
      "Epoch 73/1000\n",
      "832/832 - 25s - loss: 0.0233 - val_loss: 0.0243\n",
      "Epoch 74/1000\n",
      "832/832 - 25s - loss: 0.0233 - val_loss: 0.0263\n",
      "Epoch 75/1000\n",
      "832/832 - 25s - loss: 0.0232 - val_loss: 0.0251\n",
      "Epoch 76/1000\n",
      "832/832 - 25s - loss: 0.0233 - val_loss: 0.0254\n",
      "Epoch 77/1000\n",
      "832/832 - 25s - loss: 0.0231 - val_loss: 0.0247\n",
      "Epoch 78/1000\n",
      "832/832 - 25s - loss: 0.0232 - val_loss: 0.0268\n",
      "Epoch 79/1000\n",
      "832/832 - 25s - loss: 0.0231 - val_loss: 0.0258\n",
      "Epoch 80/1000\n",
      "832/832 - 25s - loss: 0.0231 - val_loss: 0.0263\n",
      "Epoch 81/1000\n",
      "832/832 - 25s - loss: 0.0230 - val_loss: 0.0287\n",
      "Epoch 82/1000\n",
      "832/832 - 25s - loss: 0.0230 - val_loss: 0.0249\n",
      "Epoch 83/1000\n",
      "832/832 - 25s - loss: 0.0228 - val_loss: 0.0249\n",
      "Epoch 84/1000\n",
      "832/832 - 25s - loss: 0.0229 - val_loss: 0.0253\n",
      "Epoch 85/1000\n",
      "832/832 - 25s - loss: 0.0230 - val_loss: 0.0244\n",
      "Epoch 86/1000\n",
      "832/832 - 25s - loss: 0.0229 - val_loss: 0.0248\n",
      "Epoch 87/1000\n",
      "832/832 - 25s - loss: 0.0227 - val_loss: 0.0247\n",
      "Epoch 88/1000\n",
      "832/832 - 25s - loss: 0.0227 - val_loss: 0.0250\n",
      "Epoch 89/1000\n",
      "832/832 - 25s - loss: 0.0226 - val_loss: 0.0248\n",
      "Epoch 90/1000\n",
      "832/832 - 25s - loss: 0.0226 - val_loss: 0.0254\n",
      "Epoch 91/1000\n",
      "832/832 - 25s - loss: 0.0226 - val_loss: 0.0258\n",
      "Epoch 1/1000\n",
      "832/832 - 32s - loss: 0.2187 - val_loss: 0.1251\n",
      "Epoch 2/1000\n",
      "832/832 - 26s - loss: 0.1146 - val_loss: 0.0930\n",
      "Epoch 3/1000\n",
      "832/832 - 26s - loss: 0.0939 - val_loss: 0.0798\n",
      "Epoch 4/1000\n",
      "832/832 - 26s - loss: 0.0821 - val_loss: 0.0711\n",
      "Epoch 5/1000\n",
      "832/832 - 26s - loss: 0.0744 - val_loss: 0.0646\n",
      "Epoch 6/1000\n",
      "832/832 - 26s - loss: 0.0688 - val_loss: 0.0599\n",
      "Epoch 7/1000\n",
      "832/832 - 26s - loss: 0.0654 - val_loss: 0.0614\n",
      "Epoch 8/1000\n",
      "832/832 - 26s - loss: 0.0620 - val_loss: 0.0567\n",
      "Epoch 9/1000\n",
      "832/832 - 26s - loss: 0.0596 - val_loss: 0.0529\n",
      "Epoch 10/1000\n",
      "832/832 - 26s - loss: 0.0572 - val_loss: 0.0523\n",
      "Epoch 11/1000\n",
      "832/832 - 26s - loss: 0.0550 - val_loss: 0.0498\n",
      "Epoch 12/1000\n",
      "832/832 - 26s - loss: 0.0534 - val_loss: 0.0534\n",
      "Epoch 13/1000\n",
      "832/832 - 26s - loss: 0.0518 - val_loss: 0.0493\n",
      "Epoch 14/1000\n",
      "832/832 - 26s - loss: 0.0508 - val_loss: 0.0494\n",
      "Epoch 15/1000\n",
      "832/832 - 26s - loss: 0.0494 - val_loss: 0.0488\n",
      "Epoch 16/1000\n",
      "832/832 - 26s - loss: 0.0483 - val_loss: 0.0470\n",
      "Epoch 17/1000\n",
      "832/832 - 26s - loss: 0.0480 - val_loss: 0.0500\n",
      "Epoch 18/1000\n",
      "832/832 - 26s - loss: 0.0470 - val_loss: 0.0447\n",
      "Epoch 19/1000\n",
      "832/832 - 26s - loss: 0.0466 - val_loss: 0.0442\n",
      "Epoch 20/1000\n",
      "832/832 - 26s - loss: 0.0458 - val_loss: 0.0453\n",
      "Epoch 21/1000\n",
      "832/832 - 26s - loss: 0.0453 - val_loss: 0.0434\n",
      "Epoch 22/1000\n",
      "832/832 - 26s - loss: 0.0447 - val_loss: 0.0446\n",
      "Epoch 23/1000\n",
      "832/832 - 26s - loss: 0.0444 - val_loss: 0.0423\n",
      "Epoch 24/1000\n",
      "832/832 - 26s - loss: 0.0439 - val_loss: 0.0424\n",
      "Epoch 25/1000\n",
      "832/832 - 26s - loss: 0.0434 - val_loss: 0.0425\n",
      "Epoch 26/1000\n",
      "832/832 - 26s - loss: 0.0433 - val_loss: 0.0437\n",
      "Epoch 27/1000\n",
      "832/832 - 26s - loss: 0.0430 - val_loss: 0.0452\n",
      "Epoch 28/1000\n",
      "832/832 - 26s - loss: 0.0428 - val_loss: 0.0439\n",
      "Epoch 29/1000\n",
      "832/832 - 26s - loss: 0.0425 - val_loss: 0.0427\n",
      "Epoch 30/1000\n",
      "832/832 - 26s - loss: 0.0421 - val_loss: 0.0449\n",
      "Epoch 31/1000\n",
      "832/832 - 26s - loss: 0.0416 - val_loss: 0.0422\n",
      "Epoch 32/1000\n",
      "832/832 - 26s - loss: 0.0416 - val_loss: 0.0415\n",
      "Epoch 33/1000\n",
      "832/832 - 26s - loss: 0.0414 - val_loss: 0.0414\n",
      "Epoch 34/1000\n",
      "832/832 - 26s - loss: 0.0416 - val_loss: 0.0418\n",
      "Epoch 35/1000\n",
      "832/832 - 26s - loss: 0.0409 - val_loss: 0.0421\n",
      "Epoch 36/1000\n",
      "832/832 - 26s - loss: 0.0410 - val_loss: 0.0421\n",
      "Epoch 37/1000\n",
      "832/832 - 26s - loss: 0.0408 - val_loss: 0.0397\n",
      "Epoch 38/1000\n",
      "832/832 - 26s - loss: 0.0404 - val_loss: 0.0403\n",
      "Epoch 39/1000\n",
      "832/832 - 26s - loss: 0.0405 - val_loss: 0.0422\n",
      "Epoch 40/1000\n",
      "832/832 - 26s - loss: 0.0402 - val_loss: 0.0393\n",
      "Epoch 41/1000\n",
      "832/832 - 26s - loss: 0.0402 - val_loss: 0.0416\n",
      "Epoch 42/1000\n",
      "832/832 - 26s - loss: 0.0399 - val_loss: 0.0389\n",
      "Epoch 43/1000\n",
      "832/832 - 26s - loss: 0.0398 - val_loss: 0.0415\n",
      "Epoch 44/1000\n",
      "832/832 - 26s - loss: 0.0397 - val_loss: 0.0393\n",
      "Epoch 45/1000\n",
      "832/832 - 26s - loss: 0.0397 - val_loss: 0.0397\n",
      "Epoch 46/1000\n",
      "832/832 - 26s - loss: 0.0393 - val_loss: 0.0412\n",
      "Epoch 47/1000\n",
      "832/832 - 26s - loss: 0.0393 - val_loss: 0.0377\n",
      "Epoch 48/1000\n",
      "832/832 - 26s - loss: 0.0393 - val_loss: 0.0401\n",
      "Epoch 49/1000\n",
      "832/832 - 26s - loss: 0.0392 - val_loss: 0.0392\n",
      "Epoch 50/1000\n",
      "832/832 - 26s - loss: 0.0389 - val_loss: 0.0385\n",
      "Epoch 51/1000\n",
      "832/832 - 26s - loss: 0.0389 - val_loss: 0.0385\n",
      "Epoch 52/1000\n",
      "832/832 - 26s - loss: 0.0390 - val_loss: 0.0378\n",
      "Epoch 53/1000\n",
      "832/832 - 26s - loss: 0.0386 - val_loss: 0.0389\n",
      "Epoch 54/1000\n",
      "832/832 - 26s - loss: 0.0385 - val_loss: 0.0376\n",
      "Epoch 55/1000\n",
      "832/832 - 26s - loss: 0.0385 - val_loss: 0.0387\n",
      "Epoch 56/1000\n",
      "832/832 - 26s - loss: 0.0386 - val_loss: 0.0390\n",
      "Epoch 57/1000\n",
      "832/832 - 26s - loss: 0.0383 - val_loss: 0.0373\n",
      "Epoch 58/1000\n",
      "832/832 - 26s - loss: 0.0382 - val_loss: 0.0389\n"
     ]
    },
    {
     "name": "stdout",
     "output_type": "stream",
     "text": [
      "Epoch 59/1000\n",
      "832/832 - 26s - loss: 0.0382 - val_loss: 0.0379\n",
      "Epoch 60/1000\n",
      "832/832 - 26s - loss: 0.0380 - val_loss: 0.0379\n",
      "Epoch 61/1000\n",
      "832/832 - 26s - loss: 0.0382 - val_loss: 0.0375\n",
      "Epoch 62/1000\n",
      "832/832 - 26s - loss: 0.0381 - val_loss: 0.0378\n",
      "Epoch 63/1000\n",
      "832/832 - 26s - loss: 0.0377 - val_loss: 0.0375\n",
      "Epoch 64/1000\n",
      "832/832 - 26s - loss: 0.0379 - val_loss: 0.0372\n",
      "Epoch 65/1000\n",
      "832/832 - 26s - loss: 0.0380 - val_loss: 0.0377\n",
      "Epoch 66/1000\n",
      "832/832 - 26s - loss: 0.0376 - val_loss: 0.0405\n",
      "Epoch 67/1000\n",
      "832/832 - 26s - loss: 0.0374 - val_loss: 0.0370\n",
      "Epoch 68/1000\n",
      "832/832 - 26s - loss: 0.0376 - val_loss: 0.0380\n",
      "Epoch 69/1000\n",
      "832/832 - 26s - loss: 0.0373 - val_loss: 0.0377\n",
      "Epoch 70/1000\n",
      "832/832 - 26s - loss: 0.0374 - val_loss: 0.0386\n",
      "Epoch 71/1000\n",
      "832/832 - 26s - loss: 0.0371 - val_loss: 0.0358\n",
      "Epoch 72/1000\n",
      "832/832 - 26s - loss: 0.0372 - val_loss: 0.0371\n",
      "Epoch 73/1000\n",
      "832/832 - 26s - loss: 0.0371 - val_loss: 0.0372\n",
      "Epoch 74/1000\n",
      "832/832 - 26s - loss: 0.0369 - val_loss: 0.0392\n",
      "Epoch 75/1000\n",
      "832/832 - 26s - loss: 0.0372 - val_loss: 0.0358\n",
      "Epoch 76/1000\n",
      "832/832 - 26s - loss: 0.0369 - val_loss: 0.0378\n",
      "Epoch 77/1000\n",
      "832/832 - 26s - loss: 0.0370 - val_loss: 0.0356\n",
      "Epoch 78/1000\n",
      "832/832 - 26s - loss: 0.0370 - val_loss: 0.0358\n",
      "Epoch 79/1000\n",
      "832/832 - 26s - loss: 0.0367 - val_loss: 0.0388\n",
      "Epoch 80/1000\n",
      "832/832 - 26s - loss: 0.0369 - val_loss: 0.0357\n",
      "Epoch 81/1000\n",
      "832/832 - 26s - loss: 0.0365 - val_loss: 0.0390\n",
      "Epoch 82/1000\n",
      "832/832 - 26s - loss: 0.0365 - val_loss: 0.0358\n",
      "Epoch 83/1000\n",
      "832/832 - 26s - loss: 0.0364 - val_loss: 0.0377\n",
      "Epoch 84/1000\n",
      "832/832 - 26s - loss: 0.0366 - val_loss: 0.0367\n",
      "Epoch 85/1000\n",
      "832/832 - 26s - loss: 0.0364 - val_loss: 0.0360\n",
      "Epoch 86/1000\n",
      "832/832 - 26s - loss: 0.0363 - val_loss: 0.0370\n",
      "Epoch 87/1000\n",
      "832/832 - 26s - loss: 0.0366 - val_loss: 0.0355\n",
      "Epoch 88/1000\n",
      "832/832 - 26s - loss: 0.0362 - val_loss: 0.0365\n",
      "Epoch 89/1000\n",
      "832/832 - 26s - loss: 0.0363 - val_loss: 0.0370\n",
      "Epoch 90/1000\n",
      "832/832 - 26s - loss: 0.0363 - val_loss: 0.0351\n",
      "Epoch 91/1000\n",
      "832/832 - 26s - loss: 0.0362 - val_loss: 0.0367\n",
      "Epoch 92/1000\n",
      "832/832 - 26s - loss: 0.0362 - val_loss: 0.0356\n",
      "Epoch 93/1000\n",
      "832/832 - 26s - loss: 0.0361 - val_loss: 0.0371\n",
      "Epoch 94/1000\n",
      "832/832 - 26s - loss: 0.0360 - val_loss: 0.0380\n",
      "Epoch 95/1000\n",
      "832/832 - 26s - loss: 0.0364 - val_loss: 0.0368\n",
      "Epoch 96/1000\n",
      "832/832 - 26s - loss: 0.0359 - val_loss: 0.0357\n",
      "Epoch 97/1000\n",
      "832/832 - 26s - loss: 0.0358 - val_loss: 0.0356\n",
      "Epoch 98/1000\n",
      "832/832 - 26s - loss: 0.0362 - val_loss: 0.0359\n",
      "Epoch 99/1000\n",
      "832/832 - 26s - loss: 0.0358 - val_loss: 0.0356\n",
      "Epoch 100/1000\n",
      "832/832 - 26s - loss: 0.0361 - val_loss: 0.0393\n",
      "Epoch 101/1000\n",
      "832/832 - 26s - loss: 0.0356 - val_loss: 0.0358\n"
     ]
    }
   ],
   "source": [
    "depth = [5,10,15,20,30,40,50,60,70,80,90,100,125,150,175,200,225,250,275,300,350,400,\n",
    "              500,600,700,800,900,1000,1100,1300,1500,1750,2000]\n",
    "# 训练30 - 1000m\n",
    "for i in range(0,33):\n",
    "    train_model_CNN(x_train,y_train[:,i:i+1],x_val,y_val[:,i:i+1],\n",
    "                'D:/codeFile/jupyterDemo/3d_ts/BPNN/model/new_0-2000m_24.6.6/CNN/temp/model1/CNN_temp_'+str(depth[i])+'m.h5')"
   ]
  },
  {
   "cell_type": "code",
   "execution_count": null,
   "id": "43c42d1a",
   "metadata": {
    "ExecuteTime": {
     "end_time": "2023-12-30T06:31:42.566183Z",
     "start_time": "2023-12-30T06:31:42.566183Z"
    }
   },
   "outputs": [],
   "source": [
    " "
   ]
  },
  {
   "cell_type": "code",
   "execution_count": null,
   "id": "ad6d8c5f",
   "metadata": {
    "ExecuteTime": {
     "end_time": "2023-12-30T06:31:42.567181Z",
     "start_time": "2023-12-30T06:31:42.567181Z"
    }
   },
   "outputs": [],
   "source": [
    "# model = create_model(128,256)\n",
    "# model.compile(optimizer='adam', loss='mean_squared_error')\n",
    "# checkpoint_path='./CNN_model_16.h5'\n",
    "# keras_callbacks   = [\n",
    "#       EarlyStopping(monitor='val_loss', patience=30, mode='min', min_delta=0.001),\n",
    "#       ModelCheckpoint(checkpoint_path, monitor='val_loss', save_best_only=True, mode='min')\n",
    "# ]"
   ]
  },
  {
   "cell_type": "code",
   "execution_count": null,
   "id": "5398477b",
   "metadata": {
    "ExecuteTime": {
     "end_time": "2023-12-30T06:31:42.568180Z",
     "start_time": "2023-12-30T06:31:42.568180Z"
    }
   },
   "outputs": [],
   "source": [
    "# num_epochs = 1000\n",
    "# batch_size = 10240\n",
    "\n",
    "# history = model.fit(x_train, y_train[:,14:15], validation_data=(x_val,y_val[:,14:15]),\n",
    "#                     epochs=num_epochs, batch_size=batch_size, verbose=2, callbacks=keras_callbacks)"
   ]
  },
  {
   "cell_type": "markdown",
   "id": "1275d7a0",
   "metadata": {},
   "source": [
    "## 模型评估"
   ]
  },
  {
   "cell_type": "code",
   "execution_count": 95,
   "id": "a7d0b3be",
   "metadata": {
    "ExecuteTime": {
     "end_time": "2024-06-09T11:12:34.080377Z",
     "start_time": "2024-06-09T11:12:34.071391Z"
    },
    "code_folding": [
     3,
     16,
     45
    ]
   },
   "outputs": [],
   "source": [
    "# 评估函数定义\n",
    "# 异常相关系数\n",
    "import math\n",
    "def acc(actual, predicted):\n",
    "    pred_avg = np.average(predicted)\n",
    "\n",
    "    act_avg = np.average(actual)\n",
    "    diff_pred = predicted - pred_avg\n",
    "    diff_act = actual - act_avg\n",
    "    numerator = np.mean(np.sum(diff_pred*diff_act, axis=0))\n",
    "    denominator = math.sqrt(np.mean(np.sum(diff_pred**2, axis=0)) * np.mean(np.sum(diff_act**2, axis=0)))\n",
    "    ret_val = numerator/denominator\n",
    "    return (100 * ret_val)\n",
    "\n",
    "\n",
    "# 查看损失\n",
    "def look_loss(history):\n",
    "    plt.figure(figsize=(6.3, 2.5), dpi = 100)\n",
    "    plt.plot(history.history['loss'], label='training data')\n",
    "    plt.plot(history.history['val_loss'], label='validation data')\n",
    "    plt.title('Loss')\n",
    "    plt.ylabel('MSE Loss')\n",
    "    plt.xlabel('Number of epochs')\n",
    "    plt.grid()\n",
    "    plt.legend(loc=\"upper right\")\n",
    "    plt.show()\n",
    "\n",
    "\n",
    "# 模型预测\n",
    "def all_estimate(best_model,x_test,y_test):\n",
    "    testPred_1 = best_model.predict(x_test)\n",
    "    a = y_test\n",
    "    y_test_p = a.reshape(-1,1)\n",
    "    testPred_p = testPred_1.reshape(-1,1)\n",
    "\n",
    "\n",
    "    rmse = sqrt(mean_squared_error(y_test_p,testPred_p))\n",
    "    print('Test RMSE: %.3f' % rmse)\n",
    "    #print('%.3f' % rmse)\n",
    "\n",
    "   # print('acc:',acc(y_test_p,testPred_p))\n",
    "\n",
    "    r2 = r2_score(y_test_p,testPred_p)\n",
    "    print(\"R² score: %.4f\" % r2)  \n",
    "   # print(\"%.4f\"% r2)  \n",
    "    \n",
    "\n",
    "def respective_estimate(best_model,x_test,y_test):\n",
    "    re2_list = []\n",
    "    rmse_list = []\n",
    "    for i in range(6):\n",
    "        # 模型预测\n",
    "        testPred = best_model.predict(x_test[i:i+1])\n",
    "        a = y_test[i:i+1]\n",
    "        y_test_p = a.reshape(-1,1)\n",
    "        testPred_p = testPred.reshape(-1,1)\n",
    "        r2 = r2_score(y_test_p,testPred_p)\n",
    "        rmse = sqrt(mean_squared_error(y_test_p,testPred_p))\n",
    "        re2_list.append(r2)\n",
    "        rmse_list.append(rmse)    \n",
    "    return re2_list,rmse_list"
   ]
  },
  {
   "cell_type": "code",
   "execution_count": 97,
   "id": "27e2f202",
   "metadata": {
    "ExecuteTime": {
     "end_time": "2024-06-09T11:12:39.349696Z",
     "start_time": "2024-06-09T11:12:39.346691Z"
    }
   },
   "outputs": [],
   "source": [
    "#look_loss(history)"
   ]
  },
  {
   "cell_type": "markdown",
   "id": "7d2126b3",
   "metadata": {},
   "source": [
    "### 对指定层进行评估"
   ]
  },
  {
   "cell_type": "code",
   "execution_count": 98,
   "id": "23c0c3a8",
   "metadata": {
    "ExecuteTime": {
     "end_time": "2024-06-09T11:12:39.981668Z",
     "start_time": "2024-06-09T11:12:39.978673Z"
    }
   },
   "outputs": [],
   "source": [
    "# print(x_test.shape,y_test.shape)"
   ]
  },
  {
   "cell_type": "code",
   "execution_count": 99,
   "id": "6afc7fe3",
   "metadata": {
    "ExecuteTime": {
     "end_time": "2024-06-09T11:12:40.135421Z",
     "start_time": "2024-06-09T11:12:40.131427Z"
    }
   },
   "outputs": [],
   "source": [
    "# best_model = tf.keras.models.load_model('CNN_model_16.h5')\n",
    "# all_estimate(best_model,x_test,y_test[:,14:15])"
   ]
  },
  {
   "cell_type": "markdown",
   "id": "1a1b383d",
   "metadata": {},
   "source": [
    "### 对所有层进行评估"
   ]
  },
  {
   "cell_type": "code",
   "execution_count": 102,
   "id": "9bf805b3",
   "metadata": {
    "ExecuteTime": {
     "end_time": "2024-06-09T11:31:18.750175Z",
     "start_time": "2024-06-09T11:18:05.537037Z"
    }
   },
   "outputs": [
    {
     "name": "stdout",
     "output_type": "stream",
     "text": [
      "5m 测试集：\n",
      "Test RMSE: 0.037\n",
      "R² score: 0.9986\n",
      "10m 测试集：\n",
      "Test RMSE: 0.041\n",
      "R² score: 0.9983\n",
      "15m 测试集：\n",
      "Test RMSE: 0.054\n",
      "R² score: 0.9971\n",
      "20m 测试集：\n",
      "Test RMSE: 0.059\n",
      "R² score: 0.9965\n",
      "30m 测试集：\n",
      "Test RMSE: 0.089\n",
      "R² score: 0.9921\n",
      "40m 测试集：\n",
      "Test RMSE: 0.110\n",
      "R² score: 0.9877\n",
      "50m 测试集：\n",
      "Test RMSE: 0.131\n",
      "R² score: 0.9823\n",
      "60m 测试集：\n",
      "Test RMSE: 0.142\n",
      "R² score: 0.9786\n",
      "70m 测试集：\n",
      "Test RMSE: 0.146\n",
      "R² score: 0.9767\n",
      "80m 测试集：\n",
      "Test RMSE: 0.172\n",
      "R² score: 0.9669\n",
      "90m 测试集：\n",
      "Test RMSE: 0.163\n",
      "R² score: 0.9697\n",
      "100m 测试集：\n",
      "Test RMSE: 0.164\n",
      "R² score: 0.9688\n",
      "125m 测试集：\n",
      "Test RMSE: 0.178\n",
      "R² score: 0.9622\n",
      "150m 测试集：\n",
      "Test RMSE: 0.185\n",
      "R² score: 0.9593\n",
      "175m 测试集：\n",
      "Test RMSE: 0.181\n",
      "R² score: 0.9617\n",
      "200m 测试集：\n",
      "Test RMSE: 0.179\n",
      "R² score: 0.9637\n",
      "225m 测试集：\n",
      "Test RMSE: 0.169\n",
      "R² score: 0.9684\n",
      "250m 测试集：\n",
      "Test RMSE: 0.173\n",
      "R² score: 0.9677\n",
      "275m 测试集：\n",
      "Test RMSE: 0.168\n",
      "R² score: 0.9699\n",
      "300m 测试集：\n",
      "Test RMSE: 0.170\n",
      "R² score: 0.9697\n",
      "350m 测试集：\n",
      "Test RMSE: 0.182\n",
      "R² score: 0.9662\n",
      "400m 测试集：\n",
      "Test RMSE: 0.191\n",
      "R² score: 0.9634\n",
      "500m 测试集：\n",
      "Test RMSE: 0.193\n",
      "R² score: 0.9630\n",
      "600m 测试集：\n",
      "Test RMSE: 0.199\n",
      "R² score: 0.9609\n",
      "700m 测试集：\n",
      "Test RMSE: 0.188\n",
      "R² score: 0.9649\n",
      "800m 测试集：\n",
      "Test RMSE: 0.177\n",
      "R² score: 0.9685\n",
      "900m 测试集：\n",
      "Test RMSE: 0.173\n",
      "R² score: 0.9700\n",
      "1000m 测试集：\n",
      "Test RMSE: 0.172\n",
      "R² score: 0.9704\n",
      "1100m 测试集：\n",
      "Test RMSE: 0.181\n",
      "R² score: 0.9673\n",
      "1300m 测试集：\n",
      "Test RMSE: 0.188\n",
      "R² score: 0.9647\n",
      "1500m 测试集：\n",
      "Test RMSE: 0.215\n",
      "R² score: 0.9539\n",
      "1750m 测试集：\n",
      "Test RMSE: 0.184\n",
      "R² score: 0.9661\n",
      "2000m 测试集：\n",
      "Test RMSE: 0.241\n",
      "R² score: 0.9418\n"
     ]
    }
   ],
   "source": [
    "# 模型预测\n",
    "for i in range(0,33):\n",
    "    best_model = tf.keras.models.load_model('D:/codeFile/jupyterDemo/3d_ts/BPNN/model/new_0-2000m_24.6.6/CNN/temp/model1/CNN_temp_'+str(depth[i])+'m.h5')\n",
    "    print(str(depth[i])+'m 测试集：')\n",
    "    all_estimate(best_model,x_test,y_test[:,i:i+1])\n",
    "# re2_list,rmse_list = respective_estimate(best_model,x_test,y_test[:,:,:,:,0:5])\n",
    "# re2_list,rmse_list"
   ]
  },
  {
   "cell_type": "markdown",
   "id": "ab5b29cb",
   "metadata": {},
   "source": [
    "# 保存预测结果"
   ]
  },
  {
   "cell_type": "code",
   "execution_count": 103,
   "id": "dcf59029",
   "metadata": {
    "ExecuteTime": {
     "end_time": "2024-06-09T12:30:10.669587Z",
     "start_time": "2024-06-09T12:16:50.665804Z"
    }
   },
   "outputs": [],
   "source": [
    "# 模型预测\n",
    "result = [] \n",
    "for i in range(0,33):\n",
    "    best_model = tf.keras.models.load_model('D:/codeFile/jupyterDemo/3d_ts/BPNN/model/new_0-2000m_24.6.6/CNN/temp/model1/CNN_temp_'+str(depth[i])+'m.h5')\n",
    "    #print('预测第'+str(depth[i]+'m的温度')\n",
    "    testPred = best_model.predict(x_test)\n",
    "    result.append(testPred)"
   ]
  },
  {
   "cell_type": "code",
   "execution_count": 104,
   "id": "86d025e0",
   "metadata": {
    "ExecuteTime": {
     "end_time": "2024-06-09T12:44:20.454207Z",
     "start_time": "2024-06-09T12:44:20.384320Z"
    }
   },
   "outputs": [
    {
     "name": "stdout",
     "output_type": "stream",
     "text": [
      "(33, 1216704, 1)\n",
      "(1216704, 1, 33)\n",
      "(1216704, 33)\n"
     ]
    }
   ],
   "source": [
    "result = np.array(result)\n",
    "print(result.shape)\n",
    "result = np.transpose(result,(1,2,0))\n",
    "print(result.shape)\n",
    "result = result.reshape(-1,33)\n",
    "print(result.shape)"
   ]
  },
  {
   "cell_type": "code",
   "execution_count": 105,
   "id": "27529e8f",
   "metadata": {
    "ExecuteTime": {
     "end_time": "2024-06-09T12:44:24.327749Z",
     "start_time": "2024-06-09T12:44:24.324754Z"
    }
   },
   "outputs": [],
   "source": [
    "#np.save(\"model/CNN/result/result_CNN_CBAM_30_1000m.npy\",result)\n",
    "# result= np.load(\"model/CNN/result/result_CNN_CBAM_30_1000m.npy\")"
   ]
  },
  {
   "cell_type": "markdown",
   "id": "f1cbce78",
   "metadata": {},
   "source": [
    "## 对预测结果进行反归一化"
   ]
  },
  {
   "cell_type": "code",
   "execution_count": 84,
   "id": "b30f0e63",
   "metadata": {
    "ExecuteTime": {
     "end_time": "2023-12-30T06:37:47.770562Z",
     "start_time": "2023-12-30T06:37:47.766568Z"
    }
   },
   "outputs": [],
   "source": [
    "#y_test = y_test.reshape(-1,15)"
   ]
  },
  {
   "cell_type": "code",
   "execution_count": 108,
   "id": "50f64c33",
   "metadata": {
    "ExecuteTime": {
     "end_time": "2024-06-09T12:46:06.234259Z",
     "start_time": "2024-06-09T12:46:06.229267Z"
    }
   },
   "outputs": [
    {
     "data": {
      "text/plain": [
       "((1216704, 33), (1216704, 33))"
      ]
     },
     "execution_count": 108,
     "metadata": {},
     "output_type": "execute_result"
    }
   ],
   "source": [
    "result.shape,y_test.shape "
   ]
  },
  {
   "cell_type": "code",
   "execution_count": 109,
   "id": "ad4c1c86",
   "metadata": {
    "ExecuteTime": {
     "end_time": "2024-06-09T12:46:18.916197Z",
     "start_time": "2024-06-09T12:46:18.426983Z"
    }
   },
   "outputs": [],
   "source": [
    "result_unscaled = scaler_l.inverse_transform(result)\n",
    "y_test_unscaled = scaler_l.inverse_transform(y_test)"
   ]
  },
  {
   "cell_type": "code",
   "execution_count": 110,
   "id": "40fde36d",
   "metadata": {
    "ExecuteTime": {
     "end_time": "2024-06-09T12:48:11.320980Z",
     "start_time": "2024-06-09T12:48:11.315987Z"
    }
   },
   "outputs": [
    {
     "data": {
      "text/plain": [
       "((1216704, 33), (1216704, 33))"
      ]
     },
     "execution_count": 110,
     "metadata": {},
     "output_type": "execute_result"
    }
   ],
   "source": [
    "result_unscaled.shape,y_test_unscaled.shape "
   ]
  },
  {
   "cell_type": "markdown",
   "id": "1f2b42fb",
   "metadata": {},
   "source": [
    "## 评估反归一化之后的结果"
   ]
  },
  {
   "cell_type": "code",
   "execution_count": 111,
   "id": "ff8346d7",
   "metadata": {
    "ExecuteTime": {
     "end_time": "2024-06-09T12:48:16.958372Z",
     "start_time": "2024-06-09T12:48:15.155271Z"
    },
    "collapsed": true
   },
   "outputs": [
    {
     "name": "stdout",
     "output_type": "stream",
     "text": [
      "5m R² score: 0.9985896326710891\n",
      "10m R² score: 0.9982757360782517\n",
      "15m R² score: 0.9970719169214098\n",
      "20m R² score: 0.996487482247341\n",
      "30m R² score: 0.992056257475088\n",
      "40m R² score: 0.9876849710729833\n",
      "50m R² score: 0.9822870224365073\n",
      "60m R² score: 0.9786403129121505\n",
      "70m R² score: 0.9766988751609851\n",
      "80m R² score: 0.9668860836506968\n",
      "90m R² score: 0.9697372752403235\n",
      "100m R² score: 0.9687788222064719\n",
      "125m R² score: 0.9621824862744751\n",
      "150m R² score: 0.9593204922640667\n",
      "175m R² score: 0.9616965355843076\n",
      "200m R² score: 0.9637045752439727\n",
      "225m R² score: 0.968414446296587\n",
      "250m R² score: 0.9677128195557194\n",
      "275m R² score: 0.9698990029293602\n",
      "300m R² score: 0.9697267626290519\n",
      "350m R² score: 0.9662430194711149\n",
      "400m R² score: 0.9633746565033106\n",
      "500m R² score: 0.9630416544024337\n",
      "600m R² score: 0.9609044308229127\n",
      "700m R² score: 0.9649400816795359\n",
      "800m R² score: 0.9684546233462398\n",
      "900m R² score: 0.9699589374450002\n",
      "1000m R² score: 0.970413308676669\n",
      "1100m R² score: 0.9672736620696382\n",
      "1300m R² score: 0.9647485271135097\n",
      "1500m R² score: 0.953935128723518\n",
      "1750m R² score: 0.9661339562061968\n",
      "2000m R² score: 0.9417725672461196\n"
     ]
    }
   ],
   "source": [
    "for i in range(0,33):\n",
    "    r2 = r2_score(y_test_unscaled[:,i],result_unscaled[:,i])\n",
    "    print(str(depth[i])+'m R² score:',r2)"
   ]
  },
  {
   "cell_type": "code",
   "execution_count": 112,
   "id": "82c8c8f3",
   "metadata": {
    "ExecuteTime": {
     "end_time": "2024-06-09T12:48:19.758871Z",
     "start_time": "2024-06-09T12:48:18.964149Z"
    },
    "collapsed": true
   },
   "outputs": [
    {
     "name": "stdout",
     "output_type": "stream",
     "text": [
      "5m Test mse: 0.094\n",
      "10m Test mse: 0.115\n",
      "15m Test mse: 0.197\n",
      "20m Test mse: 0.237\n",
      "30m Test mse: 0.546\n",
      "40m Test mse: 0.863\n",
      "50m Test mse: 1.234\n",
      "60m Test mse: 1.443\n",
      "70m Test mse: 1.496\n",
      "80m Test mse: 2.011\n",
      "90m Test mse: 1.728\n",
      "100m Test mse: 1.671\n",
      "125m Test mse: 1.670\n",
      "150m Test mse: 1.444\n",
      "175m Test mse: 1.085\n",
      "200m Test mse: 0.840\n",
      "225m Test mse: 0.619\n",
      "250m Test mse: 0.552\n",
      "275m Test mse: 0.459\n",
      "300m Test mse: 0.416\n",
      "350m Test mse: 0.376\n",
      "400m Test mse: 0.323\n",
      "500m Test mse: 0.187\n",
      "600m Test mse: 0.104\n",
      "700m Test mse: 0.052\n",
      "800m Test mse: 0.030\n",
      "900m Test mse: 0.021\n",
      "1000m Test mse: 0.016\n",
      "1100m Test mse: 0.013\n",
      "1300m Test mse: 0.009\n",
      "1500m Test mse: 0.007\n",
      "1750m Test mse: 0.003\n",
      "2000m Test mse: 0.004\n"
     ]
    }
   ],
   "source": [
    "for i in range(0,33):\n",
    "    mse =  mean_squared_error(y_test_unscaled[:,i],result_unscaled[:,i])\n",
    "    print(str(depth[i])+'m Test mse: %.3f' % mse)"
   ]
  },
  {
   "cell_type": "markdown",
   "id": "5aa065c9",
   "metadata": {},
   "source": [
    "# 预测结果可视化"
   ]
  },
  {
   "cell_type": "markdown",
   "id": "12b57477",
   "metadata": {},
   "source": [
    "## 为归一化之后的预测值和真实值填充nan"
   ]
  },
  {
   "cell_type": "code",
   "execution_count": 114,
   "id": "cc20a38d",
   "metadata": {
    "ExecuteTime": {
     "end_time": "2024-06-09T12:50:48.395975Z",
     "start_time": "2024-06-09T12:50:48.390983Z"
    }
   },
   "outputs": [
    {
     "data": {
      "text/plain": [
       "161024"
      ]
     },
     "execution_count": 114,
     "metadata": {},
     "output_type": "execute_result"
    }
   ],
   "source": [
    "len(nan_mask)"
   ]
  },
  {
   "cell_type": "code",
   "execution_count": null,
   "id": "724ff7a9",
   "metadata": {
    "ExecuteTime": {
     "end_time": "2023-12-30T06:31:42.584154Z",
     "start_time": "2023-12-30T06:31:42.584154Z"
    }
   },
   "outputs": [],
   "source": [
    "# cat_data_ss_depth_test = np.transpose(cat_data_ss_depth,(1,2,0,3))\n",
    "# print(cat_data_ss_depth_test.shape)\n",
    "# cat_data_ss_depth_test = cat_data_ss_depth_test.reshape ((-1,132*20))\n",
    "# print(cat_data_ss_depth_test.shape)"
   ]
  },
  {
   "cell_type": "code",
   "execution_count": null,
   "id": "0e2458bd",
   "metadata": {
    "ExecuteTime": {
     "end_time": "2023-12-30T06:31:42.585152Z",
     "start_time": "2023-12-30T06:31:42.585152Z"
    }
   },
   "outputs": [],
   "source": [
    "# cat_data_ss_depth_test[cat_data_ss_depth_test == 32767] = np.nan\n",
    "# print('cat_data_ss_depth_test删除nan值之前',cat_data_ss_depth_test.shape)\n",
    "# # 使用 numpy.isnan 函数检测NaN值\n",
    "# nan_mask = np.isnan(cat_data_ss_depth_test)"
   ]
  },
  {
   "cell_type": "code",
   "execution_count": null,
   "id": "b98ee998",
   "metadata": {
    "ExecuteTime": {
     "end_time": "2023-12-30T06:31:42.586151Z",
     "start_time": "2023-12-30T06:31:42.586151Z"
    }
   },
   "outputs": [],
   "source": [
    "# nan_mask[nan_mask.any(axis=1) == True] = True   # nan为True,只要有一个通道存在nan,就都设置为nan\n",
    "# nan_masks = nan_mask[:,1]    #得到图像的masks"
   ]
  },
  {
   "cell_type": "code",
   "execution_count": 115,
   "id": "c129cf08",
   "metadata": {
    "ExecuteTime": {
     "end_time": "2024-06-09T12:51:12.017902Z",
     "start_time": "2024-06-09T12:51:11.606564Z"
    }
   },
   "outputs": [
    {
     "name": "stdout",
     "output_type": "stream",
     "text": [
      "(161024, 396)\n",
      "(161024, 396)\n"
     ]
    }
   ],
   "source": [
    "### 创建一个形状与nan_masks相同且全是nan的数组\n",
    "testPred_with_nan = np.full((161024,12*33), np.nan)  \n",
    "print(testPred_with_nan.shape)\n",
    "\n",
    "y_test_with_nan = np.full((161024,12*33), np.nan)  \n",
    "print(y_test_with_nan.shape)"
   ]
  },
  {
   "cell_type": "code",
   "execution_count": 116,
   "id": "505873d6",
   "metadata": {
    "ExecuteTime": {
     "end_time": "2024-06-09T12:52:46.078877Z",
     "start_time": "2024-06-09T12:52:45.869214Z"
    }
   },
   "outputs": [
    {
     "name": "stdout",
     "output_type": "stream",
     "text": [
      "(12, 101392, 33)\n",
      "(101392, 12, 33)\n",
      "(101392, 396)\n",
      "(12, 101392, 33)\n",
      "(101392, 12, 33)\n",
      "(101392, 396)\n"
     ]
    }
   ],
   "source": [
    "result_unscaled_reshape = result_unscaled.reshape(12,-1,33)\n",
    "print(result_unscaled_reshape.shape)\n",
    "result_unscaled_reshape = np.transpose(result_unscaled_reshape,(1,0,2))\n",
    "print(result_unscaled_reshape.shape)\n",
    "result_unscaled_reshape = result_unscaled_reshape.reshape(-1,12*33)\n",
    "print(result_unscaled_reshape.shape)\n",
    "\n",
    "# ==================================================================== #\n",
    "\n",
    "y_test_unscaled_reshape = y_test_unscaled.reshape(12,-1,33)\n",
    "print(y_test_unscaled_reshape.shape)\n",
    "y_test_unscaled_reshape = np.transpose(y_test_unscaled_reshape,(1,0,2))\n",
    "print(y_test_unscaled_reshape.shape)\n",
    "y_test_unscaled_reshape = y_test_unscaled_reshape.reshape(-1,12*33)\n",
    "print(y_test_unscaled_reshape.shape)"
   ]
  },
  {
   "cell_type": "code",
   "execution_count": 117,
   "id": "4a8c685d",
   "metadata": {
    "ExecuteTime": {
     "end_time": "2024-06-09T12:53:47.499752Z",
     "start_time": "2024-06-09T12:53:47.494760Z"
    }
   },
   "outputs": [
    {
     "data": {
      "text/plain": [
       "(1216704, 33)"
      ]
     },
     "execution_count": 117,
     "metadata": {},
     "output_type": "execute_result"
    }
   ],
   "source": [
    "y_test_unscaled.shape "
   ]
  },
  {
   "cell_type": "code",
   "execution_count": 118,
   "id": "9a971489",
   "metadata": {
    "ExecuteTime": {
     "end_time": "2024-06-09T12:55:39.223849Z",
     "start_time": "2024-06-09T12:55:38.980240Z"
    }
   },
   "outputs": [
    {
     "name": "stdout",
     "output_type": "stream",
     "text": [
      "101392\n"
     ]
    }
   ],
   "source": [
    "num = 0\n",
    "for i,nanmask in enumerate(nan_mask):   # i从0开始\n",
    "\n",
    "    if (nanmask ==True): # True 代表没有nan，使用预测值进行填充\n",
    "        testPred_with_nan[i] = result_unscaled_reshape[num]\n",
    "        y_test_with_nan[i] = y_test_unscaled_reshape[num]\n",
    "        num = num + 1\n",
    "        \n",
    "print(num)"
   ]
  },
  {
   "cell_type": "code",
   "execution_count": 119,
   "id": "faf4185c",
   "metadata": {
    "ExecuteTime": {
     "end_time": "2024-06-09T12:55:46.165274Z",
     "start_time": "2024-06-09T12:55:46.160282Z"
    }
   },
   "outputs": [
    {
     "name": "stdout",
     "output_type": "stream",
     "text": [
      "(12, 33, 272, 592) (12, 33, 272, 592)\n"
     ]
    }
   ],
   "source": [
    "testPred_with_nan = testPred_with_nan.reshape(272, 592,12,33)\n",
    "testPred_with_nan = np.transpose(testPred_with_nan,(2,3,0,1))\n",
    "\n",
    "\n",
    "y_test_with_nan = y_test_with_nan.reshape(272, 592,12,33)\n",
    "y_test_with_nan = np.transpose(y_test_with_nan,(2,3,0,1))\n",
    "\n",
    "print(testPred_with_nan.shape,y_test_with_nan.shape)"
   ]
  },
  {
   "cell_type": "markdown",
   "id": "b6dfa8f2",
   "metadata": {
    "ExecuteTime": {
     "end_time": "2023-10-06T13:07:37.341964Z",
     "start_time": "2023-10-06T13:07:37.302028Z"
    }
   },
   "source": [
    "# 结果可视化"
   ]
  },
  {
   "cell_type": "code",
   "execution_count": 120,
   "id": "347081c6",
   "metadata": {
    "ExecuteTime": {
     "end_time": "2024-06-09T12:55:50.031526Z",
     "start_time": "2024-06-09T12:55:50.028519Z"
    }
   },
   "outputs": [],
   "source": [
    "lat = []\n",
    "lon = []\n",
    "time = []"
   ]
  },
  {
   "cell_type": "code",
   "execution_count": 121,
   "id": "8a6cb507",
   "metadata": {
    "ExecuteTime": {
     "end_time": "2024-06-09T12:55:51.444448Z",
     "start_time": "2024-06-09T12:55:51.440454Z"
    }
   },
   "outputs": [],
   "source": [
    "lon.append(data_ssh['lon'][4:-4].data)\n",
    "lat.append(data_ssh['lat'][4:-4].data)"
   ]
  },
  {
   "cell_type": "code",
   "execution_count": 122,
   "id": "478dda8c",
   "metadata": {
    "ExecuteTime": {
     "end_time": "2024-06-09T12:55:53.188310Z",
     "start_time": "2024-06-09T12:55:53.183318Z"
    }
   },
   "outputs": [
    {
     "data": {
      "text/plain": [
       "(1, 272, 1, 592)"
      ]
     },
     "execution_count": 122,
     "metadata": {},
     "output_type": "execute_result"
    }
   ],
   "source": [
    "len(lat),len(lat[0]),len(lon),len(lon[0])"
   ]
  },
  {
   "cell_type": "code",
   "execution_count": 123,
   "id": "fa3a8f00",
   "metadata": {
    "ExecuteTime": {
     "end_time": "2024-06-09T12:55:54.664936Z",
     "start_time": "2024-06-09T12:55:54.659944Z"
    }
   },
   "outputs": [],
   "source": [
    "start_year = 2015\n",
    "end_year =2015\n",
    "time = []\n",
    "date_range = pd.date_range(datetime(start_year,1,1),datetime(end_year+1,1,1),freq='1M')\n",
    "len(date_range)\n",
    "for i in range(len(date_range)):\n",
    "    time.append(i)"
   ]
  },
  {
   "cell_type": "code",
   "execution_count": 124,
   "id": "ad1f5fd4",
   "metadata": {
    "ExecuteTime": {
     "end_time": "2024-06-09T12:55:55.183103Z",
     "start_time": "2024-06-09T12:55:55.178111Z"
    }
   },
   "outputs": [
    {
     "data": {
      "text/plain": [
       "[0, 1, 2, 3, 4, 5, 6, 7, 8, 9, 10, 11]"
      ]
     },
     "execution_count": 124,
     "metadata": {},
     "output_type": "execute_result"
    }
   ],
   "source": [
    "time "
   ]
  },
  {
   "cell_type": "code",
   "execution_count": 128,
   "id": "e56a1771",
   "metadata": {
    "ExecuteTime": {
     "end_time": "2023-12-30T07:03:19.367924Z",
     "start_time": "2023-12-30T07:03:19.363930Z"
    }
   },
   "outputs": [],
   "source": [
    "# new_NC.close()"
   ]
  },
  {
   "cell_type": "code",
   "execution_count": 126,
   "id": "a4751334",
   "metadata": {
    "ExecuteTime": {
     "end_time": "2024-06-09T12:57:10.407360Z",
     "start_time": "2024-06-09T12:57:08.868733Z"
    }
   },
   "outputs": [],
   "source": [
    "new_NC = nc.Dataset(\"D:/codeFile/jupyterDemo/3d_ts/BPNN/model/new_0-2000m_24.6.6/CNN/temp/result/model1/result5_2000m_CNN_CBAM.nc\",\n",
    "                    'w', format='NETCDF4')\n",
    "\n",
    "'''\n",
    "定义维度，后一个参数表示维度的长度，因为是合并的同一个产品的数据，所以是统一\n",
    "的,注意维度的长度一定要和读入的数据匹配\n",
    "'''\n",
    "\n",
    "new_NC.createDimension('lat', len(lat[0]))\n",
    "new_NC.createDimension('lon', len(lon[0]))\n",
    "# new_NC.createDimension('Observed_ST', len(y_test_with_nan))\n",
    "# new_NC.createDimension('Estimated_ST', len(testPred_with_nan))\n",
    "\n",
    "new_NC.createDimension('depth', 33)\n",
    "new_NC.createDimension('time', len(time))\n",
    "\n",
    "new_NC.createVariable('lat', 'f', (\"lat\"))\n",
    "new_NC.createVariable('lon', 'f', (\"lon\"))\n",
    "new_NC.createVariable('depth', 'f', (\"depth\"))\n",
    "new_NC.createVariable('Observed_ST', 'f',(\"time\",\"depth\",\"lat\",\"lon\"))\n",
    "new_NC.createVariable('Estimated_ST', 'f',(\"time\",\"depth\",\"lat\",\"lon\"))\n",
    "\n",
    "time_var = new_NC.createVariable('time', 'f4',(\"time\"))\n",
    "time_var.units = 'months since 2015-01-15'\n",
    "time_var.long_name = 'Months in Monthly Means'\n",
    "time_var.axis = 'T'\n",
    "\n",
    "#向变量中填充数据\n",
    "new_NC.variables['lat'][:] = lat[0]\n",
    "new_NC.variables['lon'][:] = lon[0]\n",
    "new_NC.variables['time'][:] = np.array(time)\n",
    "new_NC.variables['depth'][:] = depth\n",
    "\n",
    "new_NC.variables['Observed_ST'][:]=np.array(y_test_with_nan)\n",
    "new_NC.variables['Estimated_ST'][:]=np.array(testPred_with_nan)\n",
    "\n",
    "\n",
    "#最后记得关闭文件\n",
    "new_NC.close()\n"
   ]
  },
  {
   "cell_type": "code",
   "execution_count": null,
   "id": "29f796bb",
   "metadata": {
    "ExecuteTime": {
     "end_time": "2023-12-30T06:31:42.596135Z",
     "start_time": "2023-12-30T06:31:42.595136Z"
    }
   },
   "outputs": [],
   "source": [
    "depth"
   ]
  },
  {
   "cell_type": "code",
   "execution_count": null,
   "id": "1379295b",
   "metadata": {},
   "outputs": [],
   "source": []
  }
 ],
 "metadata": {
  "kernelspec": {
   "display_name": "Python [conda env:python] *",
   "language": "python",
   "name": "conda-env-python-py"
  },
  "language_info": {
   "codemirror_mode": {
    "name": "ipython",
    "version": 3
   },
   "file_extension": ".py",
   "mimetype": "text/x-python",
   "name": "python",
   "nbconvert_exporter": "python",
   "pygments_lexer": "ipython3",
   "version": "3.8.17"
  },
  "toc": {
   "base_numbering": 1,
   "nav_menu": {},
   "number_sections": true,
   "sideBar": true,
   "skip_h1_title": false,
   "title_cell": "Table of Contents",
   "title_sidebar": "Contents",
   "toc_cell": false,
   "toc_position": {
    "height": "calc(100% - 180px)",
    "left": "10px",
    "top": "150px",
    "width": "289.588px"
   },
   "toc_section_display": true,
   "toc_window_display": true
  }
 },
 "nbformat": 4,
 "nbformat_minor": 5
}
