{
 "cells": [
  {
   "cell_type": "code",
   "execution_count": 1,
   "id": "24cc7c46",
   "metadata": {
    "ExecuteTime": {
     "end_time": "2024-06-14T03:49:09.797334Z",
     "start_time": "2024-06-14T03:48:47.104423Z"
    },
    "code_folding": [
     0
    ]
   },
   "outputs": [],
   "source": [
    "#导包\n",
    "from netCDF4 import Dataset\n",
    "from tensorflow.keras import layers, models\n",
    "from tensorflow.keras.layers import ConvLSTM2D,LSTM, BatchNormalization, LayerNormalization,Input, Conv3D, TimeDistributed, Flatten\n",
    "from tensorflow.keras.layers import Concatenate,Conv2D,TimeDistributed, MaxPooling2D, Input, MaxPooling3D\n",
    "from tensorflow.keras.layers import  Reshape,multiply\n",
    "from tensorflow.keras.layers import Layer,Lambda,Dot,ReLU, Dense, Dropout, Activation, Flatten,Attention\n",
    "from tensorflow.keras.utils import plot_model\n",
    "from tensorflow.keras.models import Sequential,Model,load_model\n",
    "from tensorflow.keras.optimizers import Adam,SGD\n",
    "from sklearn.model_selection import train_test_split\n",
    "from tensorflow.keras.callbacks import EarlyStopping, ModelCheckpoint\n",
    "from sklearn.preprocessing import MinMaxScaler, StandardScaler\n",
    "from tensorflow.keras.losses import MeanSquaredError\n",
    "from sklearn.metrics import r2_score,accuracy_score,precision_score\n",
    "from tensorflow.keras.metrics import RootMeanSquaredError\n",
    "from tensorflow.keras import regularizers\n",
    "import tensorflow as tf\n",
    "from datetime import datetime\n",
    "from sklearn.model_selection import cross_val_score\n",
    "from sklearn.model_selection import GridSearchCV\n",
    "from tensorflow.keras import models, layers\n",
    "from tensorflow.keras.wrappers.scikit_learn import KerasRegressor\n",
    "import tensorflow.keras as keras\n",
    "from tensorflow.keras import layers, Sequential, regularizers\n",
    "# calculate RMSE\n",
    "from sklearn.metrics import mean_squared_error\n",
    "from math import sqrt\n",
    "import pandas as pd \n",
    "import tensorflow as tf\n",
    "import gc \n",
    "import gzip\n",
    "import matplotlib.pyplot as plt\n",
    "import numpy as np\n",
    "import netCDF4 as nc\n",
    "import match\n",
    "import numpy as np\n",
    "import matplotlib.pyplot as plt\n",
    "import xarray as xr\n",
    "import os \n",
    "%matplotlib inline"
   ]
  },
  {
   "cell_type": "code",
   "execution_count": 2,
   "id": "619adb84",
   "metadata": {
    "ExecuteTime": {
     "end_time": "2024-06-14T03:49:10.673924Z",
     "start_time": "2024-06-14T03:49:09.799331Z"
    }
   },
   "outputs": [
    {
     "data": {
      "text/plain": [
       "1"
      ]
     },
     "execution_count": 2,
     "metadata": {},
     "output_type": "execute_result"
    }
   ],
   "source": [
    "# 检查可用GPU数量\n",
    "len(tf.config.experimental.list_physical_devices('GPU'))"
   ]
  },
  {
   "cell_type": "markdown",
   "id": "f580b19d",
   "metadata": {},
   "source": [
    "# 读取数据"
   ]
  },
  {
   "cell_type": "markdown",
   "id": "a969a48c",
   "metadata": {},
   "source": [
    "## SSH"
   ]
  },
  {
   "cell_type": "code",
   "execution_count": 3,
   "id": "a2879bf4",
   "metadata": {
    "ExecuteTime": {
     "end_time": "2024-06-14T03:49:10.908546Z",
     "start_time": "2024-06-14T03:49:10.674922Z"
    }
   },
   "outputs": [],
   "source": [
    "data_ssh = nc.Dataset(r'D:/codeFile/jupyterDemo/3d_ts/BPNN/data/SSH/SSH_2005-2015_month.nc')"
   ]
  },
  {
   "cell_type": "code",
   "execution_count": 4,
   "id": "8d073208",
   "metadata": {
    "ExecuteTime": {
     "end_time": "2024-06-14T03:49:10.944488Z",
     "start_time": "2024-06-14T03:49:10.910543Z"
    }
   },
   "outputs": [
    {
     "name": "stdout",
     "output_type": "stream",
     "text": [
      "132\n"
     ]
    }
   ],
   "source": [
    "time_ssh = data_ssh['time'][:]\n",
    "print(len(time_ssh))"
   ]
  },
  {
   "cell_type": "code",
   "execution_count": 5,
   "id": "601b1b6d",
   "metadata": {
    "ExecuteTime": {
     "end_time": "2024-06-14T03:49:10.949480Z",
     "start_time": "2024-06-14T03:49:10.945487Z"
    },
    "scrolled": false
   },
   "outputs": [],
   "source": [
    "# 查看研究区域经纬度\n",
    "ssh_lat = data_ssh['lat'][:].data\n",
    "#print(ssh_lat[:])\n",
    "ssh_lon = data_ssh['lon'][:].data\n",
    "#print(ssh_lon[:])"
   ]
  },
  {
   "cell_type": "code",
   "execution_count": 6,
   "id": "e1e7d608",
   "metadata": {
    "ExecuteTime": {
     "end_time": "2024-06-14T03:49:11.096244Z",
     "start_time": "2024-06-14T03:49:10.950478Z"
    }
   },
   "outputs": [
    {
     "name": "stdout",
     "output_type": "stream",
     "text": [
      "(132, 280, 600)\n"
     ]
    }
   ],
   "source": [
    "ssh = data_ssh['ssh'][:].data\n",
    "print(ssh.shape)"
   ]
  },
  {
   "cell_type": "code",
   "execution_count": 7,
   "id": "0c26b86a",
   "metadata": {
    "ExecuteTime": {
     "end_time": "2024-06-14T03:49:11.165133Z",
     "start_time": "2024-06-14T03:49:11.097242Z"
    }
   },
   "outputs": [
    {
     "data": {
      "text/plain": [
       "(2.20051, -0.43673334)"
      ]
     },
     "execution_count": 7,
     "metadata": {},
     "output_type": "execute_result"
    }
   ],
   "source": [
    "# 查看最大值与最小值\n",
    "np.nanmax(ssh),np.nanmin(ssh)"
   ]
  },
  {
   "cell_type": "markdown",
   "id": "203facec",
   "metadata": {},
   "source": [
    "## SSS"
   ]
  },
  {
   "cell_type": "code",
   "execution_count": 8,
   "id": "7fde41f7",
   "metadata": {
    "ExecuteTime": {
     "end_time": "2024-06-14T03:49:11.187097Z",
     "start_time": "2024-06-14T03:49:11.166131Z"
    }
   },
   "outputs": [],
   "source": [
    "data_sss = nc.Dataset(r'D:/codeFile/jupyterDemo/3d_ts/BPNN/data/SSS/dataset-sss-ssd-rep-monthly_2005-2020.nc')"
   ]
  },
  {
   "cell_type": "code",
   "execution_count": 9,
   "id": "97c14ff6",
   "metadata": {
    "ExecuteTime": {
     "end_time": "2024-06-14T03:49:11.204070Z",
     "start_time": "2024-06-14T03:49:11.188096Z"
    }
   },
   "outputs": [
    {
     "name": "stdout",
     "output_type": "stream",
     "text": [
      "132\n"
     ]
    }
   ],
   "source": [
    "# 确定时间\n",
    "time_sss = data_sss['time'][:132]\n",
    "print(len(time_sss))"
   ]
  },
  {
   "cell_type": "code",
   "execution_count": 10,
   "id": "463ec7e5",
   "metadata": {
    "ExecuteTime": {
     "end_time": "2024-06-14T03:49:11.211059Z",
     "start_time": "2024-06-14T03:49:11.206067Z"
    }
   },
   "outputs": [],
   "source": [
    "# 获取研究位置经纬度\n",
    "sss_lat = data_sss['lat'][:].data\n",
    "#print(sss_lat[:])\n",
    "sss_lon = data_sss['lon'][:].data\n",
    "#print(sss_lon[:])"
   ]
  },
  {
   "cell_type": "code",
   "execution_count": 11,
   "id": "778ef529",
   "metadata": {
    "ExecuteTime": {
     "end_time": "2024-06-14T03:49:11.375794Z",
     "start_time": "2024-06-14T03:49:11.212057Z"
    }
   },
   "outputs": [
    {
     "name": "stdout",
     "output_type": "stream",
     "text": [
      "(132, 1, 280, 600)\n",
      "(132, 280, 600)\n"
     ]
    }
   ],
   "source": [
    "sss = data_sss['sos'][:132].data \n",
    "print(sss.shape)\n",
    "sss = np.squeeze(sss) # 移除大小为一的维度\n",
    "print(sss.shape)"
   ]
  },
  {
   "cell_type": "code",
   "execution_count": 12,
   "id": "b1e08930",
   "metadata": {
    "ExecuteTime": {
     "end_time": "2024-06-14T03:49:11.443685Z",
     "start_time": "2024-06-14T03:49:11.376792Z"
    }
   },
   "outputs": [
    {
     "data": {
      "text/plain": [
       "(36.072178, 13.604756)"
      ]
     },
     "execution_count": 12,
     "metadata": {},
     "output_type": "execute_result"
    }
   ],
   "source": [
    "# 查看最大值，最小值\n",
    "np.nanmax(sss),np.nanmin(sss)"
   ]
  },
  {
   "cell_type": "markdown",
   "id": "12d5c8e2",
   "metadata": {},
   "source": [
    "## SSW"
   ]
  },
  {
   "cell_type": "code",
   "execution_count": 13,
   "id": "d026b883",
   "metadata": {
    "ExecuteTime": {
     "end_time": "2024-06-14T03:49:11.492606Z",
     "start_time": "2024-06-14T03:49:11.444683Z"
    }
   },
   "outputs": [],
   "source": [
    "data_ssw = nc.Dataset(r'D:/codeFile/jupyterDemo/3d_ts/BPNN/data/SSW/anon_ssw_2005_2018_Month_data.nc')"
   ]
  },
  {
   "cell_type": "code",
   "execution_count": 14,
   "id": "a09f6f8d",
   "metadata": {
    "ExecuteTime": {
     "end_time": "2024-06-14T03:49:11.498596Z",
     "start_time": "2024-06-14T03:49:11.493604Z"
    }
   },
   "outputs": [
    {
     "name": "stdout",
     "output_type": "stream",
     "text": [
      "132\n"
     ]
    }
   ],
   "source": [
    "# 确定时间\n",
    "time_ssw = data_ssw['time'][:132]\n",
    "print(len(time_ssw))"
   ]
  },
  {
   "cell_type": "code",
   "execution_count": 15,
   "id": "447b145c",
   "metadata": {
    "ExecuteTime": {
     "end_time": "2024-06-14T03:49:11.502603Z",
     "start_time": "2024-06-14T03:49:11.499595Z"
    }
   },
   "outputs": [],
   "source": [
    "lat_ssw = data_ssw['lat'][:].data\n",
    "#print(lat_ssw[314:594])\n",
    "lon_ssw = data_ssw['lon'][:].data\n",
    "#print(lon_ssw[440:1040])\n",
    "\n",
    "# lat 0.125    ----    69.875\n",
    "# lon  110.125    ----    259.875"
   ]
  },
  {
   "cell_type": "code",
   "execution_count": 16,
   "id": "68eef6fa",
   "metadata": {
    "ExecuteTime": {
     "end_time": "2024-06-14T03:49:12.931698Z",
     "start_time": "2024-06-14T03:49:11.503589Z"
    }
   },
   "outputs": [],
   "source": [
    "uwnd = data_ssw['uwnd'][:132,314:594,440:1040].data  \n",
    "vwnd = data_ssw['vwnd'][:132,314:594,440:1040].data"
   ]
  },
  {
   "cell_type": "code",
   "execution_count": 17,
   "id": "83cf7d8a",
   "metadata": {
    "ExecuteTime": {
     "end_time": "2024-06-14T03:49:12.936690Z",
     "start_time": "2024-06-14T03:49:12.932697Z"
    }
   },
   "outputs": [
    {
     "name": "stdout",
     "output_type": "stream",
     "text": [
      "(132, 280, 600)\n",
      "(132, 280, 600)\n"
     ]
    }
   ],
   "source": [
    "print(uwnd.shape)\n",
    "print(vwnd.shape)"
   ]
  },
  {
   "cell_type": "code",
   "execution_count": 18,
   "id": "c5c8a2cd",
   "metadata": {
    "ExecuteTime": {
     "end_time": "2024-06-14T03:49:12.997592Z",
     "start_time": "2024-06-14T03:49:12.937689Z"
    }
   },
   "outputs": [
    {
     "data": {
      "text/plain": [
       "(12.433594, -11.7988205, 8.8359995, -13.645481)"
      ]
     },
     "execution_count": 18,
     "metadata": {},
     "output_type": "execute_result"
    }
   ],
   "source": [
    "np.nanmax(uwnd),np.nanmin(uwnd),np.nanmax(vwnd),np.nanmin(vwnd)"
   ]
  },
  {
   "cell_type": "markdown",
   "id": "4334792f",
   "metadata": {},
   "source": [
    "## SST 海表面温度"
   ]
  },
  {
   "cell_type": "code",
   "execution_count": 19,
   "id": "e02ac03d",
   "metadata": {
    "ExecuteTime": {
     "end_time": "2024-06-14T03:49:13.031537Z",
     "start_time": "2024-06-14T03:49:12.998591Z"
    }
   },
   "outputs": [],
   "source": [
    "data_3dt_1 = nc.Dataset(r'D:/codeFile/jupyterDemo/3d_ts/BPNN/data/3DT/dataset-armor-3d-rep-monthly_2005-2009.nc')\n",
    "data_3dt_2 = nc.Dataset(r'D:/codeFile/jupyterDemo/3d_ts/BPNN/data/3DT/dataset-armor-3d-rep-monthly_2010-2015.nc')"
   ]
  },
  {
   "cell_type": "code",
   "execution_count": 20,
   "id": "c15b88bd",
   "metadata": {
    "ExecuteTime": {
     "end_time": "2024-06-14T03:49:27.206932Z",
     "start_time": "2024-06-14T03:49:13.032536Z"
    }
   },
   "outputs": [],
   "source": [
    "sst_1 = data_3dt_1['to'][:].data\n",
    "sst_2 = data_3dt_2['to'][:].data"
   ]
  },
  {
   "cell_type": "code",
   "execution_count": 21,
   "id": "96f1a109",
   "metadata": {
    "ExecuteTime": {
     "end_time": "2024-06-14T03:49:27.211924Z",
     "start_time": "2024-06-14T03:49:27.207931Z"
    }
   },
   "outputs": [
    {
     "name": "stdout",
     "output_type": "stream",
     "text": [
      "(60, 43, 280, 600)\n",
      "(72, 43, 280, 600)\n"
     ]
    }
   ],
   "source": [
    "print(sst_1.shape)\n",
    "print(sst_2.shape)"
   ]
  },
  {
   "cell_type": "code",
   "execution_count": 22,
   "id": "aad4e347",
   "metadata": {
    "ExecuteTime": {
     "end_time": "2024-06-14T03:49:30.093289Z",
     "start_time": "2024-06-14T03:49:27.212922Z"
    }
   },
   "outputs": [
    {
     "name": "stdout",
     "output_type": "stream",
     "text": [
      "(132, 43, 280, 600)\n"
     ]
    }
   ],
   "source": [
    "temp_depth = np.append(sst_1,sst_2,axis=0)\n",
    "print(temp_depth.shape)"
   ]
  },
  {
   "cell_type": "code",
   "execution_count": 23,
   "id": "c8b1541f",
   "metadata": {
    "ExecuteTime": {
     "end_time": "2024-06-14T03:49:30.098281Z",
     "start_time": "2024-06-14T03:49:30.094288Z"
    }
   },
   "outputs": [
    {
     "name": "stdout",
     "output_type": "stream",
     "text": [
      "(132, 280, 600)\n"
     ]
    }
   ],
   "source": [
    "sst = temp_depth[:,0:1,:,:]\n",
    "sst = np.squeeze(sst)\n",
    "print(sst.shape)"
   ]
  },
  {
   "cell_type": "markdown",
   "id": "97b27988",
   "metadata": {},
   "source": [
    "## 3DS"
   ]
  },
  {
   "cell_type": "code",
   "execution_count": 24,
   "id": "4aec4e87",
   "metadata": {
    "ExecuteTime": {
     "end_time": "2024-06-14T03:49:36.213825Z",
     "start_time": "2024-06-14T03:49:30.099279Z"
    }
   },
   "outputs": [
    {
     "name": "stdout",
     "output_type": "stream",
     "text": [
      "(132, 43, 280, 600)\n"
     ]
    }
   ],
   "source": [
    "data_3ds = nc.Dataset(r'D:/codeFile/jupyterDemo/3d_ts/BPNN/data/3DT/sali/3DS_end_2005_2015.nc')\n",
    "sali_depth = data_3ds['so'][:].data\n",
    "print(sali_depth.shape)"
   ]
  },
  {
   "cell_type": "code",
   "execution_count": 25,
   "id": "98f2e6ad",
   "metadata": {
    "ExecuteTime": {
     "end_time": "2024-06-14T03:49:36.220814Z",
     "start_time": "2024-06-14T03:49:36.214824Z"
    }
   },
   "outputs": [],
   "source": [
    "# 所有深度层\n",
    "depths = [0,5,10,15,20,25,30,35,40,45,50,55,60,65,70,80,90,100,125,150,175,200,225,250,275,300,350,400,\n",
    "         450,500,550,600,700,800,900,1000,1100,1200,1300,1400,1500,1750,2000]\n",
    "\n",
    "#选取的深度层\n",
    "depths_use = [10,15,20,30,40,50,60,70,80,90,100,125,150,175,200,225,250,275,300,350,400,\n",
    "              500,600,700,800,900,1000,1100,1300,1500,1750,2000]\n",
    "\n",
    "#[50,100,125,150,200,250,300,400,500,600,700,800,900,1000]\n",
    "\n",
    "#[5,10,15,20,30,40,50,60,70,80,90,100,125,150,175,200,225,250,275,300,350,400,500,600,700,800,900,1000,1100,1300,1500,1750,2000]\n",
    "# 1 2  3  4  5  6  7  8  9 10  11  12  13  14  15  16  17  18 19  20  21   22  23  24  25  26  27  28   29   30   31    32   33"
   ]
  },
  {
   "cell_type": "code",
   "execution_count": 26,
   "id": "340dd8d6",
   "metadata": {
    "ExecuteTime": {
     "end_time": "2024-06-14T03:49:36.225806Z",
     "start_time": "2024-06-14T03:49:36.221813Z"
    }
   },
   "outputs": [],
   "source": [
    "# 使用5m深度的盐度给sali_depth_use 赋值\n",
    "sali_depth_use = sali_depth[:,1:2]"
   ]
  },
  {
   "cell_type": "code",
   "execution_count": 27,
   "id": "a693fa1b",
   "metadata": {
    "ExecuteTime": {
     "end_time": "2024-06-14T03:49:58.450064Z",
     "start_time": "2024-06-14T03:49:36.226805Z"
    }
   },
   "outputs": [],
   "source": [
    "for i,depth in enumerate(depths):\n",
    "    if(depth in depths_use):\n",
    "        #print(depths[i])\n",
    "        sali_depth_use = np.concatenate((sali_depth_use,sali_depth[:,i:i+1]),axis=1)  "
   ]
  },
  {
   "cell_type": "code",
   "execution_count": 28,
   "id": "a271c345",
   "metadata": {
    "ExecuteTime": {
     "end_time": "2024-06-14T03:49:58.459050Z",
     "start_time": "2024-06-14T03:49:58.455057Z"
    }
   },
   "outputs": [
    {
     "name": "stdout",
     "output_type": "stream",
     "text": [
      "(132, 33, 280, 600)\n",
      "(132, 280, 600, 33)\n"
     ]
    }
   ],
   "source": [
    "print(sali_depth_use.shape)\n",
    "sali_depth_use = np.transpose(sali_depth_use, (0,2,3,1))\n",
    "print(sali_depth_use.shape)"
   ]
  },
  {
   "cell_type": "markdown",
   "id": "79fe4126",
   "metadata": {},
   "source": [
    "## 数据合并"
   ]
  },
  {
   "cell_type": "code",
   "execution_count": 29,
   "id": "dd1ca4c6",
   "metadata": {
    "ExecuteTime": {
     "end_time": "2024-06-14T03:49:59.103014Z",
     "start_time": "2024-06-14T03:49:58.460048Z"
    }
   },
   "outputs": [
    {
     "name": "stdout",
     "output_type": "stream",
     "text": [
      "(132, 280, 600) (132, 280, 600) (132, 280, 600) (132, 280, 600) (132, 280, 600)\n"
     ]
    },
    {
     "data": {
      "text/plain": [
       "(132, 280, 600, 5)"
      ]
     },
     "execution_count": 29,
     "metadata": {},
     "output_type": "execute_result"
    }
   ],
   "source": [
    "print(ssh.shape,sst.shape,uwnd.shape,vwnd.shape,sss.shape)\n",
    "cat_data =np.stack((ssh,sst,uwnd,vwnd,sss),axis=3)\n",
    "cat_data.shape"
   ]
  },
  {
   "cell_type": "code",
   "execution_count": 30,
   "id": "31946f16",
   "metadata": {
    "ExecuteTime": {
     "end_time": "2024-06-14T03:50:01.830628Z",
     "start_time": "2024-06-14T03:49:59.104013Z"
    }
   },
   "outputs": [],
   "source": [
    "# 将表面数据和水下数据在最后一个维度拼接，将空值删除。\n",
    "cat_data_ss_depth = np.concatenate((cat_data,sali_depth_use),axis=-1)"
   ]
  },
  {
   "cell_type": "code",
   "execution_count": 31,
   "id": "3f4b2121",
   "metadata": {
    "ExecuteTime": {
     "end_time": "2024-06-14T03:50:01.836619Z",
     "start_time": "2024-06-14T03:50:01.831627Z"
    }
   },
   "outputs": [
    {
     "data": {
      "text/plain": [
       "(132, 280, 600, 38)"
      ]
     },
     "execution_count": 31,
     "metadata": {},
     "output_type": "execute_result"
    }
   ],
   "source": [
    "cat_data_ss_depth.shape "
   ]
  },
  {
   "cell_type": "markdown",
   "id": "b2596fa1",
   "metadata": {},
   "source": [
    "## 将填充值赋值为NAN，且一个点中有一个维度为nan，则将这个点的所有维度都设置为nan \n"
   ]
  },
  {
   "cell_type": "code",
   "execution_count": 32,
   "id": "119f831a",
   "metadata": {
    "ExecuteTime": {
     "end_time": "2024-06-14T03:50:04.379530Z",
     "start_time": "2024-06-14T03:50:01.837617Z"
    },
    "code_folding": []
   },
   "outputs": [
    {
     "name": "stdout",
     "output_type": "stream",
     "text": [
      "(280, 600, 132, 38)\n",
      "(168000, 5016)\n"
     ]
    }
   ],
   "source": [
    "## 先对合并的数据进行reshape成（长*宽，时间*通道），此步骤是为了统一图像， 让所有时间所有深度的图像都相同。\n",
    "cat_data_ss_depth_reshape  = np.transpose(cat_data_ss_depth,(1,2,0,3))\n",
    "print(cat_data_ss_depth_reshape.shape)\n",
    "cat_data_ss_depth_reshape = cat_data_ss_depth_reshape.reshape ((-1,132*38))\n",
    "print(cat_data_ss_depth_reshape.shape)"
   ]
  },
  {
   "cell_type": "code",
   "execution_count": 33,
   "id": "cb75b4fa",
   "metadata": {
    "ExecuteTime": {
     "end_time": "2024-06-14T03:50:06.328396Z",
     "start_time": "2024-06-14T03:50:04.380528Z"
    },
    "code_folding": []
   },
   "outputs": [],
   "source": [
    "# 将填充值赋值为nan\n",
    "cat_data_ss_depth_reshape[cat_data_ss_depth_reshape == 32767] = np.nan\n",
    "nan_mask = np.isnan(cat_data_ss_depth_reshape)"
   ]
  },
  {
   "cell_type": "code",
   "execution_count": 34,
   "id": "53dc0aed",
   "metadata": {
    "ExecuteTime": {
     "end_time": "2024-06-14T03:50:06.386303Z",
     "start_time": "2024-06-14T03:50:06.329394Z"
    }
   },
   "outputs": [
    {
     "data": {
      "text/plain": [
       "63271"
      ]
     },
     "execution_count": 34,
     "metadata": {},
     "output_type": "execute_result"
    }
   ],
   "source": [
    "# 查看nan的个数 63271\n",
    "np.sum(nan_mask.any(axis=1) == True)"
   ]
  },
  {
   "cell_type": "code",
   "execution_count": 35,
   "id": "9d1f0613",
   "metadata": {
    "ExecuteTime": {
     "end_time": "2024-06-14T03:50:06.627914Z",
     "start_time": "2024-06-14T03:50:06.387301Z"
    }
   },
   "outputs": [
    {
     "name": "stdout",
     "output_type": "stream",
     "text": [
      "cat_data_ss_depth_reshape: (168000, 5016)\n"
     ]
    }
   ],
   "source": [
    "# 通过布尔索引删除NaN值。 nan_mask.any(axis=1)==true,只要第一个维度中含有nan就将所有设置为nan。\n",
    "cat_data_ss_depth_reshape[nan_mask.any(axis=1) == True] = np.nan   \n",
    "print('cat_data_ss_depth_reshape:',cat_data_ss_depth_reshape.shape)"
   ]
  },
  {
   "cell_type": "code",
   "execution_count": 36,
   "id": "d989b8a3",
   "metadata": {
    "ExecuteTime": {
     "end_time": "2024-06-14T03:50:06.636900Z",
     "start_time": "2024-06-14T03:50:06.628913Z"
    }
   },
   "outputs": [
    {
     "data": {
      "text/plain": [
       "63271"
      ]
     },
     "execution_count": 36,
     "metadata": {},
     "output_type": "execute_result"
    }
   ],
   "source": [
    "# 查看nan的个数，共有64471。\n",
    "np.sum(np.isnan(cat_data_ss_depth_reshape[:,4])) # 此处写几都可以，得到的nan的数量都是相同的。 "
   ]
  },
  {
   "cell_type": "code",
   "execution_count": 37,
   "id": "e15bafbf",
   "metadata": {
    "ExecuteTime": {
     "end_time": "2024-06-14T03:50:06.642893Z",
     "start_time": "2024-06-14T03:50:06.637898Z"
    },
    "code_folding": []
   },
   "outputs": [
    {
     "name": "stdout",
     "output_type": "stream",
     "text": [
      "(168000, 132, 38)\n",
      "(132, 168000, 38)\n",
      "(132, 280, 600, 38)\n"
     ]
    }
   ],
   "source": [
    "cat_data_ss_depth_reshape = cat_data_ss_depth_reshape.reshape(-1,132,38)\n",
    "print(cat_data_ss_depth_reshape.shape)\n",
    "cat_data_ss_depth_reshape = np.transpose(cat_data_ss_depth_reshape,(1,0,2))\n",
    "print(cat_data_ss_depth_reshape.shape)\n",
    "cat_data_ss_depth_reshape = cat_data_ss_depth_reshape.reshape(-1,280,600,38)\n",
    "print(cat_data_ss_depth_reshape.shape)"
   ]
  },
  {
   "cell_type": "code",
   "execution_count": 38,
   "id": "4b2b2040",
   "metadata": {
    "ExecuteTime": {
     "end_time": "2024-06-14T03:50:06.651876Z",
     "start_time": "2024-06-14T03:50:06.643889Z"
    }
   },
   "outputs": [
    {
     "data": {
      "text/plain": [
       "63271"
      ]
     },
     "execution_count": 38,
     "metadata": {},
     "output_type": "execute_result"
    }
   ],
   "source": [
    "# 确认nan的个数\n",
    "np.sum(np.isnan(cat_data_ss_depth_reshape[1:2,:,:,2:3]))"
   ]
  },
  {
   "cell_type": "markdown",
   "id": "eb31da4f",
   "metadata": {},
   "source": [
    "## 将数据分成小块"
   ]
  },
  {
   "cell_type": "code",
   "execution_count": 39,
   "id": "b2962990",
   "metadata": {
    "ExecuteTime": {
     "end_time": "2024-06-14T03:50:06.656868Z",
     "start_time": "2024-06-14T03:50:06.652874Z"
    }
   },
   "outputs": [
    {
     "name": "stdout",
     "output_type": "stream",
     "text": [
      "(132, 280, 600, 5) (132, 280, 600, 33)\n"
     ]
    }
   ],
   "source": [
    "cat_data_ss = cat_data_ss_depth_reshape[:,:,:,:5]    #表面数据\n",
    "cat_data_depth = cat_data_ss_depth_reshape[:,:,:,5:]  #次表层数据\n",
    "print(cat_data_ss.shape,cat_data_depth.shape)"
   ]
  },
  {
   "cell_type": "code",
   "execution_count": 40,
   "id": "d915c764",
   "metadata": {
    "ExecuteTime": {
     "end_time": "2024-06-14T03:50:06.665853Z",
     "start_time": "2024-06-14T03:50:06.657866Z"
    }
   },
   "outputs": [
    {
     "data": {
      "text/plain": [
       "63271"
      ]
     },
     "execution_count": 40,
     "metadata": {},
     "output_type": "execute_result"
    }
   ],
   "source": [
    "np.sum(np.isnan(cat_data_depth[1:2,:,:,5:6]))"
   ]
  },
  {
   "cell_type": "code",
   "execution_count": 41,
   "id": "a29a94cc",
   "metadata": {
    "ExecuteTime": {
     "end_time": "2024-06-14T03:51:40.699668Z",
     "start_time": "2024-06-14T03:50:06.666852Z"
    },
    "code_folding": []
   },
   "outputs": [
    {
     "name": "stdout",
     "output_type": "stream",
     "text": [
      "time_size: 132 lat_size: 280 lon_size: 600\n",
      "272 592\n",
      "out_data的形状 (132, 272, 592, 9, 9, 5)\n",
      "out_data_y的形状 (132, 272, 592, 33)\n"
     ]
    }
   ],
   "source": [
    "import numpy as np\n",
    "import pandas as pd\n",
    "\n",
    "time_size, lat_size, lon_size, channel = cat_data_ss.shape   # （132，280，600，5）\n",
    "\n",
    "# 定义矩形框的大小和步幅           \n",
    "box_size = 9  # 单位为度\n",
    "step_size = 1  # 滑动步幅\n",
    "\n",
    "# 计算输出网格的形状\n",
    "out_lat_size = (lat_size - box_size) // step_size  + 1 \n",
    "out_lon_size = (lon_size - box_size) // step_size  + 1 \n",
    "\n",
    "print('time_size:',time_size,'lat_size:',lat_size,'lon_size:',lon_size)   #(132 280 600)\n",
    "print(out_lat_size,out_lon_size)  #(272 592)\n",
    "\n",
    "#输出数组 \n",
    "out_data = np.zeros((time_size, out_lat_size , out_lon_size, box_size, box_size, channel)) #(132, 272, 592, 9,9,5)\n",
    "out_data_y = np.zeros((time_size, out_lat_size , out_lon_size, 33)) #(132, 272, 592,15)\n",
    "\n",
    "# 遍历时间步、纬度和经度\n",
    "for t in range(time_size):\n",
    "    sample_idx = 0\n",
    "    for lat in range(0, lat_size - box_size +1, step_size):\n",
    "        for lon in range(0, lon_size - box_size +1, step_size):\n",
    "            # 计算当前矩形框的边界\n",
    "            lat_min = lat\n",
    "            lat_max = lat + box_size\n",
    "            lon_min = lon\n",
    "            lon_max = lon + box_size\n",
    "            #print(lat_min,lat_max,lon_min,lon_max)\n",
    "            # 获取当前矩形框的地图数据\n",
    "            box_data = cat_data_ss[t, lat_min:lat_max, lon_min:lon_max,:]\n",
    "            # 写入数组中\n",
    "#             lat_ = lat//4\n",
    "#             lon_ = lon//4\n",
    "            out_data[t,lat,lon, :, :, :] = box_data\n",
    "            box_data = []\n",
    "            #print(sample_idx)\n",
    "            # 增加样本计数器\n",
    "            sample_idx += 1\n",
    "\n",
    "print('out_data的形状',out_data.shape)\n",
    "#return out_data\n",
    "    \n",
    "#==============================================================================#   \n",
    "\n",
    "# 遍历时间步、纬度和经度\n",
    "for t in range(time_size):\n",
    "    sample_idx = 0\n",
    "    for lat in range(4, lat_size-4, step_size):\n",
    "        for lon in range(4, lon_size-4, step_size):\n",
    "            box_data_y = cat_data_depth[t, lat:lat+1, lon:lon+1,:]\n",
    "            out_data_y[t,lat-4,lon-4, :] = box_data_y\n",
    "            box_data_y = []\n",
    "            #print(sample_idx)\n",
    "            # 增加样本计数器\n",
    "            sample_idx += 1\n",
    "\n",
    "print('out_data_y的形状',out_data_y.shape)\n",
    "    \n",
    "# out_data_reshape = slider_value(cat_data)"
   ]
  },
  {
   "cell_type": "markdown",
   "id": "e6e7b58e",
   "metadata": {},
   "source": [
    "## 删除缺失值多于一半的数据"
   ]
  },
  {
   "cell_type": "markdown",
   "id": "ea6ea49d",
   "metadata": {
    "ExecuteTime": {
     "end_time": "2023-10-14T13:31:17.158866Z",
     "start_time": "2023-10-14T13:31:17.155871Z"
    }
   },
   "source": [
    "### 获取NAN_mask "
   ]
  },
  {
   "cell_type": "code",
   "execution_count": 42,
   "id": "15a0ff6a",
   "metadata": {
    "ExecuteTime": {
     "end_time": "2024-06-14T03:51:40.705658Z",
     "start_time": "2024-06-14T03:51:40.700666Z"
    }
   },
   "outputs": [
    {
     "data": {
      "text/plain": [
       "(132, 272, 592, 9, 9, 5)"
      ]
     },
     "execution_count": 42,
     "metadata": {},
     "output_type": "execute_result"
    }
   ],
   "source": [
    "out_data.shape "
   ]
  },
  {
   "cell_type": "code",
   "execution_count": 43,
   "id": "6c7ead8c",
   "metadata": {
    "ExecuteTime": {
     "end_time": "2024-06-14T03:51:48.009915Z",
     "start_time": "2024-06-14T03:51:40.706657Z"
    }
   },
   "outputs": [
    {
     "name": "stdout",
     "output_type": "stream",
     "text": [
      "(132, 161024, 9, 9, 5)\n",
      "(132, 161024, 9, 9, 5)\n"
     ]
    }
   ],
   "source": [
    "# 修改变量形状\n",
    "out_data_reshape = out_data.reshape((132,-1,9,9,5))\n",
    "print(out_data_reshape.shape) \n",
    "\n",
    "# 获取变量nan掩码\n",
    "nan_mask_out_data = np.isnan(out_data_reshape)\n",
    "print(nan_mask_out_data.shape)"
   ]
  },
  {
   "cell_type": "code",
   "execution_count": 44,
   "id": "bdccd35b",
   "metadata": {
    "ExecuteTime": {
     "end_time": "2024-06-14T03:51:48.024891Z",
     "start_time": "2024-06-14T03:51:48.010914Z"
    }
   },
   "outputs": [
    {
     "data": {
      "text/plain": [
       "4764087"
      ]
     },
     "execution_count": 44,
     "metadata": {},
     "output_type": "execute_result"
    }
   ],
   "source": [
    "# （161024，9，9）中存在4666932个nan\n",
    "np.count_nonzero(nan_mask_out_data[7:8,:,:,:,2:3])"
   ]
  },
  {
   "cell_type": "code",
   "execution_count": 45,
   "id": "4d8748f5",
   "metadata": {
    "ExecuteTime": {
     "end_time": "2024-06-14T03:51:48.029883Z",
     "start_time": "2024-06-14T03:51:48.025890Z"
    }
   },
   "outputs": [],
   "source": [
    "# 选取一个作为代表(都一样)\n",
    "nan_mask_out_data_one = nan_mask_out_data[0,:,:,:,0]   #(161024, 9, 9)\n",
    "nan_mask_out_data_one = nan_mask_out_data_one.reshape(-1,9*9) #（161024，81）    # 其中true 代表Nan"
   ]
  },
  {
   "cell_type": "code",
   "execution_count": 46,
   "id": "9754c66a",
   "metadata": {
    "ExecuteTime": {
     "end_time": "2024-06-14T03:51:48.032889Z",
     "start_time": "2024-06-14T03:51:48.030882Z"
    }
   },
   "outputs": [],
   "source": [
    "# 查看mask中Nan 的个数\n",
    "#np.count_nonzero(nan_mask_out_data_one)     # 4666932\n",
    "#查看形状\n",
    "#nan_mask_out_data_one.shape     # 161024, 81)\n",
    "# 查看内容\n",
    "#nan_mask_out_data_one"
   ]
  },
  {
   "cell_type": "markdown",
   "id": "196a96c6",
   "metadata": {},
   "source": [
    "### 为有效值大于一半的方块标注True"
   ]
  },
  {
   "cell_type": "code",
   "execution_count": 47,
   "id": "5bfa7b93",
   "metadata": {
    "ExecuteTime": {
     "end_time": "2024-06-14T03:51:48.396296Z",
     "start_time": "2024-06-14T03:51:48.033877Z"
    }
   },
   "outputs": [],
   "source": [
    "nan_mask = [] \n",
    "for i in nan_mask_out_data_one:\n",
    "    if(np.count_nonzero(i) <=40 and i[40] == False):    #True 代表nan，当nan小于等于40时，代表有效值大于一半\n",
    "        nan_mask.append(True)   # True 代表保留\n",
    "    else:\n",
    "        nan_mask.append(False) # False 代表删除"
   ]
  },
  {
   "cell_type": "code",
   "execution_count": 48,
   "id": "7f288860",
   "metadata": {
    "ExecuteTime": {
     "end_time": "2024-06-14T03:51:48.406278Z",
     "start_time": "2024-06-14T03:51:48.397292Z"
    }
   },
   "outputs": [
    {
     "data": {
      "text/plain": [
       "101799"
      ]
     },
     "execution_count": 48,
     "metadata": {},
     "output_type": "execute_result"
    }
   ],
   "source": [
    "np.count_nonzero(nan_mask)  # 查看有效值个数"
   ]
  },
  {
   "cell_type": "code",
   "execution_count": 49,
   "id": "899afd0d",
   "metadata": {
    "ExecuteTime": {
     "end_time": "2024-06-14T03:51:48.412268Z",
     "start_time": "2024-06-14T03:51:48.407276Z"
    }
   },
   "outputs": [
    {
     "name": "stdout",
     "output_type": "stream",
     "text": [
      "out_data_reshape: (161024, 132, 9, 9, 5)\n",
      "out_data_y_reshape: (272, 592, 132, 33)\n",
      "out_data_y_reshape: (161024, 132, 33)\n"
     ]
    }
   ],
   "source": [
    "# 修改形状，将lat*lon 放在前面，用于删除无效值\n",
    "out_data_reshape =  np.transpose(out_data_reshape,(1,0,2,3,4))\n",
    "print('out_data_reshape:',out_data_reshape.shape)\n",
    "out_data_y_reshape =  np.transpose(out_data_y,(1,2,0,3))\n",
    "print('out_data_y_reshape:',out_data_y_reshape.shape)\n",
    "out_data_y_reshape = out_data_y_reshape.reshape(-1,132,33)\n",
    "print('out_data_y_reshape:',out_data_y_reshape.shape)"
   ]
  },
  {
   "cell_type": "markdown",
   "id": "14075089",
   "metadata": {},
   "source": [
    "## 开始删除无效数据"
   ]
  },
  {
   "cell_type": "code",
   "execution_count": 50,
   "id": "93ad4743",
   "metadata": {
    "ExecuteTime": {
     "end_time": "2024-06-14T03:52:08.946257Z",
     "start_time": "2024-06-14T03:51:48.413267Z"
    }
   },
   "outputs": [
    {
     "name": "stdout",
     "output_type": "stream",
     "text": [
      "(101799, 132, 9, 9, 5) (101799, 132, 33)\n"
     ]
    }
   ],
   "source": [
    "out_data_reshape = out_data_reshape[nan_mask]\n",
    "out_data_y_reshape = out_data_y_reshape[nan_mask]\n",
    "print(out_data_reshape.shape,out_data_y_reshape.shape)"
   ]
  },
  {
   "cell_type": "markdown",
   "id": "c9ddb083",
   "metadata": {},
   "source": [
    "## 使用0来填充nan "
   ]
  },
  {
   "cell_type": "code",
   "execution_count": 51,
   "id": "9d3199a0",
   "metadata": {
    "ExecuteTime": {
     "end_time": "2024-06-14T03:53:18.102075Z",
     "start_time": "2024-06-14T03:52:08.947255Z"
    }
   },
   "outputs": [],
   "source": [
    "out_data_reshape = np.nan_to_num(out_data_reshape, nan=0)  \n",
    "out_data_y_reshape = np.nan_to_num(out_data_y_reshape, nan=0)  "
   ]
  },
  {
   "cell_type": "markdown",
   "id": "dcc6b9cb",
   "metadata": {},
   "source": [
    "# 验证集和测试集的划分"
   ]
  },
  {
   "cell_type": "markdown",
   "id": "4e542bf9",
   "metadata": {},
   "source": [
    "## 对数据进行reshape,以进行数据集的划分"
   ]
  },
  {
   "cell_type": "code",
   "execution_count": 52,
   "id": "91064314",
   "metadata": {
    "ExecuteTime": {
     "end_time": "2024-06-14T03:53:18.108066Z",
     "start_time": "2024-06-14T03:53:18.103074Z"
    }
   },
   "outputs": [
    {
     "name": "stdout",
     "output_type": "stream",
     "text": [
      "out_data_reshape: (132, 101799, 9, 9, 5)\n",
      "out_data_y_reshape: (132, 101799, 33)\n"
     ]
    }
   ],
   "source": [
    "# 将时间维度放到前面，用于数据集的划分\n",
    "out_data_reshape = np.transpose(out_data_reshape,(1,0,2,3,4))\n",
    "print('out_data_reshape:',out_data_reshape.shape)\n",
    "out_data_y_reshape =  np.transpose(out_data_y_reshape,(1,0,2))\n",
    "print('out_data_y_reshape:',out_data_y_reshape.shape)"
   ]
  },
  {
   "cell_type": "code",
   "execution_count": 53,
   "id": "ce22e0d5",
   "metadata": {
    "ExecuteTime": {
     "end_time": "2024-06-14T03:53:18.113058Z",
     "start_time": "2024-06-14T03:53:18.109065Z"
    }
   },
   "outputs": [],
   "source": [
    "# 最后十二个月的数据作为test\n",
    "test_num = 120\n",
    "x_train = out_data_reshape[:test_num]\n",
    "y_train = out_data_y_reshape[:test_num]\n",
    "\n",
    "x_test = out_data_reshape[test_num:]\n",
    "y_test = out_data_y_reshape[test_num:]"
   ]
  },
  {
   "cell_type": "code",
   "execution_count": 54,
   "id": "08307c9e",
   "metadata": {
    "ExecuteTime": {
     "end_time": "2024-06-14T03:53:18.119048Z",
     "start_time": "2024-06-14T03:53:18.114056Z"
    }
   },
   "outputs": [
    {
     "data": {
      "text/plain": [
       "((120, 101799, 9, 9, 5),\n",
       " (120, 101799, 33),\n",
       " (12, 101799, 9, 9, 5),\n",
       " (12, 101799, 33))"
      ]
     },
     "execution_count": 54,
     "metadata": {},
     "output_type": "execute_result"
    }
   ],
   "source": [
    "# 查看形状\n",
    "x_train.shape,y_train.shape,x_test.shape,y_test.shape "
   ]
  },
  {
   "cell_type": "code",
   "execution_count": 55,
   "id": "7e9bf3c9",
   "metadata": {
    "ExecuteTime": {
     "end_time": "2024-06-14T03:53:37.930199Z",
     "start_time": "2024-06-14T03:53:18.120047Z"
    }
   },
   "outputs": [],
   "source": [
    "# 将前两个维度进行合并  时间*(lat*lon)\n",
    "x_train = np.reshape(x_train,(-1,9,9,5))\n",
    "x_test = np.reshape(x_test,(-1,9,9,5))\n",
    "\n",
    "y_train = np.reshape(y_train,(-1,33))\n",
    "y_test = np.reshape(y_test,(-1,33))"
   ]
  },
  {
   "cell_type": "markdown",
   "id": "82145a06",
   "metadata": {
    "ExecuteTime": {
     "end_time": "2023-09-27T11:16:55.407824Z",
     "start_time": "2023-09-27T11:16:55.403831Z"
    }
   },
   "source": [
    "## 划分训练数据和目标数据"
   ]
  },
  {
   "cell_type": "code",
   "execution_count": 56,
   "id": "ef288642",
   "metadata": {
    "ExecuteTime": {
     "end_time": "2024-06-14T03:53:37.935191Z",
     "start_time": "2024-06-14T03:53:37.931198Z"
    }
   },
   "outputs": [
    {
     "name": "stdout",
     "output_type": "stream",
     "text": [
      "x_test.shape: (1221588, 9, 9, 5)\n",
      "y_test.shape (1221588, 33)\n",
      "x_train (12215880, 9, 9, 5)\n",
      "y_train (12215880, 33)\n"
     ]
    }
   ],
   "source": [
    "print('x_test.shape:',x_test.shape)\n",
    "print('y_test.shape',y_test.shape)\n",
    "print('x_train',x_train.shape)\n",
    "print('y_train',y_train.shape)"
   ]
  },
  {
   "cell_type": "code",
   "execution_count": 57,
   "id": "57afe328",
   "metadata": {
    "ExecuteTime": {
     "end_time": "2024-06-14T03:54:00.966165Z",
     "start_time": "2024-06-14T03:53:37.936190Z"
    }
   },
   "outputs": [],
   "source": [
    "# 这是验证集和训练集的划分是随机选取。\n",
    "x_train, x_val, y_train, y_val = train_test_split(x_train, y_train, test_size=0.3, random_state=100)"
   ]
  },
  {
   "cell_type": "code",
   "execution_count": 58,
   "id": "56fdc0c1",
   "metadata": {
    "ExecuteTime": {
     "end_time": "2024-06-14T03:54:00.972155Z",
     "start_time": "2024-06-14T03:54:00.967163Z"
    }
   },
   "outputs": [
    {
     "name": "stdout",
     "output_type": "stream",
     "text": [
      "x_train (8551116, 9, 9, 5)\n",
      "x_test (1221588, 9, 9, 5)\n",
      "x_val (3664764, 9, 9, 5)\n",
      "y_train (8551116, 33)\n",
      "y_test (1221588, 33)\n",
      "y_val (3664764, 33)\n"
     ]
    }
   ],
   "source": [
    "print('x_train',x_train.shape)\n",
    "print('x_test',x_test.shape)\n",
    "print('x_val',x_val.shape)\n",
    "print('y_train',y_train.shape)\n",
    "print('y_test',y_test.shape)\n",
    "print('y_val',y_val.shape)"
   ]
  },
  {
   "cell_type": "markdown",
   "id": "4adfdb57",
   "metadata": {},
   "source": [
    "# 特征归一化"
   ]
  },
  {
   "cell_type": "code",
   "execution_count": 59,
   "id": "0e7a1057",
   "metadata": {
    "ExecuteTime": {
     "end_time": "2024-06-14T03:54:00.976157Z",
     "start_time": "2024-06-14T03:54:00.973153Z"
    },
    "code_folding": []
   },
   "outputs": [],
   "source": [
    "# 记录数据集的形状\n",
    "x_train_shape = x_train.shape\n",
    "y_train_shape = y_train.shape\n",
    "\n",
    "x_test_shape = x_test.shape\n",
    "y_test_shape = y_test.shape\n",
    "\n",
    "x_val_shape = x_val.shape\n",
    "y_val_shape = y_val.shape"
   ]
  },
  {
   "cell_type": "code",
   "execution_count": 60,
   "id": "9e19fa83",
   "metadata": {
    "ExecuteTime": {
     "end_time": "2024-06-14T03:55:46.643269Z",
     "start_time": "2024-06-14T03:54:00.977147Z"
    }
   },
   "outputs": [],
   "source": [
    "scaler_f = StandardScaler()\n",
    "x_train = scaler_f.fit_transform(x_train.reshape(-1,x_train_shape[3])) \n",
    "x_test = scaler_f.transform(x_test.reshape(-1,x_test_shape[3]))\n",
    "x_val = scaler_f.transform(x_val.reshape(-1,x_val_shape[3]))\n",
    "\n",
    "scaler_l = StandardScaler()\n",
    "y_train = scaler_l.fit_transform(y_train.reshape(-1,y_train_shape[1])) \n",
    "y_test = scaler_l.transform(y_test.reshape(-1,y_test_shape[1])) \n",
    "y_val = scaler_l.transform(y_val.reshape(-1,y_val_shape[1])) "
   ]
  },
  {
   "cell_type": "code",
   "execution_count": 61,
   "id": "5efe52e7",
   "metadata": {
    "ExecuteTime": {
     "end_time": "2024-06-14T03:55:46.648277Z",
     "start_time": "2024-06-14T03:55:46.644268Z"
    }
   },
   "outputs": [],
   "source": [
    "x_train = np.reshape(x_train,(-1,9,9,5))\n",
    "x_test = np.reshape(x_test,(-1,9,9,5))\n",
    "x_val = np.reshape(x_val,(-1,9,9,5))\n",
    "y_train = np.reshape(y_train,(-1,33))\n",
    "y_test = np.reshape(y_test,(-1,33))\n",
    "y_val = np.reshape(y_val,(-1,33))"
   ]
  },
  {
   "cell_type": "code",
   "execution_count": 62,
   "id": "5cd9d9f6",
   "metadata": {
    "ExecuteTime": {
     "end_time": "2024-06-14T03:55:46.654252Z",
     "start_time": "2024-06-14T03:55:46.649260Z"
    }
   },
   "outputs": [
    {
     "name": "stdout",
     "output_type": "stream",
     "text": [
      "x_train (8551116, 9, 9, 5)\n",
      "x_test (1221588, 9, 9, 5)\n",
      "x_val (3664764, 9, 9, 5)\n",
      "y_train (8551116, 33)\n",
      "y_test (1221588, 33)\n",
      "y_val (3664764, 33)\n"
     ]
    }
   ],
   "source": [
    "print('x_train',x_train.shape)\n",
    "print('x_test',x_test.shape)\n",
    "print('x_val',x_val.shape)\n",
    "print('y_train',y_train.shape)\n",
    "print('y_test',y_test.shape)\n",
    "print('y_val',y_val.shape)"
   ]
  },
  {
   "cell_type": "markdown",
   "id": "82214b18",
   "metadata": {},
   "source": [
    "# 定义网络结构"
   ]
  },
  {
   "cell_type": "code",
   "execution_count": 63,
   "id": "be193a0a",
   "metadata": {
    "ExecuteTime": {
     "end_time": "2024-06-14T03:55:46.659243Z",
     "start_time": "2024-06-14T03:55:46.655250Z"
    },
    "code_folding": [
     0
    ]
   },
   "outputs": [],
   "source": [
    "# # 创建神经网络模型\n",
    "# def create_model():   \n",
    "#     model = models.Sequential([\n",
    "#         layers.Dense(200, activation='tanh', input_shape=(5,)),  # 输入层和隐藏层\n",
    "#         layers.Dense(15, activation='tanh'),\n",
    "#         layers.Dense(8, activation='tanh'),\n",
    "#         layers.Dense(1, activation='linear')  # 输出层，num_depths表示深度的数量\n",
    "#     ])\n",
    "#     model.compile(optimizer='adam', loss='mean_squared_error')\n",
    "#     return model \n",
    "# #model.summary()"
   ]
  },
  {
   "cell_type": "code",
   "execution_count": 64,
   "id": "f8444cfc",
   "metadata": {
    "ExecuteTime": {
     "end_time": "2024-06-14T03:55:46.670226Z",
     "start_time": "2024-06-14T03:55:46.660242Z"
    },
    "code_folding": []
   },
   "outputs": [],
   "source": [
    "#  通道注意力 #\n",
    "class ChannelAttention_CNN(layers.Layer):\n",
    "    def __init__(self, in_planes, ratio=2):  #修改部分：由2修改为了4\n",
    "        super(ChannelAttention_CNN, self).__init__()\n",
    "        self.in_planes = in_planes\n",
    "        self.ratio = ratio\n",
    "        self.avg_out= layers.GlobalAveragePooling2D()\n",
    "        self.max_out= layers.GlobalMaxPooling2D()\n",
    "\n",
    "        self.fc1 = layers.Dense(in_planes//ratio, kernel_initializer='he_normal',\n",
    "                                kernel_regularizer=regularizers.l2(5e-4),\n",
    "                                activation=tf.nn.relu,\n",
    "                                use_bias=True, bias_initializer='zeros')\n",
    "        self.fc2 = layers.Dense(in_planes, kernel_initializer='he_normal',\n",
    "                                kernel_regularizer=regularizers.l2(5e-4),\n",
    "                                use_bias=True, bias_initializer='zeros')\n",
    "\n",
    "    def call(self,inputs):\n",
    "        avg_out = self.avg_out(inputs)\n",
    "        max_out = self.max_out(inputs)\n",
    "        out = tf.stack([avg_out, max_out], axis=1)  # shape=(None, 2, fea_num)\n",
    "        out = self.fc2(self.fc1(out))\n",
    "        out = tf.reduce_sum(out, axis=1)             # shape=(256, 512)\n",
    "        out = tf.nn.sigmoid(out)\n",
    "        out = layers.Reshape((1, 1, out.shape[1]))(out)\n",
    "        return out*inputs\n",
    "    \n",
    "    def get_config(self):\n",
    "        return{'ratio': self.ratio,\n",
    "                'in_planes': self.in_planes } \n",
    "\n",
    "    \n",
    "# 空间注意力 #\n",
    "def regularized_padded_conv(*args, **kwargs):\n",
    "    return layers.Conv2D(*args, **kwargs, padding='same', use_bias=False,\n",
    "                         kernel_initializer='he_normal',\n",
    "                         kernel_regularizer=regularizers.l2(5e-4))\n",
    "\n",
    "class SpatialAttention_CNN(layers.Layer):\n",
    "    def __init__(self, kernel_size=5):\n",
    "        super(SpatialAttention_CNN, self).__init__()\n",
    "        self.kernel_size = kernel_size\n",
    "        self.conv1 = regularized_padded_conv(1, kernel_size=kernel_size, strides=1, activation='sigmoid')\n",
    "    def call(self,inputs):\n",
    "        avg_out = tf.reduce_mean(inputs, axis=3)\n",
    "        max_out = tf.reduce_max(inputs, axis=3)\n",
    "        out = tf.stack([avg_out, max_out], axis=-1)             # 创建一个维度,拼接到一起concat。\n",
    "        out = self.conv1(out)\n",
    "        return out*inputs\n",
    "    \n",
    "    def get_config(self):\n",
    "        return{'kernel_size': self.kernel_size} "
   ]
  },
  {
   "cell_type": "code",
   "execution_count": 65,
   "id": "bde37741",
   "metadata": {
    "ExecuteTime": {
     "end_time": "2024-06-14T03:55:46.675218Z",
     "start_time": "2024-06-14T03:55:46.671224Z"
    },
    "code_folding": [
     0
    ]
   },
   "outputs": [],
   "source": [
    "# def ChannelAttention(inputs, in_planes, ratio=2):\n",
    "    \n",
    "#     avg_out= layers.GlobalAveragePooling2D()\n",
    "#     max_out= layers.GlobalMaxPooling2D()\n",
    "\n",
    "#     fc1 = layers.Dense(in_planes//ratio, kernel_initializer='he_normal',\n",
    "#                             kernel_regularizer=regularizers.l2(5e-4),\n",
    "#                             activation=tf.nn.relu,\n",
    "#                             use_bias=True, bias_initializer='zeros')\n",
    "#     fc2 = layers.Dense(in_planes, kernel_initializer='he_normal',\n",
    "#                             kernel_regularizer=regularizers.l2(5e-4),\n",
    "#                             use_bias=True, bias_initializer='zeros')\n",
    "\n",
    "    \n",
    "#     avg_out = avg_out(inputs)\n",
    "#     max_out = max_out(inputs)\n",
    "#     out = tf.stack([avg_out, max_out], axis=1)  # shape=(None, 2, fea_num)\n",
    "#     out = fc2(fc1(out))\n",
    "#     out = tf.reduce_sum(out, axis=1)             # shape=(256, 512)\n",
    "#     out = tf.nn.sigmoid(out)\n",
    "#     out = layers.Reshape((1, 1, out.shape[1]))(out)\n",
    "\n",
    "#     return  out*inputs"
   ]
  },
  {
   "cell_type": "code",
   "execution_count": 66,
   "id": "9947b9bb",
   "metadata": {
    "ExecuteTime": {
     "end_time": "2024-06-14T03:55:46.679212Z",
     "start_time": "2024-06-14T03:55:46.676216Z"
    },
    "code_folding": [
     0,
     5
    ]
   },
   "outputs": [],
   "source": [
    "# def regularized_padded_conv(*args, **kwargs):\n",
    "#     return layers.Conv2D(*args, **kwargs, padding='same', use_bias=False,\n",
    "#                          kernel_initializer='he_normal',\n",
    "#                          kernel_regularizer=regularizers.l2(5e-4))\n",
    "\n",
    "# def SpatialAttention(inputs,kernel_size=5):\n",
    "#     conv1 = regularized_padded_conv(1, kernel_size=kernel_size, strides=1, activation='sigmoid')\n",
    "#     avg_out = tf.reduce_mean(inputs, axis=3)\n",
    "#     max_out = tf.reduce_max(inputs, axis=3)\n",
    "#     out = tf.stack([avg_out, max_out], axis=-1)             # 创建一个维度,拼接到一起concat。\n",
    "#     out = conv1(out)\n",
    "    \n",
    "#     return out*inputs"
   ]
  },
  {
   "cell_type": "code",
   "execution_count": 67,
   "id": "174d3a8e",
   "metadata": {
    "ExecuteTime": {
     "end_time": "2024-06-14T03:55:46.683205Z",
     "start_time": "2024-06-14T03:55:46.680210Z"
    },
    "code_folding": [
     0
    ]
   },
   "outputs": [],
   "source": [
    "# def cbam_block(inputs, in_planes, ratio=2):\n",
    "\n",
    "#     cbam_feature = ChannelAttention(inputs, in_planes, ratio)\n",
    "#     cbam_feature = SpatialAttention(cbam_feature)\n",
    "#     return cbam_feature"
   ]
  },
  {
   "cell_type": "code",
   "execution_count": 68,
   "id": "09016b5d",
   "metadata": {
    "ExecuteTime": {
     "end_time": "2024-06-14T03:55:46.690194Z",
     "start_time": "2024-06-14T03:55:46.684204Z"
    },
    "code_folding": []
   },
   "outputs": [],
   "source": [
    "def create_model():\n",
    "    model_input= Input(shape=x_train.shape[1:])\n",
    "    output_size = 1\n",
    "    \n",
    "    #卷积层一\n",
    "    x = Conv2D(filters=16, kernel_size=(3, 3),strides=1)(model_input)\n",
    "    #x = BatchNormalization()(x)\n",
    "    x = Activation('relu')(x)\n",
    "    x = Dropout(rate=0.1)(x)\n",
    "\n",
    "    x = ChannelAttention_CNN(16)(x)\n",
    "    x = SpatialAttention_CNN()(x)\n",
    "    \n",
    "    #卷积层二\n",
    "    x = Conv2D(filters=32, kernel_size=(3, 3),strides=1)(x)\n",
    "    #x = BatchNormalization()(x)\n",
    "    x = Activation('relu')(x)\n",
    "    x = Dropout(rate=0.1)(x)\n",
    "\n",
    "    x = ChannelAttention_CNN(32)(x)\n",
    "    x= SpatialAttention_CNN()(x)\n",
    "    \n",
    "    x = Flatten()(x)\n",
    "    x = Dense(units=16)(x)\n",
    "    x = Activation('relu')(x)\n",
    "\n",
    "    out = Dense(units=output_size)(x)\n",
    "    \n",
    "    model = Model(inputs=model_input, outputs=out)\n",
    "    return model "
   ]
  },
  {
   "cell_type": "code",
   "execution_count": 69,
   "id": "b568ef4e",
   "metadata": {
    "ExecuteTime": {
     "end_time": "2024-06-14T03:55:54.275979Z",
     "start_time": "2024-06-14T03:55:46.691192Z"
    }
   },
   "outputs": [
    {
     "name": "stdout",
     "output_type": "stream",
     "text": [
      "Model: \"model\"\n",
      "_________________________________________________________________\n",
      "Layer (type)                 Output Shape              Param #   \n",
      "=================================================================\n",
      "input_1 (InputLayer)         [(None, 9, 9, 5)]         0         \n",
      "_________________________________________________________________\n",
      "conv2d (Conv2D)              (None, 7, 7, 16)          736       \n",
      "_________________________________________________________________\n",
      "activation (Activation)      (None, 7, 7, 16)          0         \n",
      "_________________________________________________________________\n",
      "dropout (Dropout)            (None, 7, 7, 16)          0         \n",
      "_________________________________________________________________\n",
      "channel_attention_cnn (Chann (None, 7, 7, 16)          280       \n",
      "_________________________________________________________________\n",
      "spatial_attention_cnn (Spati (None, 7, 7, 16)          50        \n",
      "_________________________________________________________________\n",
      "conv2d_2 (Conv2D)            (None, 5, 5, 32)          4640      \n",
      "_________________________________________________________________\n",
      "activation_1 (Activation)    (None, 5, 5, 32)          0         \n",
      "_________________________________________________________________\n",
      "dropout_1 (Dropout)          (None, 5, 5, 32)          0         \n",
      "_________________________________________________________________\n",
      "channel_attention_cnn_1 (Cha (None, 5, 5, 32)          1072      \n",
      "_________________________________________________________________\n",
      "spatial_attention_cnn_1 (Spa (None, 5, 5, 32)          50        \n",
      "_________________________________________________________________\n",
      "flatten (Flatten)            (None, 800)               0         \n",
      "_________________________________________________________________\n",
      "dense_4 (Dense)              (None, 16)                12816     \n",
      "_________________________________________________________________\n",
      "activation_2 (Activation)    (None, 16)                0         \n",
      "_________________________________________________________________\n",
      "dense_5 (Dense)              (None, 1)                 17        \n",
      "=================================================================\n",
      "Total params: 19,661\n",
      "Trainable params: 19,661\n",
      "Non-trainable params: 0\n",
      "_________________________________________________________________\n"
     ]
    }
   ],
   "source": [
    "model = create_model()\n",
    "model.summary()"
   ]
  },
  {
   "cell_type": "code",
   "execution_count": 70,
   "id": "5656463b",
   "metadata": {
    "ExecuteTime": {
     "end_time": "2024-06-14T03:55:54.280971Z",
     "start_time": "2024-06-14T03:55:54.276977Z"
    }
   },
   "outputs": [],
   "source": [
    "# initial_learning_rate = 0.0005\n",
    "# optimizer = tf.keras.optimizers.Adam(learning_rate=initial_learning_rate)\n",
    "\n",
    "\n",
    "# model.compile(optimizer='adam', loss='mean_squared_error')\n",
    "# checkpoint_path='./CNN_model_30.h5'\n",
    "# keras_callbacks   = [\n",
    "#       EarlyStopping(monitor='val_loss', patience=30, mode='min', min_delta=0.001),\n",
    "#       ModelCheckpoint(checkpoint_path, monitor='val_loss', save_best_only=True, mode='min')\n",
    "# ]"
   ]
  },
  {
   "cell_type": "code",
   "execution_count": 71,
   "id": "2737bb61",
   "metadata": {
    "ExecuteTime": {
     "end_time": "2024-06-14T03:55:54.284964Z",
     "start_time": "2024-06-14T03:55:54.281969Z"
    }
   },
   "outputs": [],
   "source": [
    "# num_epochs = 1000\n",
    "# batch_size = 10240\n",
    "\n",
    "# history = model.fit(x_train, y_train[:,14:15], validation_data=(x_val,y_val[:,14:15]),\n",
    "#                     epochs=num_epochs, batch_size=batch_size, verbose=2, callbacks=keras_callbacks)"
   ]
  },
  {
   "cell_type": "markdown",
   "id": "9078e70b",
   "metadata": {},
   "source": [
    "## 网格搜索交叉验证寻找最佳参数"
   ]
  },
  {
   "cell_type": "code",
   "execution_count": 72,
   "id": "1fe983fc",
   "metadata": {
    "ExecuteTime": {
     "end_time": "2024-06-14T03:55:54.288958Z",
     "start_time": "2024-06-14T03:55:54.285963Z"
    },
    "code_folding": []
   },
   "outputs": [],
   "source": [
    "# model = KerasRegressor(build_fn=create_model,verbose=2)"
   ]
  },
  {
   "cell_type": "code",
   "execution_count": 73,
   "id": "9d66f9a5",
   "metadata": {
    "ExecuteTime": {
     "end_time": "2024-06-14T03:55:54.292951Z",
     "start_time": "2024-06-14T03:55:54.289956Z"
    },
    "code_folding": [
     0
    ]
   },
   "outputs": [],
   "source": [
    "# param_grid = {\n",
    "#     'neurons1': [16,32,64,128],\n",
    "#     'neurons2': [32,64,128,256],\n",
    "# }"
   ]
  },
  {
   "cell_type": "code",
   "execution_count": 74,
   "id": "2e91bcc1",
   "metadata": {
    "ExecuteTime": {
     "end_time": "2024-06-14T03:55:54.296945Z",
     "start_time": "2024-06-14T03:55:54.293950Z"
    },
    "code_folding": [
     0
    ]
   },
   "outputs": [],
   "source": [
    "# # 使用GridSearchCV进行交叉验证并搜索最佳参数组合：\n",
    "# grid_search = GridSearchCV(estimator=model, param_grid=param_grid, cv=3)\n",
    "# grid_result = grid_search.fit(x_train, y_train[:,14:15],epochs=100,verbose=2,batch_size=10240)"
   ]
  },
  {
   "cell_type": "code",
   "execution_count": 75,
   "id": "482bf93d",
   "metadata": {
    "ExecuteTime": {
     "end_time": "2024-06-14T03:55:54.300939Z",
     "start_time": "2024-06-14T03:55:54.297943Z"
    },
    "code_folding": []
   },
   "outputs": [],
   "source": [
    "# print(\"Best: %f using %s\" % (grid_result.best_score_, grid_result.best_params_))"
   ]
  },
  {
   "cell_type": "markdown",
   "id": "a2f8c413",
   "metadata": {},
   "source": [
    "## 训练"
   ]
  },
  {
   "cell_type": "code",
   "execution_count": 77,
   "id": "eb9e990b",
   "metadata": {
    "ExecuteTime": {
     "end_time": "2024-06-14T04:02:27.843186Z",
     "start_time": "2024-06-14T04:02:27.835198Z"
    }
   },
   "outputs": [],
   "source": [
    "def train_model_CNN(x_train,y_train,x_val,y_val,name):\n",
    "    # 创建网络\n",
    "    model = create_model()\n",
    "    # 编译网络\n",
    "    model.compile(loss='mse', optimizer='adam')\n",
    "    checkpoint_path=name\n",
    "    keras_callbacks   = [\n",
    "          EarlyStopping(monitor='val_loss', patience=16, mode='min', min_delta=0.001),\n",
    "          ModelCheckpoint(checkpoint_path, monitor='val_loss', save_best_only=True, mode='min')\n",
    "    ]\n",
    "    #ReduceLROnPlateau(monitor='val_loss', factor=0.1, patience=10, mode='min', min_delta=0.001),\n",
    "    #TensorBoard(log_dir='./logs', histogram_freq=1)\n",
    "    \n",
    "    model.fit(x_train, y_train, validation_data=(x_val,y_val),\n",
    "                    epochs=300, batch_size=10240, verbose=2, callbacks=keras_callbacks)"
   ]
  },
  {
   "cell_type": "code",
   "execution_count": null,
   "id": "f579d126",
   "metadata": {
    "ExecuteTime": {
     "end_time": "2024-06-14T03:55:55.713667Z",
     "start_time": "2024-06-14T03:55:55.713667Z"
    }
   },
   "outputs": [],
   "source": [
    "gc.collect()"
   ]
  },
  {
   "cell_type": "code",
   "execution_count": 78,
   "id": "fd30c7de",
   "metadata": {
    "ExecuteTime": {
     "end_time": "2024-06-14T08:34:23.685665Z",
     "start_time": "2024-06-14T04:04:36.058108Z"
    },
    "collapsed": true
   },
   "outputs": [
    {
     "name": "stdout",
     "output_type": "stream",
     "text": [
      "Epoch 1/300\n",
      "836/836 - 37s - loss: 0.1440 - val_loss: 0.1068\n",
      "Epoch 2/300\n",
      "836/836 - 22s - loss: 0.0738 - val_loss: 0.0816\n",
      "Epoch 3/300\n",
      "836/836 - 22s - loss: 0.0634 - val_loss: 0.0768\n",
      "Epoch 4/300\n",
      "836/836 - 22s - loss: 0.0580 - val_loss: 0.0802\n",
      "Epoch 5/300\n",
      "836/836 - 22s - loss: 0.0541 - val_loss: 0.0772\n",
      "Epoch 6/300\n",
      "836/836 - 22s - loss: 0.0510 - val_loss: 0.0655\n",
      "Epoch 7/300\n",
      "836/836 - 22s - loss: 0.0487 - val_loss: 0.0605\n",
      "Epoch 8/300\n",
      "836/836 - 22s - loss: 0.0468 - val_loss: 0.0648\n",
      "Epoch 9/300\n",
      "836/836 - 22s - loss: 0.0454 - val_loss: 0.0677\n",
      "Epoch 10/300\n",
      "836/836 - 22s - loss: 0.0443 - val_loss: 0.0670\n",
      "Epoch 11/300\n",
      "836/836 - 22s - loss: 0.0432 - val_loss: 0.0554\n",
      "Epoch 12/300\n",
      "836/836 - 22s - loss: 0.0423 - val_loss: 0.0600\n",
      "Epoch 13/300\n",
      "836/836 - 22s - loss: 0.0416 - val_loss: 0.0570\n",
      "Epoch 14/300\n",
      "836/836 - 22s - loss: 0.0409 - val_loss: 0.0550\n",
      "Epoch 15/300\n",
      "836/836 - 22s - loss: 0.0404 - val_loss: 0.0595\n",
      "Epoch 16/300\n",
      "836/836 - 22s - loss: 0.0399 - val_loss: 0.0541\n",
      "Epoch 17/300\n",
      "836/836 - 22s - loss: 0.0395 - val_loss: 0.0589\n",
      "Epoch 18/300\n",
      "836/836 - 22s - loss: 0.0391 - val_loss: 0.0527\n",
      "Epoch 19/300\n",
      "836/836 - 22s - loss: 0.0387 - val_loss: 0.0536\n",
      "Epoch 20/300\n",
      "836/836 - 22s - loss: 0.0383 - val_loss: 0.0519\n",
      "Epoch 21/300\n",
      "836/836 - 22s - loss: 0.0379 - val_loss: 0.0568\n",
      "Epoch 22/300\n",
      "836/836 - 22s - loss: 0.0377 - val_loss: 0.0534\n",
      "Epoch 23/300\n",
      "836/836 - 22s - loss: 0.0374 - val_loss: 0.0498\n",
      "Epoch 24/300\n",
      "836/836 - 22s - loss: 0.0371 - val_loss: 0.0468\n",
      "Epoch 25/300\n",
      "836/836 - 22s - loss: 0.0369 - val_loss: 0.0470\n",
      "Epoch 26/300\n",
      "836/836 - 22s - loss: 0.0366 - val_loss: 0.0453\n",
      "Epoch 27/300\n",
      "836/836 - 22s - loss: 0.0364 - val_loss: 0.0497\n",
      "Epoch 28/300\n",
      "836/836 - 22s - loss: 0.0362 - val_loss: 0.0462\n",
      "Epoch 29/300\n",
      "836/836 - 22s - loss: 0.0360 - val_loss: 0.0454\n",
      "Epoch 30/300\n",
      "836/836 - 22s - loss: 0.0359 - val_loss: 0.0437\n",
      "Epoch 31/300\n",
      "836/836 - 22s - loss: 0.0357 - val_loss: 0.0469\n",
      "Epoch 32/300\n",
      "836/836 - 22s - loss: 0.0355 - val_loss: 0.0449\n",
      "Epoch 33/300\n",
      "836/836 - 22s - loss: 0.0354 - val_loss: 0.0452\n",
      "Epoch 34/300\n",
      "836/836 - 22s - loss: 0.0353 - val_loss: 0.0441\n",
      "Epoch 35/300\n",
      "836/836 - 22s - loss: 0.0351 - val_loss: 0.0450\n",
      "Epoch 36/300\n",
      "836/836 - 22s - loss: 0.0350 - val_loss: 0.0435\n",
      "Epoch 37/300\n",
      "836/836 - 22s - loss: 0.0348 - val_loss: 0.0478\n",
      "Epoch 38/300\n",
      "836/836 - 22s - loss: 0.0348 - val_loss: 0.0440\n",
      "Epoch 39/300\n",
      "836/836 - 22s - loss: 0.0346 - val_loss: 0.0423\n",
      "Epoch 40/300\n",
      "836/836 - 22s - loss: 0.0345 - val_loss: 0.0434\n",
      "Epoch 41/300\n",
      "836/836 - 22s - loss: 0.0345 - val_loss: 0.0451\n",
      "Epoch 42/300\n",
      "836/836 - 22s - loss: 0.0343 - val_loss: 0.0436\n",
      "Epoch 43/300\n",
      "836/836 - 22s - loss: 0.0342 - val_loss: 0.0457\n",
      "Epoch 44/300\n",
      "836/836 - 22s - loss: 0.0341 - val_loss: 0.0436\n",
      "Epoch 45/300\n",
      "836/836 - 22s - loss: 0.0340 - val_loss: 0.0422\n",
      "Epoch 46/300\n",
      "836/836 - 22s - loss: 0.0339 - val_loss: 0.0430\n",
      "Epoch 47/300\n",
      "836/836 - 22s - loss: 0.0338 - val_loss: 0.0468\n",
      "Epoch 48/300\n",
      "836/836 - 22s - loss: 0.0337 - val_loss: 0.0481\n",
      "Epoch 49/300\n",
      "836/836 - 22s - loss: 0.0337 - val_loss: 0.0441\n",
      "Epoch 50/300\n",
      "836/836 - 22s - loss: 0.0336 - val_loss: 0.0408\n",
      "Epoch 51/300\n",
      "836/836 - 22s - loss: 0.0336 - val_loss: 0.0439\n",
      "Epoch 52/300\n",
      "836/836 - 22s - loss: 0.0334 - val_loss: 0.0435\n",
      "Epoch 53/300\n",
      "836/836 - 22s - loss: 0.0334 - val_loss: 0.0438\n",
      "Epoch 54/300\n",
      "836/836 - 22s - loss: 0.0333 - val_loss: 0.0407\n",
      "Epoch 55/300\n",
      "836/836 - 22s - loss: 0.0333 - val_loss: 0.0419\n",
      "Epoch 56/300\n",
      "836/836 - 22s - loss: 0.0332 - val_loss: 0.0403\n",
      "Epoch 57/300\n",
      "836/836 - 22s - loss: 0.0331 - val_loss: 0.0406\n",
      "Epoch 58/300\n",
      "836/836 - 22s - loss: 0.0330 - val_loss: 0.0417\n",
      "Epoch 59/300\n",
      "836/836 - 22s - loss: 0.0330 - val_loss: 0.0458\n",
      "Epoch 60/300\n",
      "836/836 - 22s - loss: 0.0330 - val_loss: 0.0387\n",
      "Epoch 61/300\n",
      "836/836 - 22s - loss: 0.0329 - val_loss: 0.0418\n",
      "Epoch 62/300\n",
      "836/836 - 22s - loss: 0.0328 - val_loss: 0.0416\n",
      "Epoch 63/300\n",
      "836/836 - 22s - loss: 0.0327 - val_loss: 0.0412\n",
      "Epoch 64/300\n",
      "836/836 - 22s - loss: 0.0327 - val_loss: 0.0426\n",
      "Epoch 65/300\n",
      "836/836 - 22s - loss: 0.0326 - val_loss: 0.0421\n",
      "Epoch 66/300\n",
      "836/836 - 22s - loss: 0.0325 - val_loss: 0.0393\n",
      "Epoch 67/300\n",
      "836/836 - 22s - loss: 0.0325 - val_loss: 0.0420\n",
      "Epoch 68/300\n",
      "836/836 - 22s - loss: 0.0325 - val_loss: 0.0459\n",
      "Epoch 69/300\n",
      "836/836 - 22s - loss: 0.0325 - val_loss: 0.0423\n",
      "Epoch 70/300\n",
      "836/836 - 22s - loss: 0.0324 - val_loss: 0.0416\n",
      "Epoch 71/300\n",
      "836/836 - 22s - loss: 0.0324 - val_loss: 0.0412\n",
      "Epoch 72/300\n",
      "836/836 - 22s - loss: 0.0323 - val_loss: 0.0403\n",
      "Epoch 73/300\n",
      "836/836 - 22s - loss: 0.0323 - val_loss: 0.0400\n",
      "Epoch 74/300\n",
      "836/836 - 22s - loss: 0.0322 - val_loss: 0.0418\n",
      "Epoch 75/300\n",
      "836/836 - 22s - loss: 0.0322 - val_loss: 0.0399\n",
      "Epoch 76/300\n",
      "836/836 - 22s - loss: 0.0322 - val_loss: 0.0396\n",
      "Epoch 1/300\n",
      "836/836 - 26s - loss: 0.1528 - val_loss: 0.1047\n",
      "Epoch 2/300\n",
      "836/836 - 22s - loss: 0.0820 - val_loss: 0.0788\n",
      "Epoch 3/300\n",
      "836/836 - 22s - loss: 0.0694 - val_loss: 0.0715\n",
      "Epoch 4/300\n",
      "836/836 - 22s - loss: 0.0625 - val_loss: 0.0654\n",
      "Epoch 5/300\n",
      "836/836 - 22s - loss: 0.0578 - val_loss: 0.0728\n",
      "Epoch 6/300\n",
      "836/836 - 22s - loss: 0.0545 - val_loss: 0.0615\n",
      "Epoch 7/300\n",
      "836/836 - 22s - loss: 0.0522 - val_loss: 0.0617\n",
      "Epoch 8/300\n",
      "836/836 - 22s - loss: 0.0505 - val_loss: 0.0583\n",
      "Epoch 9/300\n",
      "836/836 - 22s - loss: 0.0492 - val_loss: 0.0613\n",
      "Epoch 10/300\n",
      "836/836 - 22s - loss: 0.0481 - val_loss: 0.0640\n",
      "Epoch 11/300\n",
      "836/836 - 22s - loss: 0.0471 - val_loss: 0.0590\n",
      "Epoch 12/300\n",
      "836/836 - 22s - loss: 0.0464 - val_loss: 0.0577\n",
      "Epoch 13/300\n",
      "836/836 - 22s - loss: 0.0458 - val_loss: 0.0580\n",
      "Epoch 14/300\n",
      "836/836 - 22s - loss: 0.0452 - val_loss: 0.0652\n",
      "Epoch 15/300\n",
      "836/836 - 22s - loss: 0.0446 - val_loss: 0.0557\n",
      "Epoch 16/300\n",
      "836/836 - 22s - loss: 0.0442 - val_loss: 0.0518\n",
      "Epoch 17/300\n",
      "836/836 - 22s - loss: 0.0438 - val_loss: 0.0528\n",
      "Epoch 18/300\n",
      "836/836 - 22s - loss: 0.0433 - val_loss: 0.0675\n",
      "Epoch 19/300\n",
      "836/836 - 22s - loss: 0.0430 - val_loss: 0.0540\n",
      "Epoch 20/300\n",
      "836/836 - 22s - loss: 0.0427 - val_loss: 0.0507\n",
      "Epoch 21/300\n",
      "836/836 - 22s - loss: 0.0424 - val_loss: 0.0580\n",
      "Epoch 22/300\n",
      "836/836 - 22s - loss: 0.0422 - val_loss: 0.0508\n",
      "Epoch 23/300\n",
      "836/836 - 22s - loss: 0.0419 - val_loss: 0.0572\n",
      "Epoch 24/300\n",
      "836/836 - 22s - loss: 0.0417 - val_loss: 0.0561\n",
      "Epoch 25/300\n",
      "836/836 - 22s - loss: 0.0414 - val_loss: 0.0595\n",
      "Epoch 26/300\n",
      "836/836 - 22s - loss: 0.0412 - val_loss: 0.0539\n",
      "Epoch 27/300\n",
      "836/836 - 22s - loss: 0.0410 - val_loss: 0.0483\n",
      "Epoch 28/300\n",
      "836/836 - 22s - loss: 0.0408 - val_loss: 0.0514\n",
      "Epoch 29/300\n",
      "836/836 - 22s - loss: 0.0406 - val_loss: 0.0555\n",
      "Epoch 30/300\n",
      "836/836 - 22s - loss: 0.0404 - val_loss: 0.0511\n",
      "Epoch 31/300\n",
      "836/836 - 22s - loss: 0.0402 - val_loss: 0.0569\n",
      "Epoch 32/300\n",
      "836/836 - 22s - loss: 0.0402 - val_loss: 0.0507\n",
      "Epoch 33/300\n",
      "836/836 - 22s - loss: 0.0399 - val_loss: 0.0530\n",
      "Epoch 34/300\n",
      "836/836 - 22s - loss: 0.0398 - val_loss: 0.0657\n",
      "Epoch 35/300\n",
      "836/836 - 22s - loss: 0.0397 - val_loss: 0.0561\n",
      "Epoch 36/300\n",
      "836/836 - 22s - loss: 0.0395 - val_loss: 0.0557\n",
      "Epoch 37/300\n",
      "836/836 - 22s - loss: 0.0394 - val_loss: 0.0564\n",
      "Epoch 38/300\n",
      "836/836 - 22s - loss: 0.0392 - val_loss: 0.0492\n",
      "Epoch 39/300\n",
      "836/836 - 22s - loss: 0.0391 - val_loss: 0.0596\n",
      "Epoch 40/300\n",
      "836/836 - 22s - loss: 0.0389 - val_loss: 0.0520\n",
      "Epoch 41/300\n",
      "836/836 - 22s - loss: 0.0389 - val_loss: 0.0483\n",
      "Epoch 42/300\n",
      "836/836 - 22s - loss: 0.0387 - val_loss: 0.0463\n",
      "Epoch 43/300\n",
      "836/836 - 22s - loss: 0.0386 - val_loss: 0.0582\n",
      "Epoch 44/300\n",
      "836/836 - 22s - loss: 0.0385 - val_loss: 0.0555\n",
      "Epoch 45/300\n",
      "836/836 - 22s - loss: 0.0384 - val_loss: 0.0554\n",
      "Epoch 46/300\n",
      "836/836 - 22s - loss: 0.0382 - val_loss: 0.0616\n",
      "Epoch 47/300\n",
      "836/836 - 22s - loss: 0.0382 - val_loss: 0.0548\n",
      "Epoch 48/300\n",
      "836/836 - 22s - loss: 0.0380 - val_loss: 0.0479\n",
      "Epoch 49/300\n",
      "836/836 - 22s - loss: 0.0379 - val_loss: 0.0476\n",
      "Epoch 50/300\n",
      "836/836 - 22s - loss: 0.0378 - val_loss: 0.0555\n",
      "Epoch 51/300\n",
      "836/836 - 22s - loss: 0.0377 - val_loss: 0.0534\n",
      "Epoch 52/300\n",
      "836/836 - 22s - loss: 0.0377 - val_loss: 0.0494\n",
      "Epoch 53/300\n",
      "836/836 - 22s - loss: 0.0376 - val_loss: 0.0559\n",
      "Epoch 54/300\n",
      "836/836 - 22s - loss: 0.0375 - val_loss: 0.0533\n",
      "Epoch 55/300\n",
      "836/836 - 22s - loss: 0.0374 - val_loss: 0.0554\n",
      "Epoch 56/300\n",
      "836/836 - 22s - loss: 0.0374 - val_loss: 0.0451\n",
      "Epoch 57/300\n",
      "836/836 - 22s - loss: 0.0373 - val_loss: 0.0435\n",
      "Epoch 58/300\n",
      "836/836 - 22s - loss: 0.0373 - val_loss: 0.0523\n",
      "Epoch 59/300\n",
      "836/836 - 22s - loss: 0.0372 - val_loss: 0.0446\n"
     ]
    },
    {
     "name": "stdout",
     "output_type": "stream",
     "text": [
      "Epoch 60/300\n",
      "836/836 - 22s - loss: 0.0371 - val_loss: 0.0568\n",
      "Epoch 61/300\n",
      "836/836 - 22s - loss: 0.0371 - val_loss: 0.0555\n",
      "Epoch 62/300\n",
      "836/836 - 22s - loss: 0.0370 - val_loss: 0.0516\n",
      "Epoch 63/300\n",
      "836/836 - 22s - loss: 0.0370 - val_loss: 0.0460\n",
      "Epoch 64/300\n",
      "836/836 - 22s - loss: 0.0369 - val_loss: 0.0416\n",
      "Epoch 65/300\n",
      "836/836 - 22s - loss: 0.0368 - val_loss: 0.0511\n",
      "Epoch 66/300\n",
      "836/836 - 22s - loss: 0.0368 - val_loss: 0.0499\n",
      "Epoch 67/300\n",
      "836/836 - 22s - loss: 0.0367 - val_loss: 0.0471\n",
      "Epoch 68/300\n",
      "836/836 - 22s - loss: 0.0367 - val_loss: 0.0524\n",
      "Epoch 69/300\n",
      "836/836 - 22s - loss: 0.0366 - val_loss: 0.0547\n",
      "Epoch 70/300\n",
      "836/836 - 22s - loss: 0.0366 - val_loss: 0.0464\n",
      "Epoch 71/300\n",
      "836/836 - 22s - loss: 0.0366 - val_loss: 0.0511\n",
      "Epoch 72/300\n",
      "836/836 - 22s - loss: 0.0365 - val_loss: 0.0541\n",
      "Epoch 73/300\n",
      "836/836 - 22s - loss: 0.0365 - val_loss: 0.0507\n",
      "Epoch 74/300\n",
      "836/836 - 22s - loss: 0.0364 - val_loss: 0.0464\n",
      "Epoch 75/300\n",
      "836/836 - 22s - loss: 0.0364 - val_loss: 0.0499\n",
      "Epoch 76/300\n",
      "836/836 - 22s - loss: 0.0364 - val_loss: 0.0513\n",
      "Epoch 77/300\n",
      "836/836 - 22s - loss: 0.0363 - val_loss: 0.0521\n",
      "Epoch 78/300\n",
      "836/836 - 22s - loss: 0.0363 - val_loss: 0.0486\n",
      "Epoch 79/300\n",
      "836/836 - 22s - loss: 0.0363 - val_loss: 0.0484\n",
      "Epoch 80/300\n",
      "836/836 - 22s - loss: 0.0362 - val_loss: 0.0557\n",
      "Epoch 1/300\n",
      "836/836 - 27s - loss: 0.1707 - val_loss: 0.1105\n",
      "Epoch 2/300\n",
      "836/836 - 21s - loss: 0.0914 - val_loss: 0.0953\n",
      "Epoch 3/300\n",
      "836/836 - 22s - loss: 0.0778 - val_loss: 0.0829\n",
      "Epoch 4/300\n",
      "836/836 - 22s - loss: 0.0709 - val_loss: 0.0948\n",
      "Epoch 5/300\n",
      "836/836 - 22s - loss: 0.0666 - val_loss: 0.0838\n",
      "Epoch 6/300\n",
      "836/836 - 22s - loss: 0.0637 - val_loss: 0.0727\n",
      "Epoch 7/300\n",
      "836/836 - 22s - loss: 0.0615 - val_loss: 0.0709\n",
      "Epoch 8/300\n",
      "836/836 - 22s - loss: 0.0598 - val_loss: 0.0720\n",
      "Epoch 9/300\n",
      "836/836 - 22s - loss: 0.0585 - val_loss: 0.0615\n",
      "Epoch 10/300\n",
      "836/836 - 22s - loss: 0.0573 - val_loss: 0.0690\n",
      "Epoch 11/300\n",
      "836/836 - 22s - loss: 0.0563 - val_loss: 0.0700\n",
      "Epoch 12/300\n",
      "836/836 - 22s - loss: 0.0553 - val_loss: 0.0646\n",
      "Epoch 13/300\n",
      "836/836 - 22s - loss: 0.0544 - val_loss: 0.0652\n",
      "Epoch 14/300\n",
      "836/836 - 22s - loss: 0.0535 - val_loss: 0.0676\n",
      "Epoch 15/300\n",
      "836/836 - 22s - loss: 0.0528 - val_loss: 0.0661\n",
      "Epoch 16/300\n",
      "836/836 - 22s - loss: 0.0521 - val_loss: 0.0592\n",
      "Epoch 17/300\n",
      "836/836 - 22s - loss: 0.0515 - val_loss: 0.0601\n",
      "Epoch 18/300\n",
      "836/836 - 22s - loss: 0.0510 - val_loss: 0.0633\n",
      "Epoch 19/300\n",
      "836/836 - 22s - loss: 0.0505 - val_loss: 0.0583\n",
      "Epoch 20/300\n",
      "836/836 - 22s - loss: 0.0500 - val_loss: 0.0555\n",
      "Epoch 21/300\n",
      "836/836 - 22s - loss: 0.0496 - val_loss: 0.0589\n",
      "Epoch 22/300\n",
      "836/836 - 22s - loss: 0.0492 - val_loss: 0.0595\n",
      "Epoch 23/300\n",
      "836/836 - 22s - loss: 0.0490 - val_loss: 0.0612\n",
      "Epoch 24/300\n",
      "836/836 - 22s - loss: 0.0486 - val_loss: 0.0588\n",
      "Epoch 25/300\n",
      "836/836 - 22s - loss: 0.0483 - val_loss: 0.0575\n",
      "Epoch 26/300\n",
      "836/836 - 22s - loss: 0.0480 - val_loss: 0.0555\n",
      "Epoch 27/300\n",
      "836/836 - 22s - loss: 0.0477 - val_loss: 0.0626\n",
      "Epoch 28/300\n",
      "836/836 - 22s - loss: 0.0475 - val_loss: 0.0582\n",
      "Epoch 29/300\n",
      "836/836 - 22s - loss: 0.0473 - val_loss: 0.0566\n",
      "Epoch 30/300\n",
      "836/836 - 22s - loss: 0.0470 - val_loss: 0.0551\n",
      "Epoch 31/300\n",
      "836/836 - 22s - loss: 0.0468 - val_loss: 0.0601\n",
      "Epoch 32/300\n",
      "836/836 - 22s - loss: 0.0466 - val_loss: 0.0600\n",
      "Epoch 33/300\n",
      "836/836 - 22s - loss: 0.0464 - val_loss: 0.0552\n",
      "Epoch 34/300\n",
      "836/836 - 22s - loss: 0.0462 - val_loss: 0.0556\n",
      "Epoch 35/300\n",
      "836/836 - 22s - loss: 0.0461 - val_loss: 0.0534\n",
      "Epoch 36/300\n",
      "836/836 - 22s - loss: 0.0459 - val_loss: 0.0578\n",
      "Epoch 37/300\n",
      "836/836 - 22s - loss: 0.0457 - val_loss: 0.0578\n",
      "Epoch 38/300\n",
      "836/836 - 22s - loss: 0.0455 - val_loss: 0.0536\n",
      "Epoch 39/300\n",
      "836/836 - 22s - loss: 0.0453 - val_loss: 0.0599\n",
      "Epoch 40/300\n",
      "836/836 - 22s - loss: 0.0452 - val_loss: 0.0606\n",
      "Epoch 41/300\n",
      "836/836 - 22s - loss: 0.0451 - val_loss: 0.0569\n",
      "Epoch 42/300\n",
      "836/836 - 22s - loss: 0.0449 - val_loss: 0.0566\n",
      "Epoch 43/300\n",
      "836/836 - 22s - loss: 0.0448 - val_loss: 0.0628\n",
      "Epoch 44/300\n",
      "836/836 - 22s - loss: 0.0446 - val_loss: 0.0534\n",
      "Epoch 45/300\n",
      "836/836 - 22s - loss: 0.0445 - val_loss: 0.0529\n",
      "Epoch 46/300\n",
      "836/836 - 22s - loss: 0.0444 - val_loss: 0.0548\n",
      "Epoch 47/300\n",
      "836/836 - 22s - loss: 0.0442 - val_loss: 0.0530\n",
      "Epoch 48/300\n",
      "836/836 - 22s - loss: 0.0441 - val_loss: 0.0545\n",
      "Epoch 49/300\n",
      "836/836 - 22s - loss: 0.0440 - val_loss: 0.0568\n",
      "Epoch 50/300\n",
      "836/836 - 22s - loss: 0.0439 - val_loss: 0.0530\n",
      "Epoch 51/300\n",
      "836/836 - 22s - loss: 0.0438 - val_loss: 0.0544\n",
      "Epoch 1/300\n",
      "836/836 - 26s - loss: 0.1886 - val_loss: 0.1185\n",
      "Epoch 2/300\n",
      "836/836 - 22s - loss: 0.1022 - val_loss: 0.0964\n",
      "Epoch 3/300\n",
      "836/836 - 22s - loss: 0.0852 - val_loss: 0.0884\n",
      "Epoch 4/300\n",
      "836/836 - 22s - loss: 0.0775 - val_loss: 0.0863\n",
      "Epoch 5/300\n",
      "836/836 - 22s - loss: 0.0730 - val_loss: 0.0859\n",
      "Epoch 6/300\n",
      "836/836 - 22s - loss: 0.0697 - val_loss: 0.0823\n",
      "Epoch 7/300\n",
      "836/836 - 22s - loss: 0.0672 - val_loss: 0.0859\n",
      "Epoch 8/300\n",
      "836/836 - 22s - loss: 0.0650 - val_loss: 0.0911\n",
      "Epoch 9/300\n",
      "836/836 - 22s - loss: 0.0634 - val_loss: 0.0756\n",
      "Epoch 10/300\n",
      "836/836 - 22s - loss: 0.0620 - val_loss: 0.0741\n",
      "Epoch 11/300\n",
      "836/836 - 22s - loss: 0.0607 - val_loss: 0.0681\n",
      "Epoch 12/300\n",
      "836/836 - 22s - loss: 0.0595 - val_loss: 0.0736\n",
      "Epoch 13/300\n",
      "836/836 - 22s - loss: 0.0585 - val_loss: 0.0818\n",
      "Epoch 14/300\n",
      "836/836 - 22s - loss: 0.0576 - val_loss: 0.0700\n",
      "Epoch 15/300\n",
      "836/836 - 22s - loss: 0.0567 - val_loss: 0.0744\n",
      "Epoch 16/300\n",
      "836/836 - 22s - loss: 0.0560 - val_loss: 0.0698\n",
      "Epoch 17/300\n",
      "836/836 - 22s - loss: 0.0553 - val_loss: 0.0683\n",
      "Epoch 18/300\n",
      "836/836 - 22s - loss: 0.0546 - val_loss: 0.0718\n",
      "Epoch 19/300\n",
      "836/836 - 22s - loss: 0.0541 - val_loss: 0.0687\n",
      "Epoch 20/300\n",
      "836/836 - 22s - loss: 0.0536 - val_loss: 0.0675\n",
      "Epoch 21/300\n",
      "836/836 - 22s - loss: 0.0532 - val_loss: 0.0637\n",
      "Epoch 22/300\n",
      "836/836 - 22s - loss: 0.0527 - val_loss: 0.0654\n",
      "Epoch 23/300\n",
      "836/836 - 22s - loss: 0.0523 - val_loss: 0.0707\n",
      "Epoch 24/300\n",
      "836/836 - 22s - loss: 0.0519 - val_loss: 0.0665\n",
      "Epoch 25/300\n",
      "836/836 - 22s - loss: 0.0516 - val_loss: 0.0665\n",
      "Epoch 26/300\n",
      "836/836 - 22s - loss: 0.0512 - val_loss: 0.0630\n",
      "Epoch 27/300\n",
      "836/836 - 22s - loss: 0.0510 - val_loss: 0.0631\n",
      "Epoch 28/300\n",
      "836/836 - 22s - loss: 0.0506 - val_loss: 0.0634\n",
      "Epoch 29/300\n",
      "836/836 - 22s - loss: 0.0503 - val_loss: 0.0662\n",
      "Epoch 30/300\n",
      "836/836 - 22s - loss: 0.0501 - val_loss: 0.0651\n",
      "Epoch 31/300\n",
      "836/836 - 22s - loss: 0.0499 - val_loss: 0.0608\n",
      "Epoch 32/300\n",
      "836/836 - 22s - loss: 0.0496 - val_loss: 0.0653\n",
      "Epoch 33/300\n",
      "836/836 - 22s - loss: 0.0493 - val_loss: 0.0712\n",
      "Epoch 34/300\n",
      "836/836 - 22s - loss: 0.0492 - val_loss: 0.0608\n",
      "Epoch 35/300\n",
      "836/836 - 22s - loss: 0.0490 - val_loss: 0.0624\n",
      "Epoch 36/300\n",
      "836/836 - 22s - loss: 0.0487 - val_loss: 0.0677\n",
      "Epoch 37/300\n",
      "836/836 - 22s - loss: 0.0485 - val_loss: 0.0615\n",
      "Epoch 38/300\n",
      "836/836 - 22s - loss: 0.0484 - val_loss: 0.0643\n",
      "Epoch 39/300\n",
      "836/836 - 22s - loss: 0.0481 - val_loss: 0.0657\n",
      "Epoch 40/300\n",
      "836/836 - 22s - loss: 0.0480 - val_loss: 0.0612\n",
      "Epoch 41/300\n",
      "836/836 - 22s - loss: 0.0478 - val_loss: 0.0580\n",
      "Epoch 42/300\n",
      "836/836 - 22s - loss: 0.0476 - val_loss: 0.0596\n",
      "Epoch 43/300\n",
      "836/836 - 22s - loss: 0.0474 - val_loss: 0.0593\n",
      "Epoch 44/300\n",
      "836/836 - 22s - loss: 0.0473 - val_loss: 0.0653\n",
      "Epoch 45/300\n",
      "836/836 - 22s - loss: 0.0471 - val_loss: 0.0562\n",
      "Epoch 46/300\n",
      "836/836 - 22s - loss: 0.0469 - val_loss: 0.0609\n",
      "Epoch 47/300\n",
      "836/836 - 22s - loss: 0.0468 - val_loss: 0.0597\n",
      "Epoch 48/300\n",
      "836/836 - 22s - loss: 0.0466 - val_loss: 0.0590\n",
      "Epoch 49/300\n",
      "836/836 - 22s - loss: 0.0465 - val_loss: 0.0584\n",
      "Epoch 50/300\n",
      "836/836 - 22s - loss: 0.0463 - val_loss: 0.0581\n",
      "Epoch 51/300\n",
      "836/836 - 22s - loss: 0.0463 - val_loss: 0.0585\n",
      "Epoch 52/300\n",
      "836/836 - 22s - loss: 0.0461 - val_loss: 0.0582\n",
      "Epoch 53/300\n",
      "836/836 - 22s - loss: 0.0460 - val_loss: 0.0619\n",
      "Epoch 54/300\n",
      "836/836 - 22s - loss: 0.0459 - val_loss: 0.0612\n",
      "Epoch 55/300\n",
      "836/836 - 22s - loss: 0.0458 - val_loss: 0.0587\n",
      "Epoch 56/300\n",
      "836/836 - 22s - loss: 0.0457 - val_loss: 0.0582\n",
      "Epoch 57/300\n",
      "836/836 - 22s - loss: 0.0455 - val_loss: 0.0585\n",
      "Epoch 58/300\n",
      "836/836 - 22s - loss: 0.0454 - val_loss: 0.0594\n",
      "Epoch 59/300\n",
      "836/836 - 22s - loss: 0.0453 - val_loss: 0.0588\n",
      "Epoch 60/300\n",
      "836/836 - 22s - loss: 0.0452 - val_loss: 0.0609\n",
      "Epoch 61/300\n",
      "836/836 - 22s - loss: 0.0451 - val_loss: 0.0555\n",
      "Epoch 1/300\n",
      "836/836 - 26s - loss: 0.1886 - val_loss: 0.1202\n",
      "Epoch 2/300\n",
      "836/836 - 22s - loss: 0.1015 - val_loss: 0.1149\n"
     ]
    },
    {
     "name": "stdout",
     "output_type": "stream",
     "text": [
      "Epoch 3/300\n",
      "836/836 - 22s - loss: 0.0862 - val_loss: 0.0901\n",
      "Epoch 4/300\n",
      "836/836 - 22s - loss: 0.0782 - val_loss: 0.0875\n",
      "Epoch 5/300\n",
      "836/836 - 22s - loss: 0.0731 - val_loss: 0.1073\n",
      "Epoch 6/300\n",
      "836/836 - 22s - loss: 0.0694 - val_loss: 0.0850\n",
      "Epoch 7/300\n",
      "836/836 - 22s - loss: 0.0664 - val_loss: 0.0790\n",
      "Epoch 8/300\n",
      "836/836 - 22s - loss: 0.0641 - val_loss: 0.0771\n",
      "Epoch 9/300\n",
      "836/836 - 22s - loss: 0.0618 - val_loss: 0.0713\n",
      "Epoch 10/300\n",
      "836/836 - 22s - loss: 0.0602 - val_loss: 0.0722\n",
      "Epoch 11/300\n",
      "836/836 - 22s - loss: 0.0588 - val_loss: 0.0709\n",
      "Epoch 12/300\n",
      "836/836 - 22s - loss: 0.0575 - val_loss: 0.0747\n",
      "Epoch 13/300\n",
      "836/836 - 22s - loss: 0.0565 - val_loss: 0.0660\n",
      "Epoch 14/300\n",
      "836/836 - 22s - loss: 0.0555 - val_loss: 0.0693\n",
      "Epoch 15/300\n",
      "836/836 - 22s - loss: 0.0547 - val_loss: 0.0654\n",
      "Epoch 16/300\n",
      "836/836 - 22s - loss: 0.0539 - val_loss: 0.0639\n",
      "Epoch 17/300\n",
      "836/836 - 22s - loss: 0.0532 - val_loss: 0.0659\n",
      "Epoch 18/300\n",
      "836/836 - 22s - loss: 0.0527 - val_loss: 0.0632\n",
      "Epoch 19/300\n",
      "836/836 - 22s - loss: 0.0521 - val_loss: 0.0694\n",
      "Epoch 20/300\n",
      "836/836 - 22s - loss: 0.0516 - val_loss: 0.0602\n",
      "Epoch 21/300\n",
      "836/836 - 22s - loss: 0.0511 - val_loss: 0.0611\n",
      "Epoch 22/300\n",
      "836/836 - 22s - loss: 0.0507 - val_loss: 0.0664\n",
      "Epoch 23/300\n",
      "836/836 - 22s - loss: 0.0501 - val_loss: 0.0633\n",
      "Epoch 24/300\n",
      "836/836 - 22s - loss: 0.0499 - val_loss: 0.0599\n",
      "Epoch 25/300\n",
      "836/836 - 22s - loss: 0.0494 - val_loss: 0.0616\n",
      "Epoch 26/300\n",
      "836/836 - 22s - loss: 0.0491 - val_loss: 0.0582\n",
      "Epoch 27/300\n",
      "836/836 - 22s - loss: 0.0487 - val_loss: 0.0569\n",
      "Epoch 28/300\n",
      "836/836 - 22s - loss: 0.0483 - val_loss: 0.0561\n",
      "Epoch 29/300\n",
      "836/836 - 22s - loss: 0.0480 - val_loss: 0.0591\n",
      "Epoch 30/300\n",
      "836/836 - 22s - loss: 0.0477 - val_loss: 0.0624\n",
      "Epoch 31/300\n",
      "836/836 - 22s - loss: 0.0476 - val_loss: 0.0570\n",
      "Epoch 32/300\n",
      "836/836 - 22s - loss: 0.0471 - val_loss: 0.0575\n",
      "Epoch 33/300\n",
      "836/836 - 22s - loss: 0.0471 - val_loss: 0.0556\n",
      "Epoch 34/300\n",
      "836/836 - 22s - loss: 0.0468 - val_loss: 0.0587\n",
      "Epoch 35/300\n",
      "836/836 - 22s - loss: 0.0466 - val_loss: 0.0526\n",
      "Epoch 36/300\n",
      "836/836 - 22s - loss: 0.0465 - val_loss: 0.0569\n",
      "Epoch 37/300\n",
      "836/836 - 22s - loss: 0.0463 - val_loss: 0.0644\n",
      "Epoch 38/300\n",
      "836/836 - 22s - loss: 0.0462 - val_loss: 0.0532\n",
      "Epoch 39/300\n",
      "836/836 - 22s - loss: 0.0459 - val_loss: 0.0547\n",
      "Epoch 40/300\n",
      "836/836 - 22s - loss: 0.0457 - val_loss: 0.0530\n",
      "Epoch 41/300\n",
      "836/836 - 22s - loss: 0.0458 - val_loss: 0.0564\n",
      "Epoch 42/300\n",
      "836/836 - 22s - loss: 0.0455 - val_loss: 0.0531\n",
      "Epoch 43/300\n",
      "836/836 - 22s - loss: 0.0454 - val_loss: 0.0507\n",
      "Epoch 44/300\n",
      "836/836 - 22s - loss: 0.0453 - val_loss: 0.0519\n",
      "Epoch 45/300\n",
      "836/836 - 22s - loss: 0.0452 - val_loss: 0.0528\n",
      "Epoch 46/300\n",
      "836/836 - 22s - loss: 0.0452 - val_loss: 0.0532\n",
      "Epoch 47/300\n",
      "836/836 - 22s - loss: 0.0450 - val_loss: 0.0521\n",
      "Epoch 48/300\n",
      "836/836 - 22s - loss: 0.0448 - val_loss: 0.0513\n",
      "Epoch 49/300\n",
      "836/836 - 22s - loss: 0.0448 - val_loss: 0.0587\n",
      "Epoch 50/300\n",
      "836/836 - 22s - loss: 0.0447 - val_loss: 0.0521\n",
      "Epoch 51/300\n",
      "836/836 - 22s - loss: 0.0447 - val_loss: 0.0545\n",
      "Epoch 52/300\n",
      "836/836 - 22s - loss: 0.0445 - val_loss: 0.0597\n",
      "Epoch 53/300\n",
      "836/836 - 22s - loss: 0.0445 - val_loss: 0.0505\n",
      "Epoch 54/300\n",
      "836/836 - 22s - loss: 0.0443 - val_loss: 0.0527\n",
      "Epoch 55/300\n",
      "836/836 - 22s - loss: 0.0443 - val_loss: 0.0543\n",
      "Epoch 56/300\n",
      "836/836 - 22s - loss: 0.0443 - val_loss: 0.0563\n",
      "Epoch 57/300\n",
      "836/836 - 22s - loss: 0.0441 - val_loss: 0.0521\n",
      "Epoch 58/300\n",
      "836/836 - 22s - loss: 0.0441 - val_loss: 0.0533\n",
      "Epoch 59/300\n",
      "836/836 - 22s - loss: 0.0440 - val_loss: 0.0589\n",
      "Epoch 1/300\n",
      "836/836 - 27s - loss: 0.2140 - val_loss: 0.1454\n",
      "Epoch 2/300\n",
      "836/836 - 22s - loss: 0.1103 - val_loss: 0.1134\n",
      "Epoch 3/300\n",
      "836/836 - 22s - loss: 0.0887 - val_loss: 0.1007\n",
      "Epoch 4/300\n",
      "836/836 - 22s - loss: 0.0789 - val_loss: 0.1196\n",
      "Epoch 5/300\n",
      "836/836 - 22s - loss: 0.0730 - val_loss: 0.1046\n",
      "Epoch 6/300\n",
      "836/836 - 22s - loss: 0.0689 - val_loss: 0.0969\n",
      "Epoch 7/300\n",
      "836/836 - 22s - loss: 0.0660 - val_loss: 0.0796\n",
      "Epoch 8/300\n",
      "836/836 - 23s - loss: 0.0638 - val_loss: 0.0864\n",
      "Epoch 9/300\n",
      "836/836 - 23s - loss: 0.0620 - val_loss: 0.0751\n",
      "Epoch 10/300\n",
      "836/836 - 23s - loss: 0.0606 - val_loss: 0.0790\n",
      "Epoch 11/300\n",
      "836/836 - 23s - loss: 0.0594 - val_loss: 0.0750\n",
      "Epoch 12/300\n",
      "836/836 - 23s - loss: 0.0583 - val_loss: 0.0742\n",
      "Epoch 13/300\n",
      "836/836 - 23s - loss: 0.0574 - val_loss: 0.0824\n",
      "Epoch 14/300\n",
      "836/836 - 23s - loss: 0.0567 - val_loss: 0.0749\n",
      "Epoch 15/300\n",
      "836/836 - 23s - loss: 0.0560 - val_loss: 0.0691\n",
      "Epoch 16/300\n",
      "836/836 - 23s - loss: 0.0555 - val_loss: 0.0770\n",
      "Epoch 17/300\n",
      "836/836 - 23s - loss: 0.0548 - val_loss: 0.0691\n",
      "Epoch 18/300\n",
      "836/836 - 23s - loss: 0.0545 - val_loss: 0.0722\n",
      "Epoch 19/300\n",
      "836/836 - 23s - loss: 0.0537 - val_loss: 0.0766\n",
      "Epoch 20/300\n",
      "836/836 - 23s - loss: 0.0534 - val_loss: 0.0759\n",
      "Epoch 21/300\n",
      "836/836 - 23s - loss: 0.0529 - val_loss: 0.0687\n",
      "Epoch 22/300\n",
      "836/836 - 23s - loss: 0.0525 - val_loss: 0.0705\n",
      "Epoch 23/300\n",
      "836/836 - 23s - loss: 0.0521 - val_loss: 0.0697\n",
      "Epoch 24/300\n",
      "836/836 - 23s - loss: 0.0517 - val_loss: 0.0687\n",
      "Epoch 25/300\n",
      "836/836 - 23s - loss: 0.0513 - val_loss: 0.0672\n",
      "Epoch 26/300\n",
      "836/836 - 23s - loss: 0.0511 - val_loss: 0.0619\n",
      "Epoch 27/300\n",
      "836/836 - 23s - loss: 0.0508 - val_loss: 0.0642\n",
      "Epoch 28/300\n",
      "836/836 - 23s - loss: 0.0504 - val_loss: 0.0728\n",
      "Epoch 29/300\n",
      "836/836 - 23s - loss: 0.0502 - val_loss: 0.0631\n",
      "Epoch 30/300\n",
      "836/836 - 23s - loss: 0.0500 - val_loss: 0.0665\n",
      "Epoch 31/300\n",
      "836/836 - 23s - loss: 0.0497 - val_loss: 0.0593\n",
      "Epoch 32/300\n",
      "836/836 - 24s - loss: 0.0495 - val_loss: 0.0606\n",
      "Epoch 33/300\n",
      "836/836 - 24s - loss: 0.0492 - val_loss: 0.0700\n",
      "Epoch 34/300\n",
      "836/836 - 24s - loss: 0.0491 - val_loss: 0.0635\n",
      "Epoch 35/300\n",
      "836/836 - 24s - loss: 0.0488 - val_loss: 0.0624\n",
      "Epoch 36/300\n",
      "836/836 - 24s - loss: 0.0486 - val_loss: 0.0652\n",
      "Epoch 37/300\n",
      "836/836 - 24s - loss: 0.0485 - val_loss: 0.0590\n",
      "Epoch 38/300\n",
      "836/836 - 24s - loss: 0.0483 - val_loss: 0.0604\n",
      "Epoch 39/300\n",
      "836/836 - 24s - loss: 0.0482 - val_loss: 0.0603\n",
      "Epoch 40/300\n",
      "836/836 - 24s - loss: 0.0480 - val_loss: 0.0553\n",
      "Epoch 41/300\n",
      "836/836 - 24s - loss: 0.0478 - val_loss: 0.0669\n",
      "Epoch 42/300\n",
      "836/836 - 24s - loss: 0.0477 - val_loss: 0.0611\n",
      "Epoch 43/300\n",
      "836/836 - 24s - loss: 0.0475 - val_loss: 0.0609\n",
      "Epoch 44/300\n",
      "836/836 - 24s - loss: 0.0473 - val_loss: 0.0593\n",
      "Epoch 45/300\n",
      "836/836 - 24s - loss: 0.0472 - val_loss: 0.0608\n",
      "Epoch 46/300\n",
      "836/836 - 24s - loss: 0.0472 - val_loss: 0.0619\n",
      "Epoch 47/300\n",
      "836/836 - 24s - loss: 0.0469 - val_loss: 0.0577\n",
      "Epoch 48/300\n",
      "836/836 - 24s - loss: 0.0469 - val_loss: 0.0558\n",
      "Epoch 49/300\n",
      "836/836 - 24s - loss: 0.0468 - val_loss: 0.0553\n",
      "Epoch 50/300\n",
      "836/836 - 24s - loss: 0.0466 - val_loss: 0.0568\n",
      "Epoch 51/300\n",
      "836/836 - 24s - loss: 0.0464 - val_loss: 0.0576\n",
      "Epoch 52/300\n",
      "836/836 - 24s - loss: 0.0464 - val_loss: 0.0619\n",
      "Epoch 53/300\n",
      "836/836 - 24s - loss: 0.0463 - val_loss: 0.0606\n",
      "Epoch 54/300\n",
      "836/836 - 24s - loss: 0.0462 - val_loss: 0.0568\n",
      "Epoch 55/300\n",
      "836/836 - 24s - loss: 0.0461 - val_loss: 0.0635\n",
      "Epoch 56/300\n",
      "836/836 - 24s - loss: 0.0460 - val_loss: 0.0574\n",
      "Epoch 1/300\n",
      "836/836 - 28s - loss: 0.2283 - val_loss: 0.1422\n",
      "Epoch 2/300\n",
      "836/836 - 22s - loss: 0.1176 - val_loss: 0.1157\n",
      "Epoch 3/300\n",
      "836/836 - 22s - loss: 0.0976 - val_loss: 0.1025\n",
      "Epoch 4/300\n",
      "836/836 - 22s - loss: 0.0857 - val_loss: 0.0933\n",
      "Epoch 5/300\n",
      "836/836 - 22s - loss: 0.0770 - val_loss: 0.0889\n",
      "Epoch 6/300\n",
      "836/836 - 22s - loss: 0.0703 - val_loss: 0.0825\n",
      "Epoch 7/300\n",
      "836/836 - 23s - loss: 0.0659 - val_loss: 0.0809\n",
      "Epoch 8/300\n",
      "836/836 - 22s - loss: 0.0624 - val_loss: 0.0783\n",
      "Epoch 9/300\n",
      "836/836 - 23s - loss: 0.0603 - val_loss: 0.0752\n",
      "Epoch 10/300\n",
      "836/836 - 23s - loss: 0.0583 - val_loss: 0.0671\n",
      "Epoch 11/300\n",
      "836/836 - 23s - loss: 0.0568 - val_loss: 0.0720\n",
      "Epoch 12/300\n",
      "836/836 - 23s - loss: 0.0555 - val_loss: 0.0719\n",
      "Epoch 13/300\n",
      "836/836 - 23s - loss: 0.0544 - val_loss: 0.0637\n",
      "Epoch 14/300\n",
      "836/836 - 23s - loss: 0.0534 - val_loss: 0.0656\n",
      "Epoch 15/300\n",
      "836/836 - 23s - loss: 0.0524 - val_loss: 0.0707\n",
      "Epoch 16/300\n",
      "836/836 - 23s - loss: 0.0517 - val_loss: 0.0587\n",
      "Epoch 17/300\n",
      "836/836 - 23s - loss: 0.0509 - val_loss: 0.0637\n",
      "Epoch 18/300\n",
      "836/836 - 23s - loss: 0.0504 - val_loss: 0.0610\n",
      "Epoch 19/300\n",
      "836/836 - 23s - loss: 0.0498 - val_loss: 0.0578\n",
      "Epoch 20/300\n",
      "836/836 - 23s - loss: 0.0493 - val_loss: 0.0598\n",
      "Epoch 21/300\n",
      "836/836 - 23s - loss: 0.0488 - val_loss: 0.0563\n",
      "Epoch 22/300\n",
      "836/836 - 23s - loss: 0.0484 - val_loss: 0.0552\n"
     ]
    },
    {
     "name": "stdout",
     "output_type": "stream",
     "text": [
      "Epoch 23/300\n",
      "836/836 - 23s - loss: 0.0481 - val_loss: 0.0585\n",
      "Epoch 24/300\n",
      "836/836 - 23s - loss: 0.0477 - val_loss: 0.0565\n",
      "Epoch 25/300\n",
      "836/836 - 23s - loss: 0.0474 - val_loss: 0.0578\n",
      "Epoch 26/300\n",
      "836/836 - 23s - loss: 0.0470 - val_loss: 0.0525\n",
      "Epoch 27/300\n",
      "836/836 - 24s - loss: 0.0468 - val_loss: 0.0542\n",
      "Epoch 28/300\n",
      "836/836 - 24s - loss: 0.0466 - val_loss: 0.0614\n",
      "Epoch 29/300\n",
      "836/836 - 24s - loss: 0.0463 - val_loss: 0.0504\n",
      "Epoch 30/300\n",
      "836/836 - 24s - loss: 0.0461 - val_loss: 0.0583\n",
      "Epoch 31/300\n",
      "836/836 - 24s - loss: 0.0456 - val_loss: 0.0524\n",
      "Epoch 32/300\n",
      "836/836 - 24s - loss: 0.0455 - val_loss: 0.0564\n",
      "Epoch 33/300\n",
      "836/836 - 24s - loss: 0.0456 - val_loss: 0.0668\n",
      "Epoch 34/300\n",
      "836/836 - 24s - loss: 0.0451 - val_loss: 0.0527\n",
      "Epoch 35/300\n",
      "836/836 - 24s - loss: 0.0449 - val_loss: 0.0499\n",
      "Epoch 36/300\n",
      "836/836 - 24s - loss: 0.0451 - val_loss: 0.0532\n",
      "Epoch 37/300\n",
      "836/836 - 24s - loss: 0.0447 - val_loss: 0.0531\n",
      "Epoch 38/300\n",
      "836/836 - 24s - loss: 0.0445 - val_loss: 0.0526\n",
      "Epoch 39/300\n",
      "836/836 - 24s - loss: 0.0442 - val_loss: 0.0649\n",
      "Epoch 40/300\n",
      "836/836 - 24s - loss: 0.0441 - val_loss: 0.0685\n",
      "Epoch 41/300\n",
      "836/836 - 24s - loss: 0.0440 - val_loss: 0.0526\n",
      "Epoch 42/300\n",
      "836/836 - 24s - loss: 0.0438 - val_loss: 0.0489\n",
      "Epoch 43/300\n",
      "836/836 - 24s - loss: 0.0437 - val_loss: 0.0513\n",
      "Epoch 44/300\n",
      "836/836 - 24s - loss: 0.0436 - val_loss: 0.0534\n",
      "Epoch 45/300\n",
      "836/836 - 24s - loss: 0.0434 - val_loss: 0.0467\n",
      "Epoch 46/300\n",
      "836/836 - 24s - loss: 0.0433 - val_loss: 0.0512\n",
      "Epoch 47/300\n",
      "836/836 - 24s - loss: 0.0430 - val_loss: 0.0495\n",
      "Epoch 48/300\n",
      "836/836 - 24s - loss: 0.0432 - val_loss: 0.0499\n",
      "Epoch 49/300\n",
      "836/836 - 24s - loss: 0.0430 - val_loss: 0.0486\n",
      "Epoch 50/300\n",
      "836/836 - 24s - loss: 0.0429 - val_loss: 0.0455\n",
      "Epoch 51/300\n",
      "836/836 - 24s - loss: 0.0428 - val_loss: 0.0492\n",
      "Epoch 52/300\n",
      "836/836 - 24s - loss: 0.0426 - val_loss: 0.0577\n",
      "Epoch 53/300\n",
      "836/836 - 24s - loss: 0.0424 - val_loss: 0.0497\n",
      "Epoch 54/300\n",
      "836/836 - 24s - loss: 0.0425 - val_loss: 0.0484\n",
      "Epoch 55/300\n",
      "836/836 - 24s - loss: 0.0422 - val_loss: 0.0466\n",
      "Epoch 56/300\n",
      "836/836 - 24s - loss: 0.0425 - val_loss: 0.0531\n",
      "Epoch 57/300\n",
      "836/836 - 24s - loss: 0.0420 - val_loss: 0.0458\n",
      "Epoch 58/300\n",
      "836/836 - 24s - loss: 0.0421 - val_loss: 0.0500\n",
      "Epoch 59/300\n",
      "836/836 - 24s - loss: 0.0419 - val_loss: 0.0506\n",
      "Epoch 60/300\n",
      "836/836 - 24s - loss: 0.0420 - val_loss: 0.0482\n",
      "Epoch 61/300\n",
      "836/836 - 24s - loss: 0.0417 - val_loss: 0.0502\n",
      "Epoch 62/300\n",
      "836/836 - 24s - loss: 0.0416 - val_loss: 0.0499\n",
      "Epoch 63/300\n",
      "836/836 - 24s - loss: 0.0417 - val_loss: 0.0467\n",
      "Epoch 64/300\n",
      "836/836 - 24s - loss: 0.0414 - val_loss: 0.0461\n",
      "Epoch 65/300\n",
      "836/836 - 24s - loss: 0.0413 - val_loss: 0.0481\n",
      "Epoch 66/300\n",
      "836/836 - 24s - loss: 0.0412 - val_loss: 0.0485\n",
      "Epoch 1/300\n",
      "836/836 - 28s - loss: 0.2614 - val_loss: 0.1549\n",
      "Epoch 2/300\n",
      "836/836 - 22s - loss: 0.1233 - val_loss: 0.1257\n",
      "Epoch 3/300\n",
      "836/836 - 22s - loss: 0.1008 - val_loss: 0.1107\n",
      "Epoch 4/300\n",
      "836/836 - 22s - loss: 0.0890 - val_loss: 0.1040\n",
      "Epoch 5/300\n",
      "836/836 - 22s - loss: 0.0818 - val_loss: 0.1002\n",
      "Epoch 6/300\n",
      "836/836 - 23s - loss: 0.0769 - val_loss: 0.1056\n",
      "Epoch 7/300\n",
      "836/836 - 23s - loss: 0.0730 - val_loss: 0.0841\n",
      "Epoch 8/300\n",
      "836/836 - 23s - loss: 0.0694 - val_loss: 0.0853\n",
      "Epoch 9/300\n",
      "836/836 - 23s - loss: 0.0669 - val_loss: 0.0838\n",
      "Epoch 10/300\n",
      "836/836 - 23s - loss: 0.0645 - val_loss: 0.0840\n",
      "Epoch 11/300\n",
      "836/836 - 23s - loss: 0.0625 - val_loss: 0.0859\n",
      "Epoch 12/300\n",
      "836/836 - 23s - loss: 0.0606 - val_loss: 0.0740\n",
      "Epoch 13/300\n",
      "836/836 - 23s - loss: 0.0591 - val_loss: 0.0788\n",
      "Epoch 14/300\n",
      "836/836 - 23s - loss: 0.0578 - val_loss: 0.0766\n",
      "Epoch 15/300\n",
      "836/836 - 23s - loss: 0.0565 - val_loss: 0.0752\n",
      "Epoch 16/300\n",
      "836/836 - 23s - loss: 0.0559 - val_loss: 0.0963\n",
      "Epoch 17/300\n",
      "836/836 - 23s - loss: 0.0547 - val_loss: 0.0770\n",
      "Epoch 18/300\n",
      "836/836 - 23s - loss: 0.0536 - val_loss: 0.0729\n",
      "Epoch 19/300\n",
      "836/836 - 23s - loss: 0.0531 - val_loss: 0.0840\n",
      "Epoch 20/300\n",
      "836/836 - 23s - loss: 0.0524 - val_loss: 0.0770\n",
      "Epoch 21/300\n",
      "836/836 - 23s - loss: 0.0519 - val_loss: 0.0619\n",
      "Epoch 22/300\n",
      "836/836 - 24s - loss: 0.0511 - val_loss: 0.0674\n",
      "Epoch 23/300\n",
      "836/836 - 23s - loss: 0.0507 - val_loss: 0.0654\n",
      "Epoch 24/300\n",
      "836/836 - 23s - loss: 0.0500 - val_loss: 0.0744\n",
      "Epoch 25/300\n",
      "836/836 - 23s - loss: 0.0499 - val_loss: 0.0615\n",
      "Epoch 26/300\n",
      "836/836 - 24s - loss: 0.0492 - val_loss: 0.0817\n",
      "Epoch 27/300\n",
      "836/836 - 24s - loss: 0.0490 - val_loss: 0.0630\n",
      "Epoch 28/300\n",
      "836/836 - 24s - loss: 0.0484 - val_loss: 0.0600\n",
      "Epoch 29/300\n",
      "836/836 - 24s - loss: 0.0484 - val_loss: 0.0693\n",
      "Epoch 30/300\n",
      "836/836 - 24s - loss: 0.0476 - val_loss: 0.0574\n",
      "Epoch 31/300\n",
      "836/836 - 24s - loss: 0.0472 - val_loss: 0.0597\n",
      "Epoch 32/300\n",
      "836/836 - 24s - loss: 0.0472 - val_loss: 0.0548\n",
      "Epoch 33/300\n",
      "836/836 - 24s - loss: 0.0467 - val_loss: 0.0631\n",
      "Epoch 34/300\n",
      "836/836 - 24s - loss: 0.0465 - val_loss: 0.0806\n",
      "Epoch 35/300\n",
      "836/836 - 24s - loss: 0.0465 - val_loss: 0.0578\n",
      "Epoch 36/300\n",
      "836/836 - 24s - loss: 0.0458 - val_loss: 0.0626\n",
      "Epoch 37/300\n",
      "836/836 - 24s - loss: 0.0456 - val_loss: 0.0546\n",
      "Epoch 38/300\n",
      "836/836 - 24s - loss: 0.0455 - val_loss: 0.0687\n",
      "Epoch 39/300\n",
      "836/836 - 24s - loss: 0.0452 - val_loss: 0.0589\n",
      "Epoch 40/300\n",
      "836/836 - 24s - loss: 0.0450 - val_loss: 0.0725\n",
      "Epoch 41/300\n",
      "836/836 - 24s - loss: 0.0446 - val_loss: 0.0698\n",
      "Epoch 42/300\n",
      "836/836 - 24s - loss: 0.0445 - val_loss: 0.0617\n",
      "Epoch 43/300\n",
      "836/836 - 24s - loss: 0.0442 - val_loss: 0.0603\n",
      "Epoch 44/300\n",
      "836/836 - 24s - loss: 0.0438 - val_loss: 0.0552\n",
      "Epoch 45/300\n",
      "836/836 - 24s - loss: 0.0435 - val_loss: 0.0556\n",
      "Epoch 46/300\n",
      "836/836 - 24s - loss: 0.0435 - val_loss: 0.0677\n",
      "Epoch 47/300\n",
      "836/836 - 24s - loss: 0.0439 - val_loss: 0.0524\n",
      "Epoch 48/300\n",
      "836/836 - 24s - loss: 0.0432 - val_loss: 0.0619\n",
      "Epoch 49/300\n",
      "836/836 - 24s - loss: 0.0431 - val_loss: 0.0556\n",
      "Epoch 50/300\n",
      "836/836 - 24s - loss: 0.0429 - val_loss: 0.0614\n",
      "Epoch 51/300\n",
      "836/836 - 24s - loss: 0.0429 - val_loss: 0.0526\n",
      "Epoch 52/300\n",
      "836/836 - 24s - loss: 0.0425 - val_loss: 0.0624\n",
      "Epoch 53/300\n",
      "836/836 - 24s - loss: 0.0424 - val_loss: 0.0638\n",
      "Epoch 54/300\n",
      "836/836 - 24s - loss: 0.0424 - val_loss: 0.0532\n",
      "Epoch 55/300\n",
      "836/836 - 24s - loss: 0.0423 - val_loss: 0.0541\n",
      "Epoch 56/300\n",
      "836/836 - 24s - loss: 0.0422 - val_loss: 0.0516\n",
      "Epoch 57/300\n",
      "836/836 - 24s - loss: 0.0417 - val_loss: 0.0546\n",
      "Epoch 58/300\n",
      "836/836 - 24s - loss: 0.0416 - val_loss: 0.0545\n",
      "Epoch 59/300\n",
      "836/836 - 24s - loss: 0.0416 - val_loss: 0.0591\n",
      "Epoch 60/300\n",
      "836/836 - 24s - loss: 0.0416 - val_loss: 0.0617\n",
      "Epoch 61/300\n",
      "836/836 - 24s - loss: 0.0413 - val_loss: 0.0465\n",
      "Epoch 62/300\n",
      "836/836 - 24s - loss: 0.0414 - val_loss: 0.0766\n",
      "Epoch 63/300\n",
      "836/836 - 24s - loss: 0.0411 - val_loss: 0.0704\n",
      "Epoch 64/300\n",
      "836/836 - 24s - loss: 0.0413 - val_loss: 0.0473\n",
      "Epoch 65/300\n",
      "836/836 - 24s - loss: 0.0413 - val_loss: 0.0647\n",
      "Epoch 66/300\n",
      "836/836 - 24s - loss: 0.0408 - val_loss: 0.0706\n",
      "Epoch 67/300\n",
      "836/836 - 24s - loss: 0.0409 - val_loss: 0.0508\n",
      "Epoch 68/300\n",
      "836/836 - 24s - loss: 0.0405 - val_loss: 0.0601\n",
      "Epoch 69/300\n",
      "836/836 - 24s - loss: 0.0406 - val_loss: 0.0723\n",
      "Epoch 70/300\n",
      "836/836 - 24s - loss: 0.0408 - val_loss: 0.0453\n",
      "Epoch 71/300\n",
      "836/836 - 24s - loss: 0.0407 - val_loss: 0.0482\n",
      "Epoch 72/300\n",
      "836/836 - 24s - loss: 0.0401 - val_loss: 0.0493\n",
      "Epoch 73/300\n",
      "836/836 - 24s - loss: 0.0403 - val_loss: 0.0532\n",
      "Epoch 74/300\n",
      "836/836 - 24s - loss: 0.0404 - val_loss: 0.0653\n",
      "Epoch 75/300\n",
      "836/836 - 24s - loss: 0.0399 - val_loss: 0.0764\n",
      "Epoch 76/300\n",
      "836/836 - 24s - loss: 0.0405 - val_loss: 0.0522\n",
      "Epoch 77/300\n",
      "836/836 - 24s - loss: 0.0397 - val_loss: 0.0502\n",
      "Epoch 78/300\n",
      "836/836 - 24s - loss: 0.0397 - val_loss: 0.0449\n",
      "Epoch 79/300\n",
      "836/836 - 24s - loss: 0.0398 - val_loss: 0.0512\n",
      "Epoch 80/300\n",
      "836/836 - 24s - loss: 0.0399 - val_loss: 0.0466\n",
      "Epoch 81/300\n",
      "836/836 - 24s - loss: 0.0398 - val_loss: 0.0596\n",
      "Epoch 82/300\n",
      "836/836 - 24s - loss: 0.0398 - val_loss: 0.0500\n",
      "Epoch 83/300\n",
      "836/836 - 24s - loss: 0.0396 - val_loss: 0.0502\n",
      "Epoch 84/300\n",
      "836/836 - 24s - loss: 0.0396 - val_loss: 0.0583\n",
      "Epoch 85/300\n",
      "836/836 - 24s - loss: 0.0398 - val_loss: 0.0445\n",
      "Epoch 86/300\n",
      "836/836 - 24s - loss: 0.0395 - val_loss: 0.0459\n",
      "Epoch 1/300\n",
      "836/836 - 29s - loss: 0.2605 - val_loss: 0.1547\n",
      "Epoch 2/300\n",
      "836/836 - 22s - loss: 0.1144 - val_loss: 0.1233\n",
      "Epoch 3/300\n",
      "836/836 - 22s - loss: 0.0909 - val_loss: 0.1026\n",
      "Epoch 4/300\n",
      "836/836 - 23s - loss: 0.0787 - val_loss: 0.0888\n",
      "Epoch 5/300\n",
      "836/836 - 23s - loss: 0.0695 - val_loss: 0.0847\n"
     ]
    },
    {
     "name": "stdout",
     "output_type": "stream",
     "text": [
      "Epoch 6/300\n",
      "836/836 - 23s - loss: 0.0635 - val_loss: 0.0741\n",
      "Epoch 7/300\n",
      "836/836 - 23s - loss: 0.0590 - val_loss: 0.0653\n",
      "Epoch 8/300\n",
      "836/836 - 23s - loss: 0.0564 - val_loss: 0.0742\n",
      "Epoch 9/300\n",
      "836/836 - 23s - loss: 0.0530 - val_loss: 0.0599\n",
      "Epoch 10/300\n",
      "836/836 - 23s - loss: 0.0498 - val_loss: 0.0691\n",
      "Epoch 11/300\n",
      "836/836 - 23s - loss: 0.0482 - val_loss: 0.0901\n",
      "Epoch 12/300\n",
      "836/836 - 23s - loss: 0.0467 - val_loss: 0.0665\n",
      "Epoch 13/300\n",
      "836/836 - 23s - loss: 0.0446 - val_loss: 0.0586\n",
      "Epoch 14/300\n",
      "836/836 - 23s - loss: 0.0432 - val_loss: 0.0580\n",
      "Epoch 15/300\n",
      "836/836 - 23s - loss: 0.0423 - val_loss: 0.0872\n",
      "Epoch 16/300\n",
      "836/836 - 23s - loss: 0.0409 - val_loss: 0.0520\n",
      "Epoch 17/300\n",
      "836/836 - 23s - loss: 0.0403 - val_loss: 0.0604\n",
      "Epoch 18/300\n",
      "836/836 - 23s - loss: 0.0394 - val_loss: 0.0533\n",
      "Epoch 19/300\n",
      "836/836 - 23s - loss: 0.0386 - val_loss: 0.0459\n",
      "Epoch 20/300\n",
      "836/836 - 24s - loss: 0.0373 - val_loss: 0.0557\n",
      "Epoch 21/300\n",
      "836/836 - 24s - loss: 0.0374 - val_loss: 0.0492\n",
      "Epoch 22/300\n",
      "836/836 - 24s - loss: 0.0364 - val_loss: 0.0584\n",
      "Epoch 23/300\n",
      "836/836 - 24s - loss: 0.0356 - val_loss: 0.0536\n",
      "Epoch 24/300\n",
      "836/836 - 24s - loss: 0.0350 - val_loss: 0.0445\n",
      "Epoch 25/300\n",
      "836/836 - 24s - loss: 0.0345 - val_loss: 0.0443\n",
      "Epoch 26/300\n",
      "836/836 - 24s - loss: 0.0343 - val_loss: 0.0707\n",
      "Epoch 27/300\n",
      "836/836 - 24s - loss: 0.0339 - val_loss: 0.0386\n",
      "Epoch 28/300\n",
      "836/836 - 24s - loss: 0.0330 - val_loss: 0.0420\n",
      "Epoch 29/300\n",
      "836/836 - 24s - loss: 0.0328 - val_loss: 0.0454\n",
      "Epoch 30/300\n",
      "836/836 - 24s - loss: 0.0323 - val_loss: 0.0429\n",
      "Epoch 31/300\n",
      "836/836 - 24s - loss: 0.0320 - val_loss: 0.0408\n",
      "Epoch 32/300\n",
      "836/836 - 24s - loss: 0.0318 - val_loss: 0.0499\n",
      "Epoch 33/300\n",
      "836/836 - 24s - loss: 0.0313 - val_loss: 0.0404\n",
      "Epoch 34/300\n",
      "836/836 - 24s - loss: 0.0313 - val_loss: 0.0404\n",
      "Epoch 35/300\n",
      "836/836 - 24s - loss: 0.0305 - val_loss: 0.0469\n",
      "Epoch 36/300\n",
      "836/836 - 24s - loss: 0.0304 - val_loss: 0.0381\n",
      "Epoch 37/300\n",
      "836/836 - 24s - loss: 0.0302 - val_loss: 0.0394\n",
      "Epoch 38/300\n",
      "836/836 - 24s - loss: 0.0302 - val_loss: 0.0460\n",
      "Epoch 39/300\n",
      "836/836 - 24s - loss: 0.0295 - val_loss: 0.0411\n",
      "Epoch 40/300\n",
      "836/836 - 24s - loss: 0.0294 - val_loss: 0.0417\n",
      "Epoch 41/300\n",
      "836/836 - 24s - loss: 0.0294 - val_loss: 0.0400\n",
      "Epoch 42/300\n",
      "836/836 - 24s - loss: 0.0296 - val_loss: 0.0368\n",
      "Epoch 43/300\n",
      "836/836 - 24s - loss: 0.0289 - val_loss: 0.0453\n",
      "Epoch 44/300\n",
      "836/836 - 24s - loss: 0.0281 - val_loss: 0.0414\n",
      "Epoch 45/300\n",
      "836/836 - 24s - loss: 0.0284 - val_loss: 0.0363\n",
      "Epoch 46/300\n",
      "836/836 - 24s - loss: 0.0281 - val_loss: 0.0408\n",
      "Epoch 47/300\n",
      "836/836 - 24s - loss: 0.0278 - val_loss: 0.0403\n",
      "Epoch 48/300\n",
      "836/836 - 24s - loss: 0.0280 - val_loss: 0.0369\n",
      "Epoch 49/300\n",
      "836/836 - 24s - loss: 0.0276 - val_loss: 0.0380\n",
      "Epoch 50/300\n",
      "836/836 - 24s - loss: 0.0275 - val_loss: 0.0353\n",
      "Epoch 51/300\n",
      "836/836 - 24s - loss: 0.0276 - val_loss: 0.0336\n",
      "Epoch 52/300\n",
      "836/836 - 24s - loss: 0.0273 - val_loss: 0.0356\n",
      "Epoch 53/300\n",
      "836/836 - 24s - loss: 0.0271 - val_loss: 0.0361\n",
      "Epoch 54/300\n",
      "836/836 - 24s - loss: 0.0269 - val_loss: 0.0349\n",
      "Epoch 55/300\n",
      "836/836 - 24s - loss: 0.0266 - val_loss: 0.0322\n",
      "Epoch 56/300\n",
      "836/836 - 24s - loss: 0.0268 - val_loss: 0.0352\n",
      "Epoch 57/300\n",
      "836/836 - 24s - loss: 0.0270 - val_loss: 0.0329\n",
      "Epoch 58/300\n",
      "836/836 - 24s - loss: 0.0260 - val_loss: 0.0348\n",
      "Epoch 59/300\n",
      "836/836 - 24s - loss: 0.0265 - val_loss: 0.0380\n",
      "Epoch 60/300\n",
      "836/836 - 24s - loss: 0.0259 - val_loss: 0.0413\n",
      "Epoch 61/300\n",
      "836/836 - 24s - loss: 0.0260 - val_loss: 0.0392\n",
      "Epoch 62/300\n",
      "836/836 - 24s - loss: 0.0261 - val_loss: 0.0319\n",
      "Epoch 63/300\n",
      "836/836 - 24s - loss: 0.0258 - val_loss: 0.0422\n",
      "Epoch 64/300\n",
      "836/836 - 24s - loss: 0.0254 - val_loss: 0.0302\n",
      "Epoch 65/300\n",
      "836/836 - 24s - loss: 0.0257 - val_loss: 0.0378\n",
      "Epoch 66/300\n",
      "836/836 - 24s - loss: 0.0256 - val_loss: 0.0321\n",
      "Epoch 67/300\n",
      "836/836 - 24s - loss: 0.0253 - val_loss: 0.0321\n",
      "Epoch 68/300\n",
      "836/836 - 24s - loss: 0.0251 - val_loss: 0.0364\n",
      "Epoch 69/300\n",
      "836/836 - 24s - loss: 0.0251 - val_loss: 0.0355\n",
      "Epoch 70/300\n",
      "836/836 - 24s - loss: 0.0253 - val_loss: 0.0427\n",
      "Epoch 71/300\n",
      "836/836 - 24s - loss: 0.0247 - val_loss: 0.0314\n",
      "Epoch 72/300\n",
      "836/836 - 24s - loss: 0.0251 - val_loss: 0.0288\n",
      "Epoch 73/300\n",
      "836/836 - 24s - loss: 0.0244 - val_loss: 0.0341\n",
      "Epoch 74/300\n",
      "836/836 - 24s - loss: 0.0243 - val_loss: 0.0291\n",
      "Epoch 75/300\n",
      "836/836 - 24s - loss: 0.0245 - val_loss: 0.0309\n",
      "Epoch 76/300\n",
      "836/836 - 24s - loss: 0.0244 - val_loss: 0.0294\n",
      "Epoch 77/300\n",
      "836/836 - 24s - loss: 0.0244 - val_loss: 0.0294\n",
      "Epoch 78/300\n",
      "836/836 - 24s - loss: 0.0242 - val_loss: 0.0304\n",
      "Epoch 79/300\n",
      "836/836 - 24s - loss: 0.0242 - val_loss: 0.0322\n",
      "Epoch 80/300\n",
      "836/836 - 24s - loss: 0.0243 - val_loss: 0.0300\n",
      "Epoch 81/300\n",
      "836/836 - 24s - loss: 0.0239 - val_loss: 0.0293\n",
      "Epoch 82/300\n",
      "836/836 - 24s - loss: 0.0243 - val_loss: 0.0284\n",
      "Epoch 83/300\n",
      "836/836 - 24s - loss: 0.0236 - val_loss: 0.0323\n",
      "Epoch 84/300\n",
      "836/836 - 24s - loss: 0.0241 - val_loss: 0.0310\n",
      "Epoch 85/300\n",
      "836/836 - 24s - loss: 0.0236 - val_loss: 0.0313\n",
      "Epoch 86/300\n",
      "836/836 - 24s - loss: 0.0237 - val_loss: 0.0279\n",
      "Epoch 87/300\n",
      "836/836 - 24s - loss: 0.0239 - val_loss: 0.0336\n",
      "Epoch 88/300\n",
      "836/836 - 24s - loss: 0.0238 - val_loss: 0.0303\n",
      "Epoch 1/300\n",
      "836/836 - 29s - loss: 0.3022 - val_loss: 0.1401\n",
      "Epoch 2/300\n",
      "836/836 - 23s - loss: 0.1286 - val_loss: 0.1165\n",
      "Epoch 3/300\n",
      "836/836 - 23s - loss: 0.1023 - val_loss: 0.1083\n",
      "Epoch 4/300\n",
      "836/836 - 23s - loss: 0.0893 - val_loss: 0.0915\n",
      "Epoch 5/300\n",
      "836/836 - 23s - loss: 0.0820 - val_loss: 0.1080\n",
      "Epoch 6/300\n",
      "836/836 - 23s - loss: 0.0749 - val_loss: 0.0738\n",
      "Epoch 7/300\n",
      "836/836 - 23s - loss: 0.0712 - val_loss: 0.0818\n",
      "Epoch 8/300\n",
      "836/836 - 23s - loss: 0.0688 - val_loss: 0.0751\n",
      "Epoch 9/300\n",
      "836/836 - 23s - loss: 0.0659 - val_loss: 0.0713\n",
      "Epoch 10/300\n",
      "836/836 - 23s - loss: 0.0627 - val_loss: 0.0712\n",
      "Epoch 11/300\n",
      "836/836 - 23s - loss: 0.0621 - val_loss: 0.0649\n",
      "Epoch 12/300\n",
      "836/836 - 24s - loss: 0.0586 - val_loss: 0.0697\n",
      "Epoch 13/300\n",
      "836/836 - 24s - loss: 0.0574 - val_loss: 0.0594\n",
      "Epoch 14/300\n",
      "836/836 - 24s - loss: 0.0562 - val_loss: 0.0706\n",
      "Epoch 15/300\n",
      "836/836 - 24s - loss: 0.0552 - val_loss: 0.0684\n",
      "Epoch 16/300\n",
      "836/836 - 24s - loss: 0.0531 - val_loss: 0.0582\n",
      "Epoch 17/300\n",
      "836/836 - 24s - loss: 0.0528 - val_loss: 0.0588\n",
      "Epoch 18/300\n",
      "836/836 - 24s - loss: 0.0509 - val_loss: 0.0583\n",
      "Epoch 19/300\n",
      "836/836 - 24s - loss: 0.0510 - val_loss: 0.0632\n",
      "Epoch 20/300\n",
      "836/836 - 24s - loss: 0.0495 - val_loss: 0.0609\n",
      "Epoch 21/300\n",
      "836/836 - 24s - loss: 0.0484 - val_loss: 0.0587\n",
      "Epoch 22/300\n",
      "836/836 - 24s - loss: 0.0481 - val_loss: 0.0588\n",
      "Epoch 23/300\n",
      "836/836 - 24s - loss: 0.0474 - val_loss: 0.0606\n",
      "Epoch 24/300\n",
      "836/836 - 24s - loss: 0.0460 - val_loss: 0.0518\n",
      "Epoch 25/300\n",
      "836/836 - 24s - loss: 0.0462 - val_loss: 0.0472\n",
      "Epoch 26/300\n",
      "836/836 - 24s - loss: 0.0455 - val_loss: 0.0538\n",
      "Epoch 27/300\n",
      "836/836 - 24s - loss: 0.0449 - val_loss: 0.0561\n",
      "Epoch 28/300\n",
      "836/836 - 24s - loss: 0.0443 - val_loss: 0.0494\n",
      "Epoch 29/300\n",
      "836/836 - 24s - loss: 0.0437 - val_loss: 0.0463\n",
      "Epoch 30/300\n",
      "836/836 - 24s - loss: 0.0431 - val_loss: 0.0516\n",
      "Epoch 31/300\n",
      "836/836 - 24s - loss: 0.0433 - val_loss: 0.0525\n",
      "Epoch 32/300\n",
      "836/836 - 24s - loss: 0.0423 - val_loss: 0.0449\n",
      "Epoch 33/300\n",
      "836/836 - 24s - loss: 0.0421 - val_loss: 0.0441\n",
      "Epoch 34/300\n",
      "836/836 - 24s - loss: 0.0415 - val_loss: 0.0501\n",
      "Epoch 35/300\n",
      "836/836 - 24s - loss: 0.0423 - val_loss: 0.0480\n",
      "Epoch 36/300\n",
      "836/836 - 24s - loss: 0.0412 - val_loss: 0.0511\n",
      "Epoch 37/300\n",
      "836/836 - 24s - loss: 0.0410 - val_loss: 0.0434\n",
      "Epoch 38/300\n",
      "836/836 - 24s - loss: 0.0403 - val_loss: 0.0430\n",
      "Epoch 39/300\n",
      "836/836 - 24s - loss: 0.0396 - val_loss: 0.0454\n",
      "Epoch 40/300\n",
      "836/836 - 24s - loss: 0.0400 - val_loss: 0.0450\n",
      "Epoch 41/300\n",
      "836/836 - 24s - loss: 0.0397 - val_loss: 0.0474\n",
      "Epoch 42/300\n",
      "836/836 - 24s - loss: 0.0393 - val_loss: 0.0437\n",
      "Epoch 43/300\n",
      "836/836 - 24s - loss: 0.0390 - val_loss: 0.0428\n",
      "Epoch 44/300\n",
      "836/836 - 25s - loss: 0.0390 - val_loss: 0.0442\n",
      "Epoch 45/300\n",
      "836/836 - 24s - loss: 0.0384 - val_loss: 0.0419\n",
      "Epoch 46/300\n",
      "836/836 - 24s - loss: 0.0385 - val_loss: 0.0529\n",
      "Epoch 47/300\n",
      "836/836 - 24s - loss: 0.0379 - val_loss: 0.0484\n",
      "Epoch 48/300\n",
      "836/836 - 24s - loss: 0.0379 - val_loss: 0.0423\n",
      "Epoch 49/300\n",
      "836/836 - 24s - loss: 0.0377 - val_loss: 0.0488\n",
      "Epoch 50/300\n",
      "836/836 - 24s - loss: 0.0376 - val_loss: 0.0479\n",
      "Epoch 51/300\n",
      "836/836 - 24s - loss: 0.0369 - val_loss: 0.0448\n",
      "Epoch 52/300\n",
      "836/836 - 24s - loss: 0.0376 - val_loss: 0.0429\n"
     ]
    },
    {
     "name": "stdout",
     "output_type": "stream",
     "text": [
      "Epoch 53/300\n",
      "836/836 - 24s - loss: 0.0368 - val_loss: 0.0587\n",
      "Epoch 54/300\n",
      "836/836 - 25s - loss: 0.0367 - val_loss: 0.0494\n",
      "Epoch 55/300\n",
      "836/836 - 24s - loss: 0.0366 - val_loss: 0.0441\n",
      "Epoch 56/300\n",
      "836/836 - 24s - loss: 0.0368 - val_loss: 0.0403\n",
      "Epoch 57/300\n",
      "836/836 - 24s - loss: 0.0366 - val_loss: 0.0417\n",
      "Epoch 58/300\n",
      "836/836 - 24s - loss: 0.0365 - val_loss: 0.0464\n",
      "Epoch 59/300\n",
      "836/836 - 24s - loss: 0.0357 - val_loss: 0.0422\n",
      "Epoch 60/300\n",
      "836/836 - 24s - loss: 0.0362 - val_loss: 0.0385\n",
      "Epoch 61/300\n",
      "836/836 - 24s - loss: 0.0356 - val_loss: 0.0398\n",
      "Epoch 62/300\n",
      "836/836 - 24s - loss: 0.0354 - val_loss: 0.0447\n",
      "Epoch 63/300\n",
      "836/836 - 24s - loss: 0.0353 - val_loss: 0.0372\n",
      "Epoch 64/300\n",
      "836/836 - 24s - loss: 0.0355 - val_loss: 0.0379\n",
      "Epoch 65/300\n",
      "836/836 - 24s - loss: 0.0351 - val_loss: 0.0363\n",
      "Epoch 66/300\n",
      "836/836 - 24s - loss: 0.0356 - val_loss: 0.0369\n",
      "Epoch 67/300\n",
      "836/836 - 24s - loss: 0.0345 - val_loss: 0.0404\n",
      "Epoch 68/300\n",
      "836/836 - 24s - loss: 0.0347 - val_loss: 0.0429\n",
      "Epoch 69/300\n",
      "836/836 - 24s - loss: 0.0348 - val_loss: 0.0378\n",
      "Epoch 70/300\n",
      "836/836 - 24s - loss: 0.0348 - val_loss: 0.0387\n",
      "Epoch 71/300\n",
      "836/836 - 24s - loss: 0.0344 - val_loss: 0.0493\n",
      "Epoch 72/300\n",
      "836/836 - 24s - loss: 0.0344 - val_loss: 0.0390\n",
      "Epoch 73/300\n",
      "836/836 - 25s - loss: 0.0343 - val_loss: 0.0369\n",
      "Epoch 74/300\n",
      "836/836 - 25s - loss: 0.0339 - val_loss: 0.0377\n",
      "Epoch 75/300\n",
      "836/836 - 24s - loss: 0.0342 - val_loss: 0.0432\n",
      "Epoch 76/300\n",
      "836/836 - 24s - loss: 0.0336 - val_loss: 0.0385\n",
      "Epoch 77/300\n",
      "836/836 - 24s - loss: 0.0339 - val_loss: 0.0404\n",
      "Epoch 78/300\n",
      "836/836 - 24s - loss: 0.0337 - val_loss: 0.0369\n",
      "Epoch 79/300\n",
      "836/836 - 24s - loss: 0.0334 - val_loss: 0.0378\n"
     ]
    }
   ],
   "source": [
    "depth = [5,10,15,20,30,40,50,60,70,80,90,100,125,150,175,200,225,250,275,300,350,400,\n",
    "              500,600,700,800,900,1000,1100,1300,1500,1750,2000]\n",
    "\n",
    "#depth = [600,700,800,900,1000,1100,1300,1500,1750,2000]\n",
    "# 训练30 - 1000m\n",
    "for i in range(23,33):\n",
    "    gc.collect()\n",
    "    train_model_CNN(x_train,y_train[:,i:i+1],x_val,y_val[:,i:i+1],   \n",
    "                'D:/codeFile/jupyterDemo/3d_ts/BPNN/model/new_0-2000m_24.6.6/CNN/sali/model4/CNN_sali_'+str(depth[i])+'m.h5')"
   ]
  },
  {
   "cell_type": "markdown",
   "id": "1275d7a0",
   "metadata": {},
   "source": [
    "## 模型评估"
   ]
  },
  {
   "cell_type": "code",
   "execution_count": 86,
   "id": "a7d0b3be",
   "metadata": {
    "ExecuteTime": {
     "end_time": "2024-06-14T12:14:33.033671Z",
     "start_time": "2024-06-14T12:14:33.014701Z"
    },
    "code_folding": [
     3,
     16,
     45
    ]
   },
   "outputs": [],
   "source": [
    "# 评估函数定义\n",
    "# 异常相关系数\n",
    "import math\n",
    "def acc(actual, predicted):\n",
    "    pred_avg = np.average(predicted)\n",
    "\n",
    "    act_avg = np.average(actual)\n",
    "    diff_pred = predicted - pred_avg\n",
    "    diff_act = actual - act_avg\n",
    "    numerator = np.mean(np.sum(diff_pred*diff_act, axis=0))\n",
    "    denominator = math.sqrt(np.mean(np.sum(diff_pred**2, axis=0)) * np.mean(np.sum(diff_act**2, axis=0)))\n",
    "    ret_val = numerator/denominator\n",
    "    return (100 * ret_val)\n",
    "\n",
    "\n",
    "# 查看损失\n",
    "def look_loss(history):\n",
    "    plt.figure(figsize=(6.3, 2.5), dpi = 100)\n",
    "    plt.plot(history.history['loss'], label='training data')\n",
    "    plt.plot(history.history['val_loss'], label='validation data')\n",
    "    plt.title('Loss')\n",
    "    plt.ylabel('MSE Loss')\n",
    "    plt.xlabel('Number of epochs')\n",
    "    plt.grid()\n",
    "    plt.legend(loc=\"upper right\")\n",
    "    plt.show()\n",
    "\n",
    "\n",
    "# 模型预测\n",
    "def all_estimate(best_model,x_test,y_test):\n",
    "    testPred_1 = best_model.predict(x_test)\n",
    "    y_test_p = y_test.reshape(-1,1)\n",
    "    testPred_p = testPred_1.reshape(-1,1)\n",
    "\n",
    "\n",
    "    rmse = sqrt(mean_squared_error(y_test_p,testPred_p))\n",
    "    #print('Test RMSE: %.3f' % rmse)\n",
    "    print('%.3f' % rmse)\n",
    "\n",
    "   # print('acc:',acc(y_test_p,testPred_p))\n",
    "\n",
    "    r2 = r2_score(y_test_p,testPred_p)\n",
    "    #print(\"R² score: %.4f\" % r2)  \n",
    "    #print(\"%.4f\"% r2)  \n",
    "    \n",
    "\n",
    "def respective_estimate(best_model,x_test,y_test):\n",
    "    re2_list = []\n",
    "    rmse_list = []\n",
    "    for i in range(6):\n",
    "        # 模型预测\n",
    "        testPred = best_model.predict(x_test[i:i+1])\n",
    "        a = y_test[i:i+1]\n",
    "        y_test_p = a.reshape(-1,1)\n",
    "        testPred_p = testPred.reshape(-1,1)\n",
    "        r2 = r2_score(y_test_p,testPred_p)\n",
    "        rmse = sqrt(mean_squared_error(y_test_p,testPred_p))\n",
    "        re2_list.append(r2)\n",
    "        rmse_list.append(rmse)    \n",
    "    return re2_list,rmse_list"
   ]
  },
  {
   "cell_type": "code",
   "execution_count": 87,
   "id": "27e2f202",
   "metadata": {
    "ExecuteTime": {
     "end_time": "2024-06-14T12:14:34.691602Z",
     "start_time": "2024-06-14T12:14:34.677625Z"
    }
   },
   "outputs": [],
   "source": [
    "#look_loss(history)"
   ]
  },
  {
   "cell_type": "markdown",
   "id": "7d2126b3",
   "metadata": {},
   "source": [
    "### 对指定层进行评估"
   ]
  },
  {
   "cell_type": "code",
   "execution_count": 88,
   "id": "23c0c3a8",
   "metadata": {
    "ExecuteTime": {
     "end_time": "2024-06-14T12:14:35.303622Z",
     "start_time": "2024-06-14T12:14:35.289644Z"
    }
   },
   "outputs": [],
   "source": [
    "# print(x_test.shape,y_test.shape)"
   ]
  },
  {
   "cell_type": "code",
   "execution_count": 89,
   "id": "6afc7fe3",
   "metadata": {
    "ExecuteTime": {
     "end_time": "2024-06-14T12:14:35.650066Z",
     "start_time": "2024-06-14T12:14:35.638085Z"
    }
   },
   "outputs": [],
   "source": [
    "# best_model = tf.keras.models.load_model('CNN_model_16.h5')\n",
    "# all_estimate(best_model,x_test,y_test[:,14:15])"
   ]
  },
  {
   "cell_type": "markdown",
   "id": "1a1b383d",
   "metadata": {},
   "source": [
    "### 对所有层进行评估"
   ]
  },
  {
   "cell_type": "code",
   "execution_count": 90,
   "id": "9bf805b3",
   "metadata": {
    "ExecuteTime": {
     "end_time": "2024-06-14T12:45:29.360337Z",
     "start_time": "2024-06-14T12:14:38.583535Z"
    },
    "collapsed": true
   },
   "outputs": [
    {
     "name": "stdout",
     "output_type": "stream",
     "text": [
      "0.079\n",
      "0.086\n",
      "0.088\n",
      "0.095\n",
      "0.120\n",
      "0.138\n",
      "0.168\n",
      "0.186\n",
      "0.187\n",
      "0.195\n",
      "0.199\n",
      "0.197\n",
      "0.234\n",
      "0.242\n",
      "0.265\n",
      "0.291\n",
      "0.281\n",
      "0.285\n",
      "0.267\n",
      "0.275\n",
      "0.289\n",
      "0.265\n",
      "0.261\n",
      "0.231\n",
      "0.236\n",
      "0.270\n",
      "0.271\n",
      "0.262\n",
      "0.276\n",
      "0.245\n",
      "0.251\n",
      "0.239\n",
      "0.243\n"
     ]
    }
   ],
   "source": [
    "# 模型预测\n",
    "for i in range(0,33):\n",
    "    best_model = tf.keras.models.load_model('D:/codeFile/jupyterDemo/3d_ts/BPNN/model/new_0-2000m_24.6.6/CNN/sali/model4/CNN_sali_'+str(depth[i])+'m.h5',\n",
    "                                           custom_objects={ 'ChannelAttention_CNN':ChannelAttention_CNN,\n",
    "                                                           'SpatialAttention_CNN':SpatialAttention_CNN})\n",
    "    #print(str(depth[i])+'m 测试集：')\n",
    "    all_estimate(best_model,x_test,y_test[:,i:i+1])\n",
    "# re2_list,rmse_list = respective_estimate(best_model,x_test,y_test[:,:,:,:,0:5])\n",
    "# re2_list,rmse_list"
   ]
  },
  {
   "cell_type": "markdown",
   "id": "ab5b29cb",
   "metadata": {},
   "source": [
    "# 保存预测结果"
   ]
  },
  {
   "cell_type": "code",
   "execution_count": 94,
   "id": "dcf59029",
   "metadata": {
    "ExecuteTime": {
     "end_time": "2024-06-14T13:44:09.994278Z",
     "start_time": "2024-06-14T13:13:32.431030Z"
    }
   },
   "outputs": [
    {
     "name": "stdout",
     "output_type": "stream",
     "text": [
      "预测第5m的温度\n",
      "预测第10m的温度\n",
      "预测第15m的温度\n",
      "预测第20m的温度\n",
      "预测第30m的温度\n",
      "预测第40m的温度\n",
      "预测第50m的温度\n",
      "预测第60m的温度\n",
      "预测第70m的温度\n",
      "预测第80m的温度\n",
      "预测第90m的温度\n",
      "预测第100m的温度\n",
      "预测第125m的温度\n",
      "预测第150m的温度\n",
      "预测第175m的温度\n",
      "预测第200m的温度\n",
      "预测第225m的温度\n",
      "预测第250m的温度\n",
      "预测第275m的温度\n",
      "预测第300m的温度\n",
      "预测第350m的温度\n",
      "预测第400m的温度\n",
      "预测第500m的温度\n",
      "预测第600m的温度\n",
      "预测第700m的温度\n",
      "预测第800m的温度\n",
      "预测第900m的温度\n",
      "预测第1000m的温度\n",
      "预测第1100m的温度\n",
      "预测第1300m的温度\n",
      "预测第1500m的温度\n",
      "预测第1750m的温度\n",
      "预测第2000m的温度\n"
     ]
    }
   ],
   "source": [
    "# 模型预测\n",
    "result = [] \n",
    "for i in range(0,33):\n",
    "    best_model = tf.keras.models.load_model('D:/codeFile/jupyterDemo/3d_ts/BPNN/model/new_0-2000m_24.6.6/CNN/sali/model4/CNN_sali_'+str(depth[i])+'m.h5',\n",
    "                                            custom_objects={ 'ChannelAttention_CNN':ChannelAttention_CNN,\n",
    "                                                           'SpatialAttention_CNN':SpatialAttention_CNN})\n",
    "    print('预测第'+str(depth[i])+'m的温度')\n",
    "    testPred = best_model.predict(x_test)\n",
    "    result.append(testPred)"
   ]
  },
  {
   "cell_type": "code",
   "execution_count": 101,
   "id": "86d025e0",
   "metadata": {
    "ExecuteTime": {
     "end_time": "2024-06-15T01:38:17.316460Z",
     "start_time": "2024-06-15T01:38:17.233593Z"
    }
   },
   "outputs": [
    {
     "name": "stdout",
     "output_type": "stream",
     "text": [
      "(33, 1221588, 1)\n",
      "(1221588, 1, 33)\n",
      "(1221588, 33)\n"
     ]
    }
   ],
   "source": [
    "# 修改result的形状\n",
    "result = np.array(result)\n",
    "print(result.shape)\n",
    "result = np.transpose(result,(1,2,0))\n",
    "print(result.shape)\n",
    "result = result.reshape(-1,33)\n",
    "print(result.shape)"
   ]
  },
  {
   "cell_type": "code",
   "execution_count": null,
   "id": "27529e8f",
   "metadata": {
    "ExecuteTime": {
     "end_time": "2024-06-14T03:55:55.722653Z",
     "start_time": "2024-06-14T03:55:55.722653Z"
    }
   },
   "outputs": [],
   "source": [
    "#np.save(\"model/CNN/result/result_CNN_CBAM_30_1000m.npy\",result)\n",
    "# result= np.load(\"model/CNN/result/result_CNN_CBAM_30_1000m.npy\")"
   ]
  },
  {
   "cell_type": "markdown",
   "id": "f1cbce78",
   "metadata": {},
   "source": [
    "## 对预测结果进行反归一化"
   ]
  },
  {
   "cell_type": "code",
   "execution_count": 102,
   "id": "50f64c33",
   "metadata": {
    "ExecuteTime": {
     "end_time": "2024-06-15T01:38:34.940672Z",
     "start_time": "2024-06-15T01:38:34.922701Z"
    }
   },
   "outputs": [
    {
     "data": {
      "text/plain": [
       "((1221588, 33), (1221588, 33))"
      ]
     },
     "execution_count": 102,
     "metadata": {},
     "output_type": "execute_result"
    }
   ],
   "source": [
    "result.shape,y_test.shape "
   ]
  },
  {
   "cell_type": "code",
   "execution_count": 103,
   "id": "ad4c1c86",
   "metadata": {
    "ExecuteTime": {
     "end_time": "2024-06-15T01:38:42.315449Z",
     "start_time": "2024-06-15T01:38:41.843208Z"
    }
   },
   "outputs": [],
   "source": [
    "result_unscaled = scaler_l.inverse_transform(result)\n",
    "y_test_unscaled = scaler_l.inverse_transform(y_test)"
   ]
  },
  {
   "cell_type": "code",
   "execution_count": 104,
   "id": "40fde36d",
   "metadata": {
    "ExecuteTime": {
     "end_time": "2024-06-15T01:38:43.069422Z",
     "start_time": "2024-06-15T01:38:43.050452Z"
    }
   },
   "outputs": [
    {
     "data": {
      "text/plain": [
       "((1221588, 33), (1221588, 33))"
      ]
     },
     "execution_count": 104,
     "metadata": {},
     "output_type": "execute_result"
    }
   ],
   "source": [
    "result_unscaled.shape,y_test_unscaled.shape "
   ]
  },
  {
   "cell_type": "markdown",
   "id": "1f2b42fb",
   "metadata": {},
   "source": [
    "## 评估反归一化之后的结果"
   ]
  },
  {
   "cell_type": "code",
   "execution_count": null,
   "id": "ff8346d7",
   "metadata": {
    "ExecuteTime": {
     "end_time": "2024-06-14T03:55:55.727644Z",
     "start_time": "2024-06-14T03:55:55.727644Z"
    }
   },
   "outputs": [],
   "source": [
    "for i in range(0,33):\n",
    "    r2 = r2_score(y_test_unscaled[:,i],result_unscaled[:,i])\n",
    "    print(str(depth[i])+'m R² score:',r2)"
   ]
  },
  {
   "cell_type": "code",
   "execution_count": null,
   "id": "82c8c8f3",
   "metadata": {
    "ExecuteTime": {
     "end_time": "2024-06-14T03:55:55.728643Z",
     "start_time": "2024-06-14T03:55:55.728643Z"
    }
   },
   "outputs": [],
   "source": [
    "for i in range(0,33):\n",
    "    mse =  mean_squared_error(y_test_unscaled[:,i],result_unscaled[:,i])\n",
    "    print(str(depth[i])+'m Test mse: %.3f' % mse)"
   ]
  },
  {
   "cell_type": "markdown",
   "id": "5aa065c9",
   "metadata": {},
   "source": [
    "# 预测结果可视化"
   ]
  },
  {
   "cell_type": "markdown",
   "id": "12b57477",
   "metadata": {},
   "source": [
    "## 为归一化之后的预测值和真实值填充nan"
   ]
  },
  {
   "cell_type": "code",
   "execution_count": 105,
   "id": "cc20a38d",
   "metadata": {
    "ExecuteTime": {
     "end_time": "2024-06-15T01:38:47.746715Z",
     "start_time": "2024-06-15T01:38:47.728744Z"
    }
   },
   "outputs": [
    {
     "data": {
      "text/plain": [
       "161024"
      ]
     },
     "execution_count": 105,
     "metadata": {},
     "output_type": "execute_result"
    }
   ],
   "source": [
    "len(nan_mask)"
   ]
  },
  {
   "cell_type": "code",
   "execution_count": 106,
   "id": "c129cf08",
   "metadata": {
    "ExecuteTime": {
     "end_time": "2024-06-15T01:40:46.700493Z",
     "start_time": "2024-06-15T01:40:46.304130Z"
    }
   },
   "outputs": [
    {
     "name": "stdout",
     "output_type": "stream",
     "text": [
      "(161024, 396)\n",
      "(161024, 396)\n"
     ]
    }
   ],
   "source": [
    "### 创建一个形状与nan_masks相同且全是nan的数组\n",
    "testPred_with_nan = np.full((161024,12*33), np.nan)  \n",
    "print(testPred_with_nan.shape)\n",
    "\n",
    "y_test_with_nan = np.full((161024,12*33), np.nan)  \n",
    "print(y_test_with_nan.shape)"
   ]
  },
  {
   "cell_type": "code",
   "execution_count": 107,
   "id": "505873d6",
   "metadata": {
    "ExecuteTime": {
     "end_time": "2024-06-15T01:41:18.955296Z",
     "start_time": "2024-06-15T01:41:18.732653Z"
    }
   },
   "outputs": [
    {
     "name": "stdout",
     "output_type": "stream",
     "text": [
      "(12, 101799, 33)\n",
      "(101799, 12, 33)\n",
      "(101799, 396)\n",
      "(12, 101799, 33)\n",
      "(101799, 12, 33)\n",
      "(101799, 396)\n"
     ]
    }
   ],
   "source": [
    "# 修改result和y_test的形状，用于填充testPred_with_nan和y_test_with_nan\n",
    "result_unscaled_reshape = result_unscaled.reshape(12,-1,33)\n",
    "print(result_unscaled_reshape.shape)\n",
    "result_unscaled_reshape = np.transpose(result_unscaled_reshape,(1,0,2))\n",
    "print(result_unscaled_reshape.shape)\n",
    "result_unscaled_reshape = result_unscaled_reshape.reshape(-1,12*33)\n",
    "print(result_unscaled_reshape.shape)\n",
    "\n",
    "# ==================================================================== #\n",
    "\n",
    "y_test_unscaled_reshape = y_test_unscaled.reshape(12,-1,33)\n",
    "print(y_test_unscaled_reshape.shape)\n",
    "y_test_unscaled_reshape = np.transpose(y_test_unscaled_reshape,(1,0,2))\n",
    "print(y_test_unscaled_reshape.shape)\n",
    "y_test_unscaled_reshape = y_test_unscaled_reshape.reshape(-1,12*33)\n",
    "print(y_test_unscaled_reshape.shape)"
   ]
  },
  {
   "cell_type": "code",
   "execution_count": null,
   "id": "4a8c685d",
   "metadata": {
    "ExecuteTime": {
     "end_time": "2024-06-14T03:55:55.735632Z",
     "start_time": "2024-06-14T03:55:55.735632Z"
    }
   },
   "outputs": [],
   "source": [
    "y_test_unscaled.shape "
   ]
  },
  {
   "cell_type": "code",
   "execution_count": 108,
   "id": "9a971489",
   "metadata": {
    "ExecuteTime": {
     "end_time": "2024-06-15T01:42:33.711886Z",
     "start_time": "2024-06-15T01:42:33.486248Z"
    }
   },
   "outputs": [
    {
     "name": "stdout",
     "output_type": "stream",
     "text": [
      "101799\n"
     ]
    }
   ],
   "source": [
    "num = 0\n",
    "for i,nanmask in enumerate(nan_mask):   # i从0开始\n",
    "\n",
    "    if (nanmask ==True): # True 代表没有nan，使用预测值进行填充\n",
    "        testPred_with_nan[i] = result_unscaled_reshape[num]\n",
    "        y_test_with_nan[i] = y_test_unscaled_reshape[num]\n",
    "        num = num + 1\n",
    "        \n",
    "print(num)"
   ]
  },
  {
   "cell_type": "code",
   "execution_count": 109,
   "id": "faf4185c",
   "metadata": {
    "ExecuteTime": {
     "end_time": "2024-06-15T01:42:56.093208Z",
     "start_time": "2024-06-15T01:42:56.080229Z"
    }
   },
   "outputs": [
    {
     "name": "stdout",
     "output_type": "stream",
     "text": [
      "(12, 33, 272, 592) (12, 33, 272, 592)\n"
     ]
    }
   ],
   "source": [
    "# 填充好之后将形状修改回来\n",
    "testPred_with_nan = testPred_with_nan.reshape(272, 592,12,33)\n",
    "testPred_with_nan = np.transpose(testPred_with_nan,(2,3,0,1))\n",
    "\n",
    "\n",
    "y_test_with_nan = y_test_with_nan.reshape(272, 592,12,33)\n",
    "y_test_with_nan = np.transpose(y_test_with_nan,(2,3,0,1))\n",
    "\n",
    "print(testPred_with_nan.shape,y_test_with_nan.shape)"
   ]
  },
  {
   "cell_type": "markdown",
   "id": "b6dfa8f2",
   "metadata": {
    "ExecuteTime": {
     "end_time": "2023-10-06T13:07:37.341964Z",
     "start_time": "2023-10-06T13:07:37.302028Z"
    }
   },
   "source": [
    "# 结果可视化"
   ]
  },
  {
   "cell_type": "code",
   "execution_count": 110,
   "id": "347081c6",
   "metadata": {
    "ExecuteTime": {
     "end_time": "2024-06-15T01:42:58.151821Z",
     "start_time": "2024-06-15T01:42:58.137844Z"
    }
   },
   "outputs": [],
   "source": [
    "lat = []\n",
    "lon = []\n",
    "time = []"
   ]
  },
  {
   "cell_type": "code",
   "execution_count": 111,
   "id": "8a6cb507",
   "metadata": {
    "ExecuteTime": {
     "end_time": "2024-06-15T01:42:59.675831Z",
     "start_time": "2024-06-15T01:42:59.662852Z"
    }
   },
   "outputs": [],
   "source": [
    "lon.append(data_ssh['lon'][4:-4].data)\n",
    "lat.append(data_ssh['lat'][4:-4].data)"
   ]
  },
  {
   "cell_type": "code",
   "execution_count": 112,
   "id": "478dda8c",
   "metadata": {
    "ExecuteTime": {
     "end_time": "2024-06-15T01:43:00.405044Z",
     "start_time": "2024-06-15T01:43:00.387073Z"
    }
   },
   "outputs": [
    {
     "data": {
      "text/plain": [
       "(1, 272, 1, 592)"
      ]
     },
     "execution_count": 112,
     "metadata": {},
     "output_type": "execute_result"
    }
   ],
   "source": [
    "len(lat),len(lat[0]),len(lon),len(lon[0])"
   ]
  },
  {
   "cell_type": "code",
   "execution_count": 113,
   "id": "fa3a8f00",
   "metadata": {
    "ExecuteTime": {
     "end_time": "2024-06-15T01:43:01.388463Z",
     "start_time": "2024-06-15T01:43:01.350524Z"
    }
   },
   "outputs": [],
   "source": [
    "start_year = 2015\n",
    "end_year =2015\n",
    "time = []\n",
    "date_range = pd.date_range(datetime(start_year,1,1),datetime(end_year+1,1,1),freq='1M')\n",
    "len(date_range)\n",
    "for i in range(len(date_range)):\n",
    "    time.append(i)"
   ]
  },
  {
   "cell_type": "code",
   "execution_count": null,
   "id": "e56a1771",
   "metadata": {
    "ExecuteTime": {
     "end_time": "2024-06-14T03:55:55.742621Z",
     "start_time": "2024-06-14T03:55:55.742621Z"
    }
   },
   "outputs": [],
   "source": [
    "# new_NC.close()"
   ]
  },
  {
   "cell_type": "code",
   "execution_count": 116,
   "id": "a4751334",
   "metadata": {
    "ExecuteTime": {
     "end_time": "2024-06-15T02:01:37.135829Z",
     "start_time": "2024-06-15T02:01:35.557366Z"
    }
   },
   "outputs": [],
   "source": [
    "new_NC = nc.Dataset(\"D:/codeFile/jupyterDemo/3d_ts/BPNN/model/new_0-2000m_24.6.6/CNN/sali/result4/result5_2000m_CNN_CBAM.nc\",\n",
    "                    'w', format='NETCDF4')\n",
    "\n",
    "'''\n",
    "定义维度，后一个参数表示维度的长度，因为是合并的同一个产品的数据，所以是统一\n",
    "的,注意维度的长度一定要和读入的数据匹配\n",
    "'''\n",
    "\n",
    "new_NC.createDimension('lat', len(lat[0]))\n",
    "new_NC.createDimension('lon', len(lon[0]))\n",
    "\n",
    "new_NC.createDimension('depth', 33)\n",
    "new_NC.createDimension('time', len(time))\n",
    "\n",
    "new_NC.createVariable('lat', 'f', (\"lat\"))\n",
    "new_NC.createVariable('lon', 'f', (\"lon\"))\n",
    "new_NC.createVariable('depth', 'f', (\"depth\"))\n",
    "new_NC.createVariable('Observed_SS', 'f',(\"time\",\"depth\",\"lat\",\"lon\"))\n",
    "new_NC.createVariable('Estimated_SS', 'f',(\"time\",\"depth\",\"lat\",\"lon\"))\n",
    "\n",
    "time_var = new_NC.createVariable('time', 'f4',(\"time\"))\n",
    "time_var.units = 'months since 2015-01-15'\n",
    "time_var.long_name = 'Months in Monthly Means'\n",
    "time_var.axis = 'T'\n",
    "\n",
    "#向变量中填充数据\n",
    "new_NC.variables['lat'][:] = lat[0]\n",
    "new_NC.variables['lon'][:] = lon[0]\n",
    "new_NC.variables['time'][:] = np.array(time)\n",
    "new_NC.variables['depth'][:] = depth\n",
    "\n",
    "new_NC.variables['Observed_SS'][:]=np.array(y_test_with_nan)\n",
    "new_NC.variables['Estimated_SS'][:]=np.array(testPred_with_nan)\n",
    "\n",
    "\n",
    "#最后记得关闭文件\n",
    "new_NC.close()\n"
   ]
  },
  {
   "cell_type": "code",
   "execution_count": null,
   "id": "1379295b",
   "metadata": {},
   "outputs": [],
   "source": []
  }
 ],
 "metadata": {
  "kernelspec": {
   "display_name": "Python [conda env:python] *",
   "language": "python",
   "name": "conda-env-python-py"
  },
  "language_info": {
   "codemirror_mode": {
    "name": "ipython",
    "version": 3
   },
   "file_extension": ".py",
   "mimetype": "text/x-python",
   "name": "python",
   "nbconvert_exporter": "python",
   "pygments_lexer": "ipython3",
   "version": "3.8.17"
  },
  "toc": {
   "base_numbering": 1,
   "nav_menu": {},
   "number_sections": true,
   "sideBar": true,
   "skip_h1_title": false,
   "title_cell": "Table of Contents",
   "title_sidebar": "Contents",
   "toc_cell": false,
   "toc_position": {
    "height": "calc(100% - 180px)",
    "left": "10px",
    "top": "150px",
    "width": "289.574px"
   },
   "toc_section_display": true,
   "toc_window_display": true
  }
 },
 "nbformat": 4,
 "nbformat_minor": 5
}
